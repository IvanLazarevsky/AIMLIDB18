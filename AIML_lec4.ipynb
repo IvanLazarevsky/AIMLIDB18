{
 "cells": [
  {
   "cell_type": "code",
   "execution_count": 1,
   "metadata": {},
   "outputs": [],
   "source": [
    "import numpy as np\n",
    "import pandas as pd\n",
    "import matplotlib.pyplot as plt"
   ]
  },
  {
   "cell_type": "markdown",
   "metadata": {},
   "source": [
    "# Машинное обучение и интеллектуальные системы\n",
    "## Лекция 4. Вероятностные модели"
   ]
  },
  {
   "cell_type": "markdown",
   "metadata": {},
   "source": [
    "### Типы моделей"
   ]
  },
  {
   "cell_type": "markdown",
   "metadata": {},
   "source": [
    "**Математическая модель** - описывает отношение между переменными в функциональной или логической форме. Пример:\n",
    "$$y = f(x) + b$$\n",
    "\n",
    "**Вероятностная модель** - описывает распределение вероятности над значениями переменных вместо детерминированных отношений.\n",
    "<br> Пример:\n",
    "$$P(X=x|Y=y) = f(Y, a)$$\n",
    "\n",
    "**Статистическая модель** - это математическая модель, которая может меняться в зависимости от того, какие данные используются при её построении. Практически синонимом является понятие \"**обучаемая модель**\". Введем также понятие **обученная модель** - результат обучения обучаемой модели.\n",
    "\n",
    "**Алгоритм обучения** берет на вход набор данных и множество возможных моделей(**гипотез**) и выбирает из этого множества наиболее подходящую (обычно)"
   ]
  },
  {
   "cell_type": "markdown",
   "metadata": {},
   "source": [
    "В рамках одной обучаемой модели множество возможных результирующих моделей называется **пространством гипотез** "
   ]
  },
  {
   "cell_type": "markdown",
   "metadata": {},
   "source": [
    "### Примеры пространств гипотез"
   ]
  },
  {
   "cell_type": "markdown",
   "metadata": {},
   "source": [
    "#### Модель линейной регрессии:\n",
    "<br>Допустим, у нас 5 признаков. Тогда пространство гипотез - это множество функций вида:\n",
    "$$f(\\vec{x};\\vec{w}, b) = w_1x_1 + w_2x_2 + ... + w_5x_5 + b$$\n",
    "Форма функции определяется значениями параметров $\\vec{w}$ и $b$. Обучаемая модель, у которой пространство гипотез полностью определяется ограниченным числом параметров, называется **параметрической**.\n",
    "#### Модель деревьев решений\n",
    "Пространство гипотез этой модели - это множество деревьев решений, которые можно построить для поданных на вход данных (считаем, что входные атрибуты зафиксированы, но не все их возможные значения). Чем больше данных, тем больше деревьев можно построить. Модели, простраство гипотез которых не ограничено параметрами и может зависеть от данных называются **непараметрическими**. \n",
    "#### K-ближайших соседей\n",
    "Модель ближайших соседей очень проста.<br> \n",
    "При \"обучении\" все примеры данных просто запоминаются.\n",
    "Далее, когда нужно сделать предсказание на новых данных:\n",
    "- Ищем K тренировочных экземпляров данных, ближайших по какой-либо метрике к тому, который мы обрабатываем\n",
    "- Для классификации: Выбираем из этих K экземпляров доминирующий класс. Или рассматриваем их пропорции как вероятности\n",
    "- Для регрессии: Усредняем или как-то иначе получаем предсказание на основе K экземпляров\n",
    "\n",
    "Это самый известный пример непараметрической модели. Чем больше данных, тем больше сама модель"
   ]
  },
  {
   "cell_type": "code",
   "execution_count": 2,
   "metadata": {},
   "outputs": [],
   "source": [
    "from sklearn.neighbors import KNeighborsRegressor, KNeighborsClassifier\n",
    "from sklearn.linear_model import LinearRegression"
   ]
  },
  {
   "cell_type": "code",
   "execution_count": 3,
   "metadata": {},
   "outputs": [],
   "source": [
    "davis_df = pd.read_csv(\"datasets_68743_137592_Davis.csv\")"
   ]
  },
  {
   "cell_type": "code",
   "execution_count": 4,
   "metadata": {},
   "outputs": [
    {
     "data": {
      "text/html": [
       "<div>\n",
       "<style scoped>\n",
       "    .dataframe tbody tr th:only-of-type {\n",
       "        vertical-align: middle;\n",
       "    }\n",
       "\n",
       "    .dataframe tbody tr th {\n",
       "        vertical-align: top;\n",
       "    }\n",
       "\n",
       "    .dataframe thead th {\n",
       "        text-align: right;\n",
       "    }\n",
       "</style>\n",
       "<table border=\"1\" class=\"dataframe\">\n",
       "  <thead>\n",
       "    <tr style=\"text-align: right;\">\n",
       "      <th></th>\n",
       "      <th>Unnamed: 0</th>\n",
       "      <th>sex</th>\n",
       "      <th>weight</th>\n",
       "      <th>height</th>\n",
       "      <th>repwt</th>\n",
       "      <th>repht</th>\n",
       "    </tr>\n",
       "  </thead>\n",
       "  <tbody>\n",
       "    <tr>\n",
       "      <th>0</th>\n",
       "      <td>1</td>\n",
       "      <td>M</td>\n",
       "      <td>77</td>\n",
       "      <td>182</td>\n",
       "      <td>77.0</td>\n",
       "      <td>180.0</td>\n",
       "    </tr>\n",
       "    <tr>\n",
       "      <th>1</th>\n",
       "      <td>2</td>\n",
       "      <td>F</td>\n",
       "      <td>58</td>\n",
       "      <td>161</td>\n",
       "      <td>51.0</td>\n",
       "      <td>159.0</td>\n",
       "    </tr>\n",
       "    <tr>\n",
       "      <th>2</th>\n",
       "      <td>3</td>\n",
       "      <td>F</td>\n",
       "      <td>53</td>\n",
       "      <td>161</td>\n",
       "      <td>54.0</td>\n",
       "      <td>158.0</td>\n",
       "    </tr>\n",
       "    <tr>\n",
       "      <th>3</th>\n",
       "      <td>4</td>\n",
       "      <td>M</td>\n",
       "      <td>68</td>\n",
       "      <td>177</td>\n",
       "      <td>70.0</td>\n",
       "      <td>175.0</td>\n",
       "    </tr>\n",
       "    <tr>\n",
       "      <th>4</th>\n",
       "      <td>5</td>\n",
       "      <td>F</td>\n",
       "      <td>59</td>\n",
       "      <td>157</td>\n",
       "      <td>59.0</td>\n",
       "      <td>155.0</td>\n",
       "    </tr>\n",
       "  </tbody>\n",
       "</table>\n",
       "</div>"
      ],
      "text/plain": [
       "   Unnamed: 0 sex  weight  height  repwt  repht\n",
       "0           1   M      77     182   77.0  180.0\n",
       "1           2   F      58     161   51.0  159.0\n",
       "2           3   F      53     161   54.0  158.0\n",
       "3           4   M      68     177   70.0  175.0\n",
       "4           5   F      59     157   59.0  155.0"
      ]
     },
     "execution_count": 4,
     "metadata": {},
     "output_type": "execute_result"
    }
   ],
   "source": [
    "davis_df.head(5)"
   ]
  },
  {
   "cell_type": "code",
   "execution_count": 5,
   "metadata": {},
   "outputs": [],
   "source": [
    "davis_train = davis_df[:50]"
   ]
  },
  {
   "cell_type": "code",
   "execution_count": 6,
   "metadata": {},
   "outputs": [],
   "source": [
    "davis_train = davis_train[davis_train[\"height\"] > 140]"
   ]
  },
  {
   "cell_type": "code",
   "execution_count": 7,
   "metadata": {},
   "outputs": [
    {
     "data": {
      "text/plain": [
       "<matplotlib.collections.PathCollection at 0x7f266950cd10>"
      ]
     },
     "execution_count": 7,
     "metadata": {},
     "output_type": "execute_result"
    },
    {
     "data": {
      "image/png": "[encoded data removed]",
      "text/plain": [
       "<Figure size 432x288 with 1 Axes>"
      ]
     },
     "metadata": {
      "needs_background": "light"
     },
     "output_type": "display_data"
    }
   ],
   "source": [
    "plt.scatter(davis_train[\"height\"], davis_train[\"weight\"])"
   ]
  },
  {
   "cell_type": "code",
   "execution_count": 16,
   "metadata": {},
   "outputs": [],
   "source": [
    "k_neighbors_reg = KNeighborsRegressor(n_neighbors=10)\n",
    "lreg = LinearRegression()\n",
    "\n",
    "reg_x_train = davis_train[[\"height\"]].values.astype(np.float)\n",
    "reg_y_train = davis_train[\"weight\"].values.astype(np.float)"
   ]
  },
  {
   "cell_type": "code",
   "execution_count": 17,
   "metadata": {},
   "outputs": [
    {
     "name": "stdout",
     "output_type": "stream",
     "text": [
      "x\n",
      "[[182.]\n",
      " [161.]\n",
      " [161.]\n",
      " [177.]\n",
      " [157.]]\n",
      "y\n",
      "[77. 58. 53. 68. 59.]\n"
     ]
    }
   ],
   "source": [
    "print(\"x\")\n",
    "print(reg_x_train[:5])\n",
    "print(\"y\")\n",
    "print(reg_y_train[:5])"
   ]
  },
  {
   "cell_type": "code",
   "execution_count": 23,
   "metadata": {},
   "outputs": [
    {
     "data": {
      "text/plain": [
       "97656250000000000"
      ]
     },
     "execution_count": 23,
     "metadata": {},
     "output_type": "execute_result"
    }
   ],
   "source": [
    "50 ** 10"
   ]
  },
  {
   "cell_type": "code",
   "execution_count": 24,
   "metadata": {},
   "outputs": [
    {
     "data": {
      "text/plain": [
       "9765625"
      ]
     },
     "execution_count": 24,
     "metadata": {},
     "output_type": "execute_result"
    }
   ],
   "source": [
    "5 ** 10"
   ]
  },
  {
   "cell_type": "code",
   "execution_count": 18,
   "metadata": {},
   "outputs": [
    {
     "data": {
      "text/plain": [
       "KNeighborsRegressor(n_neighbors=10)"
      ]
     },
     "execution_count": 18,
     "metadata": {},
     "output_type": "execute_result"
    }
   ],
   "source": [
    "k_neighbors_reg.fit(reg_x_train,reg_y_train)"
   ]
  },
  {
   "cell_type": "code",
   "execution_count": 19,
   "metadata": {},
   "outputs": [
    {
     "data": {
      "text/plain": [
       "LinearRegression()"
      ]
     },
     "execution_count": 19,
     "metadata": {},
     "output_type": "execute_result"
    }
   ],
   "source": [
    "lreg.fit(reg_x_train, reg_y_train)"
   ]
  },
  {
   "cell_type": "code",
   "execution_count": 20,
   "metadata": {},
   "outputs": [],
   "source": [
    "x_to_pred = np.linspace(reg_x_train.min(), reg_x_train.max(),30).reshape(-1,1)"
   ]
  },
  {
   "cell_type": "code",
   "execution_count": 21,
   "metadata": {},
   "outputs": [],
   "source": [
    "lreg_pred = lreg.predict(x_to_pred)\n",
    "kn_pred = k_neighbors_reg.predict(x_to_pred)"
   ]
  },
  {
   "cell_type": "code",
   "execution_count": 22,
   "metadata": {},
   "outputs": [
    {
     "data": {
      "image/png": "[encoded data removed]",
      "text/plain": [
       "<Figure size 432x288 with 1 Axes>"
      ]
     },
     "metadata": {
      "needs_background": "light"
     },
     "output_type": "display_data"
    }
   ],
   "source": [
    "plt.scatter(davis_train[\"height\"], davis_train[\"weight\"])\n",
    "plt.plot(x_to_pred[:,0], lreg_pred,label=\"linear regression\")\n",
    "plt.plot(x_to_pred[:,0], kn_pred, label=\"5 nearest neighbors\")\n",
    "plt.xlabel(\"height\")\n",
    "plt.ylabel(\"weight\")\n",
    "plt.legend()\n",
    "plt.show()"
   ]
  },
  {
   "cell_type": "markdown",
   "metadata": {},
   "source": [
    "### Выбор гипотезы. Метод максимального правдоподобия. MAP-оценка. Байесов вывод."
   ]
  },
  {
   "cell_type": "markdown",
   "metadata": {},
   "source": [
    "Гипотеза (результирующая модель) оценивается с точки зрения таких аргументов, как:\n",
    "- Наши знания о том, насколько правдоподобна гипотеза\n",
    "- Способность гипотезы объяснить данные\n",
    "- Возможность протестировать и, возможно, опровергнуть гипотезу..."
   ]
  },
  {
   "cell_type": "markdown",
   "metadata": {},
   "source": [
    "Рассмотрим простую задачу:\n",
    "Производитель конфет поставляет их в одной упаковке сразу с двумя вкусами (яблоко и вишня). При этом сортировка может размещаться в 5 вариантах:\n",
    "- Все конфеты вишневые \n",
    "- 25% вишневых, 75% яблочных \n",
    "- 50 на 50 \n",
    "- 75% вишневых, 25% яблочных \n",
    "- 100% вишневых\n",
    "\n",
    "Будем рассматривать эти варианты как гипотезы и, вытаскивая конфеты, попытаемся выбрать правильную."
   ]
  },
  {
   "cell_type": "code",
   "execution_count": 26,
   "metadata": {},
   "outputs": [],
   "source": [
    "import cv2"
   ]
  },
  {
   "cell_type": "code",
   "execution_count": 27,
   "metadata": {},
   "outputs": [
    {
     "name": "stdout",
     "output_type": "stream",
     "text": [
      "[[0.   1.  ]\n",
      " [0.25 0.75]\n",
      " [0.5  0.5 ]\n",
      " [0.75 0.25]\n",
      " [1.   0.  ]]\n"
     ]
    }
   ],
   "source": [
    "cherry = np.array([0.,0.25,0.5,0.75,1.0])\n",
    "apple = 1 - cherry\n",
    "proportions = np.column_stack((cherry, apple))\n",
    "print(proportions)"
   ]
  },
  {
   "cell_type": "code",
   "execution_count": 29,
   "metadata": {},
   "outputs": [
    {
     "data": {
      "text/plain": [
       "0.07476635514018692"
      ]
     },
     "execution_count": 29,
     "metadata": {},
     "output_type": "execute_result"
    }
   ],
   "source": [
    "0.008 / 0.107"
   ]
  },
  {
   "cell_type": "code",
   "execution_count": 28,
   "metadata": {},
   "outputs": [
    {
     "data": {
      "image/png": "[encoded data removed]",
      "text/plain": [
       "<Figure size 720x144 with 5 Axes>"
      ]
     },
     "metadata": {},
     "output_type": "display_data"
    }
   ],
   "source": [
    "fig = plt.figure(figsize=(10,2))\n",
    "for h in range(5):\n",
    "    blank_image = np.zeros((200,200,3), np.uint8)\n",
    "    ch, app = tuple(proportions[h])\n",
    "#     print(ch,app)\n",
    "    cv2.rectangle(blank_image, (0,0), (int(ch * 200),200), (255,0,0),-1)\n",
    "    cv2.rectangle(blank_image, (int(ch*200)+1,0), (200,200), (0,255,0),-1)\n",
    "    ax = fig.add_subplot(1,5,h+1)\n",
    "    ax.set_xticks([])\n",
    "    ax.set_yticks([])\n",
    "    ax.imshow(blank_image)"
   ]
  },
  {
   "cell_type": "markdown",
   "metadata": {},
   "source": [
    "Как оценить вероятность гипотезы при наблюдении данных?<br>\n",
    "Введём случайные величины:\n",
    "\n",
    "$H$  - гипотеза. В нашем случае у этой величины всего 5 значений и она дискретна. <br>\n",
    "$\\vec{x} = (x_1, x_2, ..., x_n)$ - последовательность наблюдений. В нашем случае каждое наблюдение - это одна вытащенная конфета, т.е. $x_i = \\text{cherry}$ или $x_i = \\text{apple}$.<br>\n",
    "Мы предполагаем, что наблюдения не зависят друг от друга при известной верной гипотезе. Т.е. \n",
    "$$P(X_i=x_i, X_j = x_j|H=h) = P(X_i=x_i|H=h) P(X_j=x_j|H=h)$$\n",
    "Также вероятность значения наблюдения не зависит от номера этого наблюдения.\n",
    "\n",
    "Далее, используя строчные буквы будем обозначать $P(Y=y)$ как $P(y)$. Т.е. предыдущая формула примет вид:\n",
    "$$P(x_i, x_j|h) = P(x_i|h) P(x_j|h)$$\n",
    "\n",
    "Согласно формуле Байеса, вероятность гипотезы при имеющихся наблюдений определяется следующим образом:\n",
    "\n",
    "$$P(h_i|\\vec{x}) = \\frac{P(h_i)P(\\vec{x}|h_i)}{P(x)}$$\n",
    "\n",
    "Рассмотрим составляющие формулы по отдельности:\n",
    "\n",
    "$P(h)$ - это априорная вероятность гипотезы. Т.е. это та вероятность, которую мы ей назначаем еще не увидев данных. Априорное распределение отражает наши знания или предпочтения или может строиться на основе ранее подсчитанных пропорций. Например, в нашем случае, мы можем обладать данными о том, что $P(H) = \\{0.1, 0.2, 0.4, 0.2, 0.1\\}$, т.е. чаще всего встречаются упаковки с одинаковыми количествами конфет и реже всего - только с вишней или яблоком.\n",
    "\n",
    "$P(h|\\vec{x})$ - называется апостериорной вероятностью. Это вероятность гипотезы, которой она обладает в нашей модели после того, как мы увидели какую-то часть данных. Каждое последующее наблюдение (конфета) может изменить апостериорное распределение (уменьшить или увеличить вероятность гипотез). В частности, одной вишневой конфеты достаточно для того, чтобы отвергнуть гипотезу 1 (все конфеты яблочные)\n",
    "\n",
    "$P(\\vec{x}|h)$ - называется **правдоподобием**. Это вероятность, с которой мы можем получить данные \\vec{x}, при условии, что гипотеза h верна.\n",
    "\n",
    "$P(\\vec{x})$ в знаменателе - это вероятность полученных наблюдений независимо от того, какая гипотеза верна. Данная величина служит в формуле нормализационной константой, благодаря которой апостериорные вероятности гипотез $P(h|\\vec{x})$ складываются в единицу. В дискретном случае - эта сумма значений числителя для всех гипотез, в непрерывном - интеграл по всем гипотезам. В нашем случае эта константа равняется:\n",
    "$$P(\\vec{x}) = \\sum_{j=1}^5 P(h_j,\\vec{x}) = \\sum_{j=1}^5 P(h_j)P(\\vec{x}|h_j)$$\n",
    "Таким образом итоговая апостериорная вероятность равняется:\n",
    "$$P(h_i|\\vec{x}) = \\frac{P(h_i)P(\\vec{x}|h_i)}{\\sum_{j=1}^5 P(h_j)P(\\vec{x}|h_j)}$$\n"
   ]
  },
  {
   "cell_type": "markdown",
   "metadata": {},
   "source": [
    "Существует три основных метода отбора гипотезы:\n",
    "- Метод максимального правдоподобия\n",
    "- Байесов вывод\n",
    "- MAP-оценка (гипотеза с максимальной апостериорной вероятностью)\n",
    "\n",
    "**Метод максимального правдоподобия** выбирает гипотезу $h$, для которой величина $P(\\vec{x}|h)$ (правдоподобие) максимальна.\n",
    "Напомним наши гипотезы:\n",
    "- Все конфеты яблочные ($h_1$)\n",
    "- 25% вишневых, 75% яблочных ($h_2$)\n",
    "- 50 на 50 ($h_3$)\n",
    "- 75% вишневых, 25% яблочных ($h_4$)\n",
    "- 100% вишневых ($h_5$)\n"
   ]
  },
  {
   "cell_type": "markdown",
   "metadata": {},
   "source": [
    "Рассмотрим серию наблюдений (вытащенных конфет) **(вишня, вишня, вишня, яблоко, вишня, яблоко, яблоко)**"
   ]
  },
  {
   "cell_type": "markdown",
   "metadata": {},
   "source": [
    "Расчитаем правдопобия, которые мы получим после просмотра 1, 2, ..., 7 конфет"
   ]
  },
  {
   "cell_type": "code",
   "execution_count": 68,
   "metadata": {},
   "outputs": [],
   "source": [
    "xs = ('вишня', 'вишня', 'вишня', 'яблоко', 'вишня', 'яблоко', 'яблоко')\n",
    "flavor_to_num = {'вишня':0, 'яблоко':1}"
   ]
  },
  {
   "cell_type": "code",
   "execution_count": 71,
   "metadata": {},
   "outputs": [
    {
     "data": {
      "text/plain": [
       "array([0, 0, 0, 1, 0, 1, 1])"
      ]
     },
     "execution_count": 71,
     "metadata": {},
     "output_type": "execute_result"
    }
   ],
   "source": [
    "xs_array = np.array([flavor_to_num[x] for x in xs])\n",
    "xs_array"
   ]
  },
  {
   "cell_type": "code",
   "execution_count": 73,
   "metadata": {},
   "outputs": [
    {
     "name": "stdout",
     "output_type": "stream",
     "text": [
      "[0. 0. 0. 1. 0. 1. 1.]\n",
      "[0.25 0.25 0.25 0.75 0.25 0.75 0.75]\n",
      "[0.5 0.5 0.5 0.5 0.5 0.5 0.5]\n",
      "[0.75 0.75 0.75 0.25 0.75 0.25 0.25]\n",
      "[1. 1. 1. 0. 1. 0. 0.]\n"
     ]
    }
   ],
   "source": [
    "for h in proportions:\n",
    "    probs = h[xs_array]\n",
    "    print(probs)"
   ]
  },
  {
   "cell_type": "code",
   "execution_count": 77,
   "metadata": {},
   "outputs": [],
   "source": [
    "likelihood_dict = {'конфета': xs}\n",
    "for i, h in enumerate(proportions,1):\n",
    "    likelihoods = np.cumprod(h[xs_array])\n",
    "    likelihood_dict[f\"h_{i}\"] = likelihoods"
   ]
  },
  {
   "cell_type": "code",
   "execution_count": 78,
   "metadata": {},
   "outputs": [
    {
     "data": {
      "text/html": [
       "<div>\n",
       "<style scoped>\n",
       "    .dataframe tbody tr th:only-of-type {\n",
       "        vertical-align: middle;\n",
       "    }\n",
       "\n",
       "    .dataframe tbody tr th {\n",
       "        vertical-align: top;\n",
       "    }\n",
       "\n",
       "    .dataframe thead th {\n",
       "        text-align: right;\n",
       "    }\n",
       "</style>\n",
       "<table border=\"1\" class=\"dataframe\">\n",
       "  <thead>\n",
       "    <tr style=\"text-align: right;\">\n",
       "      <th></th>\n",
       "      <th>конфета</th>\n",
       "      <th>h_1</th>\n",
       "      <th>h_2</th>\n",
       "      <th>h_3</th>\n",
       "      <th>h_4</th>\n",
       "      <th>h_5</th>\n",
       "    </tr>\n",
       "  </thead>\n",
       "  <tbody>\n",
       "    <tr>\n",
       "      <th>0</th>\n",
       "      <td>вишня</td>\n",
       "      <td>0.0</td>\n",
       "      <td>0.250000</td>\n",
       "      <td>0.500000</td>\n",
       "      <td>0.750000</td>\n",
       "      <td>1.0</td>\n",
       "    </tr>\n",
       "    <tr>\n",
       "      <th>1</th>\n",
       "      <td>вишня</td>\n",
       "      <td>0.0</td>\n",
       "      <td>0.062500</td>\n",
       "      <td>0.250000</td>\n",
       "      <td>0.562500</td>\n",
       "      <td>1.0</td>\n",
       "    </tr>\n",
       "    <tr>\n",
       "      <th>2</th>\n",
       "      <td>вишня</td>\n",
       "      <td>0.0</td>\n",
       "      <td>0.015625</td>\n",
       "      <td>0.125000</td>\n",
       "      <td>0.421875</td>\n",
       "      <td>1.0</td>\n",
       "    </tr>\n",
       "    <tr>\n",
       "      <th>3</th>\n",
       "      <td>яблоко</td>\n",
       "      <td>0.0</td>\n",
       "      <td>0.011719</td>\n",
       "      <td>0.062500</td>\n",
       "      <td>0.105469</td>\n",
       "      <td>0.0</td>\n",
       "    </tr>\n",
       "    <tr>\n",
       "      <th>4</th>\n",
       "      <td>вишня</td>\n",
       "      <td>0.0</td>\n",
       "      <td>0.002930</td>\n",
       "      <td>0.031250</td>\n",
       "      <td>0.079102</td>\n",
       "      <td>0.0</td>\n",
       "    </tr>\n",
       "    <tr>\n",
       "      <th>5</th>\n",
       "      <td>яблоко</td>\n",
       "      <td>0.0</td>\n",
       "      <td>0.002197</td>\n",
       "      <td>0.015625</td>\n",
       "      <td>0.019775</td>\n",
       "      <td>0.0</td>\n",
       "    </tr>\n",
       "    <tr>\n",
       "      <th>6</th>\n",
       "      <td>яблоко</td>\n",
       "      <td>0.0</td>\n",
       "      <td>0.001648</td>\n",
       "      <td>0.007812</td>\n",
       "      <td>0.004944</td>\n",
       "      <td>0.0</td>\n",
       "    </tr>\n",
       "  </tbody>\n",
       "</table>\n",
       "</div>"
      ],
      "text/plain": [
       "  конфета  h_1       h_2       h_3       h_4  h_5\n",
       "0   вишня  0.0  0.250000  0.500000  0.750000  1.0\n",
       "1   вишня  0.0  0.062500  0.250000  0.562500  1.0\n",
       "2   вишня  0.0  0.015625  0.125000  0.421875  1.0\n",
       "3  яблоко  0.0  0.011719  0.062500  0.105469  0.0\n",
       "4   вишня  0.0  0.002930  0.031250  0.079102  0.0\n",
       "5  яблоко  0.0  0.002197  0.015625  0.019775  0.0\n",
       "6  яблоко  0.0  0.001648  0.007812  0.004944  0.0"
      ]
     },
     "execution_count": 78,
     "metadata": {},
     "output_type": "execute_result"
    }
   ],
   "source": [
    "pd.DataFrame(likelihood_dict)"
   ]
  },
  {
   "cell_type": "markdown",
   "metadata": {},
   "source": [
    "После 7 наблюдений мы можем выбрать гипотезу h_3 как самую правдоподобную по этому критерию (к этому моменту мы пронаблюдали 4 вишневых и 3 яблочных конфеты). При этом наиболее вероятной гипотезой в течении первых 3 наблюдений была гипотеза 5 (всё вишнёвое). \n",
    "\n",
    "Это опасно, поскольку принимая гипотезу только по данным, особенно по небольшому их числу, мы рискуем делать некорректные предсказания с её использованием. После трех конфет, приняв наиболее вероятную гипотезу по критерию макс. правдоподобия, мы бы считали яблочные конфеты невозможными в данном пакете."
   ]
  },
  {
   "cell_type": "markdown",
   "metadata": {},
   "source": [
    "Напомним, что в данном методы мы полностью игнорировали априорные вероятности. Напомним, они назначены как:\n",
    "$P(H) = \\{0.1, 0.2, 0.4, 0.2, 0.1\\}$"
   ]
  },
  {
   "cell_type": "markdown",
   "metadata": {},
   "source": [
    "Рассмотрим наиболее противоложный подход - **Байесов вывод**. В данном подходе мы не ищем одну наиболее подходящую гипотезу. Вместо этого мы строим полное апостериорное распределение и делаем предсказания с его помощью. \n",
    "\n",
    "Допустим, нам нужно предсказать k-ю конфету, увидев k-1 предыдущих. Если бы мы использовали метод максимального правдоподобия, мы бы предсказывали конфету при помощи отобранной одной гипотезы $h_{\\text{ML}}$:\n",
    "$$P(x_k|x_1,...,x_{k-1}) = P(x_k|h_{\\text{ML}})$$\n",
    "\n",
    "В Байесовом выводе мы используем апостериорное распределение и таким образом в наших предсказаниях учитывается неопределенность истинной гипотезы:\n",
    "$$P(x_k|x_1,...,x_{k-1}) = \\sum_{i=1}^5 P(h_i|x_1,...,x_{k-1})P(x_k|h_i)$$"
   ]
  },
  {
   "cell_type": "markdown",
   "metadata": {},
   "source": [
    "Рассмотрев формулу Байеса ещё раз:\n",
    "$$P(h_i|\\vec{x}) = \\frac{P(h_i)P(\\vec{x}|h_i)}{\\sum_{j=1}^5 P(h_j)P(\\vec{x}|h_j)}$$\n",
    "\n",
    "мы можем прийти к выводу, что максимальной апостериорной вероятностью обладает та гипотеза, у которой максимальный числитель, т.е. гипотеза\n",
    "\n",
    "$$h^* = \\underset{h_j}{\\operatorname{argmax}}P(h_j)P(\\vec{x}|h_j)$$\n",
    "Эта гипотеза называется MAP-гипотезой (Maximum-a-posteriori). Выбор гипотезы через этот метод позволяет учитывать априорные вероятности, но при этом предполагает выбор одной гипотезы $h_{\\text{MAP}}$ и осуществление предсказаний в предположении её истинности.\n",
    "$$P(x_k|x_1,...,x_{k-1}) = P(x_k|h_{\\text{MAP}})$$"
   ]
  },
  {
   "cell_type": "markdown",
   "metadata": {},
   "source": [
    "Сравним вероятности гипотез и вероятности значений следующей конфеты для этих троих методов"
   ]
  },
  {
   "cell_type": "code",
   "execution_count": 92,
   "metadata": {},
   "outputs": [],
   "source": [
    "likelihood_dict = {'конфета': xs}\n",
    "likelihood_mtr = np.zeros((len(xs),len(proportions)))\n",
    "for i, h in enumerate(proportions,1):\n",
    "    likelihoods = np.cumprod(h[xs_array])\n",
    "    likelihood_mtr[:,i-1] = likelihoods\n",
    "    likelihood_dict[f\"h_{i}\"] = likelihoods\n",
    "    \n",
    "likelihood_dict[\"t+1=вишня\"] = []\n",
    "likelihood_dict[\"t+1=яблоко\"] = []\n",
    "\n",
    "for t,x in enumerate(xs):\n",
    "    ml_h = np.argmax(likelihood_mtr[t])\n",
    "    likelihood_dict[\"t+1=вишня\"].append(proportions[ml_h,0])\n",
    "    likelihood_dict[\"t+1=яблоко\"].append(proportions[ml_h,1])"
   ]
  },
  {
   "cell_type": "markdown",
   "metadata": {},
   "source": [
    "#### Метод максимального правдоподобия"
   ]
  },
  {
   "cell_type": "code",
   "execution_count": 93,
   "metadata": {},
   "outputs": [
    {
     "data": {
      "text/html": [
       "<div>\n",
       "<style scoped>\n",
       "    .dataframe tbody tr th:only-of-type {\n",
       "        vertical-align: middle;\n",
       "    }\n",
       "\n",
       "    .dataframe tbody tr th {\n",
       "        vertical-align: top;\n",
       "    }\n",
       "\n",
       "    .dataframe thead th {\n",
       "        text-align: right;\n",
       "    }\n",
       "</style>\n",
       "<table border=\"1\" class=\"dataframe\">\n",
       "  <thead>\n",
       "    <tr style=\"text-align: right;\">\n",
       "      <th></th>\n",
       "      <th>конфета</th>\n",
       "      <th>h_1</th>\n",
       "      <th>h_2</th>\n",
       "      <th>h_3</th>\n",
       "      <th>h_4</th>\n",
       "      <th>h_5</th>\n",
       "      <th>t+1=вишня</th>\n",
       "      <th>t+1=яблоко</th>\n",
       "    </tr>\n",
       "  </thead>\n",
       "  <tbody>\n",
       "    <tr>\n",
       "      <th>0</th>\n",
       "      <td>вишня</td>\n",
       "      <td>0.0</td>\n",
       "      <td>0.250000</td>\n",
       "      <td>0.500000</td>\n",
       "      <td>0.750000</td>\n",
       "      <td>1.0</td>\n",
       "      <td>1.00</td>\n",
       "      <td>0.00</td>\n",
       "    </tr>\n",
       "    <tr>\n",
       "      <th>1</th>\n",
       "      <td>вишня</td>\n",
       "      <td>0.0</td>\n",
       "      <td>0.062500</td>\n",
       "      <td>0.250000</td>\n",
       "      <td>0.562500</td>\n",
       "      <td>1.0</td>\n",
       "      <td>1.00</td>\n",
       "      <td>0.00</td>\n",
       "    </tr>\n",
       "    <tr>\n",
       "      <th>2</th>\n",
       "      <td>вишня</td>\n",
       "      <td>0.0</td>\n",
       "      <td>0.015625</td>\n",
       "      <td>0.125000</td>\n",
       "      <td>0.421875</td>\n",
       "      <td>1.0</td>\n",
       "      <td>1.00</td>\n",
       "      <td>0.00</td>\n",
       "    </tr>\n",
       "    <tr>\n",
       "      <th>3</th>\n",
       "      <td>яблоко</td>\n",
       "      <td>0.0</td>\n",
       "      <td>0.011719</td>\n",
       "      <td>0.062500</td>\n",
       "      <td>0.105469</td>\n",
       "      <td>0.0</td>\n",
       "      <td>0.75</td>\n",
       "      <td>0.25</td>\n",
       "    </tr>\n",
       "    <tr>\n",
       "      <th>4</th>\n",
       "      <td>вишня</td>\n",
       "      <td>0.0</td>\n",
       "      <td>0.002930</td>\n",
       "      <td>0.031250</td>\n",
       "      <td>0.079102</td>\n",
       "      <td>0.0</td>\n",
       "      <td>0.75</td>\n",
       "      <td>0.25</td>\n",
       "    </tr>\n",
       "    <tr>\n",
       "      <th>5</th>\n",
       "      <td>яблоко</td>\n",
       "      <td>0.0</td>\n",
       "      <td>0.002197</td>\n",
       "      <td>0.015625</td>\n",
       "      <td>0.019775</td>\n",
       "      <td>0.0</td>\n",
       "      <td>0.75</td>\n",
       "      <td>0.25</td>\n",
       "    </tr>\n",
       "    <tr>\n",
       "      <th>6</th>\n",
       "      <td>яблоко</td>\n",
       "      <td>0.0</td>\n",
       "      <td>0.001648</td>\n",
       "      <td>0.007812</td>\n",
       "      <td>0.004944</td>\n",
       "      <td>0.0</td>\n",
       "      <td>0.50</td>\n",
       "      <td>0.50</td>\n",
       "    </tr>\n",
       "  </tbody>\n",
       "</table>\n",
       "</div>"
      ],
      "text/plain": [
       "  конфета  h_1       h_2       h_3       h_4  h_5  t+1=вишня  t+1=яблоко\n",
       "0   вишня  0.0  0.250000  0.500000  0.750000  1.0       1.00        0.00\n",
       "1   вишня  0.0  0.062500  0.250000  0.562500  1.0       1.00        0.00\n",
       "2   вишня  0.0  0.015625  0.125000  0.421875  1.0       1.00        0.00\n",
       "3  яблоко  0.0  0.011719  0.062500  0.105469  0.0       0.75        0.25\n",
       "4   вишня  0.0  0.002930  0.031250  0.079102  0.0       0.75        0.25\n",
       "5  яблоко  0.0  0.002197  0.015625  0.019775  0.0       0.75        0.25\n",
       "6  яблоко  0.0  0.001648  0.007812  0.004944  0.0       0.50        0.50"
      ]
     },
     "execution_count": 93,
     "metadata": {},
     "output_type": "execute_result"
    }
   ],
   "source": [
    "pd.DataFrame(likelihood_dict)"
   ]
  },
  {
   "cell_type": "code",
   "execution_count": 94,
   "metadata": {},
   "outputs": [],
   "source": [
    "priors = np.array([0.1,0.2,0.4,0.2,0.1])"
   ]
  },
  {
   "cell_type": "code",
   "execution_count": 95,
   "metadata": {},
   "outputs": [],
   "source": [
    "map_dict = {'конфета': xs}\n",
    "map_mtr = np.zeros((len(xs),len(proportions)))\n",
    "for i, h in enumerate(proportions,1):\n",
    "    likelihoods = np.cumprod(h[xs_array]) * priors[i-1]\n",
    "    map_mtr[:,i-1] = likelihoods\n",
    "    map_dict[f\"h_{i}\"] = likelihoods\n",
    "    \n",
    "map_dict[\"t+1=вишня\"] = []\n",
    "map_dict[\"t+1=яблоко\"] = []\n",
    "\n",
    "for t,x in enumerate(xs):\n",
    "    map_h = np.argmax(map_mtr[t])\n",
    "    map_dict[\"t+1=вишня\"].append(proportions[map_h,0])\n",
    "    map_dict[\"t+1=яблоко\"].append(proportions[map_h,1])"
   ]
  },
  {
   "cell_type": "markdown",
   "metadata": {},
   "source": [
    "#### Метод Maximum-a-Posteriori"
   ]
  },
  {
   "cell_type": "code",
   "execution_count": 96,
   "metadata": {},
   "outputs": [
    {
     "data": {
      "text/html": [
       "<div>\n",
       "<style scoped>\n",
       "    .dataframe tbody tr th:only-of-type {\n",
       "        vertical-align: middle;\n",
       "    }\n",
       "\n",
       "    .dataframe tbody tr th {\n",
       "        vertical-align: top;\n",
       "    }\n",
       "\n",
       "    .dataframe thead th {\n",
       "        text-align: right;\n",
       "    }\n",
       "</style>\n",
       "<table border=\"1\" class=\"dataframe\">\n",
       "  <thead>\n",
       "    <tr style=\"text-align: right;\">\n",
       "      <th></th>\n",
       "      <th>конфета</th>\n",
       "      <th>h_1</th>\n",
       "      <th>h_2</th>\n",
       "      <th>h_3</th>\n",
       "      <th>h_4</th>\n",
       "      <th>h_5</th>\n",
       "      <th>t+1=вишня</th>\n",
       "      <th>t+1=яблоко</th>\n",
       "    </tr>\n",
       "  </thead>\n",
       "  <tbody>\n",
       "    <tr>\n",
       "      <th>0</th>\n",
       "      <td>вишня</td>\n",
       "      <td>0.0</td>\n",
       "      <td>0.050000</td>\n",
       "      <td>0.200000</td>\n",
       "      <td>0.150000</td>\n",
       "      <td>0.1</td>\n",
       "      <td>0.50</td>\n",
       "      <td>0.50</td>\n",
       "    </tr>\n",
       "    <tr>\n",
       "      <th>1</th>\n",
       "      <td>вишня</td>\n",
       "      <td>0.0</td>\n",
       "      <td>0.012500</td>\n",
       "      <td>0.100000</td>\n",
       "      <td>0.112500</td>\n",
       "      <td>0.1</td>\n",
       "      <td>0.75</td>\n",
       "      <td>0.25</td>\n",
       "    </tr>\n",
       "    <tr>\n",
       "      <th>2</th>\n",
       "      <td>вишня</td>\n",
       "      <td>0.0</td>\n",
       "      <td>0.003125</td>\n",
       "      <td>0.050000</td>\n",
       "      <td>0.084375</td>\n",
       "      <td>0.1</td>\n",
       "      <td>1.00</td>\n",
       "      <td>0.00</td>\n",
       "    </tr>\n",
       "    <tr>\n",
       "      <th>3</th>\n",
       "      <td>яблоко</td>\n",
       "      <td>0.0</td>\n",
       "      <td>0.002344</td>\n",
       "      <td>0.025000</td>\n",
       "      <td>0.021094</td>\n",
       "      <td>0.0</td>\n",
       "      <td>0.50</td>\n",
       "      <td>0.50</td>\n",
       "    </tr>\n",
       "    <tr>\n",
       "      <th>4</th>\n",
       "      <td>вишня</td>\n",
       "      <td>0.0</td>\n",
       "      <td>0.000586</td>\n",
       "      <td>0.012500</td>\n",
       "      <td>0.015820</td>\n",
       "      <td>0.0</td>\n",
       "      <td>0.75</td>\n",
       "      <td>0.25</td>\n",
       "    </tr>\n",
       "    <tr>\n",
       "      <th>5</th>\n",
       "      <td>яблоко</td>\n",
       "      <td>0.0</td>\n",
       "      <td>0.000439</td>\n",
       "      <td>0.006250</td>\n",
       "      <td>0.003955</td>\n",
       "      <td>0.0</td>\n",
       "      <td>0.50</td>\n",
       "      <td>0.50</td>\n",
       "    </tr>\n",
       "    <tr>\n",
       "      <th>6</th>\n",
       "      <td>яблоко</td>\n",
       "      <td>0.0</td>\n",
       "      <td>0.000330</td>\n",
       "      <td>0.003125</td>\n",
       "      <td>0.000989</td>\n",
       "      <td>0.0</td>\n",
       "      <td>0.50</td>\n",
       "      <td>0.50</td>\n",
       "    </tr>\n",
       "  </tbody>\n",
       "</table>\n",
       "</div>"
      ],
      "text/plain": [
       "  конфета  h_1       h_2       h_3       h_4  h_5  t+1=вишня  t+1=яблоко\n",
       "0   вишня  0.0  0.050000  0.200000  0.150000  0.1       0.50        0.50\n",
       "1   вишня  0.0  0.012500  0.100000  0.112500  0.1       0.75        0.25\n",
       "2   вишня  0.0  0.003125  0.050000  0.084375  0.1       1.00        0.00\n",
       "3  яблоко  0.0  0.002344  0.025000  0.021094  0.0       0.50        0.50\n",
       "4   вишня  0.0  0.000586  0.012500  0.015820  0.0       0.75        0.25\n",
       "5  яблоко  0.0  0.000439  0.006250  0.003955  0.0       0.50        0.50\n",
       "6  яблоко  0.0  0.000330  0.003125  0.000989  0.0       0.50        0.50"
      ]
     },
     "execution_count": 96,
     "metadata": {},
     "output_type": "execute_result"
    }
   ],
   "source": [
    "pd.DataFrame(map_dict)"
   ]
  },
  {
   "cell_type": "code",
   "execution_count": 99,
   "metadata": {},
   "outputs": [],
   "source": [
    "bayes_dict = {'конфета': xs}\n",
    "bayes_mtr = np.zeros((len(xs),len(proportions)))\n",
    "for i, h in enumerate(proportions,1):\n",
    "    likelihoods = np.cumprod(h[xs_array]) * priors[i-1]\n",
    "    bayes_mtr[:,i-1] = likelihoods\n",
    "    \n",
    "bayes_mtr = bayes_mtr / bayes_mtr.sum(axis=1, keepdims=True)\n",
    "for i, h in enumerate(proportions,1):\n",
    "    bayes_dict[f\"h_{i}\"] = bayes_mtr[:,i-1]\n",
    "    \n",
    "bayes_dict[\"t+1=вишня\"] = []\n",
    "bayes_dict[\"t+1=яблоко\"] = []\n",
    "\n",
    "for t,x in enumerate(xs):\n",
    "    prediction_cherry = np.dot(bayes_mtr[t],proportions[:,0])\n",
    "    prediction_apple = np.dot(bayes_mtr[t],proportions[:,1])\n",
    "    map_h = np.argmax(bayes_mtr[t])\n",
    "    \n",
    "    bayes_dict[\"t+1=вишня\"].append(prediction_cherry)\n",
    "    bayes_dict[\"t+1=яблоко\"].append(prediction_apple)"
   ]
  },
  {
   "cell_type": "markdown",
   "metadata": {},
   "source": [
    "#### Байесов вывод"
   ]
  },
  {
   "cell_type": "code",
   "execution_count": 102,
   "metadata": {},
   "outputs": [
    {
     "data": {
      "text/html": [
       "<div>\n",
       "<style scoped>\n",
       "    .dataframe tbody tr th:only-of-type {\n",
       "        vertical-align: middle;\n",
       "    }\n",
       "\n",
       "    .dataframe tbody tr th {\n",
       "        vertical-align: top;\n",
       "    }\n",
       "\n",
       "    .dataframe thead th {\n",
       "        text-align: right;\n",
       "    }\n",
       "</style>\n",
       "<table border=\"1\" class=\"dataframe\">\n",
       "  <thead>\n",
       "    <tr style=\"text-align: right;\">\n",
       "      <th></th>\n",
       "      <th>конфета</th>\n",
       "      <th>h_1</th>\n",
       "      <th>h_2</th>\n",
       "      <th>h_3</th>\n",
       "      <th>h_4</th>\n",
       "      <th>h_5</th>\n",
       "      <th>t+1=вишня</th>\n",
       "      <th>t+1=яблоко</th>\n",
       "    </tr>\n",
       "  </thead>\n",
       "  <tbody>\n",
       "    <tr>\n",
       "      <th>0</th>\n",
       "      <td>вишня</td>\n",
       "      <td>0.0</td>\n",
       "      <td>0.100000</td>\n",
       "      <td>0.400000</td>\n",
       "      <td>0.300000</td>\n",
       "      <td>0.200000</td>\n",
       "      <td>0.650000</td>\n",
       "      <td>0.350000</td>\n",
       "    </tr>\n",
       "    <tr>\n",
       "      <th>1</th>\n",
       "      <td>вишня</td>\n",
       "      <td>0.0</td>\n",
       "      <td>0.038462</td>\n",
       "      <td>0.307692</td>\n",
       "      <td>0.346154</td>\n",
       "      <td>0.307692</td>\n",
       "      <td>0.730769</td>\n",
       "      <td>0.269231</td>\n",
       "    </tr>\n",
       "    <tr>\n",
       "      <th>2</th>\n",
       "      <td>вишня</td>\n",
       "      <td>0.0</td>\n",
       "      <td>0.013158</td>\n",
       "      <td>0.210526</td>\n",
       "      <td>0.355263</td>\n",
       "      <td>0.421053</td>\n",
       "      <td>0.796053</td>\n",
       "      <td>0.203947</td>\n",
       "    </tr>\n",
       "    <tr>\n",
       "      <th>3</th>\n",
       "      <td>яблоко</td>\n",
       "      <td>0.0</td>\n",
       "      <td>0.048387</td>\n",
       "      <td>0.516129</td>\n",
       "      <td>0.435484</td>\n",
       "      <td>0.000000</td>\n",
       "      <td>0.596774</td>\n",
       "      <td>0.403226</td>\n",
       "    </tr>\n",
       "    <tr>\n",
       "      <th>4</th>\n",
       "      <td>вишня</td>\n",
       "      <td>0.0</td>\n",
       "      <td>0.020270</td>\n",
       "      <td>0.432432</td>\n",
       "      <td>0.547297</td>\n",
       "      <td>0.000000</td>\n",
       "      <td>0.631757</td>\n",
       "      <td>0.368243</td>\n",
       "    </tr>\n",
       "    <tr>\n",
       "      <th>5</th>\n",
       "      <td>яблоко</td>\n",
       "      <td>0.0</td>\n",
       "      <td>0.041284</td>\n",
       "      <td>0.587156</td>\n",
       "      <td>0.371560</td>\n",
       "      <td>0.000000</td>\n",
       "      <td>0.582569</td>\n",
       "      <td>0.417431</td>\n",
       "    </tr>\n",
       "    <tr>\n",
       "      <th>6</th>\n",
       "      <td>яблоко</td>\n",
       "      <td>0.0</td>\n",
       "      <td>0.074176</td>\n",
       "      <td>0.703297</td>\n",
       "      <td>0.222527</td>\n",
       "      <td>0.000000</td>\n",
       "      <td>0.537088</td>\n",
       "      <td>0.462912</td>\n",
       "    </tr>\n",
       "  </tbody>\n",
       "</table>\n",
       "</div>"
      ],
      "text/plain": [
       "  конфета  h_1       h_2       h_3       h_4       h_5  t+1=вишня  t+1=яблоко\n",
       "0   вишня  0.0  0.100000  0.400000  0.300000  0.200000   0.650000    0.350000\n",
       "1   вишня  0.0  0.038462  0.307692  0.346154  0.307692   0.730769    0.269231\n",
       "2   вишня  0.0  0.013158  0.210526  0.355263  0.421053   0.796053    0.203947\n",
       "3  яблоко  0.0  0.048387  0.516129  0.435484  0.000000   0.596774    0.403226\n",
       "4   вишня  0.0  0.020270  0.432432  0.547297  0.000000   0.631757    0.368243\n",
       "5  яблоко  0.0  0.041284  0.587156  0.371560  0.000000   0.582569    0.417431\n",
       "6  яблоко  0.0  0.074176  0.703297  0.222527  0.000000   0.537088    0.462912"
      ]
     },
     "execution_count": 102,
     "metadata": {},
     "output_type": "execute_result"
    }
   ],
   "source": [
    "pd.DataFrame(bayes_dict)"
   ]
  },
  {
   "cell_type": "markdown",
   "metadata": {},
   "source": [
    "Вопросы:\n",
    "\n",
    "1. Почему мы не используем везде Байесов вывод?\n",
    "\n",
    "2. Что закладывается в априорную вероятность? Какие есть универсальные принципы, по которым мы можем предпочитать одну гипотезу другой?"
   ]
  },
  {
   "cell_type": "markdown",
   "metadata": {},
   "source": [
    "## Часть 2. Применение принципов в реальных моделях"
   ]
  },
  {
   "cell_type": "markdown",
   "metadata": {},
   "source": [
    "### Наивный Байесовский классификатор"
   ]
  },
  {
   "cell_type": "markdown",
   "metadata": {},
   "source": [
    "Это классификатор, предполагающий, что признаки входного экземпляра не зависят друг от друга при известном классе"
   ]
  },
  {
   "cell_type": "markdown",
   "metadata": {},
   "source": [
    "Предсказание класса для примера $\\vec{x}$ осуществляется по формуле:\n",
    "$$P(c|\\vec{x}) = \\frac{1}{Z}P(c)P(\\vec{x}|c) = \\frac{1}{Z}P(c)P(x_1|c),...,P(x_m|c) = \\frac{1}{Z}P(c)\\prod_{i=1}^m {P(x_i|c)}$$\n",
    "Где $$Z = \\sum_{c'}P(c')\\prod_{i=1}^m {P(x_i|c')}$$"
   ]
  },
  {
   "cell_type": "markdown",
   "metadata": {},
   "source": [
    "Для обучения классификатора необходимо оценить величины $P(c)$ для каждого класса $c$ и $P(x_i|c)$ для каждой пары ( признак $x_i$, класс $c$). Для этого часто достаточно подсчитать вывести эти величины из данных путем простого подсчета.\n",
    "\n",
    "Отдельный случай - классификация текстов"
   ]
  },
  {
   "cell_type": "markdown",
   "metadata": {},
   "source": [
    "Рассмотрим тексты в формате мешок слов - каждый текст представляется как набор счетчиков для слов из некоторого словаря. Заполнить словарь можно предварительно, а можно на основе данных. \n",
    "\n",
    "\n",
    "Пусть в словаре находятся слова **\\[сообщают, пользователи, социальных, сетей, землетрясение, толчок, афтершок, произошел, квартирах, мебель, посуда \\]**. Итого 11 слов. Тогда тексты будут представляться следующими векторами:\n",
    "\n",
    "*Как сообщают пользователи социальных сетей, землетрясение ощущалось как на первых, так и на верхних этажах*\n",
    "\n",
    "\\[1,1,1,1,1,0,0,0,0,0,0\\]\n",
    "\n",
    "*Некоторые сообщают о том, что в квартирах ходуном заходила мебель, зазвонила посуда*\n",
    "\n",
    "\\[1,0,0,0,0,0,0,0,1,1,1\\]"
   ]
  },
  {
   "cell_type": "markdown",
   "metadata": {},
   "source": [
    "В таком случае, Наивный Байесовский классификатор может оценить вероятности следующим образом:\n",
    "\n",
    "$p(c)$ = пропорция класса $c$ в датасете\n",
    "<br>\n",
    "$p(x_i|c)$ - при предсказании мы рассматриваем признаки $X_i$ как бинарные (есть слово, нет слово). Но при обучении мы также смотрим, сколько раз слово встретилось в каждом тексте. \n",
    "\n",
    "Мы можем оценить вероятность $p(x_i|c)$ как пропорцию слов:\n",
    "$$\\frac{N(x_i,c) + \\alpha}{\\sum_j{[N(x_j,c) + \\alpha}]}$$\n",
    "\n",
    "$N(x_i,c)$ - количество раз, которые слово $x_i$ встретилось во всех текстах класса $c$"
   ]
  },
  {
   "cell_type": "code",
   "execution_count": 105,
   "metadata": {},
   "outputs": [],
   "source": [
    "from sklearn.datasets import fetch_20newsgroups"
   ]
  },
  {
   "cell_type": "code",
   "execution_count": 112,
   "metadata": {},
   "outputs": [],
   "source": [
    "ng_train = fetch_20newsgroups(subset='train',return_X_y=False)"
   ]
  },
  {
   "cell_type": "code",
   "execution_count": 113,
   "metadata": {},
   "outputs": [],
   "source": [
    "ng_test = fetch_20newsgroups(subset='test',return_X_y=False)"
   ]
  },
  {
   "cell_type": "code",
   "execution_count": 114,
   "metadata": {},
   "outputs": [
    {
     "data": {
      "text/plain": [
       "\"From: lerxst@wam.umd.edu (where's my thing)\\nSubject: WHAT car is this!?\\nNntp-Posting-Host: rac3.wam.umd.edu\\nOrganization: University of Maryland, College Park\\nLines: 15\\n\\n I was wondering if anyone out there could enlighten me on this car I saw\\nthe other day. It was a 2-door sports car, looked to be from the late 60s/\\nearly 70s. It was called a Bricklin. The doors were really small. In addition,\\nthe front bumper was separate from the rest of the body. This is \\nall I know. If anyone can tellme a model name, engine specs, years\\nof production, where this car is made, history, or whatever info you\\nhave on this funky looking car, please e-mail.\\n\\nThanks,\\n- IL\\n   ---- brought to you by your neighborhood Lerxst ----\\n\\n\\n\\n\\n\""
      ]
     },
     "execution_count": 114,
     "metadata": {},
     "output_type": "execute_result"
    }
   ],
   "source": [
    "ng_train.data[0]"
   ]
  },
  {
   "cell_type": "code",
   "execution_count": 115,
   "metadata": {},
   "outputs": [],
   "source": [
    "from sklearn.feature_extraction.text import CountVectorizer"
   ]
  },
  {
   "cell_type": "code",
   "execution_count": 122,
   "metadata": {},
   "outputs": [],
   "source": [
    "vectorizer = CountVectorizer( max_df=0.5,max_features=20000,\n",
    "                                 stop_words='english')"
   ]
  },
  {
   "cell_type": "code",
   "execution_count": 123,
   "metadata": {},
   "outputs": [],
   "source": [
    "X_train = vectorizer.fit_transform(ng_train.data)"
   ]
  },
  {
   "cell_type": "code",
   "execution_count": 138,
   "metadata": {},
   "outputs": [],
   "source": [
    "X_test = vectorizer.transform(ng_test.data)"
   ]
  },
  {
   "cell_type": "code",
   "execution_count": 124,
   "metadata": {},
   "outputs": [
    {
     "data": {
      "text/plain": [
       "(11314, 20000)"
      ]
     },
     "execution_count": 124,
     "metadata": {},
     "output_type": "execute_result"
    }
   ],
   "source": [
    "X_train.shape"
   ]
  },
  {
   "cell_type": "code",
   "execution_count": 131,
   "metadata": {},
   "outputs": [],
   "source": [
    "feature_names = np.array(vectorizer.get_feature_names())"
   ]
  },
  {
   "cell_type": "code",
   "execution_count": 132,
   "metadata": {},
   "outputs": [
    {
     "data": {
      "text/plain": [
       "array([19193, 18476, 17856,  3962, 12656, 14047,  9084, 18582, 11493,\n",
       "        4639, 13432,   204, 19517,  6917, 15852,  5634,  6365, 16865,\n",
       "       11100, 10707,  1089,  6597,  1242,  3887,  6366, 14873, 16571,\n",
       "        1887,  3735, 16127, 15274,  3435, 10514, 12033,  6897, 16788,\n",
       "       19821, 14288,  8952,  9566, 11101, 11328, 17810,  9329,  3657,\n",
       "       12495])"
      ]
     },
     "execution_count": 132,
     "metadata": {},
     "output_type": "execute_result"
    }
   ],
   "source": [
    "X_train[0].indices"
   ]
  },
  {
   "cell_type": "code",
   "execution_count": 133,
   "metadata": {},
   "outputs": [
    {
     "data": {
      "text/plain": [
       "numpy.ndarray"
      ]
     },
     "execution_count": 133,
     "metadata": {},
     "output_type": "execute_result"
    }
   ],
   "source": [
    "type(feature_names)"
   ]
  },
  {
   "cell_type": "code",
   "execution_count": 134,
   "metadata": {},
   "outputs": [
    {
     "name": "stdout",
     "output_type": "stream",
     "text": [
      "['wam' 'umd' 'thing' 'car' 'nntp' 'posting' 'host' 'university' 'maryland'\n",
      " 'college' 'park' '15' 'wondering' 'enlighten' 'saw' 'day' 'door' 'sports'\n",
      " 'looked' 'late' '60s' 'early' '70s' 'called' 'doors' 'really' 'small'\n",
      " 'addition' 'bumper' 'separate' 'rest' 'body' 'know' 'model' 'engine'\n",
      " 'specs' 'years' 'production' 'history' 'info' 'looking' 'mail' 'thanks'\n",
      " 'il' 'brought' 'neighborhood']\n"
     ]
    }
   ],
   "source": [
    "print(feature_names[X_train[0].indices])"
   ]
  },
  {
   "cell_type": "code",
   "execution_count": 141,
   "metadata": {},
   "outputs": [],
   "source": [
    "from sklearn.naive_bayes import MultinomialNB\n",
    "from sklearn import metrics, linear_model"
   ]
  },
  {
   "cell_type": "code",
   "execution_count": 137,
   "metadata": {},
   "outputs": [],
   "source": [
    "clf = MultinomialNB().fit(X_train, ng_train.target)"
   ]
  },
  {
   "cell_type": "code",
   "execution_count": 140,
   "metadata": {},
   "outputs": [],
   "source": [
    "y_pred = clf.predict(X_test)"
   ]
  },
  {
   "cell_type": "code",
   "execution_count": 142,
   "metadata": {},
   "outputs": [
    {
     "name": "stdout",
     "output_type": "stream",
     "text": [
      "                          precision    recall  f1-score   support\n",
      "\n",
      "             alt.atheism       0.77      0.82      0.79       319\n",
      "           comp.graphics       0.57      0.82      0.68       389\n",
      " comp.os.ms-windows.misc       0.20      0.00      0.01       394\n",
      "comp.sys.ibm.pc.hardware       0.52      0.77      0.62       392\n",
      "   comp.sys.mac.hardware       0.75      0.85      0.80       385\n",
      "          comp.windows.x       0.79      0.75      0.77       395\n",
      "            misc.forsale       0.80      0.83      0.82       390\n",
      "               rec.autos       0.84      0.91      0.87       396\n",
      "         rec.motorcycles       0.91      0.94      0.93       398\n",
      "      rec.sport.baseball       0.94      0.92      0.93       397\n",
      "        rec.sport.hockey       0.95      0.96      0.96       399\n",
      "               sci.crypt       0.91      0.90      0.91       396\n",
      "         sci.electronics       0.75      0.73      0.74       393\n",
      "                 sci.med       0.91      0.83      0.87       396\n",
      "               sci.space       0.87      0.90      0.89       394\n",
      "  soc.religion.christian       0.89      0.93      0.91       398\n",
      "      talk.politics.guns       0.75      0.91      0.82       364\n",
      "   talk.politics.mideast       0.96      0.86      0.91       376\n",
      "      talk.politics.misc       0.73      0.61      0.66       310\n",
      "      talk.religion.misc       0.71      0.59      0.64       251\n",
      "\n",
      "                accuracy                           0.80      7532\n",
      "               macro avg       0.78      0.79      0.78      7532\n",
      "            weighted avg       0.78      0.80      0.78      7532\n",
      "\n"
     ]
    }
   ],
   "source": [
    "print(metrics.classification_report(ng_test.target, y_pred, target_names=ng_train.target_names))"
   ]
  },
  {
   "cell_type": "code",
   "execution_count": 145,
   "metadata": {},
   "outputs": [],
   "source": [
    "nb_conf_matrix = pd.DataFrame(metrics.confusion_matrix(ng_test.target, y_pred),columns=ng_train.target_names, \n",
    "                              index=ng_train.target_names)"
   ]
  },
  {
   "cell_type": "code",
   "execution_count": 146,
   "metadata": {
    "scrolled": true
   },
   "outputs": [
    {
     "data": {
      "text/html": [
       "<div>\n",
       "<style scoped>\n",
       "    .dataframe tbody tr th:only-of-type {\n",
       "        vertical-align: middle;\n",
       "    }\n",
       "\n",
       "    .dataframe tbody tr th {\n",
       "        vertical-align: top;\n",
       "    }\n",
       "\n",
       "    .dataframe thead th {\n",
       "        text-align: right;\n",
       "    }\n",
       "</style>\n",
       "<table border=\"1\" class=\"dataframe\">\n",
       "  <thead>\n",
       "    <tr style=\"text-align: right;\">\n",
       "      <th></th>\n",
       "      <th>alt.atheism</th>\n",
       "      <th>comp.graphics</th>\n",
       "      <th>comp.os.ms-windows.misc</th>\n",
       "      <th>comp.sys.ibm.pc.hardware</th>\n",
       "      <th>comp.sys.mac.hardware</th>\n",
       "      <th>comp.windows.x</th>\n",
       "      <th>misc.forsale</th>\n",
       "      <th>rec.autos</th>\n",
       "      <th>rec.motorcycles</th>\n",
       "      <th>rec.sport.baseball</th>\n",
       "      <th>rec.sport.hockey</th>\n",
       "      <th>sci.crypt</th>\n",
       "      <th>sci.electronics</th>\n",
       "      <th>sci.med</th>\n",
       "      <th>sci.space</th>\n",
       "      <th>soc.religion.christian</th>\n",
       "      <th>talk.politics.guns</th>\n",
       "      <th>talk.politics.mideast</th>\n",
       "      <th>talk.politics.misc</th>\n",
       "      <th>talk.religion.misc</th>\n",
       "    </tr>\n",
       "  </thead>\n",
       "  <tbody>\n",
       "    <tr>\n",
       "      <th>alt.atheism</th>\n",
       "      <td>262</td>\n",
       "      <td>0</td>\n",
       "      <td>0</td>\n",
       "      <td>1</td>\n",
       "      <td>0</td>\n",
       "      <td>1</td>\n",
       "      <td>1</td>\n",
       "      <td>1</td>\n",
       "      <td>2</td>\n",
       "      <td>1</td>\n",
       "      <td>2</td>\n",
       "      <td>1</td>\n",
       "      <td>1</td>\n",
       "      <td>5</td>\n",
       "      <td>1</td>\n",
       "      <td>13</td>\n",
       "      <td>2</td>\n",
       "      <td>3</td>\n",
       "      <td>1</td>\n",
       "      <td>21</td>\n",
       "    </tr>\n",
       "    <tr>\n",
       "      <th>comp.graphics</th>\n",
       "      <td>1</td>\n",
       "      <td>320</td>\n",
       "      <td>0</td>\n",
       "      <td>14</td>\n",
       "      <td>9</td>\n",
       "      <td>12</td>\n",
       "      <td>4</td>\n",
       "      <td>0</td>\n",
       "      <td>0</td>\n",
       "      <td>3</td>\n",
       "      <td>0</td>\n",
       "      <td>7</td>\n",
       "      <td>8</td>\n",
       "      <td>1</td>\n",
       "      <td>7</td>\n",
       "      <td>0</td>\n",
       "      <td>0</td>\n",
       "      <td>1</td>\n",
       "      <td>1</td>\n",
       "      <td>1</td>\n",
       "    </tr>\n",
       "    <tr>\n",
       "      <th>comp.os.ms-windows.misc</th>\n",
       "      <td>0</td>\n",
       "      <td>97</td>\n",
       "      <td>1</td>\n",
       "      <td>161</td>\n",
       "      <td>38</td>\n",
       "      <td>53</td>\n",
       "      <td>4</td>\n",
       "      <td>5</td>\n",
       "      <td>5</td>\n",
       "      <td>3</td>\n",
       "      <td>1</td>\n",
       "      <td>3</td>\n",
       "      <td>4</td>\n",
       "      <td>0</td>\n",
       "      <td>7</td>\n",
       "      <td>0</td>\n",
       "      <td>0</td>\n",
       "      <td>0</td>\n",
       "      <td>6</td>\n",
       "      <td>6</td>\n",
       "    </tr>\n",
       "    <tr>\n",
       "      <th>comp.sys.ibm.pc.hardware</th>\n",
       "      <td>0</td>\n",
       "      <td>8</td>\n",
       "      <td>1</td>\n",
       "      <td>303</td>\n",
       "      <td>34</td>\n",
       "      <td>3</td>\n",
       "      <td>12</td>\n",
       "      <td>4</td>\n",
       "      <td>1</td>\n",
       "      <td>1</td>\n",
       "      <td>0</td>\n",
       "      <td>1</td>\n",
       "      <td>20</td>\n",
       "      <td>0</td>\n",
       "      <td>4</td>\n",
       "      <td>0</td>\n",
       "      <td>0</td>\n",
       "      <td>0</td>\n",
       "      <td>0</td>\n",
       "      <td>0</td>\n",
       "    </tr>\n",
       "    <tr>\n",
       "      <th>comp.sys.mac.hardware</th>\n",
       "      <td>0</td>\n",
       "      <td>8</td>\n",
       "      <td>1</td>\n",
       "      <td>17</td>\n",
       "      <td>328</td>\n",
       "      <td>0</td>\n",
       "      <td>7</td>\n",
       "      <td>1</td>\n",
       "      <td>2</td>\n",
       "      <td>3</td>\n",
       "      <td>0</td>\n",
       "      <td>2</td>\n",
       "      <td>12</td>\n",
       "      <td>2</td>\n",
       "      <td>2</td>\n",
       "      <td>0</td>\n",
       "      <td>0</td>\n",
       "      <td>0</td>\n",
       "      <td>0</td>\n",
       "      <td>0</td>\n",
       "    </tr>\n",
       "    <tr>\n",
       "      <th>comp.windows.x</th>\n",
       "      <td>1</td>\n",
       "      <td>64</td>\n",
       "      <td>2</td>\n",
       "      <td>15</td>\n",
       "      <td>2</td>\n",
       "      <td>297</td>\n",
       "      <td>3</td>\n",
       "      <td>0</td>\n",
       "      <td>1</td>\n",
       "      <td>1</td>\n",
       "      <td>0</td>\n",
       "      <td>0</td>\n",
       "      <td>1</td>\n",
       "      <td>3</td>\n",
       "      <td>4</td>\n",
       "      <td>0</td>\n",
       "      <td>1</td>\n",
       "      <td>0</td>\n",
       "      <td>0</td>\n",
       "      <td>0</td>\n",
       "    </tr>\n",
       "    <tr>\n",
       "      <th>misc.forsale</th>\n",
       "      <td>0</td>\n",
       "      <td>2</td>\n",
       "      <td>0</td>\n",
       "      <td>23</td>\n",
       "      <td>13</td>\n",
       "      <td>0</td>\n",
       "      <td>324</td>\n",
       "      <td>11</td>\n",
       "      <td>2</td>\n",
       "      <td>0</td>\n",
       "      <td>2</td>\n",
       "      <td>0</td>\n",
       "      <td>8</td>\n",
       "      <td>3</td>\n",
       "      <td>1</td>\n",
       "      <td>0</td>\n",
       "      <td>0</td>\n",
       "      <td>0</td>\n",
       "      <td>1</td>\n",
       "      <td>0</td>\n",
       "    </tr>\n",
       "    <tr>\n",
       "      <th>rec.autos</th>\n",
       "      <td>1</td>\n",
       "      <td>1</td>\n",
       "      <td>0</td>\n",
       "      <td>3</td>\n",
       "      <td>1</td>\n",
       "      <td>0</td>\n",
       "      <td>8</td>\n",
       "      <td>359</td>\n",
       "      <td>6</td>\n",
       "      <td>1</td>\n",
       "      <td>2</td>\n",
       "      <td>0</td>\n",
       "      <td>9</td>\n",
       "      <td>0</td>\n",
       "      <td>2</td>\n",
       "      <td>0</td>\n",
       "      <td>1</td>\n",
       "      <td>0</td>\n",
       "      <td>2</td>\n",
       "      <td>0</td>\n",
       "    </tr>\n",
       "    <tr>\n",
       "      <th>rec.motorcycles</th>\n",
       "      <td>0</td>\n",
       "      <td>0</td>\n",
       "      <td>0</td>\n",
       "      <td>1</td>\n",
       "      <td>0</td>\n",
       "      <td>0</td>\n",
       "      <td>4</td>\n",
       "      <td>11</td>\n",
       "      <td>375</td>\n",
       "      <td>1</td>\n",
       "      <td>0</td>\n",
       "      <td>0</td>\n",
       "      <td>4</td>\n",
       "      <td>0</td>\n",
       "      <td>0</td>\n",
       "      <td>0</td>\n",
       "      <td>1</td>\n",
       "      <td>0</td>\n",
       "      <td>1</td>\n",
       "      <td>0</td>\n",
       "    </tr>\n",
       "    <tr>\n",
       "      <th>rec.sport.baseball</th>\n",
       "      <td>2</td>\n",
       "      <td>0</td>\n",
       "      <td>0</td>\n",
       "      <td>0</td>\n",
       "      <td>1</td>\n",
       "      <td>0</td>\n",
       "      <td>7</td>\n",
       "      <td>5</td>\n",
       "      <td>0</td>\n",
       "      <td>365</td>\n",
       "      <td>12</td>\n",
       "      <td>0</td>\n",
       "      <td>1</td>\n",
       "      <td>0</td>\n",
       "      <td>2</td>\n",
       "      <td>0</td>\n",
       "      <td>1</td>\n",
       "      <td>1</td>\n",
       "      <td>0</td>\n",
       "      <td>0</td>\n",
       "    </tr>\n",
       "    <tr>\n",
       "      <th>rec.sport.hockey</th>\n",
       "      <td>1</td>\n",
       "      <td>0</td>\n",
       "      <td>0</td>\n",
       "      <td>0</td>\n",
       "      <td>0</td>\n",
       "      <td>0</td>\n",
       "      <td>2</td>\n",
       "      <td>0</td>\n",
       "      <td>0</td>\n",
       "      <td>5</td>\n",
       "      <td>385</td>\n",
       "      <td>1</td>\n",
       "      <td>1</td>\n",
       "      <td>1</td>\n",
       "      <td>1</td>\n",
       "      <td>1</td>\n",
       "      <td>0</td>\n",
       "      <td>0</td>\n",
       "      <td>1</td>\n",
       "      <td>0</td>\n",
       "    </tr>\n",
       "    <tr>\n",
       "      <th>sci.crypt</th>\n",
       "      <td>1</td>\n",
       "      <td>7</td>\n",
       "      <td>0</td>\n",
       "      <td>3</td>\n",
       "      <td>4</td>\n",
       "      <td>2</td>\n",
       "      <td>5</td>\n",
       "      <td>2</td>\n",
       "      <td>1</td>\n",
       "      <td>0</td>\n",
       "      <td>0</td>\n",
       "      <td>358</td>\n",
       "      <td>5</td>\n",
       "      <td>2</td>\n",
       "      <td>1</td>\n",
       "      <td>0</td>\n",
       "      <td>2</td>\n",
       "      <td>0</td>\n",
       "      <td>3</td>\n",
       "      <td>0</td>\n",
       "    </tr>\n",
       "    <tr>\n",
       "      <th>sci.electronics</th>\n",
       "      <td>0</td>\n",
       "      <td>25</td>\n",
       "      <td>0</td>\n",
       "      <td>37</td>\n",
       "      <td>6</td>\n",
       "      <td>0</td>\n",
       "      <td>11</td>\n",
       "      <td>7</td>\n",
       "      <td>3</td>\n",
       "      <td>0</td>\n",
       "      <td>0</td>\n",
       "      <td>10</td>\n",
       "      <td>285</td>\n",
       "      <td>4</td>\n",
       "      <td>2</td>\n",
       "      <td>0</td>\n",
       "      <td>1</td>\n",
       "      <td>0</td>\n",
       "      <td>1</td>\n",
       "      <td>1</td>\n",
       "    </tr>\n",
       "    <tr>\n",
       "      <th>sci.med</th>\n",
       "      <td>8</td>\n",
       "      <td>7</td>\n",
       "      <td>0</td>\n",
       "      <td>2</td>\n",
       "      <td>1</td>\n",
       "      <td>1</td>\n",
       "      <td>4</td>\n",
       "      <td>8</td>\n",
       "      <td>6</td>\n",
       "      <td>1</td>\n",
       "      <td>1</td>\n",
       "      <td>0</td>\n",
       "      <td>12</td>\n",
       "      <td>327</td>\n",
       "      <td>2</td>\n",
       "      <td>5</td>\n",
       "      <td>0</td>\n",
       "      <td>3</td>\n",
       "      <td>5</td>\n",
       "      <td>3</td>\n",
       "    </tr>\n",
       "    <tr>\n",
       "      <th>sci.space</th>\n",
       "      <td>2</td>\n",
       "      <td>9</td>\n",
       "      <td>0</td>\n",
       "      <td>0</td>\n",
       "      <td>2</td>\n",
       "      <td>2</td>\n",
       "      <td>1</td>\n",
       "      <td>2</td>\n",
       "      <td>1</td>\n",
       "      <td>0</td>\n",
       "      <td>0</td>\n",
       "      <td>1</td>\n",
       "      <td>4</td>\n",
       "      <td>3</td>\n",
       "      <td>356</td>\n",
       "      <td>0</td>\n",
       "      <td>1</td>\n",
       "      <td>0</td>\n",
       "      <td>9</td>\n",
       "      <td>1</td>\n",
       "    </tr>\n",
       "    <tr>\n",
       "      <th>soc.religion.christian</th>\n",
       "      <td>6</td>\n",
       "      <td>3</td>\n",
       "      <td>0</td>\n",
       "      <td>2</td>\n",
       "      <td>0</td>\n",
       "      <td>0</td>\n",
       "      <td>2</td>\n",
       "      <td>0</td>\n",
       "      <td>1</td>\n",
       "      <td>0</td>\n",
       "      <td>0</td>\n",
       "      <td>0</td>\n",
       "      <td>1</td>\n",
       "      <td>1</td>\n",
       "      <td>2</td>\n",
       "      <td>369</td>\n",
       "      <td>0</td>\n",
       "      <td>0</td>\n",
       "      <td>0</td>\n",
       "      <td>11</td>\n",
       "    </tr>\n",
       "    <tr>\n",
       "      <th>talk.politics.guns</th>\n",
       "      <td>0</td>\n",
       "      <td>1</td>\n",
       "      <td>0</td>\n",
       "      <td>2</td>\n",
       "      <td>0</td>\n",
       "      <td>0</td>\n",
       "      <td>2</td>\n",
       "      <td>3</td>\n",
       "      <td>3</td>\n",
       "      <td>1</td>\n",
       "      <td>0</td>\n",
       "      <td>4</td>\n",
       "      <td>1</td>\n",
       "      <td>1</td>\n",
       "      <td>0</td>\n",
       "      <td>0</td>\n",
       "      <td>330</td>\n",
       "      <td>1</td>\n",
       "      <td>8</td>\n",
       "      <td>7</td>\n",
       "    </tr>\n",
       "    <tr>\n",
       "      <th>talk.politics.mideast</th>\n",
       "      <td>11</td>\n",
       "      <td>1</td>\n",
       "      <td>0</td>\n",
       "      <td>0</td>\n",
       "      <td>0</td>\n",
       "      <td>3</td>\n",
       "      <td>1</td>\n",
       "      <td>0</td>\n",
       "      <td>1</td>\n",
       "      <td>1</td>\n",
       "      <td>1</td>\n",
       "      <td>3</td>\n",
       "      <td>1</td>\n",
       "      <td>1</td>\n",
       "      <td>0</td>\n",
       "      <td>2</td>\n",
       "      <td>3</td>\n",
       "      <td>324</td>\n",
       "      <td>21</td>\n",
       "      <td>2</td>\n",
       "    </tr>\n",
       "    <tr>\n",
       "      <th>talk.politics.misc</th>\n",
       "      <td>3</td>\n",
       "      <td>1</td>\n",
       "      <td>0</td>\n",
       "      <td>0</td>\n",
       "      <td>1</td>\n",
       "      <td>0</td>\n",
       "      <td>2</td>\n",
       "      <td>7</td>\n",
       "      <td>1</td>\n",
       "      <td>1</td>\n",
       "      <td>0</td>\n",
       "      <td>3</td>\n",
       "      <td>0</td>\n",
       "      <td>3</td>\n",
       "      <td>9</td>\n",
       "      <td>0</td>\n",
       "      <td>82</td>\n",
       "      <td>1</td>\n",
       "      <td>188</td>\n",
       "      <td>8</td>\n",
       "    </tr>\n",
       "    <tr>\n",
       "      <th>talk.religion.misc</th>\n",
       "      <td>42</td>\n",
       "      <td>3</td>\n",
       "      <td>0</td>\n",
       "      <td>0</td>\n",
       "      <td>0</td>\n",
       "      <td>0</td>\n",
       "      <td>1</td>\n",
       "      <td>1</td>\n",
       "      <td>0</td>\n",
       "      <td>0</td>\n",
       "      <td>0</td>\n",
       "      <td>0</td>\n",
       "      <td>0</td>\n",
       "      <td>3</td>\n",
       "      <td>4</td>\n",
       "      <td>25</td>\n",
       "      <td>15</td>\n",
       "      <td>2</td>\n",
       "      <td>8</td>\n",
       "      <td>147</td>\n",
       "    </tr>\n",
       "  </tbody>\n",
       "</table>\n",
       "</div>"
      ],
      "text/plain": [
       "                          alt.atheism  comp.graphics  comp.os.ms-windows.misc  \\\n",
       "alt.atheism                       262              0                        0   \n",
       "comp.graphics                       1            320                        0   \n",
       "comp.os.ms-windows.misc             0             97                        1   \n",
       "comp.sys.ibm.pc.hardware            0              8                        1   \n",
       "comp.sys.mac.hardware               0              8                        1   \n",
       "comp.windows.x                      1             64                        2   \n",
       "misc.forsale                        0              2                        0   \n",
       "rec.autos                           1              1                        0   \n",
       "rec.motorcycles                     0              0                        0   \n",
       "rec.sport.baseball                  2              0                        0   \n",
       "rec.sport.hockey                    1              0                        0   \n",
       "sci.crypt                           1              7                        0   \n",
       "sci.electronics                     0             25                        0   \n",
       "sci.med                             8              7                        0   \n",
       "sci.space                           2              9                        0   \n",
       "soc.religion.christian              6              3                        0   \n",
       "talk.politics.guns                  0              1                        0   \n",
       "talk.politics.mideast              11              1                        0   \n",
       "talk.politics.misc                  3              1                        0   \n",
       "talk.religion.misc                 42              3                        0   \n",
       "\n",
       "                          comp.sys.ibm.pc.hardware  comp.sys.mac.hardware  \\\n",
       "alt.atheism                                      1                      0   \n",
       "comp.graphics                                   14                      9   \n",
       "comp.os.ms-windows.misc                        161                     38   \n",
       "comp.sys.ibm.pc.hardware                       303                     34   \n",
       "comp.sys.mac.hardware                           17                    328   \n",
       "comp.windows.x                                  15                      2   \n",
       "misc.forsale                                    23                     13   \n",
       "rec.autos                                        3                      1   \n",
       "rec.motorcycles                                  1                      0   \n",
       "rec.sport.baseball                               0                      1   \n",
       "rec.sport.hockey                                 0                      0   \n",
       "sci.crypt                                        3                      4   \n",
       "sci.electronics                                 37                      6   \n",
       "sci.med                                          2                      1   \n",
       "sci.space                                        0                      2   \n",
       "soc.religion.christian                           2                      0   \n",
       "talk.politics.guns                               2                      0   \n",
       "talk.politics.mideast                            0                      0   \n",
       "talk.politics.misc                               0                      1   \n",
       "talk.religion.misc                               0                      0   \n",
       "\n",
       "                          comp.windows.x  misc.forsale  rec.autos  \\\n",
       "alt.atheism                            1             1          1   \n",
       "comp.graphics                         12             4          0   \n",
       "comp.os.ms-windows.misc               53             4          5   \n",
       "comp.sys.ibm.pc.hardware               3            12          4   \n",
       "comp.sys.mac.hardware                  0             7          1   \n",
       "comp.windows.x                       297             3          0   \n",
       "misc.forsale                           0           324         11   \n",
       "rec.autos                              0             8        359   \n",
       "rec.motorcycles                        0             4         11   \n",
       "rec.sport.baseball                     0             7          5   \n",
       "rec.sport.hockey                       0             2          0   \n",
       "sci.crypt                              2             5          2   \n",
       "sci.electronics                        0            11          7   \n",
       "sci.med                                1             4          8   \n",
       "sci.space                              2             1          2   \n",
       "soc.religion.christian                 0             2          0   \n",
       "talk.politics.guns                     0             2          3   \n",
       "talk.politics.mideast                  3             1          0   \n",
       "talk.politics.misc                     0             2          7   \n",
       "talk.religion.misc                     0             1          1   \n",
       "\n",
       "                          rec.motorcycles  rec.sport.baseball  \\\n",
       "alt.atheism                             2                   1   \n",
       "comp.graphics                           0                   3   \n",
       "comp.os.ms-windows.misc                 5                   3   \n",
       "comp.sys.ibm.pc.hardware                1                   1   \n",
       "comp.sys.mac.hardware                   2                   3   \n",
       "comp.windows.x                          1                   1   \n",
       "misc.forsale                            2                   0   \n",
       "rec.autos                               6                   1   \n",
       "rec.motorcycles                       375                   1   \n",
       "rec.sport.baseball                      0                 365   \n",
       "rec.sport.hockey                        0                   5   \n",
       "sci.crypt                               1                   0   \n",
       "sci.electronics                         3                   0   \n",
       "sci.med                                 6                   1   \n",
       "sci.space                               1                   0   \n",
       "soc.religion.christian                  1                   0   \n",
       "talk.politics.guns                      3                   1   \n",
       "talk.politics.mideast                   1                   1   \n",
       "talk.politics.misc                      1                   1   \n",
       "talk.religion.misc                      0                   0   \n",
       "\n",
       "                          rec.sport.hockey  sci.crypt  sci.electronics  \\\n",
       "alt.atheism                              2          1                1   \n",
       "comp.graphics                            0          7                8   \n",
       "comp.os.ms-windows.misc                  1          3                4   \n",
       "comp.sys.ibm.pc.hardware                 0          1               20   \n",
       "comp.sys.mac.hardware                    0          2               12   \n",
       "comp.windows.x                           0          0                1   \n",
       "misc.forsale                             2          0                8   \n",
       "rec.autos                                2          0                9   \n",
       "rec.motorcycles                          0          0                4   \n",
       "rec.sport.baseball                      12          0                1   \n",
       "rec.sport.hockey                       385          1                1   \n",
       "sci.crypt                                0        358                5   \n",
       "sci.electronics                          0         10              285   \n",
       "sci.med                                  1          0               12   \n",
       "sci.space                                0          1                4   \n",
       "soc.religion.christian                   0          0                1   \n",
       "talk.politics.guns                       0          4                1   \n",
       "talk.politics.mideast                    1          3                1   \n",
       "talk.politics.misc                       0          3                0   \n",
       "talk.religion.misc                       0          0                0   \n",
       "\n",
       "                          sci.med  sci.space  soc.religion.christian  \\\n",
       "alt.atheism                     5          1                      13   \n",
       "comp.graphics                   1          7                       0   \n",
       "comp.os.ms-windows.misc         0          7                       0   \n",
       "comp.sys.ibm.pc.hardware        0          4                       0   \n",
       "comp.sys.mac.hardware           2          2                       0   \n",
       "comp.windows.x                  3          4                       0   \n",
       "misc.forsale                    3          1                       0   \n",
       "rec.autos                       0          2                       0   \n",
       "rec.motorcycles                 0          0                       0   \n",
       "rec.sport.baseball              0          2                       0   \n",
       "rec.sport.hockey                1          1                       1   \n",
       "sci.crypt                       2          1                       0   \n",
       "sci.electronics                 4          2                       0   \n",
       "sci.med                       327          2                       5   \n",
       "sci.space                       3        356                       0   \n",
       "soc.religion.christian          1          2                     369   \n",
       "talk.politics.guns              1          0                       0   \n",
       "talk.politics.mideast           1          0                       2   \n",
       "talk.politics.misc              3          9                       0   \n",
       "talk.religion.misc              3          4                      25   \n",
       "\n",
       "                          talk.politics.guns  talk.politics.mideast  \\\n",
       "alt.atheism                                2                      3   \n",
       "comp.graphics                              0                      1   \n",
       "comp.os.ms-windows.misc                    0                      0   \n",
       "comp.sys.ibm.pc.hardware                   0                      0   \n",
       "comp.sys.mac.hardware                      0                      0   \n",
       "comp.windows.x                             1                      0   \n",
       "misc.forsale                               0                      0   \n",
       "rec.autos                                  1                      0   \n",
       "rec.motorcycles                            1                      0   \n",
       "rec.sport.baseball                         1                      1   \n",
       "rec.sport.hockey                           0                      0   \n",
       "sci.crypt                                  2                      0   \n",
       "sci.electronics                            1                      0   \n",
       "sci.med                                    0                      3   \n",
       "sci.space                                  1                      0   \n",
       "soc.religion.christian                     0                      0   \n",
       "talk.politics.guns                       330                      1   \n",
       "talk.politics.mideast                      3                    324   \n",
       "talk.politics.misc                        82                      1   \n",
       "talk.religion.misc                        15                      2   \n",
       "\n",
       "                          talk.politics.misc  talk.religion.misc  \n",
       "alt.atheism                                1                  21  \n",
       "comp.graphics                              1                   1  \n",
       "comp.os.ms-windows.misc                    6                   6  \n",
       "comp.sys.ibm.pc.hardware                   0                   0  \n",
       "comp.sys.mac.hardware                      0                   0  \n",
       "comp.windows.x                             0                   0  \n",
       "misc.forsale                               1                   0  \n",
       "rec.autos                                  2                   0  \n",
       "rec.motorcycles                            1                   0  \n",
       "rec.sport.baseball                         0                   0  \n",
       "rec.sport.hockey                           1                   0  \n",
       "sci.crypt                                  3                   0  \n",
       "sci.electronics                            1                   1  \n",
       "sci.med                                    5                   3  \n",
       "sci.space                                  9                   1  \n",
       "soc.religion.christian                     0                  11  \n",
       "talk.politics.guns                         8                   7  \n",
       "talk.politics.mideast                     21                   2  \n",
       "talk.politics.misc                       188                   8  \n",
       "talk.religion.misc                         8                 147  "
      ]
     },
     "execution_count": 146,
     "metadata": {},
     "output_type": "execute_result"
    }
   ],
   "source": [
    "nb_conf_matrix"
   ]
  },
  {
   "cell_type": "code",
   "execution_count": 148,
   "metadata": {},
   "outputs": [
    {
     "name": "stdout",
     "output_type": "stream",
     "text": [
      "(20, 20000)\n"
     ]
    }
   ],
   "source": [
    "print(clf.coef_.shape)"
   ]
  },
  {
   "cell_type": "markdown",
   "metadata": {},
   "source": [
    "Оцененные вероятности можно отобразить, они пропорциональны количеству употреблений слов"
   ]
  },
  {
   "cell_type": "code",
   "execution_count": 153,
   "metadata": {},
   "outputs": [],
   "source": [
    "probs = clf.coef_"
   ]
  },
  {
   "cell_type": "code",
   "execution_count": 154,
   "metadata": {},
   "outputs": [
    {
     "name": "stdout",
     "output_type": "stream",
     "text": [
      "[[-10.06429815  -7.89524445 -11.45059251 ... -11.45059251 -11.45059251\n",
      "  -11.45059251]\n",
      " [ -7.86431014  -8.52928644 -11.4196582  ...  -9.02176292 -10.32104591\n",
      "  -11.4196582 ]\n",
      " [ -8.72843562  -9.85690087 -12.25479614 ... -12.25479614 -12.25479614\n",
      "   -9.25906387]\n",
      " ...\n",
      " [ -8.37239181  -6.56603354 -11.89875233 ... -11.89875233 -11.89875233\n",
      "  -11.89875233]\n",
      " [ -8.29547965  -7.4000956  -11.66277548 ... -11.66277548 -11.66277548\n",
      "  -11.66277548]\n",
      " [ -9.67236223  -8.39142839 -10.58865296 ... -11.28180014 -11.28180014\n",
      "  -11.28180014]]\n"
     ]
    }
   ],
   "source": [
    "print(probs)"
   ]
  },
  {
   "cell_type": "code",
   "execution_count": 155,
   "metadata": {},
   "outputs": [
    {
     "data": {
      "text/plain": [
       "list"
      ]
     },
     "execution_count": 155,
     "metadata": {},
     "output_type": "execute_result"
    }
   ],
   "source": [
    "type(ng_train.target_names)"
   ]
  },
  {
   "cell_type": "code",
   "execution_count": 158,
   "metadata": {},
   "outputs": [
    {
     "name": "stdout",
     "output_type": "stream",
     "text": [
      "alt.atheism\n",
      "['god', 'people', 'com', 'don', 'article', 'think', 'keith', 'does', 'say', 'atheists', 'atheism', 'posting', 'just', 'like', 'know', 'believe', 'nntp', 'host', 'religion', 'said', 'time', 'caltech', 'jesus', 'islam', 'evidence', 'way', 'morality', 'things', 'university', 'good', 'argument', 'moral', 'sgi', 'make', 'livesey', 'bible', 'world', 'true', 'uk', 'islamic', 'right', 'christian', 'religious', 'example', 'point', 'exist', 'atheist', 'did', 'life', 'objective', 'read', 'question', 'thing', 'jon', 'wrong', 'fact', 'really', 'mean', 'cs', 'solntze', 'claim', 'wpd', 'case', 'course', 'law', 'belief', 'doesn', 'book', 'little', 've', 'person', 'isn', 'human', 'au', 'existence', 'schneider', 'different', 'faith', 'saying', 'mathew', 'sure', 'jaeger', 'cco', 'cc', 'better', 'science', 'rushdie', 'possible', 'alt', 'long', 'muslim', 'want', 'try', 'come', 'wrote', 'actually', 'free', 'political', 'used', 'reason']\n",
      "comp.graphics\n",
      "['graphics', 'image', 'com', 'university', 'posting', 'file', 'host', 'jpeg', 'nntp', 'files', 'use', 'software', 'images', 'article', 'data', 'program', 'know', 'like', 'version', 'color', 'ftp', 'computer', 'don', '3d', 'does', 'mail', 'format', 'available', 'need', 'ca', 'thanks', 'just', 'bit', 'gif', 'help', 'package', 'pub', 'information', 'using', 'code', 'line', 'time', '24', 'windows', 'good', 'cs', 'uk', 'display', 'points', 'ac', '___', 've', 'think', 'video', 'reply', 'new', 'looking', 'mac', 'info', 'systems', 'email', 'free', 'distribution', 'used', 'want', 'world', 'point', 'ibm', 'send', 'comp', 'polygon', 'sgi', 'tiff', 'number', 'keywords', 'gov', 'work', 'fax', 'problem', 'screen', 'read', 'library', 'pc', 'programs', 'ray', 'unix', 'support', 'center', 'au', 'research', '16', 'processing', 'directory', 'way', 'source', 'll', 'group', 'hi', 'dos', 'mode']\n",
      "comp.os.ms-windows.misc\n",
      "['ax', 'max', 'g9v', 'b8f', 'windows', 'a86', '145', 'pl', '1d9', '0d', '34u', '0t', '75u', '1t', '3t', '2di', 'bhj', 'com', 'giz', 'cx', 'file', 'wm', '2tm', 'university', 'use', '6ei', '34', 'dos', '6um', '_o', '7ey', 'files', 'article', 'w7', 'chz', 'bxn', 'host', 'ah', 'posting', 'ms', 'like', 'sl', 'nntp', 'using', '9v', '7u', 'know', 'd9', '14', 'card', 'lk', '45', 'problem', 'ca', 'gk', 'mq', 'c_', 'don', 'driver', 'bj', 'does', 'just', 'mv', 'qq', '5u', 'mouse', 'program', 'thanks', 't7', 'drivers', 'm3', 'uw', 'access', 'version', '17', 'mu', 'ql', 'ck', 'help', 'mr', 'wt', 'win', 'hz', 'mw', 'm_', 'rlk', 'mail', 'run', 'au', 'nt', 'mk', '04', '24', 'w1', 'tq', '4t', '25', 'a7', '3dy', 'pc']\n",
      "comp.sys.ibm.pc.hardware\n",
      "['scsi', 'drive', 'com', 'card', 'ide', 'controller', 'bus', 'disk', 'university', 'drives', 'use', 'posting', 'host', 'pc', 'nntp', 'does', 'just', 'hard', 'know', 'like', 'article', '16', 'ca', 'problem', 'thanks', 'dos', 'computer', 'help', 'don', 'bit', 'windows', 'bios', 'time', 'work', 'data', 'ibm', 'isa', 'using', 'os', 'floppy', 'need', 'memory', 'speed', 'tape', 'board', 'new', 'monitor', 'rom', 'port', 'distribution', 'software', 'motherboard', 've', 'drivers', 'good', '17', 'mb', 'vlb', 'reply', 'video', 'set', 'mail', 'used', '10', '486', 'interface', 'problems', 'ram', 'think', 'mode', 'gateway', 'cards', 'info', 'support', 'chip', 'sys', 'run', 'cs', 'local', '15', 'adaptec', 'version', 'eisa', 'program', 'access', 'want', 'machine', 'master', 'usa', 'hd', 'way', 'slave', 'systems', 'hardware', 'high', 'standard', 'jumper', '20', 'transfer', 'dma']\n",
      "comp.sys.mac.hardware\n",
      "['mac', 'apple', 'com', 'posting', 'university', 'nntp', 'host', 'drive', 'article', 'know', 'problem', 'does', 'use', 'like', 'just', 'scsi', 'don', 'new', 'bit', 'thanks', 'computer', 'quadra', 'monitor', 'se', 'memory', 'card', 'software', '16', 've', 'ram', 'distribution', 'video', 'speed', 'simms', 'work', 'ca', '32', 'need', 'hardware', 'centris', 'disk', 'think', 'problems', 'lc', 'want', 'duo', 'power', 'color', 'used', 'nubus', 'ibm', 'reply', 'hard', 'sound', 'time', 'fpu', '800', 'world', 'internal', 'price', 'data', 'modem', 'good', 'cd', 'help', 'vram', 'mail', 'way', 'info', 'board', 'cable', 'usa', 'machines', '14', 'chip', 'buy', 'make', 'got', 'using', 'clock', 'really', '93', 'screen', 'powerbook', '10', 'drives', 'cwru', 'cards', 'cpu', 'people', 'simm', 'macs', 'ac', 'rom', '13', 'upgrade', 'os', 'doesn', 'c650', 'sure']\n",
      "comp.windows.x\n",
      "['com', 'window', 'file', 'use', 'server', 'motif', 'program', 'mit', 'widget', 'host', 'entry', 'posting', 'available', 'using', 'output', 'like', 'sun', 'nntp', 'application', 'set', 'version', 'information', 'does', 'display', 'code', 'problem', 'windows', 'uk', 'x11r5', 'xterm', 'thanks', 'article', 'x11', 'source', 'know', 'cs', 'lib', 'time', 'info', 'running', 'work', 'new', 'manager', 'files', 'just', 'line', 'xt', 'software', 'need', 'reply', 'help', 'university', 'color', 'lcs', 'distribution', 'ftp', 'user', 'way', 'ac', 'xlib', 'number', 'don', 'used', 'mail', 'want', 'open', 'email', 'include', 'run', 'list', 'based', 'export', 'null', 'contrib', 'following', 'make', 'visual', 'screen', 'r5', 'build', 'return', 'tar', 'pub', 'unix', 'read', 'send', 'section', 'error', 'support', 'char', 'size', 'systems', 'printf', 'widgets', 'entries', 'internet', 'int', 'oname', 'hp', 've']\n",
      "misc.forsale\n",
      "['00', 'sale', 'new', 'com', 'university', 'posting', 'host', 'nntp', '10', 'distribution', '50', 'dos', 'offer', 'shipping', 'mail', '20', '25', '15', 'price', 'computer', 'good', 'usa', 'condition', 'like', 'used', 'interested', 'asking', 'state', 'drive', 'email', 'sell', 'software', '40', 'ca', '30', 'best', 'card', 'article', 'cover', 'cd', 'games', 'excellent', 'use', 'reply', 'make', 'hard', 'send', 'pc', 'forsale', 'original', 'list', 'don', 'cs', 'just', 'thanks', 'ohio', '16', 'game', 'old', 'power', 'includes', '12', 'case', '45', 'great', 'need', 'included', 'disk', '100', '14', 'printer', 'following', '1st', 'phone', 'trade', 'world', 'looking', 'windows', '11', 'car', 'know', 'disks', 'box', 'wanted', 'package', 'manual', 'cc', 'keywords', '75', 'appears', '35', 'brand', '80', 'contact', 'ii', 'access', 'book', 'monitor', 'art', 'modem']\n",
      "rec.autos\n",
      "['com', 'car', 'article', 'cars', 'just', 'like', 'don', 'posting', 'host', 'nntp', 'university', 'good', 'new', 'think', 'engine', 'distribution', 'know', 'time', 'people', 'usa', 'ca', 'really', 'oil', 'does', 'right', 'dealer', 'drive', 'speed', 'reply', 'make', 've', 'want', 'price', 'year', 'use', 'used', 'way', 'better', 'state', 'problem', 'driving', 'ford', 'road', 'did', 'buy', 'hp', 'got', 'going', 'read', 'years', 'work', 'say', 'thanks', 'thing', 'world', 'callison', 'need', 'little', 'saturn', '10', 'uiuc', 'left', 'autos', 'cc', 'power', 'high', 'sure', 'cs', 'looking', 'auto', 'lot', 'fast', 'best', 'miles', 'john', 'driver', 'rec', 'look', 'long', 'andrew', 'tires', 'insurance', 'ecn', 'said', 'question', 'point', 'll', 'radar', 'things', 'uoknor', 'change', 'honda', 'att', 'james', 'list', 'acs', 'toyota', 'news', 'old', '__']\n",
      "rec.motorcycles\n",
      "['com', 'bike', 'article', 'dod', 'like', 'posting', 'ca', 'host', 'nntp', 'just', 'don', 'know', 'ride', 'good', 'university', 'new', 'motorcycle', 've', 'sun', 'time', 'right', 'bikes', 'riding', 'bmw', 'distribution', 'uk', 'org', 'think', 'dog', 'll', 'helmet', 'make', 'got', 'rider', 'going', 'way', 'people', 'bnr', 'reply', 'really', 'thing', 'world', 'cs', 'ed', 'east', 'state', 'behanna', 'motorcycles', 'want', 'nec', 'road', 'mike', 'work', 'does', 'little', 'did', 'left', 'need', 'cc', 'usa', 'ac', 'say', '___', 'used', 'honda', 'insurance', 'hp', 'sure', 'ama', 'car', 'nj', '10', 'rec', 'advice', 'list', 'turn', 'use', 'gov', '30', 'didn', 'day', 'question', 'live', 'thanks', '11', 'better', 'look', 'post', 'harley', 'chris', 'buy', 'years', '18', 'said', 'long', 'computer', 'getting', 'far', 'says', 'mail']\n",
      "rec.sport.baseball\n",
      "['year', 'article', 'com', 'baseball', 'team', 'game', 'don', 'good', 'university', 'posting', 'think', 'host', 'nntp', 'like', 'just', 'cs', 'players', 'games', 'runs', 'better', 'know', 'time', 'season', '00', 'hit', 'win', 'league', 'braves', 'new', 'won', 'pitching', '10', 'cubs', 'did', 'does', 'best', 'really', 'years', 'play', 'distribution', 'ca', 'david', 'home', 'way', '02', 'day', 'run', 'll', 'got', 'phillies', 'make', 'alomar', 'player', 'dave', 'say', '03', 'fan', 'second', 'right', 'didn', 'average', 'ball', 'morris', 'sox', 'hitter', 've', '12', 'lot', '01', 'news', 'teams', 'john', 'lost', 'let', 'smith', 'reply', 'jewish', 'roger', 'netcom', 'people', 'mets', 'believe', 'come', 'world', 'going', 'mike', '04', 'big', '1993', '15', 'doesn', 'series', 'said', '20', 'look', 'usa', 'fans', 'steve', 'maybe', 'young']\n",
      "rec.sport.hockey\n",
      "['team', 'ca', 'hockey', 'game', 'play', '10', 'nhl', 'university', 'season', '25', 'article', 'year', 'games', '55', '11', 'players', '12', '16', 'think', 'new', '15', 'don', '18', 'posting', '14', 'vs', 'like', 'win', 'com', '20', 'host', 'nntp', 'just', 'period', '17', 'time', 'league', '13', 'teams', 'good', '30', '24', 'la', 'toronto', '19', 'pittsburgh', 'cup', 'pts', 'player', 'leafs', '26', 'gm', 'division', '21', '23', 'goal', '22', '27', 'did', 'flyers', 'know', 'detroit', 'cs', 'wings', '28', 'canada', 'power', 'best', 'rangers', 'playoffs', 'points', '38', 'andrew', 'playoff', 'montreal', '31', '34', 'ice', '29', '37', '36', '33', 'people', 'way', 'st', 'better', 'played', '93', 'great', 'second', 'buffalo', '35', 'boston', 'got', 'puck', 'let', 'roger', 'right', 'april', '32']\n",
      "sci.crypt\n",
      "['key', 'com', 'encryption', 'clipper', 'chip', 'government', 'db', 'use', 'people', 'keys', 'security', 'privacy', 'public', 'information', 'just', 'posting', 'article', 'like', 'escrow', 'law', 'don', 'new', 'data', 'des', 'good', 'used', 'know', 'algorithm', 'secure', 'right', 'nsa', 'bit', 'cs', 'technology', 'anonymous', 'mail', 'host', 'computer', 'crypto', 'access', 'nntp', 'time', 'available', 'distribution', 'number', 'phone', 'message', 'does', 'think', 'internet', 'secret', 'pgp', 'university', 'enforcement', 'make', 'need', 'netcom', 'cryptography', 'code', 'using', 'systems', 'encrypted', 'communications', 'eff', 'org', 'way', 'clinton', 'private', 'ripem', 'rsa', 'administration', 'bits', 'wiretap', 'say', 'file', 'state', 'want', 'ftp', 'gov', 'agencies', 'protect', 'strong', 'work', 'reply', 'standard', 'crypt', 'order', 'news', 'pub', 'version', 'general', 'faq', 'ca', 'read', 'sure', 'email', 'voice', 'uk', 'mov', 'house']\n",
      "sci.electronics\n",
      "['com', 'use', 'host', 'article', 'posting', 'like', 'university', 'nntp', 'don', 'power', 'know', 'does', 'ground', 'good', 'ca', 'need', 'just', 'used', 'wire', 'circuit', 'work', 'want', 'current', 'wiring', 've', 'help', 'time', 'distribution', 'line', 'hp', 'thanks', 'phone', '10', 'ac', 'using', 'radio', 'high', 'way', 'voltage', 'computer', 'new', 'chip', 'make', 'question', 'amp', 'audio', 'number', 'reply', 'john', 'low', 'output', 'neutral', 'mail', 'electronics', 'radar', 'data', 'au', 'really', 'run', 'box', 'old', 'problem', 'tv', 'water', 'uk', 'electrical', 'input', 'world', 'think', 'information', 'usa', 'looking', 'hot', 'circuits', 'cable', 'detector', 'll', 'people', 'little', 'got', 'long', 'cooling', 'actually', 'thing', 'probably', 'look', 'sure', 'connected', 'gov', 'outlets', 'copy', 'device', 'supply', 'outlet', 'usually', '50', 'state', 'company', 'david', '15']\n",
      "sci.med\n",
      "['com', 'article', 'cs', 'pitt', 'people', 'don', 'msg', 'university', 'science', 'like', 'know', 'gordon', 'use', 'banks', 'medical', 'health', 'geb', 'just', 'time', 'food', 'new', 'posting', 'think', 'disease', 'host', 'nntp', 'reply', 'good', 'does', 'patients', 'information', 'research', 'doctor', 'years', 'ca', '10', 've', 'computer', 'help', 'cancer', 'dyer', 'world', 'work', 'pain', 'medicine', 'treatment', '1993', 'david', 'problem', 'day', 'water', 'used', '20', 'cause', 'long', 'way', 'pittsburgh', 'case', 'steve', 'make', 'distribution', 'number', 'candida', 'diet', 'really', 'problems', 'blood', 'study', 'scientific', 'center', 'want', 'said', 'sure', 'read', 'evidence', 'right', 'question', 'berkeley', 'body', 'lot', 'keyboard', 'believe', 'hiv', 'studies', 'available', 'effects', 'probably', 'dr', 'did', 'yeast', 'univ', 'mail', 'symptoms', 'having', 'aids', 'things', 'soon', 'say', 'foods', 'need']\n",
      "sci.space\n",
      "['space', 'nasa', 'com', 'article', 'gov', 'just', 'like', 'launch', 'posting', 'moon', 'orbit', 'earth', 'nntp', 'host', 'university', 'access', 'data', 'don', 'time', 'shuttle', 'henry', 'lunar', 'new', 'year', 'satellite', 'think', 'people', 'research', 'cs', 'toronto', 'know', 'program', 'jpl', 'ca', 'alaska', 'world', 'sci', 'digex', 'mission', 'science', 'work', 'flight', 'use', '10', 'spacecraft', 'news', 'years', 'high', 'pat', 'net', '1993', 'long', 'software', 'distribution', 'center', 'station', 'cost', 'information', 'make', 'dc', 'solar', 'way', 'does', '15', 'mars', 'project', 'available', 'power', 'technology', '20', 'said', 'baalke', 'commercial', 'large', 'rocket', 'national', 'good', 'better', 'zoo', 'billion', 'things', '000', 'ti', 'systems', 'org', 'need', '14', 'propulsion', 'development', 'satellites', 'used', 'small', 'aurora', 'vehicle', '___', 'using', '30', '93', 'orbital', 'april']\n",
      "soc.religion.christian\n",
      "['god', 'people', 'jesus', 'think', 'know', 'church', 'believe', 'christians', 'does', 'don', 'christian', 'christ', 'just', 'like', 'bible', 'say', 'faith', 'time', 'com', 'university', 'article', 'question', 'truth', 'did', 'good', 'rutgers', 'life', 'way', 'hell', '1993', 'true', 'things', 'new', 'christianity', 'apr', 'world', 'law', 'man', 'reason', 'paul', 'come', 'said', 'sin', 'make', 'day', 'really', 'point', 'athos', 'love', 'lord', 'fact', 'mean', 'right', 'scripture', 'father', 'catholic', 'word', 'religion', 've', 'want', 'says', 'use', 'heaven', 'human', 'read', 'son', 'john', 'problem', 'need', 'spirit', 'wrong', 'different', 'answer', 'work', 'belief', 'holy', 'eternal', 'person', 'body', 'evidence', 'book', 'years', 'claim', 'resurrection', 'death', 'authority', 'exist', 'thing', 'words', 'clh', 'existence', 'ask', 'group', 'course', 'tell', 'going', 'quite', 'far', 'doesn', 'mary']\n",
      "talk.politics.guns\n",
      "['gun', 'com', 'people', 'article', 'guns', 'don', 'like', 'think', 'just', 'firearms', 'right', 'posting', 'weapons', 'file', 'control', 'law', 'government', 'host', 'nntp', 'time', 'state', 'use', 'university', 'fbi', 'know', 'believe', 'make', 'good', 'crime', 'batf', 'militia', 'distribution', 'police', 'stratus', 'did', 'say', 'way', 'public', 'used', 'usa', 'rights', 'weapon', '000', 'amendment', 'said', 'self', 'cs', 'news', 'arms', 'american', 'day', 'waco', 'does', 'point', 'handgun', 'david', 'atf', 'things', 'firearm', 'year', 'states', 'federal', 'national', 've', 'defense', 'second', 'safety', 'new', 'laws', 'children', 'thing', 'really', 'killed', 'want', 'criminals', 'country', 'jim', 'going', 'compound', 'carry', 'today', 'world', 'mr', 'clinton', 'far', 'cdt', 'colorado', 'case', 'better', 'semi', 'house', 'number', 'problem', 'little', 'sw', 'didn', 'texas', 'rkba', 'let', 'handguns']\n",
      "talk.politics.mideast\n",
      "['people', 'israel', 'turkish', 'armenian', 'israeli', 'armenians', 'jews', 'said', 'article', 'know', 'don', 'like', 'just', 'com', 'armenia', 'world', 'turkey', 'university', 'think', 'turks', 'did', 'government', 'arab', 'say', 'time', 'right', 'jewish', 'state', 'way', 'years', 'argic', 'serdar', 'org', 'posting', 'war', 'didn', 'killed', 'does', 'center', 'going', 'greek', 'soldiers', 'peace', 'human', 'want', 'soviet', 'uucp', 'genocide', 'let', 'went', 'children', 'fact', 'host', 'rights', 'policy', 'says', '000', 'arabs', 'nntp', 'today', 'land', 'come', 'new', 'told', 'came', 'work', 'azerbaijan', 'make', 'anti', 'cs', 'left', 'research', 'population', 'reply', 'villages', 'american', 'history', 'news', 'lebanese', 'muslim', 'started', 'tell', 'zuma', 'russian', 'home', 'called', 'women', 'israelis', 'sdpa', 'saw', 'palestinian', 'occupied', 'sera', 'took', 'really', 'nazi', 'lebanon', 'case', 'number', 'ca']\n",
      "talk.politics.misc\n",
      "['com', 'people', 'article', 'don', 'think', 'president', 'mr', 'just', 'government', 'know', 'new', 'stephanopoulos', 'like', 'state', 'going', 'make', 'time', 'clinton', 'said', 'university', 'did', 'want', 'cramer', 'does', 'say', 'posting', 'way', 'right', 'll', 'tax', 've', 'jobs', 'host', 'nntp', 'health', 'optilink', 'american', 'believe', 'states', 'good', 'money', 'law', 'work', 'case', 'care', 'drugs', 'news', 'war', 'free', 'men', 'gay', 'isc', 'insurance', 'world', 'fact', 'point', 'br', 'years', 'look', 'package', 'public', 'clayton', 'sure', 'let', 'year', 'use', 'question', 'white', 'really', 'program', 'national', 'private', 'congress', 'rights', 'support', 'working', 'house', 'country', 'power', 'need', 'things', 'cs', 'political', 'mean', 'ms', 'myers', 'yes', 'administration', 'usa', 'kind', 'ohio', 'long', 'pay', 'united', 'number', 'today', 'life', 'ca', 'russia', 'opinions']\n",
      "talk.religion.misc\n",
      "['com', 'god', 'people', 'jesus', 'article', 'don', 'christian', 'just', 'know', 'say', 'think', 'bible', 'does', 'like', 'good', 'sandvik', 'did', 'life', 'world', 'way', 'morality', 'believe', 'posting', 'christians', 'time', 'said', 'university', 'point', 'christ', 'objective', 'host', 'nntp', 'law', 'kent', 'want', 'word', 'order', 'brian', 'true', 'john', 'man', 'really', 'religion', 'apple', 'koresh', 'reply', 'fact', 've', 'moral', 'david', 'ra', 'new', 'make', 'says', 'children', 'jim', 'church', 'question', 'years', 'things', 'come', 'mr', 'different', 'love', 'read', 'frank', 'science', 'right', 'post', 'christianity', 'let', 'case', 'mean', 'truth', 'day', 'used', 'person', 'doesn', 'agree', 'newton', 'wrote', 'cs', 'faith', 'context', 'jews', 'judas', 'evidence', 'biblical', 'wrong', 'use', 'death', 'didn', 'paul', 'long', 'better', 'going', 'ca', 'values', 'robert', 'thing']\n"
     ]
    }
   ],
   "source": [
    "for c in range(len(probs)):\n",
    "    print(ng_train.target_names[c])\n",
    "    logs = probs[c]\n",
    "    sorted_desc = (-logs).argsort()\n",
    "#     for idx in sorted_desc[:100]:\n",
    "    print([feature_names[idx] for idx in sorted_desc[:100]])"
   ]
  },
  {
   "cell_type": "markdown",
   "metadata": {},
   "source": [
    "### Линейный классификатор"
   ]
  },
  {
   "cell_type": "markdown",
   "metadata": {},
   "source": [
    "Для каждого класса $c$ создаётся вектор весов $\\vec{w}:^{(с)}$ и смещение $b^{(c)}$\n",
    "Входной экземпляр сравнивается с каждым классом через скалярное произведение с прибавлением смещения. Так мы получаем score каждого класса $z^{(c)}$. У кого этот score выше, тот и победил...\n",
    "$$z^{(c)} = \\vec{w}^{(с)} \\cdot \\vec{x} + b^{(c)}$$\n"
   ]
  },
  {
   "cell_type": "markdown",
   "metadata": {},
   "source": [
    "Для двух классов используется только один вектор весов и одно смещение. Чем выше значение линейной комбинации - тем выше вероятность класса 1 по сравнению с классом 0"
   ]
  },
  {
   "cell_type": "code",
   "execution_count": 167,
   "metadata": {},
   "outputs": [
    {
     "data": {
      "text/plain": [
       "Index(['Unnamed: 0', 'sex', 'weight', 'height', 'repwt', 'repht'], dtype='object')"
      ]
     },
     "execution_count": 167,
     "metadata": {},
     "output_type": "execute_result"
    }
   ],
   "source": [
    "davis_train.columns"
   ]
  },
  {
   "cell_type": "code",
   "execution_count": 169,
   "metadata": {},
   "outputs": [],
   "source": [
    "davis_s_train = davis_train[[\"height\", \"weight\"]].values.astype(np.float)"
   ]
  },
  {
   "cell_type": "code",
   "execution_count": 170,
   "metadata": {},
   "outputs": [],
   "source": [
    "davis_y_train = np.zeros(len(davis_s_train), dtype=np.int32)"
   ]
  },
  {
   "cell_type": "code",
   "execution_count": 171,
   "metadata": {},
   "outputs": [],
   "source": [
    "davis_y_train[davis_train[\"sex\"] == \"F\"] = 1"
   ]
  },
  {
   "cell_type": "code",
   "execution_count": 172,
   "metadata": {},
   "outputs": [
    {
     "name": "stdout",
     "output_type": "stream",
     "text": [
      "[0 1 1 0 1 0 0 0 0 0 0 1 1 1 1 0 1 0 1 0 1 0 0 1 1 1 1 1 0 1 0 0 1 1 0 1 0\n",
      " 0 0 1 0 1 0 0 1 0 1 1 1]\n"
     ]
    }
   ],
   "source": [
    "print(davis_y_train)"
   ]
  },
  {
   "cell_type": "code",
   "execution_count": 174,
   "metadata": {},
   "outputs": [],
   "source": [
    "from matplotlib.colors import ListedColormap"
   ]
  },
  {
   "cell_type": "code",
   "execution_count": 175,
   "metadata": {},
   "outputs": [],
   "source": [
    "lcm = ListedColormap([\"blue\", \"red\"])"
   ]
  },
  {
   "cell_type": "code",
   "execution_count": 176,
   "metadata": {},
   "outputs": [
    {
     "data": {
      "text/plain": [
       "<matplotlib.collections.PathCollection at 0x1e755b23348>"
      ]
     },
     "execution_count": 176,
     "metadata": {},
     "output_type": "execute_result"
    },
    {
     "data": {
      "image/png": "[encoded data removed]",
      "text/plain": [
       "<Figure size 432x288 with 1 Axes>"
      ]
     },
     "metadata": {
      "needs_background": "light"
     },
     "output_type": "display_data"
    }
   ],
   "source": [
    "plt.scatter(davis_train[\"height\"], davis_train[\"weight\"], c=davis_y_train, cmap=lcm)"
   ]
  },
  {
   "cell_type": "code",
   "execution_count": 177,
   "metadata": {},
   "outputs": [],
   "source": [
    "logreg_davis = linear_model.LogisticRegression().fit(davis_s_train,davis_y_train)"
   ]
  },
  {
   "cell_type": "code",
   "execution_count": 185,
   "metadata": {},
   "outputs": [],
   "source": [
    "xx,yy = np.mgrid[davis_s_train[:,0].min():davis_s_train[:,0].max():100j,\n",
    "                davis_s_train[:,1].min():davis_s_train[:,1].max():100j]"
   ]
  },
  {
   "cell_type": "code",
   "execution_count": 186,
   "metadata": {},
   "outputs": [],
   "source": [
    "xx_yy = np.column_stack((xx.ravel(),yy.ravel()))"
   ]
  },
  {
   "cell_type": "code",
   "execution_count": 187,
   "metadata": {},
   "outputs": [],
   "source": [
    "xx_yy_pred = logreg_davis.predict(xx_yy)"
   ]
  },
  {
   "cell_type": "code",
   "execution_count": 188,
   "metadata": {},
   "outputs": [
    {
     "data": {
      "text/plain": [
       "<matplotlib.collections.PathCollection at 0x1e75801dc08>"
      ]
     },
     "execution_count": 188,
     "metadata": {},
     "output_type": "execute_result"
    },
    {
     "data": {
      "image/png": "[encoded data removed]",
      "text/plain": [
       "<Figure size 432x288 with 1 Axes>"
      ]
     },
     "metadata": {
      "needs_background": "light"
     },
     "output_type": "display_data"
    }
   ],
   "source": [
    "plt.contourf(xx,yy,xx_yy_pred.reshape(xx.shape), cmap=lcm, alpha=0.3)\n",
    "plt.scatter(davis_train[\"height\"], davis_train[\"weight\"], c=davis_y_train, cmap=lcm)"
   ]
  },
  {
   "cell_type": "code",
   "execution_count": null,
   "metadata": {},
   "outputs": [],
   "source": [
    "logreg_davis.predict"
   ]
  },
  {
   "cell_type": "code",
   "execution_count": 159,
   "metadata": {},
   "outputs": [],
   "source": [
    "logreg = linear_model.LogisticRegression()"
   ]
  },
  {
   "cell_type": "code",
   "execution_count": 161,
   "metadata": {},
   "outputs": [
    {
     "name": "stderr",
     "output_type": "stream",
     "text": [
      "c:\\users\\ivan\\programming\\general37\\lib\\site-packages\\sklearn\\linear_model\\_logistic.py:764: ConvergenceWarning: lbfgs failed to converge (status=1):\n",
      "STOP: TOTAL NO. of ITERATIONS REACHED LIMIT.\n",
      "\n",
      "Increase the number of iterations (max_iter) or scale the data as shown in:\n",
      "    https://scikit-learn.org/stable/modules/preprocessing.html\n",
      "Please also refer to the documentation for alternative solver options:\n",
      "    https://scikit-learn.org/stable/modules/linear_model.html#logistic-regression\n",
      "  extra_warning_msg=_LOGISTIC_SOLVER_CONVERGENCE_MSG)\n"
     ]
    },
    {
     "data": {
      "text/plain": [
       "LogisticRegression()"
      ]
     },
     "execution_count": 161,
     "metadata": {},
     "output_type": "execute_result"
    }
   ],
   "source": [
    "logreg.fit(X_train, ng_train.target)"
   ]
  },
  {
   "cell_type": "code",
   "execution_count": 162,
   "metadata": {},
   "outputs": [],
   "source": [
    "lg_pred = logreg.predict(X_test)"
   ]
  },
  {
   "cell_type": "code",
   "execution_count": 163,
   "metadata": {},
   "outputs": [
    {
     "name": "stdout",
     "output_type": "stream",
     "text": [
      "                          precision    recall  f1-score   support\n",
      "\n",
      "             alt.atheism       0.78      0.71      0.74       319\n",
      "           comp.graphics       0.66      0.75      0.70       389\n",
      " comp.os.ms-windows.misc       0.73      0.69      0.71       394\n",
      "comp.sys.ibm.pc.hardware       0.64      0.70      0.67       392\n",
      "   comp.sys.mac.hardware       0.75      0.79      0.77       385\n",
      "          comp.windows.x       0.81      0.71      0.76       395\n",
      "            misc.forsale       0.77      0.87      0.82       390\n",
      "               rec.autos       0.86      0.86      0.86       396\n",
      "         rec.motorcycles       0.91      0.91      0.91       398\n",
      "      rec.sport.baseball       0.87      0.88      0.88       397\n",
      "        rec.sport.hockey       0.91      0.94      0.93       399\n",
      "               sci.crypt       0.92      0.85      0.88       396\n",
      "         sci.electronics       0.66      0.70      0.68       393\n",
      "                 sci.med       0.83      0.80      0.82       396\n",
      "               sci.space       0.92      0.90      0.91       394\n",
      "  soc.religion.christian       0.83      0.91      0.87       398\n",
      "      talk.politics.guns       0.70      0.85      0.77       364\n",
      "   talk.politics.mideast       0.96      0.81      0.88       376\n",
      "      talk.politics.misc       0.74      0.54      0.63       310\n",
      "      talk.religion.misc       0.63      0.60      0.62       251\n",
      "\n",
      "                accuracy                           0.80      7532\n",
      "               macro avg       0.80      0.79      0.79      7532\n",
      "            weighted avg       0.80      0.80      0.80      7532\n",
      "\n"
     ]
    }
   ],
   "source": [
    "print(metrics.classification_report(ng_test.target, lg_pred, target_names=ng_train.target_names))"
   ]
  },
  {
   "cell_type": "code",
   "execution_count": 164,
   "metadata": {},
   "outputs": [
    {
     "data": {
      "text/plain": [
       "(20, 20000)"
      ]
     },
     "execution_count": 164,
     "metadata": {},
     "output_type": "execute_result"
    }
   ],
   "source": [
    "logreg.coef_.shape"
   ]
  },
  {
   "cell_type": "code",
   "execution_count": 165,
   "metadata": {},
   "outputs": [
    {
     "name": "stdout",
     "output_type": "stream",
     "text": [
      "alt.atheism\n",
      "['keith', 'bible', 'atheists', 'atheism', 'okcforum', 'believing', 'god', 'islamic', 'mathew', 'crchh410', 'wingate', 'psuvm', 'osrhe', 'pope', 'caltech', 'umd', 'cobb', 'tammy', 'psu', 'jaeger', 'rushdie', 'mangoe', 'thoughts', 'book', 'wwc', 'benedikt', 'free', 'dan', 'psilink', 'mantis', 'political', 'maddi', 'damnation', 'post', 'tek', 'saturn', 'thing', 'prepared', 'lunatic', 'religious', 'article', 'humans', 'freedom', 'charley', 'eternal', 'walla', 'peace', 'religion', 'au', 'gregg', 'koresh', 'sandvik', 'conner', 'said', 'bnr', 'penn', 'kmr4', '12', 'bobby', 'livesey', 'rice', 'wesleyan', 'people', 'genocide', 'example', 'uk', 'halat', 'atheist', 'hell', 'lord', 'cwru', 'p00261', 'lippard', 'liar', 'say', 'mary', 'penalty', 'mozumder', 'bissell', 'germany', 'compaq', 'cco', 'sgi', 'faq', 'princeton', 'solntze', 'jon', 'strom', 'risen', 'hausmann', 'scouts', 'schneider', 'ico', 'wpd', 'newton', 'jesus', 'bsa', 'healta', 'wrote', 'perfect']\n",
      "comp.graphics\n",
      "['graphics', '3d', 'images', 'image', 'pov', '3do', 'tiff', '24', 'library', 'imagine', 'polygon', 'cview', 'animation', 'vga', 'files', '42', 'package', 'surface', 'projector', 'vesa', 'useful', 'gif', 'algorithm', 'points', 'virtual', 'birmingham', 'format', 'sphere', 'mpeg', 'jack', 'file', 'code', 'rumours', 'kingdom', 'speedstar', 'program', 'polygons', 'falcon', 'viewer', 'ftp', 'grayscale', 'electronic', 'fractals', 'united', 'map', 'routine', 'xv', 'looking', 'imaging', 'diablo', 'interleaf', 'siemens', 'xga', 'laboratories', 'libraries', 'engr', 'reality', 'dos', 'fashion', 'software', 'color', 'svga', 'driver', 'fractal', 'renderman', 'cray', 'marco', 'need', 'sorry', 'dsto', 'jr0930', 'rgb', 'greatly', 'algorithms', 'ufl', 'ucf', 'version', 'compiled', '486', 'better', 'povray', 'wrote', 'intersections', 'danny', '68070', '386', 'picture', 'pictures', 'siggraph', 'jpg', 'earth', 'comp', 'video', 'disney', 'philosophical', 'umkc', 'genoa', 'graph', 'multi', 'au']\n",
      "comp.os.ms-windows.misc\n",
      "['windows', 'cica', 'win3', 'file', 'win', 'winqvt', 'drivers', 'nt', 'change', 'manager', 'driver', 'canon', 'bmp', 'files', 'characters', 'microsoft', 'anybody', 'try', 'norton', 'download', 'mirror', 'using', 'ftp', 'access', 'mitchell', '255', 'uses', 'rutgers', 'ndis', 'hi', 'bc', 'font', '386', 'use', 'orst', 'fonts', 'bar', 'mode', 'xerox', 'problem', 'run', 'printer', 'mfc', 'wharton', 'word', 'set', 'ok', 'risc', 'tom', 'dos6', 'haapanen', 'mouse', 'richard', 'site', 'borland', 'srini', 'token', 'ami', 'tw', 'card', 'howard', '13', 'doublespace', 'stacker', 'kin', 'germany', 'bj200', 'cis', 'program', 'paladin', 'shareware', 'ps', 'diamond', 'philips', 'systems', 'ini', 'window', 'elizabeth', 'adobe', 'utility', 'dos', 'packard', 'ink', 'multiple', 'dewinter', 'problems', 'pro', 'iastate', 'nec', 'fall', 'omaha', 'ring', '510', 'metrics', 'ads', 'ms', 'nis', 'insert', 'berkeley', 'baud']\n",
      "comp.sys.ibm.pc.hardware\n",
      "['monitor', 'pc', 'winmarks', 'gateway', 'ide', 'motherboard', 'pentium', 'card', 'floppy', 'disk', 'scsi', 'help', 'bios', 'amd', '486', 'vlb', 'robert', 'os', 'thanks', 'cents', 'cpu', 'drive', 'controller', 'port', 'protected', 'dos', 'western', 'lee', 'memory', 'cat', 'portal', 'jumpers', '800', 'sb', 'later', 'wow', 'ibm', 'inode', 'monitors', 'backup', 'pin', 'connector', 'mouse', 'digital', 'vesa', 'hello', '1280x1024', 'orchid', 'eisa', 'harddisk', 'adaptec', 'nec', 'tartarus', 'appletalk', 'sebastian', 'null', 'hrb', 'clone', 'rom', 'irq', 'shirley', 'crash', 'slow', 'connect', 'comments', 'turbo', 'latonia', 'ab245', 'standard', 'docs', 'perry', 'fraser', 'hardware', 'stealth', 'cmos', '72', 'isa', 'installed', 'drives', 'spec', 'cd', 'utdallas', 'conner', 'computers', 'mcmaster', 'ryerson', 'speed', 'slot', 'goyal', 'dma', 'tseng', 'books', 'technology', 'toshiba', 'zeos', 'giving', 'bu', 'wa3wbu', 'laserjet', 'harding']\n",
      "comp.sys.mac.hardware\n",
      "['mac', 'apple', 'quadra', 'duo', 'powerbook', 'macs', 'centris', 'lc', 'lciii', 'monitor', 'iisi', 'se', 'macintosh', 'comp', 'suck', 'modem', 'buy', 'simm', 'drive', 'disc', 'bmug', 'adb', '68040', 'floptical', 'ethernet', 'difference', 'serial', 'pre', 'morgan', 'ncube', 'scsi', 'hardware', 'claremont', '610', 'zia', 'rod', 'upgrade', 'clock', 'umn', 'pilon', 'advance', '950', 'pb', 'syquest', 'plus', 'external', 'c650', 'problem', 'meg', 'work', 'internal', 'accelerator', 'simms', 'bernoulli', 'wkuvx1', 'caere', 'ram', 'art', 'macplus', 'sound', 'fc', 'tempest', 'megabyte', '040', 'monitors', 'nubus', 'print', 'college', 'makes', 'jartsu', 'iici', 'po', 'blue', 'victoria', 'res', 'board', 'pitt', 'hsc', 'crashes', 'ntsc', 'radius', 'mouse', 'hcf', 'cache', 'bbs', 'use', 'wayne', 'write', 'clark', 'dtc', 'optical', 'freshman', 'umich', 'fax', '650', 'memory', 'micron', 'hand', 'info', '700']\n",
      "comp.windows.x\n",
      "['motif', 'server', 'widget', 'x11r5', 'window', 'lcs', 'expo', 'xterm', 'imake', 'application', 'xlib', 'xpert', 'mit', 'display', 'r5', 'set', 'source', 'x11', 'internet', 'honors', 'color', 'hite', 'clients', 'default', 'visual', 'widgets', 'consortium', 'information', 'hi', 'client', 'support', 'christy', 'running', 'xman', 'faq', 'code', 'based', 'terminal', 'xdm', 'group', 'andreas', 'comp', 'windows', 'uni', 'archie', 'uh', 'informatik', 'program', 'subscribe', 'compiling', 'version', 'openwindows', 'library', 'hypercard', 'ph', 'folks', 'xdefaults', 'way', 'xserver', 'sun', 'applications', 'script', 'unix', 'open', 'synoptics', 'programming', '3m', 'advance', 'florida', 'pointers', 'using', 'xterminal', 'enterpoop', 'font', 'bitmap', 'foreground', 'events', 'smyth', 'athena', 'happy', 'emulation', 'citri', 'package', 'dialog', 'text', 'moolit', 'xopendisplay', 'pointer', 'degrees', 'campus', 'queloz', 'gregg', 'acsc', 'joining', 'anybody', 'interface', 'gsfc', 'xt', 'binaries', 'ethan']\n",
      "misc.forsale\n",
      "['sale', 'wanted', 'forsale', 'sell', 'offer', 'shipping', 'distribution', 'interested', 'camera', 'asking', 'radio', 'trade', 'games', 'condition', 'offers', 'summer', 'includes', 'test', 'purdue', 'email', 'ticket', 'game', 'drive', 'phakt', 'price', 'chemicals', 'controller', 'power', 'susan', 'modem', 'scanning', 'original', '40', 'nyx', 'deal', 'tran', 'band', 'printing', 'tri', 'contact', 'mcmaster', 'mike', 'looking', 'size', 'jac2y', 'available', 'business', 'clemson', 'chen', 'cds', 'response', 'hard', 'used', 'phone', '2190', 'working', '408', 'dept', '101', '88', 'card', 'computer', 'pedal', 'perfect', 'selling', 'brand', 'excellent', 'ohio', 'miles', 'keyboard', 'new', '25', 'thorson', 'maccs', 'case', 'laptop', '00', 'oh', 'holonet', '4k', 'plus', 'smoking', 'commercial', 'leave', 'firm', 'berkeley', '30', 'dec', 'magnus', 'rose', 'sequent', 'intel', 'unit', 'amherst', 'cccbbs', 'jamie', 'cmuvm', 'obo', 'worth', 'wyvern']\n",
      "rec.autos\n",
      "['car', 'cars', 'automotive', 'warning', 'auto', 'chevrolet', 'honda', 'bmw', 'toyota', 'eliot', 'mazda', 'unisql', 'owners', 'dealer', 'opel', 'integra', 'clas', 'ford', 'jeep', 'rear', 'autos', 'oil', 'testing', 'leaks', 'rec', 'saab', 'sunroof', 'wagon', 'dumbest', 'truck', 'intrepid', 'purdue', '1962', 'westminster', 'engine', 'left', 'interested', 'mot', 'waterloo', 'stick', 'cms', 'wan', 'matthew', 'parts', '400', 'roy', 'volvo', 'convertible', 'early', 'big', 'buying', 'bought', 'insurance', 'rmt6r', 'thigpen', 'automobile', 'saturn', 'uwaterloo', 'keywords', 'vw', 'atlanta', 'accident', 'wharfie', 'usa', 'driving', 'gonna', 'air', 'gear', 'concepts', 'shift', 'thing', 'wrat', 'ss', 'headlights', 'tires', 'hp', 'nissan', 'read', 'sps', 'ones', 'geo', 'hello', 'rust', 'awd', 'price', 'jchen', 'rochester', 'callison', 'centerline', 'window', 'gas', 'kill', 'dodge', 'experiences', 'thank', 'mechanical', 'corporate', 'list', 'yfn', 'lh']\n",
      "rec.motorcycles\n",
      "['dod', 'bike', 'motorcycle', 'bikes', 'bmw', 'motorcycles', 'riding', 'ride', 'honda', 'tools', 'rec', 'sold', 'cornell', 'sale', 'kawasaki', 'moa', 'advice', 'harley', 'helmet', 'rider', 'yamaha', 'max', 'face', 'ducati', 'vax5', 'infante', 'kurt', 'ama', 'battery', 'piece', 'uk', 'ranck', 'insurance', 'moto', '500', 'howland', 'scotland', 'timing', 'fault', 'kelly', 'owners', 'bars', 'jonathan', 'cop', 'feet', 'aerostitch', 'stafford', 'winona', 'paint', 'nuet_ke', 'levine', 'dog', 'pts', 'ticket', 'wanted', 'east', 'zx', 'tude', '82', 'shaft', 'na4', 'cover', 'cit', 'opinion', 'left', 'speedy', 'riders', 'cus', '30', 'riceburner', 'contact', 'gear', 'bnr', 'miles', 'slack', 'contacts', 'boots', 'parking', 'traffic', 'brake', 'aber', 'vaughan', 'speeding', 'tire', 'hey', 'slc10', 'sturges', 'guzzi', 'woodward', '1993apr2', '900', 'resident', 'saddle', 'azw', 'store', 'org', 'cam', 'arc', '18', 'bags']\n",
      "rec.sport.baseball\n",
      "['baseball', 'phillies', 'tigers', 'sox', 'cubs', 'team', 'year', 'stadium', 'jewish', 'erickson', 'players', 'runs', 'jay', 'yankee', 'gif', 'stats', 'win', 'giants', 'astros', 'ball', 'nl', 'pitching', 'steam', 'yankees', 'mailing', 'fenway', 'games', 'royals', 'game', 'braves', 'plymouth', 'twins', 'uniforms', 'weeks', 'scott', 'home', 'hall', 'wondering', 'dodgers', 'rockies', 'bob', 'wales', 'road', 'boell', 'pomona', 'list', 'miller', 'hit', 'career', 'msstate', 'jays', 'fan', 'yale', 'alomar', 'dl', 'season', 'mets', 'shawn', 'pitcher', 'rauser', 'mcdowell', 'baerga', 'ted', 'aaa', 'phils', 'today', 'leland', 'yogi', 'watch', 'player', 'ryan', 'park', 'think', 'agent', 'rule', 'alleg', 'hitter', 'expected', 'cygnus', 'morris', 'padres', 'kingman', 'montana', 'maine', 'ranger', 'corp', 'gajarsky', 'orioles', 'michael', 'lose', 'doug', 'cornell', 'era', 'marlins', 'rogers', 'teams', 'wfan', 'journalism', 'sean', 'mcgriff']\n",
      "rec.sport.hockey\n",
      "['hockey', 'nhl', 'playoff', 'team', 'game', 'finals', 'beat', 'pens', 'play', 'testing', 'players', 'season', 'wings', 'octopus', 'espn', 'detroit', 'penguins', 'bruins', 'pittsburgh', 'cup', 'wc', 'flyers', 'playoffs', 'utk', 'buffalo', 'ice', 'fan', 'gandalf', 'stats', 'montreal', 'teams', 'habs', 'pool', 'devils', 'games', 'netlink', 'computing', 'leafs', 'toronto', 'islanders', 'tennessee', 'hawks', 'player', 'faq', 'lemieux', 'senators', 'coverage', 'stamber', 'daigle', 'huot', 'wangr', 'randy', 'wrs', 'max', 'pub', 'ncaa', 'pick', 'hrivnak', 'maxim', 'originator', 'ca', 'abc', 'isles', 'ottawa', 'gerald', 'mask', 'goal', 'rangers', 'winner', 'puck', 'night', 'goalie', 'jake', 'msk', 'coach', 'george', 'tv', 'rambler', 'probert', 'let', 'playing', 'rpi', 'trying', 'gld', 'finland', 'gibson', 'year', 'tickets', 'ulf', 'kariya', 'canadiens', 'acs', 'francis', 'andrew', 'su', 'idacom', 'keller', 'educational', 'biggest', 'knew']\n",
      "sci.crypt\n",
      "['clipper', 'encryption', 'key', 'security', 'gtoal', 'tapped', 'chip', 'code', 'pgp', 'crypt', 'nsa', 'crypto', 'algorithm', 'wiretap', 'cryptography', 'public', 'source', 'conference', 'secret', 'government', 'na', 'des', 'feal', 'missouri', 'keys', 'dos', 'tempest', 'marc', 'eff', 'netcom', 'ac', 'clinton', 'qualcomm', 'pollux', 'chinet', 'curtin', 'rsa', 'steve', 'bits', 'password', 'toal', 'distribution', 'escrow', 'law', 'brinich', 'denning', 'carl', 'access', 'tis', 'private', 'secure', 'protect', 'kept', 'graham', 'program', 'bontchev', '19', 'technical', 'bear', 'posted', 'cl', 'file', 'encrypted', 'sternlight', 'mizzou1', 'phone', 'usc', 'pp', 'announcement', 'speech', 'bruce', 'amendment', 'voice', 'ab', 'rlglende', 'glendenning', 'york', 'police', 'privacy', 'somebody', 'va', 'systems', 'matt', 'grady', 'yale', 'people', 'fraser', 'lew', 'wiretaps', 'passwords', 'like', 'machines', 'compression', 'unix', 'arizona', 'suite', 'files', 'classified', 'repacholi', 'zrepachol']\n",
      "sci.electronics\n",
      "['electronics', 'circuit', 'motorola', 'power', 'tv', '8051', 'design', 'rf', 'radar', 'mhz', 'usl', 'chips', 'exploding', 'low', 'ee', 'martin', 'used', 'scope', 'dayton', 'shack', 'line', 'projects', 'voltage', 'ieee', 'electrical', 'noise', 'phone', 'fluke', 'copy', 'audio', '256k', 'circuits', 'settings', 'detector', 'wayne', 'pcb', 'build', 'outlet', 'analog', 'project', '2600', 'louisville', 'model', 'grace', 'detectors', 'device', 'zenith', 'buy', 'differential', 'old', 'interface', 'ai', 'assembly', 'dip', 'intel', 'za', 'wondering', 'wire', 'pads', 'msfc', 'cooling', 'series', 'surfer', 'ic', 'cable', 'domain', 'signals', 'traffic', 'ulowell', 'manual', 'public', 'company', 'sehari', 'laser', 'toronto', 'methodology', 'frequency', 'logic', 'scanner', 'dsp', 'ibm', 'ground', 'babb', 'type', 'work', 'dell', 'position', 'help', 'col', 'vi', 'electric', 'current', 'uses', 'nf', 'needed', 'signal', 'wireless', 'chris', 'number', 'electronic']\n",
      "sci.med\n",
      "['doctor', 'disease', 'information', 'pitt', 'treatment', 'msg', 'cancer', 'radford', 'medical', 'photography', 'effects', 'health', 'med', 'ucsd', 'effective', 'syndrome', 'foods', 'treating', 'antibiotics', 'krillean', 'eye', 'pain', 'vak12ed', 'dyer', 'prozac', 'carson', 'choleric', 'cell', 'banks', 'dartmouth', 'medication', 'foreskin', 'geb', 'similar', 'risk', 'physician', 'cost', 'suite', 'scientific', 'sleep', 'seizures', 'col', 'remember', 'usually', 'aids', 'reasoning', 'blood', 'diet', 'products', 'locus', 'skin', 'keyboard', 'ysu', 'gordon', 'eis', 'medicine', 'inflammation', 'fm', 'called', 'needles', 'diagnosed', 'dangerous', 'correct', 'short', 'almanac', 'calstate', 'yeast', 'illinois', 'barbecued', 'food', 'recently', 'ls8139', 'literature', 'drug', 'candida', 'happen', 'symptoms', 'melissa', 'cure', 'injection', 'division', 'xerox', 'disorder', 'ng', 'ng4', 'alice', 'na', 'turpin', 'cause', 'keywords', 'oral', 'gilbert', 'rick', 'sci', 'product', 'troubles', 'jc', 'exercise', 'rat', 'spots']\n",
      "sci.space\n",
      "['space', 'orbit', 'moon', 'planets', 'dc', 'opus', 'pat', 'sci', 'ryukoku', 'launch', 'funding', 'ether', 'solar', 'twist', 'gamma', 'dietz', 'images', 'prb', 'alaska', 'henry', 'rockets', 'nasa', 'sunset', 'spacecraft', 'sunrise', 'colostate', 'astronomy', 'freed', 'aurora', 'russian', 'nick', 'otago', 'shuttle', 'sky', 'film', 'venus', 'known', 'digex', 'nuclear', 'things', 'flight', 'goddess', 'mars', 'peripherals', 'dynamic', 'xpresso', 'loss', 'nicoll', 'orion', 'waste', 'rins', 'companies', 'nss', 'nicho', 'vacuum', 'aerospace', 'clementine', 'times', 'bursters', 'bounce', 'ssto', 'orbital', 'billion', 'race', 'roll', 'indyvax', 'lunar', 'earth', 'accelerations', 'thanks', 'research', 'thruster', 'astro', 'long', 'send', 'sorry', 'rochester', 'mentorg', 'given', 'observatory', 'jp', 'calpoly', 'comet', 'gas', 'zoo', 'james', 'satellite', 'drexel', 'sets', 'schiewer', 'envelope', 'jupiter', 'tanks', 'umb', 'william', 'vnet', 'actually', 'ece', 'boom', 'mission']\n",
      "soc.religion.christian\n",
      "['clh', 'church', 'christians', 'rutgers', 'god', 'christian', 'christ', 'petch', 'athos', 'bible', 'book', 'geneva', 'bucknell', 'hell', 'fisher', 'jesus', 'easter', 'christianity', 'pa', 'seven', 'dcs', 'sin', '1993', 'especially', 'chuck', 'mussack', 'group', 'gvg47', 'translations', 'verse', 'discussion', 'apr', 'gvg', 'love', 'temple', 'nusunix1', 'indiana', 'valley', 'grass', 'married', 'catholic', 'daily', 'arrogance', 'romans', 'joe', 'black', 'definition', 'athena', 'rise', 'experiences', 'rolfe', 'moody', 'sun', 'requests', 'religion', 'accurate', 'prayer', 'kille', 'mailing', 'scrolls', 'missionary', 'fellowship', 'singapore', 'satan', 'qumran', 'ab4z', 'orthodox', 'andi', 'beyer', 'view', 'mission', 'soul', 'aviation', 'true', 'authority', 'howell', 'words', 'people', 'brunel', 'nus', 'jodfishe', 'mary', 'nt', 'mot', 'feel', 'brother', 'reason', 'jcj', 'wycliffe', 'suggest', 'sea', 'war', 'saved', 'translation', 'passion', 'orst', 'arizona', 'appreciate', 'week', 'storm']\n",
      "talk.politics.guns\n",
      "['guns', 'gun', 'waco', 'atf', 'fbi', 'batf', 'firearms', 'cathy', 'feustel', 'ranch', 'weapons', 'government', 'cnn', 'nra', 'rights', 'cadence', 'usa', 'nagle', 'handgun', 'john', 'texas', 'amendment', 'columbia', 'dividian', 'colorado', 'tsoft', 'gritz', 'hci', 'post', 'clinton', 'tx', 'burns', 'liberty', 'politics', 'rice', 'public', 'boi', 'oldham', 'believe', 'survivors', 'letter', '1000', 'cipriani', 'hunting', 'roby', 'eng', '2nd', 'reno', 'mormons', 'senator', 'ifas', 'gnv', 'safety', 'raid', 'uic', 'ufl', 'national', 'cmuvm', 'stratus', 'law', 'auburn', 'handguns', 'uicvm', 'note', 'gatech', 'distribution', 'jews', 'weapon', 'gozer', 'norway', 'neil', 'house', 'andy', 'miller', 'lethal', 'militia', 'restrictions', 'chopin', 'firearm', '34aej7d', 'cdt', 'awesley', 'jupiter', 'second', 'duke', 'mitre', 'criminals', 'place', 'bentsen', 'claim', 'come', 'press', 'aaron', 'handheld', 'decision', 'people', 'arc', 'dear', 'regulated', 'udel']\n",
      "talk.politics.mideast\n",
      "['israel', 'israeli', 'fourd', 'jews', 'turkish', 'serdar', 'virginia', 'argic', 'adl', 'armenia', 'armenian', 'cosmo', 'terrorism', 'soldiers', 'mcgill', 'racism', 'angmar', 'danny', 'say', 'hezbollah', 'freedom', 'armenians', 'holocaust', 'gt1091a', 'columbia', 'yigal', 'zionism', 'american', 'jake', 'greece', 'jewish', 'freeman', 'ha', 'policy', 'cpr', 'arab', 'mind', 'hamas', 'fundamentalist', 'man', 'iran', 'world', 'jerusalem', 'cunixa', 'turkey', 'planes', 'documentary', 'dimension', 'nysernet', 'mr', '4th', 'kidding', '494', 'killing', 'years', 'cute', 'persians', 'cdp', 'pro', 'farzin', 'thee', 'adam', 'greek', '617', 'brad', 'mark', 'gmi', 'alaa', 'discussion', 'case', 'news', 'absood', 'mohammad', 'memorial', 'articles', 'non', 'amherst', 'garfiel', 'urartu', 'peace', 'translation', 'utexas', 'igc', 'quote', 'palestinians', 'times', 'math', 'happy', 'pbs', 'ma', 'population', 'nabil', 'expansion', 'alfalfa', 'arf', 'seventh', 'il', 'jesse', 'sdpa', 'dr']\n",
      "talk.politics.misc\n",
      "['clinton', 'kaldis', 'bitnet', 'sexual', 'celebrate', '1993', 'lynn', 'government', 'tax', 'liberty', 'cramer', 'cunyvm', 'optilink', 'gay', 'guilty', 'mail', 'drugs', 'address', 'ipser', 'la', 'insight', 'force', 'uio', 'white', 'asuacad', 'crime', 'neal', 'batf', 'aid', 'state', 'study', 'president', 'mentor', 'thought', 'city', 'united', 'scarolina', 'law', 'rutgers', 'american', 'deane', 'magazine', 'drieux', 'nations', 'reasons', 'bush', 'bram', 'harris', 'judge', 'ott', 'jobs', 'party', 'new', 'train', 'romulus', 'ozal', 'hallam', 'operation', 'house', 'rail', 'case', 'wfu', 'stop', 'wetware', 'teel', 'article', 'spent', 'look', 'edward', 'csugrad', 'trial', 'money', 'broward', 'people', 'roby', 'phil', 'harassment', 'army', 'laws', 'states', 'theodore', 'proposition', 'southwestern', 'merrimack', 'horne', 'frank', 'allowed', 'clayton', 'uchicago', 'agree', 'lafayette', 'evidence', 'country', 'percentage', 'adams', 'congress', 'department', 'malcolm', 'service', 'media']\n",
      "talk.religion.misc\n",
      "['christian', 'koresh', 'god', 'morality', '666', 'homosexuality', 'andreas', 'biblical', 'order', 'age', 'love', 'promise', 'beast', 'frank', 'mr', '2000', 'sandvik', 'virginia', 'hudson', 'happened', 'jesus', 'buffalo', 'abortion', 'christians', 'contradictions', 'years', 'rosicrucian', 'amdahl', 'parks', 'mormons', 'thyagi', 'freenet', 'weiss', 'mitre', 'brian', 'dead', 'evolution', 'utexas', 'cult', 'info', 'bible', 'jmeritt', 'david', 'ch981', 'joslin', 'creation', 'alicea', 'mental', 'beer', 'risen', 'godless', 'pegasus', 'org', 'jr', 'sort', 'tony', '15', 'tyre', 'thou', 'objective', 'self', 'vernon', 'righteous', 'suggestion', 'imperial', 'fbi', 'hare', 'lord', 'church', 'imaginary', 'psyrobtw', 'meritt', 'independent', 'null', 'boi', 'roehm', 'royc', 'catholic', 'decenso', 'susan', 'fi', 'sword', 'material', 'proteins', 'caldwell', 'evidence', 'religion', 'coverage', 'alive', 'life', 'pogo', 'anthony', 'bottles', 'truth', 'isn', 'light', 'fsu', 'president', 'merlyn', 'trying']\n"
     ]
    }
   ],
   "source": [
    "for c in range(len(logreg.coef_)):\n",
    "    print(ng_train.target_names[c])\n",
    "    weights = logreg.coef_[c]\n",
    "    sorted_desc = (-weights).argsort()\n",
    "#     for idx in sorted_desc[:100]:\n",
    "    print([feature_names[idx] for idx in sorted_desc[:100]])"
   ]
  },
  {
   "cell_type": "code",
   "execution_count": null,
   "metadata": {},
   "outputs": [],
   "source": []
  }
 ],
 "metadata": {
  "kernelspec": {
   "display_name": "Python 3",
   "language": "python",
   "name": "python3"
  },
  "language_info": {
   "codemirror_mode": {
    "name": "ipython",
    "version": 3
   },
   "file_extension": ".py",
   "mimetype": "text/x-python",
   "name": "python",
   "nbconvert_exporter": "python",
   "pygments_lexer": "ipython3",
   "version": "3.7.7"
  }
 },
 "nbformat": 4,
 "nbformat_minor": 2
}

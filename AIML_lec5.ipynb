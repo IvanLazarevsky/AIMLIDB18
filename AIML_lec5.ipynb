{
 "cells": [
  {
   "cell_type": "markdown",
   "metadata": {},
   "source": [
    "План лекции:\n",
    "- Более интутивное определение Loss-функции. Эмпирический риск.\n",
    "- Кросс-энтропия в логистической регрессии\n",
    "- Softmax-регрессия. Кросс-энтропия\n",
    "- Максимальное правдоподобие\n",
    "- Метрики классификации\n",
    "- Деление выборки, кросс-валидация, выбор модели"
   ]
  },
  {
   "cell_type": "markdown",
   "metadata": {},
   "source": [
    "Пусть $X$ - множество объектов (экземпляров данных). $Y$ - множество допустимых ответов.\n",
    "У нас есть множество образцов (прецедентов)\n",
    "$$(x_1,y_1), (x_2,y_2),...(x_n,y_n);~~x_i \\in X, y_i \\in Y$$\n",
    "\n",
    "Наша задача - найти функцию-гипотезу $h(x)$, такую, чтобы приблизить зависимость, описанную в парах $(x_1,y_1), (x_2,y_2),...(x_n,y_n)$\n",
    "\n",
    "Функция потерь $L(x,y;h)$ - это функция, характеризующая на произвольном образце $(x,y)$ отклонение ответа $h(x)$, полученного при помощи гипотезы $h$, от истинного ответа $y$.\n",
    "\n",
    "Пример функции потерь:\n",
    "$$L(x,y;h) = (h(x) - y)^2$$\n",
    "$$L(x,y;h) = |h(x) - y|$$"
   ]
  },
  {
   "cell_type": "markdown",
   "metadata": {},
   "source": [
    "**Эмпирическим риском** называется среднее значение функции потерь на множестве образцов, использующихся для обучения модели (обучающей выборки)\n",
    "$$Q(h,X) = \\frac{1}{n}\\sum_{i=1}^n L(y_i, h(x_i))$$"
   ]
  },
  {
   "cell_type": "markdown",
   "metadata": {},
   "source": [
    "### Метод максимального правдоподобия для supervised learning"
   ]
  },
  {
   "cell_type": "markdown",
   "metadata": {},
   "source": [
    "Чтобы применить метод максимального правдоподобия необходимо, чтобы ваша модель (гипотеза) давала не точный ответ, а распределение вероятностей над ним.\n",
    "Вернёмся к нашей выборке\n",
    "$$(x_1,y_1), (x_2,y_2),...(x_n,y_n);~~x_i \\in X, y_i \\in Y$$\n",
    "\n",
    "Вероятностная модель $h$ принимает на вход экземпляр $x$ и выдаёт распределение $P_h(Y|x)$ над ответом. Для задач классификации это дискретное распределение. Допустим, у нас 3 класса. Тогда:\n",
    "$$P_h(Y|x) = \\{P(Y=1|x), P(Y=2|x), P(Y=3|x)\\} = \\{P(1|x), P(2|x), P(3|x)\\}$$\n",
    "\n",
    "Представим таблицу с истинными ответами и предсказанным распределением:"
   ]
  },
  {
   "cell_type": "code",
   "execution_count": 1,
   "metadata": {},
   "outputs": [],
   "source": [
    "import pandas as pd"
   ]
  },
  {
   "cell_type": "code",
   "execution_count": 2,
   "metadata": {},
   "outputs": [],
   "source": [
    "import numpy as np\n",
    "import seaborn as sns\n",
    "import matplotlib.pyplot as plt"
   ]
  },
  {
   "cell_type": "code",
   "execution_count": 3,
   "metadata": {},
   "outputs": [],
   "source": [
    "x1 = np.random.normal(0,scale=2,size=50)\n",
    "x2 = np.random.normal(0,scale=1, size=50)"
   ]
  },
  {
   "cell_type": "code",
   "execution_count": 4,
   "metadata": {},
   "outputs": [],
   "source": [
    "cs = np.zeros(len(x1),dtype=np.int)"
   ]
  },
  {
   "cell_type": "code",
   "execution_count": 5,
   "metadata": {},
   "outputs": [],
   "source": [
    "cs[x2>0.8] = 1\n",
    "cs[x1 - x2 > 1] = 2"
   ]
  },
  {
   "cell_type": "code",
   "execution_count": 6,
   "metadata": {},
   "outputs": [
    {
     "data": {
      "text/plain": [
       "<AxesSubplot:>"
      ]
     },
     "execution_count": 6,
     "metadata": {},
     "output_type": "execute_result"
    },
    {
     "data": {
      "image/png": "[encoded data removed]",
      "text/plain": [
       "<Figure size 432x288 with 1 Axes>"
      ]
     },
     "metadata": {
      "needs_background": "light"
     },
     "output_type": "display_data"
    }
   ],
   "source": [
    "sns.scatterplot(x=x1,y=x2,hue=cs, palette=['red','green', 'blue'])"
   ]
  },
  {
   "cell_type": "code",
   "execution_count": 7,
   "metadata": {},
   "outputs": [],
   "source": [
    "from sklearn.tree import DecisionTreeClassifier\n",
    "from sklearn.linear_model import LogisticRegression"
   ]
  },
  {
   "cell_type": "code",
   "execution_count": 8,
   "metadata": {},
   "outputs": [],
   "source": [
    "X = np.column_stack([x1,x2])"
   ]
  },
  {
   "cell_type": "code",
   "execution_count": 9,
   "metadata": {},
   "outputs": [
    {
     "data": {
      "text/plain": [
       "LogisticRegression()"
      ]
     },
     "execution_count": 9,
     "metadata": {},
     "output_type": "execute_result"
    }
   ],
   "source": [
    "clf = LogisticRegression()\n",
    "clf.fit(X,cs)"
   ]
  },
  {
   "cell_type": "code",
   "execution_count": 10,
   "metadata": {},
   "outputs": [],
   "source": [
    "y_pred = clf.predict(X)"
   ]
  },
  {
   "cell_type": "code",
   "execution_count": 11,
   "metadata": {},
   "outputs": [],
   "source": [
    "xx1,xx2 = np.mgrid[x1.min():x1.max():50j,x2.min():x2.max():50j]"
   ]
  },
  {
   "cell_type": "code",
   "execution_count": 12,
   "metadata": {},
   "outputs": [],
   "source": [
    "from matplotlib.colors import ListedColormap"
   ]
  },
  {
   "cell_type": "code",
   "execution_count": 13,
   "metadata": {},
   "outputs": [
    {
     "data": {
      "text/plain": [
       "<matplotlib.contour.QuadContourSet at 0x7f2e66c698d0>"
      ]
     },
     "execution_count": 13,
     "metadata": {},
     "output_type": "execute_result"
    },
    {
     "data": {
      "image/png": "[encoded data removed]",
      "text/plain": [
       "<Figure size 432x288 with 1 Axes>"
      ]
     },
     "metadata": {
      "needs_background": "light"
     },
     "output_type": "display_data"
    }
   ],
   "source": [
    "sns.scatterplot(x=x1,y=x2,hue=cs, palette=['red','green', 'blue'])\n",
    "plt.contourf(xx1,xx2,\n",
    "             clf.predict(np.column_stack((xx1.ravel(),xx2.ravel()))).reshape(xx1.shape),\n",
    "             alpha=0.3, cmap=ListedColormap(['red','green', 'blue']))"
   ]
  },
  {
   "cell_type": "code",
   "execution_count": 14,
   "metadata": {},
   "outputs": [],
   "source": [
    "probs = clf.predict_proba(X)"
   ]
  },
  {
   "cell_type": "code",
   "execution_count": 15,
   "metadata": {},
   "outputs": [],
   "source": [
    "pred_df = pd.DataFrame({\"x1\":X[:,0],\n",
    "                        \"x2\": X[:,1],\n",
    "                        \"class\": cs,\n",
    "                        \"p_0\":probs[:,0],\n",
    "                        \"p_1\": probs[:,1],\n",
    "                        \"p_2\": probs[:,2]})"
   ]
  },
  {
   "cell_type": "code",
   "execution_count": 16,
   "metadata": {},
   "outputs": [
    {
     "data": {
      "text/html": [
       "<div>\n",
       "<style scoped>\n",
       "    .dataframe tbody tr th:only-of-type {\n",
       "        vertical-align: middle;\n",
       "    }\n",
       "\n",
       "    .dataframe tbody tr th {\n",
       "        vertical-align: top;\n",
       "    }\n",
       "\n",
       "    .dataframe thead th {\n",
       "        text-align: right;\n",
       "    }\n",
       "</style>\n",
       "<table border=\"1\" class=\"dataframe\">\n",
       "  <thead>\n",
       "    <tr style=\"text-align: right;\">\n",
       "      <th></th>\n",
       "      <th>x1</th>\n",
       "      <th>x2</th>\n",
       "      <th>class</th>\n",
       "      <th>p_0</th>\n",
       "      <th>p_1</th>\n",
       "      <th>p_2</th>\n",
       "    </tr>\n",
       "  </thead>\n",
       "  <tbody>\n",
       "    <tr>\n",
       "      <th>47</th>\n",
       "      <td>0.296495</td>\n",
       "      <td>-0.448346</td>\n",
       "      <td>0</td>\n",
       "      <td>0.641161</td>\n",
       "      <td>0.045662</td>\n",
       "      <td>0.313177</td>\n",
       "    </tr>\n",
       "    <tr>\n",
       "      <th>33</th>\n",
       "      <td>2.941352</td>\n",
       "      <td>-1.251304</td>\n",
       "      <td>2</td>\n",
       "      <td>0.005428</td>\n",
       "      <td>0.000182</td>\n",
       "      <td>0.994391</td>\n",
       "    </tr>\n",
       "    <tr>\n",
       "      <th>25</th>\n",
       "      <td>1.609950</td>\n",
       "      <td>-1.061995</td>\n",
       "      <td>2</td>\n",
       "      <td>0.072639</td>\n",
       "      <td>0.002049</td>\n",
       "      <td>0.925312</td>\n",
       "    </tr>\n",
       "    <tr>\n",
       "      <th>12</th>\n",
       "      <td>1.763995</td>\n",
       "      <td>0.812276</td>\n",
       "      <td>1</td>\n",
       "      <td>0.173349</td>\n",
       "      <td>0.644424</td>\n",
       "      <td>0.182227</td>\n",
       "    </tr>\n",
       "    <tr>\n",
       "      <th>11</th>\n",
       "      <td>-2.796900</td>\n",
       "      <td>-1.114435</td>\n",
       "      <td>0</td>\n",
       "      <td>0.992137</td>\n",
       "      <td>0.002789</td>\n",
       "      <td>0.005074</td>\n",
       "    </tr>\n",
       "    <tr>\n",
       "      <th>46</th>\n",
       "      <td>0.581480</td>\n",
       "      <td>-0.098781</td>\n",
       "      <td>0</td>\n",
       "      <td>0.593002</td>\n",
       "      <td>0.119082</td>\n",
       "      <td>0.287916</td>\n",
       "    </tr>\n",
       "    <tr>\n",
       "      <th>15</th>\n",
       "      <td>-1.109968</td>\n",
       "      <td>1.303060</td>\n",
       "      <td>1</td>\n",
       "      <td>0.239418</td>\n",
       "      <td>0.759875</td>\n",
       "      <td>0.000706</td>\n",
       "    </tr>\n",
       "    <tr>\n",
       "      <th>40</th>\n",
       "      <td>-0.579852</td>\n",
       "      <td>1.504610</td>\n",
       "      <td>1</td>\n",
       "      <td>0.126339</td>\n",
       "      <td>0.872946</td>\n",
       "      <td>0.000715</td>\n",
       "    </tr>\n",
       "    <tr>\n",
       "      <th>8</th>\n",
       "      <td>-0.330420</td>\n",
       "      <td>1.450434</td>\n",
       "      <td>1</td>\n",
       "      <td>0.128046</td>\n",
       "      <td>0.870726</td>\n",
       "      <td>0.001228</td>\n",
       "    </tr>\n",
       "    <tr>\n",
       "      <th>0</th>\n",
       "      <td>0.125873</td>\n",
       "      <td>-0.880337</td>\n",
       "      <td>2</td>\n",
       "      <td>0.587206</td>\n",
       "      <td>0.012702</td>\n",
       "      <td>0.400092</td>\n",
       "    </tr>\n",
       "  </tbody>\n",
       "</table>\n",
       "</div>"
      ],
      "text/plain": [
       "          x1        x2  class       p_0       p_1       p_2\n",
       "47  0.296495 -0.448346      0  0.641161  0.045662  0.313177\n",
       "33  2.941352 -1.251304      2  0.005428  0.000182  0.994391\n",
       "25  1.609950 -1.061995      2  0.072639  0.002049  0.925312\n",
       "12  1.763995  0.812276      1  0.173349  0.644424  0.182227\n",
       "11 -2.796900 -1.114435      0  0.992137  0.002789  0.005074\n",
       "46  0.581480 -0.098781      0  0.593002  0.119082  0.287916\n",
       "15 -1.109968  1.303060      1  0.239418  0.759875  0.000706\n",
       "40 -0.579852  1.504610      1  0.126339  0.872946  0.000715\n",
       "8  -0.330420  1.450434      1  0.128046  0.870726  0.001228\n",
       "0   0.125873 -0.880337      2  0.587206  0.012702  0.400092"
      ]
     },
     "execution_count": 16,
     "metadata": {},
     "output_type": "execute_result"
    }
   ],
   "source": [
    "pred_df.sample(10)"
   ]
  },
  {
   "cell_type": "code",
   "execution_count": 17,
   "metadata": {},
   "outputs": [],
   "source": [
    "p_correct = probs[np.arange(len(probs)),cs]"
   ]
  },
  {
   "cell_type": "code",
   "execution_count": 18,
   "metadata": {},
   "outputs": [
    {
     "data": {
      "text/plain": [
       "(50,)"
      ]
     },
     "execution_count": 18,
     "metadata": {},
     "output_type": "execute_result"
    }
   ],
   "source": [
    "p_correct.shape"
   ]
  },
  {
   "cell_type": "code",
   "execution_count": 19,
   "metadata": {},
   "outputs": [
    {
     "data": {
      "text/plain": [
       "array([0.40009164, 0.94885724, 0.90910741, 0.98762029, 0.67423931,\n",
       "       0.8401571 , 0.73585571, 0.82235169, 0.87072617, 0.4270605 ,\n",
       "       0.86831243, 0.99213731, 0.64442417, 0.90432342, 0.9494725 ,\n",
       "       0.75987547, 0.99586319, 0.95606025, 0.89375549, 0.89539916,\n",
       "       0.34540641, 0.94627544, 0.7644447 , 0.99962351, 0.44728845,\n",
       "       0.92531176, 0.80969662, 0.53398795, 0.41968915, 0.86434138,\n",
       "       0.85904465, 0.64749536, 0.84529944, 0.99439075, 0.76863565,\n",
       "       0.74649099, 0.75912699, 0.99728594, 0.91503186, 0.78918032,\n",
       "       0.87294599, 0.98955215, 0.8871464 , 0.95286558, 0.89011416,\n",
       "       0.76725008, 0.59300196, 0.64116086, 0.89855692, 0.99162561])"
      ]
     },
     "execution_count": 19,
     "metadata": {},
     "output_type": "execute_result"
    }
   ],
   "source": [
    "p_correct"
   ]
  },
  {
   "cell_type": "code",
   "execution_count": 20,
   "metadata": {},
   "outputs": [],
   "source": [
    "pred_df[\"p_correct\"] = p_correct"
   ]
  },
  {
   "cell_type": "code",
   "execution_count": 21,
   "metadata": {},
   "outputs": [
    {
     "data": {
      "text/html": [
       "<div>\n",
       "<style scoped>\n",
       "    .dataframe tbody tr th:only-of-type {\n",
       "        vertical-align: middle;\n",
       "    }\n",
       "\n",
       "    .dataframe tbody tr th {\n",
       "        vertical-align: top;\n",
       "    }\n",
       "\n",
       "    .dataframe thead th {\n",
       "        text-align: right;\n",
       "    }\n",
       "</style>\n",
       "<table border=\"1\" class=\"dataframe\">\n",
       "  <thead>\n",
       "    <tr style=\"text-align: right;\">\n",
       "      <th></th>\n",
       "      <th>x1</th>\n",
       "      <th>x2</th>\n",
       "      <th>class</th>\n",
       "      <th>p_0</th>\n",
       "      <th>p_1</th>\n",
       "      <th>p_2</th>\n",
       "      <th>p_correct</th>\n",
       "    </tr>\n",
       "  </thead>\n",
       "  <tbody>\n",
       "    <tr>\n",
       "      <th>9</th>\n",
       "      <td>-1.620754</td>\n",
       "      <td>0.837044</td>\n",
       "      <td>1</td>\n",
       "      <td>0.571596</td>\n",
       "      <td>0.427060</td>\n",
       "      <td>0.001344</td>\n",
       "      <td>0.427060</td>\n",
       "    </tr>\n",
       "    <tr>\n",
       "      <th>36</th>\n",
       "      <td>-0.860232</td>\n",
       "      <td>0.332223</td>\n",
       "      <td>0</td>\n",
       "      <td>0.759127</td>\n",
       "      <td>0.226161</td>\n",
       "      <td>0.014712</td>\n",
       "      <td>0.759127</td>\n",
       "    </tr>\n",
       "    <tr>\n",
       "      <th>46</th>\n",
       "      <td>0.581480</td>\n",
       "      <td>-0.098781</td>\n",
       "      <td>0</td>\n",
       "      <td>0.593002</td>\n",
       "      <td>0.119082</td>\n",
       "      <td>0.287916</td>\n",
       "      <td>0.593002</td>\n",
       "    </tr>\n",
       "    <tr>\n",
       "      <th>27</th>\n",
       "      <td>0.728383</td>\n",
       "      <td>-0.153656</td>\n",
       "      <td>0</td>\n",
       "      <td>0.533988</td>\n",
       "      <td>0.100153</td>\n",
       "      <td>0.365859</td>\n",
       "      <td>0.533988</td>\n",
       "    </tr>\n",
       "    <tr>\n",
       "      <th>39</th>\n",
       "      <td>1.774309</td>\n",
       "      <td>-0.200523</td>\n",
       "      <td>2</td>\n",
       "      <td>0.164898</td>\n",
       "      <td>0.045922</td>\n",
       "      <td>0.789180</td>\n",
       "      <td>0.789180</td>\n",
       "    </tr>\n",
       "    <tr>\n",
       "      <th>29</th>\n",
       "      <td>0.875806</td>\n",
       "      <td>1.235440</td>\n",
       "      <td>1</td>\n",
       "      <td>0.121725</td>\n",
       "      <td>0.864341</td>\n",
       "      <td>0.013934</td>\n",
       "      <td>0.864341</td>\n",
       "    </tr>\n",
       "    <tr>\n",
       "      <th>8</th>\n",
       "      <td>-0.330420</td>\n",
       "      <td>1.450434</td>\n",
       "      <td>1</td>\n",
       "      <td>0.128046</td>\n",
       "      <td>0.870726</td>\n",
       "      <td>0.001228</td>\n",
       "      <td>0.870726</td>\n",
       "    </tr>\n",
       "    <tr>\n",
       "      <th>0</th>\n",
       "      <td>0.125873</td>\n",
       "      <td>-0.880337</td>\n",
       "      <td>2</td>\n",
       "      <td>0.587206</td>\n",
       "      <td>0.012702</td>\n",
       "      <td>0.400092</td>\n",
       "      <td>0.400092</td>\n",
       "    </tr>\n",
       "    <tr>\n",
       "      <th>41</th>\n",
       "      <td>-2.816660</td>\n",
       "      <td>-0.710505</td>\n",
       "      <td>0</td>\n",
       "      <td>0.989552</td>\n",
       "      <td>0.007760</td>\n",
       "      <td>0.002688</td>\n",
       "      <td>0.989552</td>\n",
       "    </tr>\n",
       "    <tr>\n",
       "      <th>19</th>\n",
       "      <td>0.548590</td>\n",
       "      <td>1.390514</td>\n",
       "      <td>1</td>\n",
       "      <td>0.099560</td>\n",
       "      <td>0.895399</td>\n",
       "      <td>0.005041</td>\n",
       "      <td>0.895399</td>\n",
       "    </tr>\n",
       "    <tr>\n",
       "      <th>22</th>\n",
       "      <td>-0.022771</td>\n",
       "      <td>-0.149158</td>\n",
       "      <td>0</td>\n",
       "      <td>0.764445</td>\n",
       "      <td>0.100166</td>\n",
       "      <td>0.135389</td>\n",
       "      <td>0.764445</td>\n",
       "    </tr>\n",
       "    <tr>\n",
       "      <th>10</th>\n",
       "      <td>2.219797</td>\n",
       "      <td>-0.118321</td>\n",
       "      <td>2</td>\n",
       "      <td>0.092203</td>\n",
       "      <td>0.039484</td>\n",
       "      <td>0.868312</td>\n",
       "      <td>0.868312</td>\n",
       "    </tr>\n",
       "    <tr>\n",
       "      <th>4</th>\n",
       "      <td>0.335426</td>\n",
       "      <td>0.885889</td>\n",
       "      <td>1</td>\n",
       "      <td>0.303636</td>\n",
       "      <td>0.674239</td>\n",
       "      <td>0.022124</td>\n",
       "      <td>0.674239</td>\n",
       "    </tr>\n",
       "    <tr>\n",
       "      <th>14</th>\n",
       "      <td>1.959761</td>\n",
       "      <td>-0.931823</td>\n",
       "      <td>2</td>\n",
       "      <td>0.048268</td>\n",
       "      <td>0.002259</td>\n",
       "      <td>0.949472</td>\n",
       "      <td>0.949472</td>\n",
       "    </tr>\n",
       "  </tbody>\n",
       "</table>\n",
       "</div>"
      ],
      "text/plain": [
       "          x1        x2  class       p_0       p_1       p_2  p_correct\n",
       "9  -1.620754  0.837044      1  0.571596  0.427060  0.001344   0.427060\n",
       "36 -0.860232  0.332223      0  0.759127  0.226161  0.014712   0.759127\n",
       "46  0.581480 -0.098781      0  0.593002  0.119082  0.287916   0.593002\n",
       "27  0.728383 -0.153656      0  0.533988  0.100153  0.365859   0.533988\n",
       "39  1.774309 -0.200523      2  0.164898  0.045922  0.789180   0.789180\n",
       "29  0.875806  1.235440      1  0.121725  0.864341  0.013934   0.864341\n",
       "8  -0.330420  1.450434      1  0.128046  0.870726  0.001228   0.870726\n",
       "0   0.125873 -0.880337      2  0.587206  0.012702  0.400092   0.400092\n",
       "41 -2.816660 -0.710505      0  0.989552  0.007760  0.002688   0.989552\n",
       "19  0.548590  1.390514      1  0.099560  0.895399  0.005041   0.895399\n",
       "22 -0.022771 -0.149158      0  0.764445  0.100166  0.135389   0.764445\n",
       "10  2.219797 -0.118321      2  0.092203  0.039484  0.868312   0.868312\n",
       "4   0.335426  0.885889      1  0.303636  0.674239  0.022124   0.674239\n",
       "14  1.959761 -0.931823      2  0.048268  0.002259  0.949472   0.949472"
      ]
     },
     "execution_count": 21,
     "metadata": {},
     "output_type": "execute_result"
    }
   ],
   "source": [
    "pred_df.sample(14)"
   ]
  },
  {
   "cell_type": "code",
   "execution_count": 22,
   "metadata": {},
   "outputs": [
    {
     "data": {
      "text/plain": [
       "2187"
      ]
     },
     "execution_count": 22,
     "metadata": {},
     "output_type": "execute_result"
    }
   ],
   "source": [
    "3 ** 7"
   ]
  },
  {
   "cell_type": "markdown",
   "metadata": {},
   "source": [
    "<img src=\"data:image/png;base64,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\">"
   ]
  },
  {
   "cell_type": "code",
   "execution_count": 23,
   "metadata": {},
   "outputs": [
    {
     "data": {
      "text/plain": [
       "4.817113684679115e-06"
      ]
     },
     "execution_count": 23,
     "metadata": {},
     "output_type": "execute_result"
    }
   ],
   "source": [
    "np.prod(pred_df['p_correct'])"
   ]
  },
  {
   "cell_type": "code",
   "execution_count": 24,
   "metadata": {},
   "outputs": [
    {
     "data": {
      "text/plain": [
       "2.3681370071052892e-05"
      ]
     },
     "execution_count": 24,
     "metadata": {},
     "output_type": "execute_result"
    }
   ],
   "source": [
    "np.prod(np.max(probs,axis=1))"
   ]
  },
  {
   "cell_type": "code",
   "execution_count": 25,
   "metadata": {},
   "outputs": [
    {
     "data": {
      "text/plain": [
       "-12.243335629872426"
      ]
     },
     "execution_count": 25,
     "metadata": {},
     "output_type": "execute_result"
    }
   ],
   "source": [
    "np.sum(np.log(pred_df['p_correct']))"
   ]
  },
  {
   "cell_type": "code",
   "execution_count": 26,
   "metadata": {},
   "outputs": [
    {
     "data": {
      "text/plain": [
       "-10.65082189189189"
      ]
     },
     "execution_count": 26,
     "metadata": {},
     "output_type": "execute_result"
    }
   ],
   "source": [
    "np.sum(np.log(np.max(probs,axis=1)))"
   ]
  },
  {
   "cell_type": "code",
   "execution_count": 27,
   "metadata": {},
   "outputs": [
    {
     "data": {
      "text/plain": [
       "array([0, 0, 0, 0, 1, 0, 0, 0, 1, 0, 2, 0, 1, 0, 2, 1, 0, 1, 2, 1, 1, 0,\n",
       "       0, 2, 0, 2, 0, 0, 0, 1, 2, 1, 0, 2, 0, 0, 0, 2, 1, 2, 1, 0, 0, 0,\n",
       "       2, 0, 0, 0, 0, 0])"
      ]
     },
     "execution_count": 27,
     "metadata": {},
     "output_type": "execute_result"
    }
   ],
   "source": [
    "np.argmax(probs,axis=1)"
   ]
  },
  {
   "cell_type": "code",
   "execution_count": null,
   "metadata": {},
   "outputs": [],
   "source": []
  },
  {
   "cell_type": "markdown",
   "metadata": {},
   "source": [
    "Напомним, что критерием для классификации мы назначали максимизацию правдоподобия последовательности корректных ответов"
   ]
  },
  {
   "cell_type": "markdown",
   "metadata": {},
   "source": [
    "$$h^* = \\underset{h}{\\operatorname{argmax}}P_h(y_1,y_2,...,y_n|x_1,x_2,...,x_n) =  \\underset{h}{\\operatorname{argmax}}\\prod_{i=1}^n P_h(y_i|x_i)$$ \n",
    "или, эквивалетно\n",
    "$$h^* = \\underset{h}{\\operatorname{argmin}} -\\frac{1}{n}\\sum_{i=1}^n \\log P_{h}(y_i|x_i)$$"
   ]
  },
  {
   "cell_type": "markdown",
   "metadata": {},
   "source": [
    "Можно ли применить похожую формулу с регрессией? В таком случае наша модель должна предсказывать не точный ответ, а плотность его распределения. Например, модель линейной регрессии может считать, что ответы нормально распределены относительно линейной комбинации признаков:\n",
    "$$p_h(y|\\pmb{x}) = \\mathcal{N}(y;\\pmb{w}\\cdot\\pmb{x} + b, \\sigma^2)$$\n",
    "Тогда, по принципу макс. правдоподобия, мы ищем такие $\\pmb{w}$ и $b$ (такое $h$), чтобы минимизировать величину:\n",
    "$$h^* = \\underset{\\pmb{w},b}{\\operatorname{argmin}} -\\frac{1}{n}\\sum_{i=1}^n \\log P_{h}(y_i|x_i)$$\n",
    "или\n",
    "$$h^* = \\underset{\\pmb{w},b}{\\operatorname{argmin}} -\\frac{1}{n}\\sum_{i=1}^n \\log \\mathcal{N}(y_i; \\pmb{w}\\cdot\\pmb{x}^{(i)} + b, \\sigma^2)$$\n",
    "\n",
    "Рассмотрим один экземляр данных. Для него нам нужно минимизировать величину\n",
    "$$- \\log \\mathcal{N}(y; \\pmb{w}\\cdot\\pmb{x} + b, \\sigma^2)$$"
   ]
  },
  {
   "cell_type": "markdown",
   "metadata": {},
   "source": [
    "Ф-ия плотности нормального распределения имеет вид\n",
    "$$p(x) = \\frac{e^{-(x - \\mu)^{2}/(2\\sigma^{2}) }} {\\sigma\\sqrt{2\\pi}}$$\n",
    "\n",
    "Подставим распределение для нашего случая\n",
    "$$p(y|x) = \\frac{e^{-(y - \\pmb{w}\\cdot\\pmb{x} - b)^{2}/(2\\sigma^{2}) }} {\\sigma\\sqrt{2\\pi}}$$"
   ]
  },
  {
   "cell_type": "markdown",
   "metadata": {},
   "source": [
    "Прологарифмируем выражение\n",
    "$$\\log p(y|x) = \\log \\frac{1}{\\sigma\\sqrt{2\\pi}} - \\frac{(y - \\pmb{w}\\cdot\\pmb{x} - b)^{2}}{(2\\sigma^{2})}$$\n",
    "И возьмем со знаком минус\n",
    "$$-\\log p(y|x) = -\\log \\frac{1}{\\sigma\\sqrt{2\\pi}} + \\frac{(y - \\pmb{w}\\cdot\\pmb{x} - b)^{2}}{(2\\sigma^{2})}$$"
   ]
  },
  {
   "cell_type": "markdown",
   "metadata": {},
   "source": [
    "Учитывая, что $\\pmb{w}$ и $b$ влияют только на второе слагаемое, максимизация правдоподобия с Гауссовой гипотезой эквивалентна методу наименьших квадратов"
   ]
  },
  {
   "cell_type": "markdown",
   "metadata": {},
   "source": [
    "### Кросс-энтропия"
   ]
  },
  {
   "cell_type": "markdown",
   "metadata": {},
   "source": [
    "Мы уже рассмотрели критерий negative-log-likelihood:\n",
    "$$Q(h,X) = -\\frac{1}{n}\\sum_{i=1}^n \\log P_{\\text{model}}(y_i|x_i)$$"
   ]
  },
  {
   "cell_type": "markdown",
   "metadata": {},
   "source": [
    "С точки зрения эмпирического риска это среднее функции потерь на одном экземпляре (log-loss)\n",
    "$$L(x,y;h) = -\\log P(y|x;h)$$\n",
    "Т.е. функция потерь тем ниже, чем выше вероятность получить ответ $y$ для примера $x$ с использованием гипотезы $h$. Эта функция минимизируется, если предсказанная вероятность корректного ответа = 1."
   ]
  },
  {
   "cell_type": "markdown",
   "metadata": {},
   "source": [
    "Альтернативный взгляд на эту функцию даёт теория информации. Напомним, что в рамках этой теории, количество информации, которое несёт в себе *конкретное* значение $x$ случайной величины $X$ равняется:\n",
    "$$I(x) = -\\log P(x)$$\n",
    "Ожидаемое количество информации, которое несет в себе случайно взятое значение $x$ величины $X$ называется *энтропией* $X$\n",
    "$$H(X) = \\mathbb{E}_{x \\in X}I(X) = -\\sum_{x \\in X}P(x) \\log P(x)$$\n"
   ]
  },
  {
   "cell_type": "markdown",
   "metadata": {},
   "source": [
    "Мы измеряем количество информации, предполагая, что мы используем \"кодировку\", основанную на распределении $P(X)$. Именно знание $P(X)$ позволяет нам \"выделять\" $-\\log P(x)$ единиц информации для значения $x$."
   ]
  },
  {
   "cell_type": "markdown",
   "metadata": {},
   "source": [
    "Однако часто мы не знаем истинного распределения $P(X)$. В таком случае, мы можем построить кодировку на основе другого распределения $Q(X)$, и попытаться приблизить $Q(X)$ к $P(X)$\n",
    "\n",
    "В таком случае, мы будем кодировать события $x \\sim P(X)$, кодировками размером $-\\log Q(x)$. Тогда ожидаемое количество информации будет:\n",
    "$$H(X; P || Q) = -\\sum_{x \\in X}P(x) \\log Q(x)$$\n",
    "\n",
    "Это общеизвестный факт, что независимо от распределения величина $H(X; P || Q)$ больше либо равна $H(X)$. Эта величина называется кросс-энтропией распределения P по Q. Если распределения P и Q одинаковы, кросс-энтропия P по Q равна энтропии P. В противном случае она больше. \n",
    "\n",
    "Минимизация кросс-энтропии заключается в том, что необходимо сделать Q как можно более похожим на P."
   ]
  },
  {
   "cell_type": "markdown",
   "metadata": {},
   "source": [
    "Теперь рассмотрим пример моделирования. Для одного примера данных $x$ корректный ответ $y =2$ (представим, что классов 4). Тогда эмпирическое распределение $P(y|x)$ можно записать следующим образом:\n",
    "$$P_{data}(y|x) = \\{0, 0, 1, 0\\}$$ \n",
    "Пусть наша модель дала предсказание\n",
    "$$P_h(y|x;h) = \\{0.1,0.2,0.6,0.1\\}$$\n",
    "Тогда кросс-энтропия $P_{data}$ по $P_h$ равняется:\n",
    "$$H(Y|x;P_{data}||P_h) = -\\sum_{y \\in Y}P_{data}(y|x) \\log P_h(y|x) = \\\\ = -(0*\\log0.1 + 0*\\log0.2 + 1*\\log{0.6} + 0*\\log0.1) = -\\log0.6$$ \n"
   ]
  },
  {
   "cell_type": "markdown",
   "metadata": {},
   "source": [
    "В большинстве случаев эмпирическое распределение $P_{data}(y|x)$ на одном экземпляре $x$ является разреженным (все вероятности, кроме вероятности корректного класса, равны нулю). Однако могут встречаться и не разреженные распределения (soft labels). Примеры:\n",
    "- Вероятности представляют собой пропорции голосов за тот или иной класс от людей, проводивших разметку данных\n",
    "- Вероятности проставлены другой моделью, а обучаемая модель учится повторять её предсказания. Такая ситуация встречается при попытках провести сжатие модели, т.е. обучить модель меньшего размера на основе модели большего размера, например, чтобы использовать её на мобильных устройствах. Выгода подхода по сравнению с обучением на исходных данных - способность сгенерировать больше примеров данных."
   ]
  },
  {
   "cell_type": "code",
   "execution_count": 28,
   "metadata": {},
   "outputs": [],
   "source": [
    "def cross_entropy(p,q,sparse=False):\n",
    "\n",
    "    return -np.dot(p,np.log(q))\n"
   ]
  },
  {
   "cell_type": "code",
   "execution_count": 29,
   "metadata": {},
   "outputs": [],
   "source": [
    "pp = np.array([0.2,0.6,0.2])"
   ]
  },
  {
   "cell_type": "code",
   "execution_count": 30,
   "metadata": {},
   "outputs": [
    {
     "data": {
      "text/plain": [
       "0.9502705392332347"
      ]
     },
     "execution_count": 30,
     "metadata": {},
     "output_type": "execute_result"
    }
   ],
   "source": [
    "cross_entropy(pp,pp)"
   ]
  },
  {
   "cell_type": "code",
   "execution_count": 32,
   "metadata": {},
   "outputs": [
    {
     "data": {
      "text/plain": [
       "0.9578486551641705"
      ]
     },
     "execution_count": 32,
     "metadata": {},
     "output_type": "execute_result"
    }
   ],
   "source": [
    "cross_entropy(pp,np.array([0.2,0.55,0.25]))"
   ]
  },
  {
   "cell_type": "markdown",
   "metadata": {},
   "source": [
    "### Softmax-регрессия и многоклассования линейная классификация"
   ]
  },
  {
   "cell_type": "code",
   "execution_count": 35,
   "metadata": {},
   "outputs": [
    {
     "data": {
      "text/plain": [
       "array([ 0.28571429,  0.5       , -0.07142857,  0.28571429])"
      ]
     },
     "execution_count": 35,
     "metadata": {},
     "output_type": "execute_result"
    }
   ],
   "source": [
    "np.array([4,7,-1,4.]) / np.sum(np.array([4,7,-1,4.]))"
   ]
  },
  {
   "cell_type": "markdown",
   "metadata": {},
   "source": [
    "В прошлый раз мы рассматривали бинарную классификацию на датасете MNIST. Мы выбирали положительный класс (например, цифра 4) и обучали бинарный классификатор отличать 4 от остальных цифр.\n",
    "\n",
    "Многоклассовая классификация работает похожим образом.\n",
    "Для каждого класса $c$ строится отдельная модель скоринга со своими параметрами.\n",
    "$$z^{(c)} = \\pmb{w}^{(c)} \\cdot \\pmb{x} + b^{(c)}$$"
   ]
  },
  {
   "cell_type": "markdown",
   "metadata": {},
   "source": [
    "Далее, мы можем выбрать класс $c^*$, для которого $z^{(c)}  максимален$\n",
    "$$c^* = \\underset{c}{\\operatorname{argmax}}\\pmb{w}^{(c)} \\cdot \\pmb{x} + b^{(c)}$$"
   ]
  },
  {
   "cell_type": "markdown",
   "metadata": {},
   "source": [
    "Если каждая модель строится как отдельный бинарный классификатор (например, для каждой цифры выучивается модель логистической регрессии с классами \"искомая цифра\", \"остальные цифры\", то такой подход называется One-vs-Rest"
   ]
  },
  {
   "cell_type": "markdown",
   "metadata": {},
   "source": [
    "Однако этот подход не вероятностный и не предусматривает совместного обучения и оптимизации"
   ]
  },
  {
   "cell_type": "markdown",
   "metadata": {},
   "source": [
    "Более принципиальный, вероятностный подход, называется softmax-регрессией"
   ]
  },
  {
   "cell_type": "markdown",
   "metadata": {},
   "source": [
    "Модель предсказывает дискретное распределение $P_h(Y|x) = \\{P_h(y=1|x), P_h(y=2|x), ...,P_h(y=N_c|x)\\}$"
   ]
  },
  {
   "cell_type": "markdown",
   "metadata": {},
   "source": [
    "Где $P_h(c|x) = \\text{softmax}(z^{(c)}) = \\Large{\\frac{e^{z^{(c)}}}{\\sum_{c' \\in Y}e^{z^{(c')}}}}$"
   ]
  },
  {
   "cell_type": "code",
   "execution_count": 36,
   "metadata": {},
   "outputs": [],
   "source": [
    "def softmax(z):\n",
    "    exp = np.exp(z)\n",
    "    return exp / np.sum(exp)"
   ]
  },
  {
   "cell_type": "code",
   "execution_count": 39,
   "metadata": {},
   "outputs": [
    {
     "data": {
      "text/plain": [
       "array([0.16666667, 0.33333333, 0.5       ])"
      ]
     },
     "execution_count": 39,
     "metadata": {},
     "output_type": "execute_result"
    }
   ],
   "source": [
    "np.array([1,2,3]) / np.array([1,2,3]).sum()"
   ]
  },
  {
   "cell_type": "code",
   "execution_count": 41,
   "metadata": {},
   "outputs": [
    {
     "data": {
      "text/plain": [
       "array([0.00235563, 0.04731416, 0.95033021])"
      ]
     },
     "execution_count": 41,
     "metadata": {},
     "output_type": "execute_result"
    }
   ],
   "source": [
    "softmax(np.array([1,2,3]) * 3)"
   ]
  },
  {
   "cell_type": "markdown",
   "metadata": {},
   "source": [
    "Softmax позволяет преобразовать набор произвольных scor-ов в положительные числа в диапазоне 0..1, суммирующиеся в единицы"
   ]
  },
  {
   "cell_type": "markdown",
   "metadata": {},
   "source": [
    "Итоговая модель:\n",
    "\n",
    "Для каждого класса строится скоринговая функция $$z^{(c)} = \\pmb{w}^{(c)} \\cdot \\pmb{x} + b^{(c)}$$\n",
    "\n",
    "Значения скоринга преобразуются в вероятности:\n",
    "$$\\pmb{p} = \\text{softmax}(\\pmb{z})$$"
   ]
  },
  {
   "cell_type": "markdown",
   "metadata": {},
   "source": [
    "При этом вектор скорингов можно получить одной матричной операцией:\n",
    "$$\\vec{z} = W\\pmb{x} + \\pmb{b};~~~ W \\in \\mathbb{R}^{N_c \\times m}, ~b \\in \\mathbb{R}^{N_c} $$"
   ]
  },
  {
   "cell_type": "markdown",
   "metadata": {},
   "source": [
    "Эмпирический риск получается:\n",
    "$$-\\frac{1}{n}\\sum_{i=1}^n \\log P_h(y_i|x_i) = -\\frac{1}{n}\\sum_{i=1}^n \\sum_{c=1}^{N_c}[y_i = c]\\log P_h(c|x_i)$$"
   ]
  },
  {
   "cell_type": "code",
   "execution_count": 42,
   "metadata": {},
   "outputs": [],
   "source": [
    "from sklearn.datasets import fetch_openml"
   ]
  },
  {
   "cell_type": "code",
   "execution_count": 43,
   "metadata": {},
   "outputs": [],
   "source": [
    "from sklearn.linear_model import LogisticRegression\n",
    "from sklearn.model_selection import train_test_split\n",
    "from sklearn.preprocessing import StandardScaler\n",
    "from sklearn.utils import check_random_state"
   ]
  },
  {
   "cell_type": "code",
   "execution_count": 44,
   "metadata": {},
   "outputs": [],
   "source": [
    "X, y = fetch_openml('mnist_784', version=1, return_X_y=True)"
   ]
  },
  {
   "cell_type": "code",
   "execution_count": 45,
   "metadata": {},
   "outputs": [],
   "source": [
    "random_state = check_random_state(0)\n",
    "permutation = random_state.permutation(X.shape[0])\n",
    "X = X[permutation]\n",
    "y = y[permutation]\n",
    "X = X.reshape((X.shape[0], -1))\n",
    "\n",
    "train_samples = 5000\n",
    "\n",
    "X_train, X_test, y_train, y_test = train_test_split(\n",
    "\n",
    "    X, y, train_size=train_samples, test_size=10000)\n",
    "\n",
    "scaler = StandardScaler()\n",
    "X_train = scaler.fit_transform(X_train)\n",
    "X_test = scaler.transform(X_test)\n"
   ]
  },
  {
   "cell_type": "code",
   "execution_count": 46,
   "metadata": {},
   "outputs": [],
   "source": [
    "clf=LogisticRegression(multi_class=\"multinomial\",C=0.1)"
   ]
  },
  {
   "cell_type": "code",
   "execution_count": 47,
   "metadata": {},
   "outputs": [
    {
     "name": "stderr",
     "output_type": "stream",
     "text": [
      "/home/stankin/general37/lib/python3.7/site-packages/sklearn/linear_model/_logistic.py:764: ConvergenceWarning: lbfgs failed to converge (status=1):\n",
      "STOP: TOTAL NO. of ITERATIONS REACHED LIMIT.\n",
      "\n",
      "Increase the number of iterations (max_iter) or scale the data as shown in:\n",
      "    https://scikit-learn.org/stable/modules/preprocessing.html\n",
      "Please also refer to the documentation for alternative solver options:\n",
      "    https://scikit-learn.org/stable/modules/linear_model.html#logistic-regression\n",
      "  extra_warning_msg=_LOGISTIC_SOLVER_CONVERGENCE_MSG)\n"
     ]
    },
    {
     "data": {
      "text/plain": [
       "LogisticRegression(C=0.1, multi_class='multinomial')"
      ]
     },
     "execution_count": 47,
     "metadata": {},
     "output_type": "execute_result"
    }
   ],
   "source": [
    "clf.fit(X_train,y_train)"
   ]
  },
  {
   "cell_type": "code",
   "execution_count": 48,
   "metadata": {},
   "outputs": [
    {
     "data": {
      "text/plain": [
       "(10, 784)"
      ]
     },
     "execution_count": 48,
     "metadata": {},
     "output_type": "execute_result"
    }
   ],
   "source": [
    "clf.coef_.shape"
   ]
  },
  {
   "cell_type": "code",
   "execution_count": 49,
   "metadata": {},
   "outputs": [],
   "source": [
    "scale = np.abs(clf.coef_).max()"
   ]
  },
  {
   "cell_type": "code",
   "execution_count": 50,
   "metadata": {},
   "outputs": [],
   "source": [
    "from matplotlib import cm"
   ]
  },
  {
   "cell_type": "code",
   "execution_count": 54,
   "metadata": {},
   "outputs": [
    {
     "data": {
      "image/png": "[encoded data removed]",
      "text/plain": [
       "<Figure size 720x288 with 10 Axes>"
      ]
     },
     "metadata": {},
     "output_type": "display_data"
    }
   ],
   "source": [
    "fig = plt.figure(figsize=((10,4)))\n",
    "for i in range(10):\n",
    "    l1_plot = plt.subplot(2, 5, i + 1)\n",
    "    l1_plot.imshow(clf.coef_[i].reshape(28, 28), vmin=-scale, vmax=scale)\n",
    "    l1_plot.set_xticks(())\n",
    "    l1_plot.set_yticks(())\n",
    "    l1_plot.set_xlabel('Class %i' % i)"
   ]
  },
  {
   "cell_type": "code",
   "execution_count": 55,
   "metadata": {},
   "outputs": [],
   "source": [
    "y_pred = clf.predict(X_test)"
   ]
  },
  {
   "cell_type": "code",
   "execution_count": 56,
   "metadata": {},
   "outputs": [],
   "source": [
    "from sklearn import metrics"
   ]
  },
  {
   "cell_type": "code",
   "execution_count": 57,
   "metadata": {},
   "outputs": [
    {
     "name": "stdout",
     "output_type": "stream",
     "text": [
      "              precision    recall  f1-score   support\n",
      "\n",
      "           0       0.94      0.95      0.95       994\n",
      "           1       0.94      0.97      0.96      1192\n",
      "           2       0.88      0.87      0.88       994\n",
      "           3       0.86      0.87      0.87       984\n",
      "           4       0.90      0.89      0.89       895\n",
      "           5       0.85      0.82      0.84       954\n",
      "           6       0.93      0.93      0.93       970\n",
      "           7       0.90      0.88      0.89      1047\n",
      "           8       0.84      0.84      0.84       953\n",
      "           9       0.86      0.87      0.87      1017\n",
      "\n",
      "    accuracy                           0.89     10000\n",
      "   macro avg       0.89      0.89      0.89     10000\n",
      "weighted avg       0.89      0.89      0.89     10000\n",
      "\n"
     ]
    }
   ],
   "source": [
    "print(metrics.classification_report(y_test, y_pred))"
   ]
  },
  {
   "cell_type": "code",
   "execution_count": 58,
   "metadata": {},
   "outputs": [],
   "source": [
    "conf_matrix = metrics.confusion_matrix(y_test, y_pred)"
   ]
  },
  {
   "cell_type": "code",
   "execution_count": 59,
   "metadata": {},
   "outputs": [
    {
     "data": {
      "text/html": [
       "<div>\n",
       "<style scoped>\n",
       "    .dataframe tbody tr th:only-of-type {\n",
       "        vertical-align: middle;\n",
       "    }\n",
       "\n",
       "    .dataframe tbody tr th {\n",
       "        vertical-align: top;\n",
       "    }\n",
       "\n",
       "    .dataframe thead th {\n",
       "        text-align: right;\n",
       "    }\n",
       "</style>\n",
       "<table border=\"1\" class=\"dataframe\">\n",
       "  <thead>\n",
       "    <tr style=\"text-align: right;\">\n",
       "      <th></th>\n",
       "      <th>pred=0</th>\n",
       "      <th>pred=1</th>\n",
       "      <th>pred=2</th>\n",
       "      <th>pred=3</th>\n",
       "      <th>pred=4</th>\n",
       "      <th>pred=5</th>\n",
       "      <th>pred=6</th>\n",
       "      <th>pred=7</th>\n",
       "      <th>pred=8</th>\n",
       "      <th>pred=9</th>\n",
       "    </tr>\n",
       "  </thead>\n",
       "  <tbody>\n",
       "    <tr>\n",
       "      <th>y=0</th>\n",
       "      <td>946</td>\n",
       "      <td>0</td>\n",
       "      <td>11</td>\n",
       "      <td>0</td>\n",
       "      <td>3</td>\n",
       "      <td>13</td>\n",
       "      <td>6</td>\n",
       "      <td>4</td>\n",
       "      <td>9</td>\n",
       "      <td>2</td>\n",
       "    </tr>\n",
       "    <tr>\n",
       "      <th>y=1</th>\n",
       "      <td>0</td>\n",
       "      <td>1162</td>\n",
       "      <td>4</td>\n",
       "      <td>6</td>\n",
       "      <td>1</td>\n",
       "      <td>6</td>\n",
       "      <td>1</td>\n",
       "      <td>1</td>\n",
       "      <td>11</td>\n",
       "      <td>0</td>\n",
       "    </tr>\n",
       "    <tr>\n",
       "      <th>y=2</th>\n",
       "      <td>6</td>\n",
       "      <td>10</td>\n",
       "      <td>866</td>\n",
       "      <td>24</td>\n",
       "      <td>12</td>\n",
       "      <td>12</td>\n",
       "      <td>21</td>\n",
       "      <td>14</td>\n",
       "      <td>23</td>\n",
       "      <td>6</td>\n",
       "    </tr>\n",
       "    <tr>\n",
       "      <th>y=3</th>\n",
       "      <td>1</td>\n",
       "      <td>12</td>\n",
       "      <td>27</td>\n",
       "      <td>856</td>\n",
       "      <td>0</td>\n",
       "      <td>27</td>\n",
       "      <td>5</td>\n",
       "      <td>17</td>\n",
       "      <td>23</td>\n",
       "      <td>16</td>\n",
       "    </tr>\n",
       "    <tr>\n",
       "      <th>y=4</th>\n",
       "      <td>5</td>\n",
       "      <td>8</td>\n",
       "      <td>10</td>\n",
       "      <td>1</td>\n",
       "      <td>793</td>\n",
       "      <td>3</td>\n",
       "      <td>10</td>\n",
       "      <td>7</td>\n",
       "      <td>10</td>\n",
       "      <td>48</td>\n",
       "    </tr>\n",
       "    <tr>\n",
       "      <th>y=5</th>\n",
       "      <td>15</td>\n",
       "      <td>4</td>\n",
       "      <td>8</td>\n",
       "      <td>53</td>\n",
       "      <td>14</td>\n",
       "      <td>785</td>\n",
       "      <td>18</td>\n",
       "      <td>8</td>\n",
       "      <td>43</td>\n",
       "      <td>6</td>\n",
       "    </tr>\n",
       "    <tr>\n",
       "      <th>y=6</th>\n",
       "      <td>6</td>\n",
       "      <td>5</td>\n",
       "      <td>16</td>\n",
       "      <td>0</td>\n",
       "      <td>12</td>\n",
       "      <td>18</td>\n",
       "      <td>906</td>\n",
       "      <td>0</td>\n",
       "      <td>7</td>\n",
       "      <td>0</td>\n",
       "    </tr>\n",
       "    <tr>\n",
       "      <th>y=7</th>\n",
       "      <td>4</td>\n",
       "      <td>6</td>\n",
       "      <td>15</td>\n",
       "      <td>16</td>\n",
       "      <td>18</td>\n",
       "      <td>4</td>\n",
       "      <td>0</td>\n",
       "      <td>924</td>\n",
       "      <td>7</td>\n",
       "      <td>53</td>\n",
       "    </tr>\n",
       "    <tr>\n",
       "      <th>y=8</th>\n",
       "      <td>9</td>\n",
       "      <td>21</td>\n",
       "      <td>14</td>\n",
       "      <td>27</td>\n",
       "      <td>7</td>\n",
       "      <td>41</td>\n",
       "      <td>8</td>\n",
       "      <td>8</td>\n",
       "      <td>802</td>\n",
       "      <td>16</td>\n",
       "    </tr>\n",
       "    <tr>\n",
       "      <th>y=9</th>\n",
       "      <td>11</td>\n",
       "      <td>6</td>\n",
       "      <td>8</td>\n",
       "      <td>8</td>\n",
       "      <td>23</td>\n",
       "      <td>10</td>\n",
       "      <td>0</td>\n",
       "      <td>46</td>\n",
       "      <td>16</td>\n",
       "      <td>889</td>\n",
       "    </tr>\n",
       "  </tbody>\n",
       "</table>\n",
       "</div>"
      ],
      "text/plain": [
       "     pred=0  pred=1  pred=2  pred=3  pred=4  pred=5  pred=6  pred=7  pred=8  \\\n",
       "y=0     946       0      11       0       3      13       6       4       9   \n",
       "y=1       0    1162       4       6       1       6       1       1      11   \n",
       "y=2       6      10     866      24      12      12      21      14      23   \n",
       "y=3       1      12      27     856       0      27       5      17      23   \n",
       "y=4       5       8      10       1     793       3      10       7      10   \n",
       "y=5      15       4       8      53      14     785      18       8      43   \n",
       "y=6       6       5      16       0      12      18     906       0       7   \n",
       "y=7       4       6      15      16      18       4       0     924       7   \n",
       "y=8       9      21      14      27       7      41       8       8     802   \n",
       "y=9      11       6       8       8      23      10       0      46      16   \n",
       "\n",
       "     pred=9  \n",
       "y=0       2  \n",
       "y=1       0  \n",
       "y=2       6  \n",
       "y=3      16  \n",
       "y=4      48  \n",
       "y=5       6  \n",
       "y=6       0  \n",
       "y=7      53  \n",
       "y=8      16  \n",
       "y=9     889  "
      ]
     },
     "execution_count": 59,
     "metadata": {},
     "output_type": "execute_result"
    }
   ],
   "source": [
    "pd.DataFrame(conf_matrix, columns=[\"pred={}\".format(x) for x in range(10)],\n",
    "             index=[\"y={}\".format(x) for x in range(10)])"
   ]
  },
  {
   "cell_type": "code",
   "execution_count": 63,
   "metadata": {},
   "outputs": [],
   "source": [
    "from sklearn.metrics import pairwise"
   ]
  },
  {
   "cell_type": "code",
   "execution_count": 61,
   "metadata": {},
   "outputs": [
    {
     "data": {
      "text/html": [
       "<div>\n",
       "<style scoped>\n",
       "    .dataframe tbody tr th:only-of-type {\n",
       "        vertical-align: middle;\n",
       "    }\n",
       "\n",
       "    .dataframe tbody tr th {\n",
       "        vertical-align: top;\n",
       "    }\n",
       "\n",
       "    .dataframe thead th {\n",
       "        text-align: right;\n",
       "    }\n",
       "</style>\n",
       "<table border=\"1\" class=\"dataframe\">\n",
       "  <thead>\n",
       "    <tr style=\"text-align: right;\">\n",
       "      <th></th>\n",
       "      <th>0</th>\n",
       "      <th>1</th>\n",
       "      <th>2</th>\n",
       "      <th>3</th>\n",
       "      <th>4</th>\n",
       "      <th>5</th>\n",
       "      <th>6</th>\n",
       "      <th>7</th>\n",
       "      <th>8</th>\n",
       "      <th>9</th>\n",
       "    </tr>\n",
       "  </thead>\n",
       "  <tbody>\n",
       "    <tr>\n",
       "      <th>0</th>\n",
       "      <td>1.000000</td>\n",
       "      <td>-0.326814</td>\n",
       "      <td>0.032521</td>\n",
       "      <td>-0.151934</td>\n",
       "      <td>-0.254741</td>\n",
       "      <td>0.104768</td>\n",
       "      <td>0.001469</td>\n",
       "      <td>-0.051680</td>\n",
       "      <td>-0.049524</td>\n",
       "      <td>-0.202646</td>\n",
       "    </tr>\n",
       "    <tr>\n",
       "      <th>1</th>\n",
       "      <td>-0.326814</td>\n",
       "      <td>1.000000</td>\n",
       "      <td>0.017834</td>\n",
       "      <td>0.034383</td>\n",
       "      <td>-0.099225</td>\n",
       "      <td>-0.180662</td>\n",
       "      <td>-0.020307</td>\n",
       "      <td>-0.123525</td>\n",
       "      <td>-0.124569</td>\n",
       "      <td>-0.090827</td>\n",
       "    </tr>\n",
       "    <tr>\n",
       "      <th>2</th>\n",
       "      <td>0.032521</td>\n",
       "      <td>0.017834</td>\n",
       "      <td>1.000000</td>\n",
       "      <td>0.008864</td>\n",
       "      <td>-0.327262</td>\n",
       "      <td>-0.129070</td>\n",
       "      <td>0.009697</td>\n",
       "      <td>-0.171176</td>\n",
       "      <td>-0.151093</td>\n",
       "      <td>-0.295878</td>\n",
       "    </tr>\n",
       "    <tr>\n",
       "      <th>3</th>\n",
       "      <td>-0.151934</td>\n",
       "      <td>0.034383</td>\n",
       "      <td>0.008864</td>\n",
       "      <td>1.000000</td>\n",
       "      <td>-0.240322</td>\n",
       "      <td>-0.126555</td>\n",
       "      <td>-0.230491</td>\n",
       "      <td>-0.065858</td>\n",
       "      <td>-0.203921</td>\n",
       "      <td>-0.119259</td>\n",
       "    </tr>\n",
       "    <tr>\n",
       "      <th>4</th>\n",
       "      <td>-0.254741</td>\n",
       "      <td>-0.099225</td>\n",
       "      <td>-0.327262</td>\n",
       "      <td>-0.240322</td>\n",
       "      <td>1.000000</td>\n",
       "      <td>-0.074735</td>\n",
       "      <td>0.087211</td>\n",
       "      <td>-0.168574</td>\n",
       "      <td>-0.049601</td>\n",
       "      <td>0.090734</td>\n",
       "    </tr>\n",
       "    <tr>\n",
       "      <th>5</th>\n",
       "      <td>0.104768</td>\n",
       "      <td>-0.180662</td>\n",
       "      <td>-0.129070</td>\n",
       "      <td>-0.126555</td>\n",
       "      <td>-0.074735</td>\n",
       "      <td>1.000000</td>\n",
       "      <td>-0.125873</td>\n",
       "      <td>-0.115054</td>\n",
       "      <td>-0.172383</td>\n",
       "      <td>-0.193891</td>\n",
       "    </tr>\n",
       "    <tr>\n",
       "      <th>6</th>\n",
       "      <td>0.001469</td>\n",
       "      <td>-0.020307</td>\n",
       "      <td>0.009697</td>\n",
       "      <td>-0.230491</td>\n",
       "      <td>0.087211</td>\n",
       "      <td>-0.125873</td>\n",
       "      <td>1.000000</td>\n",
       "      <td>-0.288974</td>\n",
       "      <td>-0.128759</td>\n",
       "      <td>-0.175961</td>\n",
       "    </tr>\n",
       "    <tr>\n",
       "      <th>7</th>\n",
       "      <td>-0.051680</td>\n",
       "      <td>-0.123525</td>\n",
       "      <td>-0.171176</td>\n",
       "      <td>-0.065858</td>\n",
       "      <td>-0.168574</td>\n",
       "      <td>-0.115054</td>\n",
       "      <td>-0.288974</td>\n",
       "      <td>1.000000</td>\n",
       "      <td>-0.125268</td>\n",
       "      <td>0.056897</td>\n",
       "    </tr>\n",
       "    <tr>\n",
       "      <th>8</th>\n",
       "      <td>-0.049524</td>\n",
       "      <td>-0.124569</td>\n",
       "      <td>-0.151093</td>\n",
       "      <td>-0.203921</td>\n",
       "      <td>-0.049601</td>\n",
       "      <td>-0.172383</td>\n",
       "      <td>-0.128759</td>\n",
       "      <td>-0.125268</td>\n",
       "      <td>1.000000</td>\n",
       "      <td>-0.062257</td>\n",
       "    </tr>\n",
       "    <tr>\n",
       "      <th>9</th>\n",
       "      <td>-0.202646</td>\n",
       "      <td>-0.090827</td>\n",
       "      <td>-0.295878</td>\n",
       "      <td>-0.119259</td>\n",
       "      <td>0.090734</td>\n",
       "      <td>-0.193891</td>\n",
       "      <td>-0.175961</td>\n",
       "      <td>0.056897</td>\n",
       "      <td>-0.062257</td>\n",
       "      <td>1.000000</td>\n",
       "    </tr>\n",
       "  </tbody>\n",
       "</table>\n",
       "</div>"
      ],
      "text/plain": [
       "          0         1         2         3         4         5         6  \\\n",
       "0  1.000000 -0.326814  0.032521 -0.151934 -0.254741  0.104768  0.001469   \n",
       "1 -0.326814  1.000000  0.017834  0.034383 -0.099225 -0.180662 -0.020307   \n",
       "2  0.032521  0.017834  1.000000  0.008864 -0.327262 -0.129070  0.009697   \n",
       "3 -0.151934  0.034383  0.008864  1.000000 -0.240322 -0.126555 -0.230491   \n",
       "4 -0.254741 -0.099225 -0.327262 -0.240322  1.000000 -0.074735  0.087211   \n",
       "5  0.104768 -0.180662 -0.129070 -0.126555 -0.074735  1.000000 -0.125873   \n",
       "6  0.001469 -0.020307  0.009697 -0.230491  0.087211 -0.125873  1.000000   \n",
       "7 -0.051680 -0.123525 -0.171176 -0.065858 -0.168574 -0.115054 -0.288974   \n",
       "8 -0.049524 -0.124569 -0.151093 -0.203921 -0.049601 -0.172383 -0.128759   \n",
       "9 -0.202646 -0.090827 -0.295878 -0.119259  0.090734 -0.193891 -0.175961   \n",
       "\n",
       "          7         8         9  \n",
       "0 -0.051680 -0.049524 -0.202646  \n",
       "1 -0.123525 -0.124569 -0.090827  \n",
       "2 -0.171176 -0.151093 -0.295878  \n",
       "3 -0.065858 -0.203921 -0.119259  \n",
       "4 -0.168574 -0.049601  0.090734  \n",
       "5 -0.115054 -0.172383 -0.193891  \n",
       "6 -0.288974 -0.128759 -0.175961  \n",
       "7  1.000000 -0.125268  0.056897  \n",
       "8 -0.125268  1.000000 -0.062257  \n",
       "9  0.056897 -0.062257  1.000000  "
      ]
     },
     "execution_count": 61,
     "metadata": {},
     "output_type": "execute_result"
    }
   ],
   "source": [
    "pd.DataFrame(pairwise.cosine_similarity(clf.coef_, clf.coef_), index=list(range(10)), columns=list(range(10)))"
   ]
  },
  {
   "cell_type": "code",
   "execution_count": 62,
   "metadata": {},
   "outputs": [
    {
     "data": {
      "text/plain": [
       "array([[0, 5, 2, 6, 8, 7, 3, 9, 4, 1],\n",
       "       [1, 3, 2, 6, 9, 4, 7, 8, 5, 0],\n",
       "       [2, 0, 1, 6, 3, 5, 8, 7, 9, 4],\n",
       "       [3, 1, 2, 7, 9, 5, 0, 8, 6, 4],\n",
       "       [4, 9, 6, 8, 5, 1, 7, 3, 0, 2],\n",
       "       [5, 0, 4, 7, 6, 3, 2, 8, 1, 9],\n",
       "       [6, 4, 2, 0, 1, 5, 8, 9, 3, 7],\n",
       "       [7, 9, 0, 3, 5, 1, 8, 4, 2, 6],\n",
       "       [8, 0, 4, 9, 1, 7, 6, 2, 5, 3],\n",
       "       [9, 4, 7, 8, 1, 3, 6, 5, 0, 2]])"
      ]
     },
     "execution_count": 62,
     "metadata": {},
     "output_type": "execute_result"
    }
   ],
   "source": [
    "(-pairwise.cosine_similarity(clf.coef_, clf.coef_)).argsort(axis=1)"
   ]
  },
  {
   "cell_type": "markdown",
   "metadata": {},
   "source": [
    "### Метрики классификации. Precision и Recall, f1. ROC"
   ]
  },
  {
   "cell_type": "code",
   "execution_count": 64,
   "metadata": {},
   "outputs": [
    {
     "name": "stdout",
     "output_type": "stream",
     "text": [
      "              precision    recall  f1-score   support\n",
      "\n",
      "           0       0.94      0.95      0.95       994\n",
      "           1       0.94      0.97      0.96      1192\n",
      "           2       0.88      0.87      0.88       994\n",
      "           3       0.86      0.87      0.87       984\n",
      "           4       0.90      0.89      0.89       895\n",
      "           5       0.85      0.82      0.84       954\n",
      "           6       0.93      0.93      0.93       970\n",
      "           7       0.90      0.88      0.89      1047\n",
      "           8       0.84      0.84      0.84       953\n",
      "           9       0.86      0.87      0.87      1017\n",
      "\n",
      "    accuracy                           0.89     10000\n",
      "   macro avg       0.89      0.89      0.89     10000\n",
      "weighted avg       0.89      0.89      0.89     10000\n",
      "\n"
     ]
    }
   ],
   "source": [
    "print(metrics.classification_report(y_test, y_pred))"
   ]
  },
  {
   "cell_type": "code",
   "execution_count": 65,
   "metadata": {},
   "outputs": [],
   "source": [
    "diabetes_df = pd.read_csv('diabetes.csv')"
   ]
  },
  {
   "cell_type": "code",
   "execution_count": 66,
   "metadata": {},
   "outputs": [
    {
     "data": {
      "text/html": [
       "<div>\n",
       "<style scoped>\n",
       "    .dataframe tbody tr th:only-of-type {\n",
       "        vertical-align: middle;\n",
       "    }\n",
       "\n",
       "    .dataframe tbody tr th {\n",
       "        vertical-align: top;\n",
       "    }\n",
       "\n",
       "    .dataframe thead th {\n",
       "        text-align: right;\n",
       "    }\n",
       "</style>\n",
       "<table border=\"1\" class=\"dataframe\">\n",
       "  <thead>\n",
       "    <tr style=\"text-align: right;\">\n",
       "      <th></th>\n",
       "      <th>Pregnancies</th>\n",
       "      <th>Glucose</th>\n",
       "      <th>BloodPressure</th>\n",
       "      <th>SkinThickness</th>\n",
       "      <th>Insulin</th>\n",
       "      <th>BMI</th>\n",
       "      <th>DiabetesPedigreeFunction</th>\n",
       "      <th>Age</th>\n",
       "      <th>Outcome</th>\n",
       "    </tr>\n",
       "  </thead>\n",
       "  <tbody>\n",
       "    <tr>\n",
       "      <th>0</th>\n",
       "      <td>6</td>\n",
       "      <td>148</td>\n",
       "      <td>72</td>\n",
       "      <td>35</td>\n",
       "      <td>0</td>\n",
       "      <td>33.6</td>\n",
       "      <td>0.627</td>\n",
       "      <td>50</td>\n",
       "      <td>1</td>\n",
       "    </tr>\n",
       "    <tr>\n",
       "      <th>1</th>\n",
       "      <td>1</td>\n",
       "      <td>85</td>\n",
       "      <td>66</td>\n",
       "      <td>29</td>\n",
       "      <td>0</td>\n",
       "      <td>26.6</td>\n",
       "      <td>0.351</td>\n",
       "      <td>31</td>\n",
       "      <td>0</td>\n",
       "    </tr>\n",
       "    <tr>\n",
       "      <th>2</th>\n",
       "      <td>8</td>\n",
       "      <td>183</td>\n",
       "      <td>64</td>\n",
       "      <td>0</td>\n",
       "      <td>0</td>\n",
       "      <td>23.3</td>\n",
       "      <td>0.672</td>\n",
       "      <td>32</td>\n",
       "      <td>1</td>\n",
       "    </tr>\n",
       "    <tr>\n",
       "      <th>3</th>\n",
       "      <td>1</td>\n",
       "      <td>89</td>\n",
       "      <td>66</td>\n",
       "      <td>23</td>\n",
       "      <td>94</td>\n",
       "      <td>28.1</td>\n",
       "      <td>0.167</td>\n",
       "      <td>21</td>\n",
       "      <td>0</td>\n",
       "    </tr>\n",
       "    <tr>\n",
       "      <th>4</th>\n",
       "      <td>0</td>\n",
       "      <td>137</td>\n",
       "      <td>40</td>\n",
       "      <td>35</td>\n",
       "      <td>168</td>\n",
       "      <td>43.1</td>\n",
       "      <td>2.288</td>\n",
       "      <td>33</td>\n",
       "      <td>1</td>\n",
       "    </tr>\n",
       "  </tbody>\n",
       "</table>\n",
       "</div>"
      ],
      "text/plain": [
       "   Pregnancies  Glucose  BloodPressure  SkinThickness  Insulin   BMI  \\\n",
       "0            6      148             72             35        0  33.6   \n",
       "1            1       85             66             29        0  26.6   \n",
       "2            8      183             64              0        0  23.3   \n",
       "3            1       89             66             23       94  28.1   \n",
       "4            0      137             40             35      168  43.1   \n",
       "\n",
       "   DiabetesPedigreeFunction  Age  Outcome  \n",
       "0                     0.627   50        1  \n",
       "1                     0.351   31        0  \n",
       "2                     0.672   32        1  \n",
       "3                     0.167   21        0  \n",
       "4                     2.288   33        1  "
      ]
     },
     "execution_count": 66,
     "metadata": {},
     "output_type": "execute_result"
    }
   ],
   "source": [
    "diabetes_df.head(5)"
   ]
  },
  {
   "cell_type": "code",
   "execution_count": 68,
   "metadata": {},
   "outputs": [
    {
     "data": {
      "text/plain": [
       "<AxesSubplot:xlabel='Outcome', ylabel='Count'>"
      ]
     },
     "execution_count": 68,
     "metadata": {},
     "output_type": "execute_result"
    },
    {
     "data": {
      "image/png": "[encoded data removed]",
      "text/plain": [
       "<Figure size 432x288 with 1 Axes>"
      ]
     },
     "metadata": {
      "needs_background": "light"
     },
     "output_type": "display_data"
    }
   ],
   "source": [
    "sns.histplot(data=diabetes_df,x='Outcome')"
   ]
  },
  {
   "cell_type": "code",
   "execution_count": 69,
   "metadata": {},
   "outputs": [
    {
     "data": {
      "text/plain": [
       "(768, 9)"
      ]
     },
     "execution_count": 69,
     "metadata": {},
     "output_type": "execute_result"
    }
   ],
   "source": [
    "diabetes_df.shape"
   ]
  },
  {
   "cell_type": "code",
   "execution_count": 70,
   "metadata": {},
   "outputs": [],
   "source": [
    "diabetes_train, diabetes_test = train_test_split(diabetes_df, test_size=0.2, stratify=diabetes_df[\"Outcome\"])"
   ]
  },
  {
   "cell_type": "code",
   "execution_count": 71,
   "metadata": {},
   "outputs": [
    {
     "data": {
      "text/plain": [
       "(614, 9)"
      ]
     },
     "execution_count": 71,
     "metadata": {},
     "output_type": "execute_result"
    }
   ],
   "source": [
    "diabetes_train.shape"
   ]
  },
  {
   "cell_type": "code",
   "execution_count": 72,
   "metadata": {},
   "outputs": [],
   "source": [
    "def get_diabetes_X(df, scaler=None):\n",
    "    np_arr = df.drop(\"Outcome\", axis=1).values\n",
    "    if scaler:\n",
    "        return scaler.transform(np_arr)\n",
    "    return np_arr"
   ]
  },
  {
   "cell_type": "code",
   "execution_count": 73,
   "metadata": {},
   "outputs": [],
   "source": [
    "def get_diabetes_y(df):\n",
    "    return df['Outcome'].values.astype(np.int)"
   ]
  },
  {
   "cell_type": "code",
   "execution_count": 74,
   "metadata": {},
   "outputs": [],
   "source": [
    "from sklearn.preprocessing import StandardScaler"
   ]
  },
  {
   "cell_type": "code",
   "execution_count": 75,
   "metadata": {},
   "outputs": [],
   "source": [
    "scaler = StandardScaler().fit(get_diabetes_X(diabetes_train))"
   ]
  },
  {
   "cell_type": "code",
   "execution_count": 76,
   "metadata": {},
   "outputs": [],
   "source": [
    "dlr = LogisticRegression().fit(get_diabetes_X(diabetes_train, scaler), get_diabetes_y(diabetes_train))"
   ]
  },
  {
   "cell_type": "code",
   "execution_count": 77,
   "metadata": {},
   "outputs": [],
   "source": [
    "dlr_pred = dlr.predict(get_diabetes_X(diabetes_test, scaler))"
   ]
  },
  {
   "cell_type": "code",
   "execution_count": 78,
   "metadata": {},
   "outputs": [
    {
     "name": "stdout",
     "output_type": "stream",
     "text": [
      "              precision    recall  f1-score   support\n",
      "\n",
      "           0       0.81      0.95      0.88       100\n",
      "           1       0.86      0.59      0.70        54\n",
      "\n",
      "    accuracy                           0.82       154\n",
      "   macro avg       0.84      0.77      0.79       154\n",
      "weighted avg       0.83      0.82      0.82       154\n",
      "\n"
     ]
    }
   ],
   "source": [
    "print(metrics.classification_report(get_diabetes_y(diabetes_test), dlr_pred))"
   ]
  },
  {
   "cell_type": "code",
   "execution_count": 79,
   "metadata": {},
   "outputs": [],
   "source": [
    "from sklearn.model_selection import KFold"
   ]
  },
  {
   "cell_type": "code",
   "execution_count": 80,
   "metadata": {},
   "outputs": [],
   "source": [
    "kfold = KFold(n_splits=5)"
   ]
  },
  {
   "cell_type": "code",
   "execution_count": 81,
   "metadata": {},
   "outputs": [],
   "source": [
    "diabetes_train = diabetes_train.reset_index(drop=True)\n",
    "diabetes_test = diabetes_test.reset_index(drop=True)"
   ]
  },
  {
   "cell_type": "code",
   "execution_count": 82,
   "metadata": {},
   "outputs": [
    {
     "data": {
      "text/plain": [
       "614"
      ]
     },
     "execution_count": 82,
     "metadata": {},
     "output_type": "execute_result"
    }
   ],
   "source": [
    "len(diabetes_train)"
   ]
  },
  {
   "cell_type": "code",
   "execution_count": 83,
   "metadata": {},
   "outputs": [],
   "source": [
    "from sklearn.pipeline import Pipeline"
   ]
  },
  {
   "cell_type": "code",
   "execution_count": 84,
   "metadata": {},
   "outputs": [],
   "source": [
    "from tqdm.notebook import tqdm"
   ]
  },
  {
   "cell_type": "code",
   "execution_count": 85,
   "metadata": {},
   "outputs": [
    {
     "data": {
      "application/vnd.jupyter.widget-view+json": {
       "model_id": "312204140f854f5bb067c5327aeb8d07",
       "version_major": 2,
       "version_minor": 0
      },
      "text/plain": [
       "HBox(children=(FloatProgress(value=1.0, bar_style='info', layout=Layout(width='20px'), max=1.0), HTML(value=''…"
      ]
     },
     "metadata": {},
     "output_type": "display_data"
    },
    {
     "name": "stdout",
     "output_type": "stream",
     "text": [
      "\n"
     ]
    }
   ],
   "source": [
    "models = []\n",
    "f1_scores = []\n",
    "accuracies = []\n",
    "for train_indices, val_indices in tqdm(kfold.split(diabetes_train)):\n",
    "    train_df = diabetes_train.iloc[train_indices]\n",
    "    val_df = diabetes_train.iloc[val_indices]\n",
    "    \n",
    "    model = Pipeline([\n",
    "        ('scaler',StandardScaler()),\n",
    "        ('clf',LogisticRegression())\n",
    "    ])\n",
    "    \n",
    "    model.fit(get_diabetes_X(train_df), get_diabetes_y(train_df))\n",
    "    models.append(model)\n",
    "    \n",
    "    y_pred = model.predict(get_diabetes_X(val_df))\n",
    "    f1 = metrics.f1_score(get_diabetes_y(val_df), y_pred)\n",
    "    accuracy = metrics.accuracy_score(get_diabetes_y(val_df), y_pred)\n",
    "    \n",
    "    f1_scores.append(f1)\n",
    "    accuracies.append(accuracy)"
   ]
  },
  {
   "cell_type": "code",
   "execution_count": 86,
   "metadata": {},
   "outputs": [
    {
     "name": "stdout",
     "output_type": "stream",
     "text": [
      "[0.6666666666666666, 0.6578947368421053, 0.5526315789473685, 0.5757575757575758, 0.605263157894737]\n"
     ]
    }
   ],
   "source": [
    "print(f1_scores)"
   ]
  },
  {
   "cell_type": "code",
   "execution_count": 87,
   "metadata": {},
   "outputs": [
    {
     "name": "stdout",
     "output_type": "stream",
     "text": [
      "[0.7560975609756098, 0.7886178861788617, 0.7235772357723578, 0.7723577235772358, 0.7540983606557377]\n"
     ]
    }
   ],
   "source": [
    "print(accuracies)"
   ]
  },
  {
   "cell_type": "code",
   "execution_count": 88,
   "metadata": {},
   "outputs": [
    {
     "name": "stdout",
     "output_type": "stream",
     "text": [
      "0.7589497534319606\n"
     ]
    }
   ],
   "source": [
    "print(np.mean(accuracies))"
   ]
  },
  {
   "cell_type": "code",
   "execution_count": 89,
   "metadata": {},
   "outputs": [
    {
     "name": "stdout",
     "output_type": "stream",
     "text": [
      "0.6116427432216905\n"
     ]
    }
   ],
   "source": [
    "print(np.mean(f1_scores))"
   ]
  },
  {
   "cell_type": "code",
   "execution_count": 90,
   "metadata": {},
   "outputs": [
    {
     "name": "stdout",
     "output_type": "stream",
     "text": [
      "0.6666666666666666\n",
      "0.6813186813186813\n",
      "0.6813186813186813\n",
      "0.6813186813186813\n",
      "0.6813186813186813\n"
     ]
    }
   ],
   "source": [
    "for clf in models:\n",
    "    y_pred = clf.predict(get_diabetes_X(diabetes_test))\n",
    "    print(metrics.f1_score(get_diabetes_y(diabetes_test), y_pred))"
   ]
  },
  {
   "cell_type": "code",
   "execution_count": 91,
   "metadata": {},
   "outputs": [
    {
     "name": "stdout",
     "output_type": "stream",
     "text": [
      "(154, 2)\n"
     ]
    }
   ],
   "source": [
    "probs = None\n",
    "for clf in models:\n",
    "    if probs is None:\n",
    "        probs = clf.predict_proba(get_diabetes_X(diabetes_test))\n",
    "        print(probs.shape)\n",
    "    else:\n",
    "        probs += clf.predict_proba(get_diabetes_X(diabetes_test))\n",
    "        \n",
    "n_probs = probs / probs.sum(axis=1, keepdims=True)\n"
   ]
  },
  {
   "cell_type": "code",
   "execution_count": 92,
   "metadata": {},
   "outputs": [
    {
     "name": "stdout",
     "output_type": "stream",
     "text": [
      "0.7032967032967032\n"
     ]
    }
   ],
   "source": [
    "y_pred = n_probs.argmax(axis=1)\n",
    "print(metrics.f1_score(get_diabetes_y(diabetes_test), y_pred))"
   ]
  },
  {
   "cell_type": "code",
   "execution_count": 93,
   "metadata": {},
   "outputs": [
    {
     "data": {
      "text/html": [
       "<div>\n",
       "<style scoped>\n",
       "    .dataframe tbody tr th:only-of-type {\n",
       "        vertical-align: middle;\n",
       "    }\n",
       "\n",
       "    .dataframe tbody tr th {\n",
       "        vertical-align: top;\n",
       "    }\n",
       "\n",
       "    .dataframe thead th {\n",
       "        text-align: right;\n",
       "    }\n",
       "</style>\n",
       "<table border=\"1\" class=\"dataframe\">\n",
       "  <thead>\n",
       "    <tr style=\"text-align: right;\">\n",
       "      <th></th>\n",
       "      <th>Pregnancies</th>\n",
       "      <th>Glucose</th>\n",
       "      <th>BloodPressure</th>\n",
       "      <th>SkinThickness</th>\n",
       "      <th>Insulin</th>\n",
       "      <th>BMI</th>\n",
       "      <th>DiabetesPedigreeFunction</th>\n",
       "      <th>Age</th>\n",
       "      <th>Outcome</th>\n",
       "    </tr>\n",
       "  </thead>\n",
       "  <tbody>\n",
       "    <tr>\n",
       "      <th>0</th>\n",
       "      <td>2</td>\n",
       "      <td>108</td>\n",
       "      <td>80</td>\n",
       "      <td>0</td>\n",
       "      <td>0</td>\n",
       "      <td>27.0</td>\n",
       "      <td>0.259</td>\n",
       "      <td>52</td>\n",
       "      <td>1</td>\n",
       "    </tr>\n",
       "    <tr>\n",
       "      <th>1</th>\n",
       "      <td>4</td>\n",
       "      <td>114</td>\n",
       "      <td>64</td>\n",
       "      <td>0</td>\n",
       "      <td>0</td>\n",
       "      <td>28.9</td>\n",
       "      <td>0.126</td>\n",
       "      <td>24</td>\n",
       "      <td>0</td>\n",
       "    </tr>\n",
       "    <tr>\n",
       "      <th>2</th>\n",
       "      <td>2</td>\n",
       "      <td>111</td>\n",
       "      <td>60</td>\n",
       "      <td>0</td>\n",
       "      <td>0</td>\n",
       "      <td>26.2</td>\n",
       "      <td>0.343</td>\n",
       "      <td>23</td>\n",
       "      <td>0</td>\n",
       "    </tr>\n",
       "    <tr>\n",
       "      <th>3</th>\n",
       "      <td>1</td>\n",
       "      <td>87</td>\n",
       "      <td>68</td>\n",
       "      <td>34</td>\n",
       "      <td>77</td>\n",
       "      <td>37.6</td>\n",
       "      <td>0.401</td>\n",
       "      <td>24</td>\n",
       "      <td>0</td>\n",
       "    </tr>\n",
       "    <tr>\n",
       "      <th>4</th>\n",
       "      <td>6</td>\n",
       "      <td>108</td>\n",
       "      <td>44</td>\n",
       "      <td>20</td>\n",
       "      <td>130</td>\n",
       "      <td>24.0</td>\n",
       "      <td>0.813</td>\n",
       "      <td>35</td>\n",
       "      <td>0</td>\n",
       "    </tr>\n",
       "    <tr>\n",
       "      <th>...</th>\n",
       "      <td>...</td>\n",
       "      <td>...</td>\n",
       "      <td>...</td>\n",
       "      <td>...</td>\n",
       "      <td>...</td>\n",
       "      <td>...</td>\n",
       "      <td>...</td>\n",
       "      <td>...</td>\n",
       "      <td>...</td>\n",
       "    </tr>\n",
       "    <tr>\n",
       "      <th>149</th>\n",
       "      <td>2</td>\n",
       "      <td>146</td>\n",
       "      <td>76</td>\n",
       "      <td>35</td>\n",
       "      <td>194</td>\n",
       "      <td>38.2</td>\n",
       "      <td>0.329</td>\n",
       "      <td>29</td>\n",
       "      <td>0</td>\n",
       "    </tr>\n",
       "    <tr>\n",
       "      <th>150</th>\n",
       "      <td>0</td>\n",
       "      <td>161</td>\n",
       "      <td>50</td>\n",
       "      <td>0</td>\n",
       "      <td>0</td>\n",
       "      <td>21.9</td>\n",
       "      <td>0.254</td>\n",
       "      <td>65</td>\n",
       "      <td>0</td>\n",
       "    </tr>\n",
       "    <tr>\n",
       "      <th>151</th>\n",
       "      <td>9</td>\n",
       "      <td>184</td>\n",
       "      <td>85</td>\n",
       "      <td>15</td>\n",
       "      <td>0</td>\n",
       "      <td>30.0</td>\n",
       "      <td>1.213</td>\n",
       "      <td>49</td>\n",
       "      <td>1</td>\n",
       "    </tr>\n",
       "    <tr>\n",
       "      <th>152</th>\n",
       "      <td>0</td>\n",
       "      <td>131</td>\n",
       "      <td>88</td>\n",
       "      <td>0</td>\n",
       "      <td>0</td>\n",
       "      <td>31.6</td>\n",
       "      <td>0.743</td>\n",
       "      <td>32</td>\n",
       "      <td>1</td>\n",
       "    </tr>\n",
       "    <tr>\n",
       "      <th>153</th>\n",
       "      <td>6</td>\n",
       "      <td>87</td>\n",
       "      <td>80</td>\n",
       "      <td>0</td>\n",
       "      <td>0</td>\n",
       "      <td>23.2</td>\n",
       "      <td>0.084</td>\n",
       "      <td>32</td>\n",
       "      <td>0</td>\n",
       "    </tr>\n",
       "  </tbody>\n",
       "</table>\n",
       "<p>154 rows × 9 columns</p>\n",
       "</div>"
      ],
      "text/plain": [
       "     Pregnancies  Glucose  BloodPressure  SkinThickness  Insulin   BMI  \\\n",
       "0              2      108             80              0        0  27.0   \n",
       "1              4      114             64              0        0  28.9   \n",
       "2              2      111             60              0        0  26.2   \n",
       "3              1       87             68             34       77  37.6   \n",
       "4              6      108             44             20      130  24.0   \n",
       "..           ...      ...            ...            ...      ...   ...   \n",
       "149            2      146             76             35      194  38.2   \n",
       "150            0      161             50              0        0  21.9   \n",
       "151            9      184             85             15        0  30.0   \n",
       "152            0      131             88              0        0  31.6   \n",
       "153            6       87             80              0        0  23.2   \n",
       "\n",
       "     DiabetesPedigreeFunction  Age  Outcome  \n",
       "0                       0.259   52        1  \n",
       "1                       0.126   24        0  \n",
       "2                       0.343   23        0  \n",
       "3                       0.401   24        0  \n",
       "4                       0.813   35        0  \n",
       "..                        ...  ...      ...  \n",
       "149                     0.329   29        0  \n",
       "150                     0.254   65        0  \n",
       "151                     1.213   49        1  \n",
       "152                     0.743   32        1  \n",
       "153                     0.084   32        0  \n",
       "\n",
       "[154 rows x 9 columns]"
      ]
     },
     "execution_count": 93,
     "metadata": {},
     "output_type": "execute_result"
    }
   ],
   "source": [
    "diabetes_test"
   ]
  },
  {
   "cell_type": "code",
   "execution_count": 94,
   "metadata": {},
   "outputs": [],
   "source": [
    "probs = dlr.predict_proba(get_diabetes_X(diabetes_test,scaler))"
   ]
  },
  {
   "cell_type": "code",
   "execution_count": 95,
   "metadata": {},
   "outputs": [],
   "source": [
    "fpr, tpr, thresholds = metrics.roc_curve(get_diabetes_y(diabetes_test),probs[:,1])"
   ]
  },
  {
   "cell_type": "code",
   "execution_count": 96,
   "metadata": {},
   "outputs": [
    {
     "data": {
      "text/plain": [
       "Text(0, 0.5, 'True positive rate')"
      ]
     },
     "execution_count": 96,
     "metadata": {},
     "output_type": "execute_result"
    },
    {
     "data": {
      "image/png": "[encoded data removed]",
      "text/plain": [
       "<Figure size 432x288 with 1 Axes>"
      ]
     },
     "metadata": {
      "needs_background": "light"
     },
     "output_type": "display_data"
    }
   ],
   "source": [
    "ax = sns.lineplot(x=fpr, y=tpr)\n",
    "ax.set_xlabel('False positive rate')\n",
    "ax.set_ylabel('True positive rate')"
   ]
  },
  {
   "cell_type": "code",
   "execution_count": 97,
   "metadata": {},
   "outputs": [
    {
     "name": "stdout",
     "output_type": "stream",
     "text": [
      "0.8418518518518519\n"
     ]
    }
   ],
   "source": [
    "print(metrics.roc_auc_score(get_diabetes_y(diabetes_test),probs[:,1]))"
   ]
  },
  {
   "cell_type": "code",
   "execution_count": 102,
   "metadata": {},
   "outputs": [],
   "source": [
    "precision, recall, thresholds = metrics.precision_recall_curve(get_diabetes_y(diabetes_test),probs[:,1])"
   ]
  },
  {
   "cell_type": "code",
   "execution_count": 103,
   "metadata": {},
   "outputs": [
    {
     "data": {
      "text/plain": [
       "Text(0, 0.5, 'recall')"
      ]
     },
     "execution_count": 103,
     "metadata": {},
     "output_type": "execute_result"
    },
    {
     "data": {
      "image/png": "[encoded data removed]",
      "text/plain": [
       "<Figure size 432x288 with 1 Axes>"
      ]
     },
     "metadata": {
      "needs_background": "light"
     },
     "output_type": "display_data"
    }
   ],
   "source": [
    "ax = sns.lineplot(x=precision, y=recall)\n",
    "ax.set_xlabel('precision')\n",
    "ax.set_ylabel('recall')"
   ]
  },
  {
   "cell_type": "code",
   "execution_count": 99,
   "metadata": {},
   "outputs": [],
   "source": [
    "total = 0\n",
    "greater = 0\n",
    "for y_true1, y_score1 in zip(get_diabetes_y(diabetes_test), probs[:,1]):\n",
    "    for y_true2, y_score2 in zip(get_diabetes_y(diabetes_test), probs[:,1]):\n",
    "        if y_true1 > y_true2:\n",
    "            total += 1\n",
    "            if y_score1 > y_score2:\n",
    "                greater += 1"
   ]
  },
  {
   "cell_type": "code",
   "execution_count": 101,
   "metadata": {},
   "outputs": [
    {
     "data": {
      "text/plain": [
       "0.8418518518518519"
      ]
     },
     "execution_count": 101,
     "metadata": {},
     "output_type": "execute_result"
    }
   ],
   "source": [
    " greater / total"
   ]
  },
  {
   "cell_type": "code",
   "execution_count": null,
   "metadata": {},
   "outputs": [],
   "source": []
  }
 ],
 "metadata": {
  "kernelspec": {
   "display_name": "Python 3",
   "language": "python",
   "name": "python3"
  },
  "language_info": {
   "codemirror_mode": {
    "name": "ipython",
    "version": 3
   },
   "file_extension": ".py",
   "mimetype": "text/x-python",
   "name": "python",
   "nbconvert_exporter": "python",
   "pygments_lexer": "ipython3",
   "version": "3.7.9"
  }
 },
 "nbformat": 4,
 "nbformat_minor": 4
}

{
 "cells": [
  {
   "cell_type": "code",
   "execution_count": 1,
   "metadata": {},
   "outputs": [],
   "source": [
    "from facenet_pytorch import MTCNN, InceptionResnetV1\n",
    "import torch\n",
    "from torch.utils.data import DataLoader\n",
    "from torchvision import datasets\n",
    "import numpy as np\n",
    "import pandas as pd\n",
    "import os\n",
    "import matplotlib.pyplot as plt\n",
    "workers = 0 if os.name == 'nt' else 4"
   ]
  },
  {
   "cell_type": "code",
   "execution_count": 2,
   "metadata": {},
   "outputs": [
    {
     "name": "stdout",
     "output_type": "stream",
     "text": [
      "Thu Dec 10 09:29:05 2020       \r\n",
      "+-----------------------------------------------------------------------------+\r\n",
      "| NVIDIA-SMI 440.33.01    Driver Version: 440.33.01    CUDA Version: 10.2     |\r\n",
      "|-------------------------------+----------------------+----------------------+\r\n",
      "| GPU  Name        Persistence-M| Bus-Id        Disp.A | Volatile Uncorr. ECC |\r\n",
      "| Fan  Temp  Perf  Pwr:Usage/Cap|         Memory-Usage | GPU-Util  Compute M. |\r\n",
      "|===============================+======================+======================|\r\n",
      "|   0  Tesla V100-SXM2...  On   | 00000000:00:06.0 Off |                  Off |\r\n",
      "| N/A   33C    P0    49W / 300W |   1420MiB / 16160MiB |      0%      Default |\r\n",
      "+-------------------------------+----------------------+----------------------+\r\n",
      "                                                                               \r\n",
      "+-----------------------------------------------------------------------------+\r\n",
      "| Processes:                                                       GPU Memory |\r\n",
      "|  GPU       PID   Type   Process name                             Usage      |\r\n",
      "|=============================================================================|\r\n",
      "|    0      7495      C   /home/ivan/dl_env/bin/python                1409MiB |\r\n",
      "+-----------------------------------------------------------------------------+\r\n"
     ]
    }
   ],
   "source": [
    "!nvidia-smi"
   ]
  },
  {
   "cell_type": "code",
   "execution_count": 3,
   "metadata": {},
   "outputs": [
    {
     "name": "stdout",
     "output_type": "stream",
     "text": [
      "Running on device: cuda:0\n"
     ]
    }
   ],
   "source": [
    "device = torch.device('cuda:0' if torch.cuda.is_available() else 'cpu')\n",
    "print('Running on device: {}'.format(device))"
   ]
  },
  {
   "cell_type": "code",
   "execution_count": 4,
   "metadata": {},
   "outputs": [],
   "source": [
    "\n",
    "mtcnn = MTCNN(\n",
    "    image_size=160, margin=0, min_face_size=20,\n",
    "    thresholds=[0.6, 0.7, 0.7], factor=0.709, post_process=True,\n",
    "    device=device\n",
    ")"
   ]
  },
  {
   "cell_type": "code",
   "execution_count": 5,
   "metadata": {},
   "outputs": [
    {
     "name": "stdout",
     "output_type": "stream",
     "text": [
      "Help on class MTCNN in module facenet_pytorch.models.mtcnn:\n",
      "\n",
      "class MTCNN(torch.nn.modules.module.Module)\n",
      " |  MTCNN(image_size=160, margin=0, min_face_size=20, thresholds=[0.6, 0.7, 0.7], factor=0.709, post_process=True, select_largest=True, selection_method=None, keep_all=False, device=None)\n",
      " |  \n",
      " |  MTCNN face detection module.\n",
      " |  \n",
      " |  This class loads pretrained P-, R-, and O-nets and returns images cropped to include the face\n",
      " |  only, given raw input images of one of the following types:\n",
      " |      - PIL image or list of PIL images\n",
      " |      - numpy.ndarray (uint8) representing either a single image (3D) or a batch of images (4D).\n",
      " |  Cropped faces can optionally be saved to file\n",
      " |  also.\n",
      " |  \n",
      " |  Keyword Arguments:\n",
      " |      image_size {int} -- Output image size in pixels. The image will be square. (default: {160})\n",
      " |      margin {int} -- Margin to add to bounding box, in terms of pixels in the final image. \n",
      " |          Note that the application of the margin differs slightly from the davidsandberg/facenet\n",
      " |          repo, which applies the margin to the original image before resizing, making the margin\n",
      " |          dependent on the original image size (this is a bug in davidsandberg/facenet).\n",
      " |          (default: {0})\n",
      " |      min_face_size {int} -- Minimum face size to search for. (default: {20})\n",
      " |      thresholds {list} -- MTCNN face detection thresholds (default: {[0.6, 0.7, 0.7]})\n",
      " |      factor {float} -- Factor used to create a scaling pyramid of face sizes. (default: {0.709})\n",
      " |      post_process {bool} -- Whether or not to post process images tensors before returning.\n",
      " |          (default: {True})\n",
      " |      select_largest {bool} -- If True, if multiple faces are detected, the largest is returned.\n",
      " |          If False, the face with the highest detection probability is returned.\n",
      " |          (default: {True})\n",
      " |      selection_method {string} -- Which heuristic to use for selection. Default None. If\n",
      " |          specified, will override select_largest:\n",
      " |                  \"probability\": highest probability selected\n",
      " |                  \"largest\": largest box selected\n",
      " |                  \"largest_over_theshold\": largest box over a certain probability selected\n",
      " |                  \"center_weighted_size\": box size minus weighted squared offset from image center\n",
      " |              (default: {None})\n",
      " |      keep_all {bool} -- If True, all detected faces are returned, in the order dictated by the\n",
      " |          select_largest parameter. If a save_path is specified, the first face is saved to that\n",
      " |          path and the remaining faces are saved to <save_path>1, <save_path>2 etc.\n",
      " |          (default: {False})\n",
      " |      device {torch.device} -- The device on which to run neural net passes. Image tensors and\n",
      " |          models are copied to this device before running forward passes. (default: {None})\n",
      " |  \n",
      " |  Method resolution order:\n",
      " |      MTCNN\n",
      " |      torch.nn.modules.module.Module\n",
      " |      builtins.object\n",
      " |  \n",
      " |  Methods defined here:\n",
      " |  \n",
      " |  __init__(self, image_size=160, margin=0, min_face_size=20, thresholds=[0.6, 0.7, 0.7], factor=0.709, post_process=True, select_largest=True, selection_method=None, keep_all=False, device=None)\n",
      " |      Initializes internal Module state, shared by both nn.Module and ScriptModule.\n",
      " |  \n",
      " |  detect(self, img, landmarks=False)\n",
      " |      Detect all faces in PIL image and return bounding boxes and optional facial landmarks.\n",
      " |      \n",
      " |      This method is used by the forward method and is also useful for face detection tasks\n",
      " |      that require lower-level handling of bounding boxes and facial landmarks (e.g., face\n",
      " |      tracking). The functionality of the forward function can be emulated by using this method\n",
      " |      followed by the extract_face() function.\n",
      " |      \n",
      " |      Arguments:\n",
      " |          img {PIL.Image, np.ndarray, or list} -- A PIL image, np.ndarray, torch.Tensor, or list.\n",
      " |      \n",
      " |      Keyword Arguments:\n",
      " |          landmarks {bool} -- Whether to return facial landmarks in addition to bounding boxes.\n",
      " |              (default: {False})\n",
      " |      \n",
      " |      Returns:\n",
      " |          tuple(numpy.ndarray, list) -- For N detected faces, a tuple containing an\n",
      " |              Nx4 array of bounding boxes and a length N list of detection probabilities.\n",
      " |              Returned boxes will be sorted in descending order by detection probability if\n",
      " |              self.select_largest=False, otherwise the largest face will be returned first.\n",
      " |              If `img` is a list of images, the items returned have an extra dimension\n",
      " |              (batch) as the first dimension. Optionally, a third item, the facial landmarks,\n",
      " |              are returned if `landmarks=True`.\n",
      " |      \n",
      " |      Example:\n",
      " |      >>> from PIL import Image, ImageDraw\n",
      " |      >>> from facenet_pytorch import MTCNN, extract_face\n",
      " |      >>> mtcnn = MTCNN(keep_all=True)\n",
      " |      >>> boxes, probs, points = mtcnn.detect(img, landmarks=True)\n",
      " |      >>> # Draw boxes and save faces\n",
      " |      >>> img_draw = img.copy()\n",
      " |      >>> draw = ImageDraw.Draw(img_draw)\n",
      " |      >>> for i, (box, point) in enumerate(zip(boxes, points)):\n",
      " |      ...     draw.rectangle(box.tolist(), width=5)\n",
      " |      ...     for p in point:\n",
      " |      ...         draw.rectangle((p - 10).tolist() + (p + 10).tolist(), width=10)\n",
      " |      ...     extract_face(img, box, save_path='detected_face_{}.png'.format(i))\n",
      " |      >>> img_draw.save('annotated_faces.png')\n",
      " |  \n",
      " |  extract(self, img, batch_boxes, save_path)\n",
      " |  \n",
      " |  forward(self, img, save_path=None, return_prob=False)\n",
      " |      Run MTCNN face detection on a PIL image or numpy array. This method performs both\n",
      " |      detection and extraction of faces, returning tensors representing detected faces rather\n",
      " |      than the bounding boxes. To access bounding boxes, see the MTCNN.detect() method below.\n",
      " |      \n",
      " |      Arguments:\n",
      " |          img {PIL.Image, np.ndarray, or list} -- A PIL image, np.ndarray, torch.Tensor, or list.\n",
      " |      \n",
      " |      Keyword Arguments:\n",
      " |          save_path {str} -- An optional save path for the cropped image. Note that when\n",
      " |              self.post_process=True, although the returned tensor is post processed, the saved\n",
      " |              face image is not, so it is a true representation of the face in the input image.\n",
      " |              If `img` is a list of images, `save_path` should be a list of equal length.\n",
      " |              (default: {None})\n",
      " |          return_prob {bool} -- Whether or not to return the detection probability.\n",
      " |              (default: {False})\n",
      " |      \n",
      " |      Returns:\n",
      " |          Union[torch.Tensor, tuple(torch.tensor, float)] -- If detected, cropped image of a face\n",
      " |              with dimensions 3 x image_size x image_size. Optionally, the probability that a\n",
      " |              face was detected. If self.keep_all is True, n detected faces are returned in an\n",
      " |              n x 3 x image_size x image_size tensor with an optional list of detection\n",
      " |              probabilities. If `img` is a list of images, the item(s) returned have an extra \n",
      " |              dimension (batch) as the first dimension.\n",
      " |      \n",
      " |      Example:\n",
      " |      >>> from facenet_pytorch import MTCNN\n",
      " |      >>> mtcnn = MTCNN()\n",
      " |      >>> face_tensor, prob = mtcnn(img, save_path='face.png', return_prob=True)\n",
      " |  \n",
      " |  select_boxes(self, all_boxes, all_probs, all_points, imgs, method='probability', threshold=0.9, center_weight=2.0)\n",
      " |      Selects a single box from multiple for a given image using one of multiple heuristics.\n",
      " |      \n",
      " |      Arguments:\n",
      " |              all_boxes {np.ndarray} -- Ix0 ndarray where each element is a Nx4 ndarry of\n",
      " |                  bounding boxes for N detected faces in I images (output from self.detect).\n",
      " |              all_probs {np.ndarray} -- Ix0 ndarray where each element is a Nx0 ndarry of\n",
      " |                  probabilities for N detected faces in I images (output from self.detect).\n",
      " |              all_points {np.ndarray} -- Ix0 ndarray where each element is a Nx5x2 array of\n",
      " |                  points for N detected faces. (output from self.detect).\n",
      " |              imgs {PIL.Image, np.ndarray, or list} -- A PIL image, np.ndarray, torch.Tensor, or list.\n",
      " |      \n",
      " |      Keyword Arguments:\n",
      " |              method {str} -- Which heuristic to use for selection:\n",
      " |                  \"probability\": highest probability selected\n",
      " |                  \"largest\": largest box selected\n",
      " |                  \"largest_over_theshold\": largest box over a certain probability selected\n",
      " |                  \"center_weighted_size\": box size minus weighted squared offset from image center\n",
      " |                  (default: {'probability'})\n",
      " |              threshold {float} -- theshold for \"largest_over_threshold\" method. (default: {0.9})\n",
      " |              center_weight {float} -- weight for squared offset in center weighted size method.\n",
      " |                  (default: {2.0})\n",
      " |      \n",
      " |      Returns:\n",
      " |              tuple(numpy.ndarray, numpy.ndarray, numpy.ndarray) -- nx4 ndarray of bounding boxes\n",
      " |                  for n images. Ix0 array of probabilities for each box, array of landmark points.\n",
      " |  \n",
      " |  ----------------------------------------------------------------------\n",
      " |  Methods inherited from torch.nn.modules.module.Module:\n",
      " |  \n",
      " |  __call__ = _call_impl(self, *input, **kwargs)\n",
      " |  \n",
      " |  __delattr__(self, name)\n",
      " |      Implement delattr(self, name).\n",
      " |  \n",
      " |  __dir__(self)\n",
      " |      Default dir() implementation.\n",
      " |  \n",
      " |  __getattr__(self, name: str) -> Union[torch.Tensor, ForwardRef('Module')]\n",
      " |  \n",
      " |  __repr__(self)\n",
      " |      Return repr(self).\n",
      " |  \n",
      " |  __setattr__(self, name: str, value: Union[torch.Tensor, ForwardRef('Module')]) -> None\n",
      " |      Implement setattr(self, name, value).\n",
      " |  \n",
      " |  __setstate__(self, state)\n",
      " |  \n",
      " |  add_module(self, name: str, module: Union[ForwardRef('Module'), NoneType]) -> None\n",
      " |      Adds a child module to the current module.\n",
      " |      \n",
      " |      The module can be accessed as an attribute using the given name.\n",
      " |      \n",
      " |      Args:\n",
      " |          name (string): name of the child module. The child module can be\n",
      " |              accessed from this module using the given name\n",
      " |          module (Module): child module to be added to the module.\n",
      " |  \n",
      " |  apply(self: ~T, fn: Callable[[ForwardRef('Module')], NoneType]) -> ~T\n",
      " |      Applies ``fn`` recursively to every submodule (as returned by ``.children()``)\n",
      " |      as well as self. Typical use includes initializing the parameters of a model\n",
      " |      (see also :ref:`nn-init-doc`).\n",
      " |      \n",
      " |      Args:\n",
      " |          fn (:class:`Module` -> None): function to be applied to each submodule\n",
      " |      \n",
      " |      Returns:\n",
      " |          Module: self\n",
      " |      \n",
      " |      Example::\n",
      " |      \n",
      " |          >>> @torch.no_grad()\n",
      " |          >>> def init_weights(m):\n",
      " |          >>>     print(m)\n",
      " |          >>>     if type(m) == nn.Linear:\n",
      " |          >>>         m.weight.fill_(1.0)\n",
      " |          >>>         print(m.weight)\n",
      " |          >>> net = nn.Sequential(nn.Linear(2, 2), nn.Linear(2, 2))\n",
      " |          >>> net.apply(init_weights)\n",
      " |          Linear(in_features=2, out_features=2, bias=True)\n",
      " |          Parameter containing:\n",
      " |          tensor([[ 1.,  1.],\n",
      " |                  [ 1.,  1.]])\n",
      " |          Linear(in_features=2, out_features=2, bias=True)\n",
      " |          Parameter containing:\n",
      " |          tensor([[ 1.,  1.],\n",
      " |                  [ 1.,  1.]])\n",
      " |          Sequential(\n",
      " |            (0): Linear(in_features=2, out_features=2, bias=True)\n",
      " |            (1): Linear(in_features=2, out_features=2, bias=True)\n",
      " |          )\n",
      " |          Sequential(\n",
      " |            (0): Linear(in_features=2, out_features=2, bias=True)\n",
      " |            (1): Linear(in_features=2, out_features=2, bias=True)\n",
      " |          )\n",
      " |  \n",
      " |  bfloat16(self: ~T) -> ~T\n",
      " |      Casts all floating point parameters and buffers to ``bfloat16`` datatype.\n",
      " |      \n",
      " |      Returns:\n",
      " |          Module: self\n",
      " |  \n",
      " |  buffers(self, recurse: bool = True) -> Iterator[torch.Tensor]\n",
      " |      Returns an iterator over module buffers.\n",
      " |      \n",
      " |      Args:\n",
      " |          recurse (bool): if True, then yields buffers of this module\n",
      " |              and all submodules. Otherwise, yields only buffers that\n",
      " |              are direct members of this module.\n",
      " |      \n",
      " |      Yields:\n",
      " |          torch.Tensor: module buffer\n",
      " |      \n",
      " |      Example::\n",
      " |      \n",
      " |          >>> for buf in model.buffers():\n",
      " |          >>>     print(type(buf), buf.size())\n",
      " |          <class 'torch.Tensor'> (20L,)\n",
      " |          <class 'torch.Tensor'> (20L, 1L, 5L, 5L)\n",
      " |  \n",
      " |  children(self) -> Iterator[ForwardRef('Module')]\n",
      " |      Returns an iterator over immediate children modules.\n",
      " |      \n",
      " |      Yields:\n",
      " |          Module: a child module\n",
      " |  \n",
      " |  cpu(self: ~T) -> ~T\n",
      " |      Moves all model parameters and buffers to the CPU.\n",
      " |      \n",
      " |      Returns:\n",
      " |          Module: self\n",
      " |  \n",
      " |  cuda(self: ~T, device: Union[int, torch.device, NoneType] = None) -> ~T\n",
      " |      Moves all model parameters and buffers to the GPU.\n",
      " |      \n",
      " |      This also makes associated parameters and buffers different objects. So\n",
      " |      it should be called before constructing optimizer if the module will\n",
      " |      live on GPU while being optimized.\n",
      " |      \n",
      " |      Arguments:\n",
      " |          device (int, optional): if specified, all parameters will be\n",
      " |              copied to that device\n",
      " |      \n",
      " |      Returns:\n",
      " |          Module: self\n",
      " |  \n",
      " |  double(self: ~T) -> ~T\n",
      " |      Casts all floating point parameters and buffers to ``double`` datatype.\n",
      " |      \n",
      " |      Returns:\n",
      " |          Module: self\n",
      " |  \n",
      " |  eval(self: ~T) -> ~T\n",
      " |      Sets the module in evaluation mode.\n",
      " |      \n",
      " |      This has any effect only on certain modules. See documentations of\n",
      " |      particular modules for details of their behaviors in training/evaluation\n",
      " |      mode, if they are affected, e.g. :class:`Dropout`, :class:`BatchNorm`,\n",
      " |      etc.\n",
      " |      \n",
      " |      This is equivalent with :meth:`self.train(False) <torch.nn.Module.train>`.\n",
      " |      \n",
      " |      Returns:\n",
      " |          Module: self\n",
      " |  \n",
      " |  extra_repr(self) -> str\n",
      " |      Set the extra representation of the module\n",
      " |      \n",
      " |      To print customized extra information, you should re-implement\n",
      " |      this method in your own modules. Both single-line and multi-line\n",
      " |      strings are acceptable.\n",
      " |  \n",
      " |  float(self: ~T) -> ~T\n",
      " |      Casts all floating point parameters and buffers to float datatype.\n",
      " |      \n",
      " |      Returns:\n",
      " |          Module: self\n",
      " |  \n",
      " |  half(self: ~T) -> ~T\n",
      " |      Casts all floating point parameters and buffers to ``half`` datatype.\n",
      " |      \n",
      " |      Returns:\n",
      " |          Module: self\n",
      " |  \n",
      " |  load_state_dict(self, state_dict: Dict[str, torch.Tensor], strict: bool = True)\n",
      " |      Copies parameters and buffers from :attr:`state_dict` into\n",
      " |      this module and its descendants. If :attr:`strict` is ``True``, then\n",
      " |      the keys of :attr:`state_dict` must exactly match the keys returned\n",
      " |      by this module's :meth:`~torch.nn.Module.state_dict` function.\n",
      " |      \n",
      " |      Arguments:\n",
      " |          state_dict (dict): a dict containing parameters and\n",
      " |              persistent buffers.\n",
      " |          strict (bool, optional): whether to strictly enforce that the keys\n",
      " |              in :attr:`state_dict` match the keys returned by this module's\n",
      " |              :meth:`~torch.nn.Module.state_dict` function. Default: ``True``\n",
      " |      \n",
      " |      Returns:\n",
      " |          ``NamedTuple`` with ``missing_keys`` and ``unexpected_keys`` fields:\n",
      " |              * **missing_keys** is a list of str containing the missing keys\n",
      " |              * **unexpected_keys** is a list of str containing the unexpected keys\n",
      " |  \n",
      " |  modules(self) -> Iterator[ForwardRef('Module')]\n",
      " |      Returns an iterator over all modules in the network.\n",
      " |      \n",
      " |      Yields:\n",
      " |          Module: a module in the network\n",
      " |      \n",
      " |      Note:\n",
      " |          Duplicate modules are returned only once. In the following\n",
      " |          example, ``l`` will be returned only once.\n",
      " |      \n",
      " |      Example::\n",
      " |      \n",
      " |          >>> l = nn.Linear(2, 2)\n",
      " |          >>> net = nn.Sequential(l, l)\n",
      " |          >>> for idx, m in enumerate(net.modules()):\n",
      " |                  print(idx, '->', m)\n",
      " |      \n",
      " |          0 -> Sequential(\n",
      " |            (0): Linear(in_features=2, out_features=2, bias=True)\n",
      " |            (1): Linear(in_features=2, out_features=2, bias=True)\n",
      " |          )\n",
      " |          1 -> Linear(in_features=2, out_features=2, bias=True)\n",
      " |  \n",
      " |  named_buffers(self, prefix: str = '', recurse: bool = True) -> Iterator[Tuple[str, torch.Tensor]]\n",
      " |      Returns an iterator over module buffers, yielding both the\n",
      " |      name of the buffer as well as the buffer itself.\n",
      " |      \n",
      " |      Args:\n",
      " |          prefix (str): prefix to prepend to all buffer names.\n",
      " |          recurse (bool): if True, then yields buffers of this module\n",
      " |              and all submodules. Otherwise, yields only buffers that\n",
      " |              are direct members of this module.\n",
      " |      \n",
      " |      Yields:\n",
      " |          (string, torch.Tensor): Tuple containing the name and buffer\n",
      " |      \n",
      " |      Example::\n",
      " |      \n",
      " |          >>> for name, buf in self.named_buffers():\n",
      " |          >>>    if name in ['running_var']:\n",
      " |          >>>        print(buf.size())\n",
      " |  \n",
      " |  named_children(self) -> Iterator[Tuple[str, ForwardRef('Module')]]\n",
      " |      Returns an iterator over immediate children modules, yielding both\n",
      " |      the name of the module as well as the module itself.\n",
      " |      \n",
      " |      Yields:\n",
      " |          (string, Module): Tuple containing a name and child module\n",
      " |      \n",
      " |      Example::\n",
      " |      \n",
      " |          >>> for name, module in model.named_children():\n",
      " |          >>>     if name in ['conv4', 'conv5']:\n",
      " |          >>>         print(module)\n",
      " |  \n",
      " |  named_modules(self, memo: Union[Set[ForwardRef('Module')], NoneType] = None, prefix: str = '')\n",
      " |      Returns an iterator over all modules in the network, yielding\n",
      " |      both the name of the module as well as the module itself.\n",
      " |      \n",
      " |      Yields:\n",
      " |          (string, Module): Tuple of name and module\n",
      " |      \n",
      " |      Note:\n",
      " |          Duplicate modules are returned only once. In the following\n",
      " |          example, ``l`` will be returned only once.\n",
      " |      \n",
      " |      Example::\n",
      " |      \n",
      " |          >>> l = nn.Linear(2, 2)\n",
      " |          >>> net = nn.Sequential(l, l)\n",
      " |          >>> for idx, m in enumerate(net.named_modules()):\n",
      " |                  print(idx, '->', m)\n",
      " |      \n",
      " |          0 -> ('', Sequential(\n",
      " |            (0): Linear(in_features=2, out_features=2, bias=True)\n",
      " |            (1): Linear(in_features=2, out_features=2, bias=True)\n",
      " |          ))\n",
      " |          1 -> ('0', Linear(in_features=2, out_features=2, bias=True))\n",
      " |  \n",
      " |  named_parameters(self, prefix: str = '', recurse: bool = True) -> Iterator[Tuple[str, torch.Tensor]]\n",
      " |      Returns an iterator over module parameters, yielding both the\n",
      " |      name of the parameter as well as the parameter itself.\n",
      " |      \n",
      " |      Args:\n",
      " |          prefix (str): prefix to prepend to all parameter names.\n",
      " |          recurse (bool): if True, then yields parameters of this module\n",
      " |              and all submodules. Otherwise, yields only parameters that\n",
      " |              are direct members of this module.\n",
      " |      \n",
      " |      Yields:\n",
      " |          (string, Parameter): Tuple containing the name and parameter\n",
      " |      \n",
      " |      Example::\n",
      " |      \n",
      " |          >>> for name, param in self.named_parameters():\n",
      " |          >>>    if name in ['bias']:\n",
      " |          >>>        print(param.size())\n",
      " |  \n",
      " |  parameters(self, recurse: bool = True) -> Iterator[torch.nn.parameter.Parameter]\n",
      " |      Returns an iterator over module parameters.\n",
      " |      \n",
      " |      This is typically passed to an optimizer.\n",
      " |      \n",
      " |      Args:\n",
      " |          recurse (bool): if True, then yields parameters of this module\n",
      " |              and all submodules. Otherwise, yields only parameters that\n",
      " |              are direct members of this module.\n",
      " |      \n",
      " |      Yields:\n",
      " |          Parameter: module parameter\n",
      " |      \n",
      " |      Example::\n",
      " |      \n",
      " |          >>> for param in model.parameters():\n",
      " |          >>>     print(type(param), param.size())\n",
      " |          <class 'torch.Tensor'> (20L,)\n",
      " |          <class 'torch.Tensor'> (20L, 1L, 5L, 5L)\n",
      " |  \n",
      " |  register_backward_hook(self, hook: Callable[[ForwardRef('Module'), Union[Tuple[torch.Tensor, ...], torch.Tensor], Union[Tuple[torch.Tensor, ...], torch.Tensor]], Union[NoneType, torch.Tensor]]) -> torch.utils.hooks.RemovableHandle\n",
      " |      Registers a backward hook on the module.\n",
      " |      \n",
      " |      .. warning ::\n",
      " |      \n",
      " |          The current implementation will not have the presented behavior\n",
      " |          for complex :class:`Module` that perform many operations.\n",
      " |          In some failure cases, :attr:`grad_input` and :attr:`grad_output` will only\n",
      " |          contain the gradients for a subset of the inputs and outputs.\n",
      " |          For such :class:`Module`, you should use :func:`torch.Tensor.register_hook`\n",
      " |          directly on a specific input or output to get the required gradients.\n",
      " |      \n",
      " |      The hook will be called every time the gradients with respect to module\n",
      " |      inputs are computed. The hook should have the following signature::\n",
      " |      \n",
      " |          hook(module, grad_input, grad_output) -> Tensor or None\n",
      " |      \n",
      " |      The :attr:`grad_input` and :attr:`grad_output` may be tuples if the\n",
      " |      module has multiple inputs or outputs. The hook should not modify its\n",
      " |      arguments, but it can optionally return a new gradient with respect to\n",
      " |      input that will be used in place of :attr:`grad_input` in subsequent\n",
      " |      computations. :attr:`grad_input` will only correspond to the inputs given\n",
      " |      as positional arguments.\n",
      " |      \n",
      " |      Returns:\n",
      " |          :class:`torch.utils.hooks.RemovableHandle`:\n",
      " |              a handle that can be used to remove the added hook by calling\n",
      " |              ``handle.remove()``\n",
      " |  \n",
      " |  register_buffer(self, name: str, tensor: Union[torch.Tensor, NoneType], persistent: bool = True) -> None\n",
      " |      Adds a buffer to the module.\n",
      " |      \n",
      " |      This is typically used to register a buffer that should not to be\n",
      " |      considered a model parameter. For example, BatchNorm's ``running_mean``\n",
      " |      is not a parameter, but is part of the module's state. Buffers, by\n",
      " |      default, are persistent and will be saved alongside parameters. This\n",
      " |      behavior can be changed by setting :attr:`persistent` to ``False``. The\n",
      " |      only difference between a persistent buffer and a non-persistent buffer\n",
      " |      is that the latter will not be a part of this module's\n",
      " |      :attr:`state_dict`.\n",
      " |      \n",
      " |      Buffers can be accessed as attributes using given names.\n",
      " |      \n",
      " |      Args:\n",
      " |          name (string): name of the buffer. The buffer can be accessed\n",
      " |              from this module using the given name\n",
      " |          tensor (Tensor): buffer to be registered.\n",
      " |          persistent (bool): whether the buffer is part of this module's\n",
      " |              :attr:`state_dict`.\n",
      " |      \n",
      " |      Example::\n",
      " |      \n",
      " |          >>> self.register_buffer('running_mean', torch.zeros(num_features))\n",
      " |  \n",
      " |  register_forward_hook(self, hook: Callable[..., NoneType]) -> torch.utils.hooks.RemovableHandle\n",
      " |      Registers a forward hook on the module.\n",
      " |      \n",
      " |      The hook will be called every time after :func:`forward` has computed an output.\n",
      " |      It should have the following signature::\n",
      " |      \n",
      " |          hook(module, input, output) -> None or modified output\n",
      " |      \n",
      " |      The input contains only the positional arguments given to the module.\n",
      " |      Keyword arguments won't be passed to the hooks and only to the ``forward``.\n",
      " |      The hook can modify the output. It can modify the input inplace but\n",
      " |      it will not have effect on forward since this is called after\n",
      " |      :func:`forward` is called.\n",
      " |      \n",
      " |      Returns:\n",
      " |          :class:`torch.utils.hooks.RemovableHandle`:\n",
      " |              a handle that can be used to remove the added hook by calling\n",
      " |              ``handle.remove()``\n",
      " |  \n",
      " |  register_forward_pre_hook(self, hook: Callable[..., NoneType]) -> torch.utils.hooks.RemovableHandle\n",
      " |      Registers a forward pre-hook on the module.\n",
      " |      \n",
      " |      The hook will be called every time before :func:`forward` is invoked.\n",
      " |      It should have the following signature::\n",
      " |      \n",
      " |          hook(module, input) -> None or modified input\n",
      " |      \n",
      " |      The input contains only the positional arguments given to the module.\n",
      " |      Keyword arguments won't be passed to the hooks and only to the ``forward``.\n",
      " |      The hook can modify the input. User can either return a tuple or a\n",
      " |      single modified value in the hook. We will wrap the value into a tuple\n",
      " |      if a single value is returned(unless that value is already a tuple).\n",
      " |      \n",
      " |      Returns:\n",
      " |          :class:`torch.utils.hooks.RemovableHandle`:\n",
      " |              a handle that can be used to remove the added hook by calling\n",
      " |              ``handle.remove()``\n",
      " |  \n",
      " |  register_parameter(self, name: str, param: Union[torch.nn.parameter.Parameter, NoneType]) -> None\n",
      " |      Adds a parameter to the module.\n",
      " |      \n",
      " |      The parameter can be accessed as an attribute using given name.\n",
      " |      \n",
      " |      Args:\n",
      " |          name (string): name of the parameter. The parameter can be accessed\n",
      " |              from this module using the given name\n",
      " |          param (Parameter): parameter to be added to the module.\n",
      " |  \n",
      " |  requires_grad_(self: ~T, requires_grad: bool = True) -> ~T\n",
      " |      Change if autograd should record operations on parameters in this\n",
      " |      module.\n",
      " |      \n",
      " |      This method sets the parameters' :attr:`requires_grad` attributes\n",
      " |      in-place.\n",
      " |      \n",
      " |      This method is helpful for freezing part of the module for finetuning\n",
      " |      or training parts of a model individually (e.g., GAN training).\n",
      " |      \n",
      " |      Args:\n",
      " |          requires_grad (bool): whether autograd should record operations on\n",
      " |                                parameters in this module. Default: ``True``.\n",
      " |      \n",
      " |      Returns:\n",
      " |          Module: self\n",
      " |  \n",
      " |  share_memory(self: ~T) -> ~T\n",
      " |  \n",
      " |  state_dict(self, destination=None, prefix='', keep_vars=False)\n",
      " |      Returns a dictionary containing a whole state of the module.\n",
      " |      \n",
      " |      Both parameters and persistent buffers (e.g. running averages) are\n",
      " |      included. Keys are corresponding parameter and buffer names.\n",
      " |      \n",
      " |      Returns:\n",
      " |          dict:\n",
      " |              a dictionary containing a whole state of the module\n",
      " |      \n",
      " |      Example::\n",
      " |      \n",
      " |          >>> module.state_dict().keys()\n",
      " |          ['bias', 'weight']\n",
      " |  \n",
      " |  to(self, *args, **kwargs)\n",
      " |      Moves and/or casts the parameters and buffers.\n",
      " |      \n",
      " |      This can be called as\n",
      " |      \n",
      " |      .. function:: to(device=None, dtype=None, non_blocking=False)\n",
      " |      \n",
      " |      .. function:: to(dtype, non_blocking=False)\n",
      " |      \n",
      " |      .. function:: to(tensor, non_blocking=False)\n",
      " |      \n",
      " |      .. function:: to(memory_format=torch.channels_last)\n",
      " |      \n",
      " |      Its signature is similar to :meth:`torch.Tensor.to`, but only accepts\n",
      " |      floating point desired :attr:`dtype` s. In addition, this method will\n",
      " |      only cast the floating point parameters and buffers to :attr:`dtype`\n",
      " |      (if given). The integral parameters and buffers will be moved\n",
      " |      :attr:`device`, if that is given, but with dtypes unchanged. When\n",
      " |      :attr:`non_blocking` is set, it tries to convert/move asynchronously\n",
      " |      with respect to the host if possible, e.g., moving CPU Tensors with\n",
      " |      pinned memory to CUDA devices.\n",
      " |      \n",
      " |      See below for examples.\n",
      " |      \n",
      " |      .. note::\n",
      " |          This method modifies the module in-place.\n",
      " |      \n",
      " |      Args:\n",
      " |          device (:class:`torch.device`): the desired device of the parameters\n",
      " |              and buffers in this module\n",
      " |          dtype (:class:`torch.dtype`): the desired floating point type of\n",
      " |              the floating point parameters and buffers in this module\n",
      " |          tensor (torch.Tensor): Tensor whose dtype and device are the desired\n",
      " |              dtype and device for all parameters and buffers in this module\n",
      " |          memory_format (:class:`torch.memory_format`): the desired memory\n",
      " |              format for 4D parameters and buffers in this module (keyword\n",
      " |              only argument)\n",
      " |      \n",
      " |      Returns:\n",
      " |          Module: self\n",
      " |      \n",
      " |      Example::\n",
      " |      \n",
      " |          >>> linear = nn.Linear(2, 2)\n",
      " |          >>> linear.weight\n",
      " |          Parameter containing:\n",
      " |          tensor([[ 0.1913, -0.3420],\n",
      " |                  [-0.5113, -0.2325]])\n",
      " |          >>> linear.to(torch.double)\n",
      " |          Linear(in_features=2, out_features=2, bias=True)\n",
      " |          >>> linear.weight\n",
      " |          Parameter containing:\n",
      " |          tensor([[ 0.1913, -0.3420],\n",
      " |                  [-0.5113, -0.2325]], dtype=torch.float64)\n",
      " |          >>> gpu1 = torch.device(\"cuda:1\")\n",
      " |          >>> linear.to(gpu1, dtype=torch.half, non_blocking=True)\n",
      " |          Linear(in_features=2, out_features=2, bias=True)\n",
      " |          >>> linear.weight\n",
      " |          Parameter containing:\n",
      " |          tensor([[ 0.1914, -0.3420],\n",
      " |                  [-0.5112, -0.2324]], dtype=torch.float16, device='cuda:1')\n",
      " |          >>> cpu = torch.device(\"cpu\")\n",
      " |          >>> linear.to(cpu)\n",
      " |          Linear(in_features=2, out_features=2, bias=True)\n",
      " |          >>> linear.weight\n",
      " |          Parameter containing:\n",
      " |          tensor([[ 0.1914, -0.3420],\n",
      " |                  [-0.5112, -0.2324]], dtype=torch.float16)\n",
      " |  \n",
      " |  train(self: ~T, mode: bool = True) -> ~T\n",
      " |      Sets the module in training mode.\n",
      " |      \n",
      " |      This has any effect only on certain modules. See documentations of\n",
      " |      particular modules for details of their behaviors in training/evaluation\n",
      " |      mode, if they are affected, e.g. :class:`Dropout`, :class:`BatchNorm`,\n",
      " |      etc.\n",
      " |      \n",
      " |      Args:\n",
      " |          mode (bool): whether to set training mode (``True``) or evaluation\n",
      " |                       mode (``False``). Default: ``True``.\n",
      " |      \n",
      " |      Returns:\n",
      " |          Module: self\n",
      " |  \n",
      " |  type(self: ~T, dst_type: Union[torch.dtype, str]) -> ~T\n",
      " |      Casts all parameters and buffers to :attr:`dst_type`.\n",
      " |      \n",
      " |      Arguments:\n",
      " |          dst_type (type or string): the desired type\n",
      " |      \n",
      " |      Returns:\n",
      " |          Module: self\n",
      " |  \n",
      " |  zero_grad(self, set_to_none: bool = False) -> None\n",
      " |      Sets gradients of all model parameters to zero. See similar function\n",
      " |      under :class:`torch.optim.Optimizer` for more context.\n",
      " |      \n",
      " |      Arguments:\n",
      " |          set_to_none (bool): instead of setting to zero, set the grads to None.\n",
      " |              See :meth:`torch.optim.Optimizer.zero_grad` for details.\n",
      " |  \n",
      " |  ----------------------------------------------------------------------\n",
      " |  Data descriptors inherited from torch.nn.modules.module.Module:\n",
      " |  \n",
      " |  __dict__\n",
      " |      dictionary for instance variables (if defined)\n",
      " |  \n",
      " |  __weakref__\n",
      " |      list of weak references to the object (if defined)\n",
      " |  \n",
      " |  ----------------------------------------------------------------------\n",
      " |  Data and other attributes inherited from torch.nn.modules.module.Module:\n",
      " |  \n",
      " |  T_destination = ~T_destination\n",
      " |  \n",
      " |  __annotations__ = {'__call__': typing.Callable[..., typing.Any], '_ver...\n",
      " |  \n",
      " |  dump_patches = False\n",
      "\n"
     ]
    }
   ],
   "source": [
    "help(MTCNN)"
   ]
  },
  {
   "cell_type": "code",
   "execution_count": 6,
   "metadata": {},
   "outputs": [
    {
     "name": "stdout",
     "output_type": "stream",
     "text": [
      "Help on class InceptionResnetV1 in module facenet_pytorch.models.inception_resnet_v1:\n",
      "\n",
      "class InceptionResnetV1(torch.nn.modules.module.Module)\n",
      " |  InceptionResnetV1(pretrained=None, classify=False, num_classes=None, dropout_prob=0.6, device=None)\n",
      " |  \n",
      " |  Inception Resnet V1 model with optional loading of pretrained weights.\n",
      " |  \n",
      " |  Model parameters can be loaded based on pretraining on the VGGFace2 or CASIA-Webface\n",
      " |  datasets. Pretrained state_dicts are automatically downloaded on model instantiation if\n",
      " |  requested and cached in the torch cache. Subsequent instantiations use the cache rather than\n",
      " |  redownloading.\n",
      " |  \n",
      " |  Keyword Arguments:\n",
      " |      pretrained {str} -- Optional pretraining dataset. Either 'vggface2' or 'casia-webface'.\n",
      " |          (default: {None})\n",
      " |      classify {bool} -- Whether the model should output classification probabilities or feature\n",
      " |          embeddings. (default: {False})\n",
      " |      num_classes {int} -- Number of output classes. If 'pretrained' is set and num_classes not\n",
      " |          equal to that used for the pretrained model, the final linear layer will be randomly\n",
      " |          initialized. (default: {None})\n",
      " |      dropout_prob {float} -- Dropout probability. (default: {0.6})\n",
      " |  \n",
      " |  Method resolution order:\n",
      " |      InceptionResnetV1\n",
      " |      torch.nn.modules.module.Module\n",
      " |      builtins.object\n",
      " |  \n",
      " |  Methods defined here:\n",
      " |  \n",
      " |  __init__(self, pretrained=None, classify=False, num_classes=None, dropout_prob=0.6, device=None)\n",
      " |      Initializes internal Module state, shared by both nn.Module and ScriptModule.\n",
      " |  \n",
      " |  forward(self, x)\n",
      " |      Calculate embeddings or logits given a batch of input image tensors.\n",
      " |      \n",
      " |      Arguments:\n",
      " |          x {torch.tensor} -- Batch of image tensors representing faces.\n",
      " |      \n",
      " |      Returns:\n",
      " |          torch.tensor -- Batch of embedding vectors or multinomial logits.\n",
      " |  \n",
      " |  ----------------------------------------------------------------------\n",
      " |  Methods inherited from torch.nn.modules.module.Module:\n",
      " |  \n",
      " |  __call__ = _call_impl(self, *input, **kwargs)\n",
      " |  \n",
      " |  __delattr__(self, name)\n",
      " |      Implement delattr(self, name).\n",
      " |  \n",
      " |  __dir__(self)\n",
      " |      Default dir() implementation.\n",
      " |  \n",
      " |  __getattr__(self, name: str) -> Union[torch.Tensor, ForwardRef('Module')]\n",
      " |  \n",
      " |  __repr__(self)\n",
      " |      Return repr(self).\n",
      " |  \n",
      " |  __setattr__(self, name: str, value: Union[torch.Tensor, ForwardRef('Module')]) -> None\n",
      " |      Implement setattr(self, name, value).\n",
      " |  \n",
      " |  __setstate__(self, state)\n",
      " |  \n",
      " |  add_module(self, name: str, module: Union[ForwardRef('Module'), NoneType]) -> None\n",
      " |      Adds a child module to the current module.\n",
      " |      \n",
      " |      The module can be accessed as an attribute using the given name.\n",
      " |      \n",
      " |      Args:\n",
      " |          name (string): name of the child module. The child module can be\n",
      " |              accessed from this module using the given name\n",
      " |          module (Module): child module to be added to the module.\n",
      " |  \n",
      " |  apply(self: ~T, fn: Callable[[ForwardRef('Module')], NoneType]) -> ~T\n",
      " |      Applies ``fn`` recursively to every submodule (as returned by ``.children()``)\n",
      " |      as well as self. Typical use includes initializing the parameters of a model\n",
      " |      (see also :ref:`nn-init-doc`).\n",
      " |      \n",
      " |      Args:\n",
      " |          fn (:class:`Module` -> None): function to be applied to each submodule\n",
      " |      \n",
      " |      Returns:\n",
      " |          Module: self\n",
      " |      \n",
      " |      Example::\n",
      " |      \n",
      " |          >>> @torch.no_grad()\n",
      " |          >>> def init_weights(m):\n",
      " |          >>>     print(m)\n",
      " |          >>>     if type(m) == nn.Linear:\n",
      " |          >>>         m.weight.fill_(1.0)\n",
      " |          >>>         print(m.weight)\n",
      " |          >>> net = nn.Sequential(nn.Linear(2, 2), nn.Linear(2, 2))\n",
      " |          >>> net.apply(init_weights)\n",
      " |          Linear(in_features=2, out_features=2, bias=True)\n",
      " |          Parameter containing:\n",
      " |          tensor([[ 1.,  1.],\n",
      " |                  [ 1.,  1.]])\n",
      " |          Linear(in_features=2, out_features=2, bias=True)\n",
      " |          Parameter containing:\n",
      " |          tensor([[ 1.,  1.],\n",
      " |                  [ 1.,  1.]])\n",
      " |          Sequential(\n",
      " |            (0): Linear(in_features=2, out_features=2, bias=True)\n",
      " |            (1): Linear(in_features=2, out_features=2, bias=True)\n",
      " |          )\n",
      " |          Sequential(\n",
      " |            (0): Linear(in_features=2, out_features=2, bias=True)\n",
      " |            (1): Linear(in_features=2, out_features=2, bias=True)\n",
      " |          )\n",
      " |  \n",
      " |  bfloat16(self: ~T) -> ~T\n",
      " |      Casts all floating point parameters and buffers to ``bfloat16`` datatype.\n",
      " |      \n",
      " |      Returns:\n",
      " |          Module: self\n",
      " |  \n",
      " |  buffers(self, recurse: bool = True) -> Iterator[torch.Tensor]\n",
      " |      Returns an iterator over module buffers.\n",
      " |      \n",
      " |      Args:\n",
      " |          recurse (bool): if True, then yields buffers of this module\n",
      " |              and all submodules. Otherwise, yields only buffers that\n",
      " |              are direct members of this module.\n",
      " |      \n",
      " |      Yields:\n",
      " |          torch.Tensor: module buffer\n",
      " |      \n",
      " |      Example::\n",
      " |      \n",
      " |          >>> for buf in model.buffers():\n",
      " |          >>>     print(type(buf), buf.size())\n",
      " |          <class 'torch.Tensor'> (20L,)\n",
      " |          <class 'torch.Tensor'> (20L, 1L, 5L, 5L)\n",
      " |  \n",
      " |  children(self) -> Iterator[ForwardRef('Module')]\n",
      " |      Returns an iterator over immediate children modules.\n",
      " |      \n",
      " |      Yields:\n",
      " |          Module: a child module\n",
      " |  \n",
      " |  cpu(self: ~T) -> ~T\n",
      " |      Moves all model parameters and buffers to the CPU.\n",
      " |      \n",
      " |      Returns:\n",
      " |          Module: self\n",
      " |  \n",
      " |  cuda(self: ~T, device: Union[int, torch.device, NoneType] = None) -> ~T\n",
      " |      Moves all model parameters and buffers to the GPU.\n",
      " |      \n",
      " |      This also makes associated parameters and buffers different objects. So\n",
      " |      it should be called before constructing optimizer if the module will\n",
      " |      live on GPU while being optimized.\n",
      " |      \n",
      " |      Arguments:\n",
      " |          device (int, optional): if specified, all parameters will be\n",
      " |              copied to that device\n",
      " |      \n",
      " |      Returns:\n",
      " |          Module: self\n",
      " |  \n",
      " |  double(self: ~T) -> ~T\n",
      " |      Casts all floating point parameters and buffers to ``double`` datatype.\n",
      " |      \n",
      " |      Returns:\n",
      " |          Module: self\n",
      " |  \n",
      " |  eval(self: ~T) -> ~T\n",
      " |      Sets the module in evaluation mode.\n",
      " |      \n",
      " |      This has any effect only on certain modules. See documentations of\n",
      " |      particular modules for details of their behaviors in training/evaluation\n",
      " |      mode, if they are affected, e.g. :class:`Dropout`, :class:`BatchNorm`,\n",
      " |      etc.\n",
      " |      \n",
      " |      This is equivalent with :meth:`self.train(False) <torch.nn.Module.train>`.\n",
      " |      \n",
      " |      Returns:\n",
      " |          Module: self\n",
      " |  \n",
      " |  extra_repr(self) -> str\n",
      " |      Set the extra representation of the module\n",
      " |      \n",
      " |      To print customized extra information, you should re-implement\n",
      " |      this method in your own modules. Both single-line and multi-line\n",
      " |      strings are acceptable.\n",
      " |  \n",
      " |  float(self: ~T) -> ~T\n",
      " |      Casts all floating point parameters and buffers to float datatype.\n",
      " |      \n",
      " |      Returns:\n",
      " |          Module: self\n",
      " |  \n",
      " |  half(self: ~T) -> ~T\n",
      " |      Casts all floating point parameters and buffers to ``half`` datatype.\n",
      " |      \n",
      " |      Returns:\n",
      " |          Module: self\n",
      " |  \n",
      " |  load_state_dict(self, state_dict: Dict[str, torch.Tensor], strict: bool = True)\n",
      " |      Copies parameters and buffers from :attr:`state_dict` into\n",
      " |      this module and its descendants. If :attr:`strict` is ``True``, then\n",
      " |      the keys of :attr:`state_dict` must exactly match the keys returned\n",
      " |      by this module's :meth:`~torch.nn.Module.state_dict` function.\n",
      " |      \n",
      " |      Arguments:\n",
      " |          state_dict (dict): a dict containing parameters and\n",
      " |              persistent buffers.\n",
      " |          strict (bool, optional): whether to strictly enforce that the keys\n",
      " |              in :attr:`state_dict` match the keys returned by this module's\n",
      " |              :meth:`~torch.nn.Module.state_dict` function. Default: ``True``\n",
      " |      \n",
      " |      Returns:\n",
      " |          ``NamedTuple`` with ``missing_keys`` and ``unexpected_keys`` fields:\n",
      " |              * **missing_keys** is a list of str containing the missing keys\n",
      " |              * **unexpected_keys** is a list of str containing the unexpected keys\n",
      " |  \n",
      " |  modules(self) -> Iterator[ForwardRef('Module')]\n",
      " |      Returns an iterator over all modules in the network.\n",
      " |      \n",
      " |      Yields:\n",
      " |          Module: a module in the network\n",
      " |      \n",
      " |      Note:\n",
      " |          Duplicate modules are returned only once. In the following\n",
      " |          example, ``l`` will be returned only once.\n",
      " |      \n",
      " |      Example::\n",
      " |      \n",
      " |          >>> l = nn.Linear(2, 2)\n",
      " |          >>> net = nn.Sequential(l, l)\n",
      " |          >>> for idx, m in enumerate(net.modules()):\n",
      " |                  print(idx, '->', m)\n",
      " |      \n",
      " |          0 -> Sequential(\n",
      " |            (0): Linear(in_features=2, out_features=2, bias=True)\n",
      " |            (1): Linear(in_features=2, out_features=2, bias=True)\n",
      " |          )\n",
      " |          1 -> Linear(in_features=2, out_features=2, bias=True)\n",
      " |  \n",
      " |  named_buffers(self, prefix: str = '', recurse: bool = True) -> Iterator[Tuple[str, torch.Tensor]]\n",
      " |      Returns an iterator over module buffers, yielding both the\n",
      " |      name of the buffer as well as the buffer itself.\n",
      " |      \n",
      " |      Args:\n",
      " |          prefix (str): prefix to prepend to all buffer names.\n",
      " |          recurse (bool): if True, then yields buffers of this module\n",
      " |              and all submodules. Otherwise, yields only buffers that\n",
      " |              are direct members of this module.\n",
      " |      \n",
      " |      Yields:\n",
      " |          (string, torch.Tensor): Tuple containing the name and buffer\n",
      " |      \n",
      " |      Example::\n",
      " |      \n",
      " |          >>> for name, buf in self.named_buffers():\n",
      " |          >>>    if name in ['running_var']:\n",
      " |          >>>        print(buf.size())\n",
      " |  \n",
      " |  named_children(self) -> Iterator[Tuple[str, ForwardRef('Module')]]\n",
      " |      Returns an iterator over immediate children modules, yielding both\n",
      " |      the name of the module as well as the module itself.\n",
      " |      \n",
      " |      Yields:\n",
      " |          (string, Module): Tuple containing a name and child module\n",
      " |      \n",
      " |      Example::\n",
      " |      \n",
      " |          >>> for name, module in model.named_children():\n",
      " |          >>>     if name in ['conv4', 'conv5']:\n",
      " |          >>>         print(module)\n",
      " |  \n",
      " |  named_modules(self, memo: Union[Set[ForwardRef('Module')], NoneType] = None, prefix: str = '')\n",
      " |      Returns an iterator over all modules in the network, yielding\n",
      " |      both the name of the module as well as the module itself.\n",
      " |      \n",
      " |      Yields:\n",
      " |          (string, Module): Tuple of name and module\n",
      " |      \n",
      " |      Note:\n",
      " |          Duplicate modules are returned only once. In the following\n",
      " |          example, ``l`` will be returned only once.\n",
      " |      \n",
      " |      Example::\n",
      " |      \n",
      " |          >>> l = nn.Linear(2, 2)\n",
      " |          >>> net = nn.Sequential(l, l)\n",
      " |          >>> for idx, m in enumerate(net.named_modules()):\n",
      " |                  print(idx, '->', m)\n",
      " |      \n",
      " |          0 -> ('', Sequential(\n",
      " |            (0): Linear(in_features=2, out_features=2, bias=True)\n",
      " |            (1): Linear(in_features=2, out_features=2, bias=True)\n",
      " |          ))\n",
      " |          1 -> ('0', Linear(in_features=2, out_features=2, bias=True))\n",
      " |  \n",
      " |  named_parameters(self, prefix: str = '', recurse: bool = True) -> Iterator[Tuple[str, torch.Tensor]]\n",
      " |      Returns an iterator over module parameters, yielding both the\n",
      " |      name of the parameter as well as the parameter itself.\n",
      " |      \n",
      " |      Args:\n",
      " |          prefix (str): prefix to prepend to all parameter names.\n",
      " |          recurse (bool): if True, then yields parameters of this module\n",
      " |              and all submodules. Otherwise, yields only parameters that\n",
      " |              are direct members of this module.\n",
      " |      \n",
      " |      Yields:\n",
      " |          (string, Parameter): Tuple containing the name and parameter\n",
      " |      \n",
      " |      Example::\n",
      " |      \n",
      " |          >>> for name, param in self.named_parameters():\n",
      " |          >>>    if name in ['bias']:\n",
      " |          >>>        print(param.size())\n",
      " |  \n",
      " |  parameters(self, recurse: bool = True) -> Iterator[torch.nn.parameter.Parameter]\n",
      " |      Returns an iterator over module parameters.\n",
      " |      \n",
      " |      This is typically passed to an optimizer.\n",
      " |      \n",
      " |      Args:\n",
      " |          recurse (bool): if True, then yields parameters of this module\n",
      " |              and all submodules. Otherwise, yields only parameters that\n",
      " |              are direct members of this module.\n",
      " |      \n",
      " |      Yields:\n",
      " |          Parameter: module parameter\n",
      " |      \n",
      " |      Example::\n",
      " |      \n",
      " |          >>> for param in model.parameters():\n",
      " |          >>>     print(type(param), param.size())\n",
      " |          <class 'torch.Tensor'> (20L,)\n",
      " |          <class 'torch.Tensor'> (20L, 1L, 5L, 5L)\n",
      " |  \n",
      " |  register_backward_hook(self, hook: Callable[[ForwardRef('Module'), Union[Tuple[torch.Tensor, ...], torch.Tensor], Union[Tuple[torch.Tensor, ...], torch.Tensor]], Union[NoneType, torch.Tensor]]) -> torch.utils.hooks.RemovableHandle\n",
      " |      Registers a backward hook on the module.\n",
      " |      \n",
      " |      .. warning ::\n",
      " |      \n",
      " |          The current implementation will not have the presented behavior\n",
      " |          for complex :class:`Module` that perform many operations.\n",
      " |          In some failure cases, :attr:`grad_input` and :attr:`grad_output` will only\n",
      " |          contain the gradients for a subset of the inputs and outputs.\n",
      " |          For such :class:`Module`, you should use :func:`torch.Tensor.register_hook`\n",
      " |          directly on a specific input or output to get the required gradients.\n",
      " |      \n",
      " |      The hook will be called every time the gradients with respect to module\n",
      " |      inputs are computed. The hook should have the following signature::\n",
      " |      \n",
      " |          hook(module, grad_input, grad_output) -> Tensor or None\n",
      " |      \n",
      " |      The :attr:`grad_input` and :attr:`grad_output` may be tuples if the\n",
      " |      module has multiple inputs or outputs. The hook should not modify its\n",
      " |      arguments, but it can optionally return a new gradient with respect to\n",
      " |      input that will be used in place of :attr:`grad_input` in subsequent\n",
      " |      computations. :attr:`grad_input` will only correspond to the inputs given\n",
      " |      as positional arguments.\n",
      " |      \n",
      " |      Returns:\n",
      " |          :class:`torch.utils.hooks.RemovableHandle`:\n",
      " |              a handle that can be used to remove the added hook by calling\n",
      " |              ``handle.remove()``\n",
      " |  \n",
      " |  register_buffer(self, name: str, tensor: Union[torch.Tensor, NoneType], persistent: bool = True) -> None\n",
      " |      Adds a buffer to the module.\n",
      " |      \n",
      " |      This is typically used to register a buffer that should not to be\n",
      " |      considered a model parameter. For example, BatchNorm's ``running_mean``\n",
      " |      is not a parameter, but is part of the module's state. Buffers, by\n",
      " |      default, are persistent and will be saved alongside parameters. This\n",
      " |      behavior can be changed by setting :attr:`persistent` to ``False``. The\n",
      " |      only difference between a persistent buffer and a non-persistent buffer\n",
      " |      is that the latter will not be a part of this module's\n",
      " |      :attr:`state_dict`.\n",
      " |      \n",
      " |      Buffers can be accessed as attributes using given names.\n",
      " |      \n",
      " |      Args:\n",
      " |          name (string): name of the buffer. The buffer can be accessed\n",
      " |              from this module using the given name\n",
      " |          tensor (Tensor): buffer to be registered.\n",
      " |          persistent (bool): whether the buffer is part of this module's\n",
      " |              :attr:`state_dict`.\n",
      " |      \n",
      " |      Example::\n",
      " |      \n",
      " |          >>> self.register_buffer('running_mean', torch.zeros(num_features))\n",
      " |  \n",
      " |  register_forward_hook(self, hook: Callable[..., NoneType]) -> torch.utils.hooks.RemovableHandle\n",
      " |      Registers a forward hook on the module.\n",
      " |      \n",
      " |      The hook will be called every time after :func:`forward` has computed an output.\n",
      " |      It should have the following signature::\n",
      " |      \n",
      " |          hook(module, input, output) -> None or modified output\n",
      " |      \n",
      " |      The input contains only the positional arguments given to the module.\n",
      " |      Keyword arguments won't be passed to the hooks and only to the ``forward``.\n",
      " |      The hook can modify the output. It can modify the input inplace but\n",
      " |      it will not have effect on forward since this is called after\n",
      " |      :func:`forward` is called.\n",
      " |      \n",
      " |      Returns:\n",
      " |          :class:`torch.utils.hooks.RemovableHandle`:\n",
      " |              a handle that can be used to remove the added hook by calling\n",
      " |              ``handle.remove()``\n",
      " |  \n",
      " |  register_forward_pre_hook(self, hook: Callable[..., NoneType]) -> torch.utils.hooks.RemovableHandle\n",
      " |      Registers a forward pre-hook on the module.\n",
      " |      \n",
      " |      The hook will be called every time before :func:`forward` is invoked.\n",
      " |      It should have the following signature::\n",
      " |      \n",
      " |          hook(module, input) -> None or modified input\n",
      " |      \n",
      " |      The input contains only the positional arguments given to the module.\n",
      " |      Keyword arguments won't be passed to the hooks and only to the ``forward``.\n",
      " |      The hook can modify the input. User can either return a tuple or a\n",
      " |      single modified value in the hook. We will wrap the value into a tuple\n",
      " |      if a single value is returned(unless that value is already a tuple).\n",
      " |      \n",
      " |      Returns:\n",
      " |          :class:`torch.utils.hooks.RemovableHandle`:\n",
      " |              a handle that can be used to remove the added hook by calling\n",
      " |              ``handle.remove()``\n",
      " |  \n",
      " |  register_parameter(self, name: str, param: Union[torch.nn.parameter.Parameter, NoneType]) -> None\n",
      " |      Adds a parameter to the module.\n",
      " |      \n",
      " |      The parameter can be accessed as an attribute using given name.\n",
      " |      \n",
      " |      Args:\n",
      " |          name (string): name of the parameter. The parameter can be accessed\n",
      " |              from this module using the given name\n",
      " |          param (Parameter): parameter to be added to the module.\n",
      " |  \n",
      " |  requires_grad_(self: ~T, requires_grad: bool = True) -> ~T\n",
      " |      Change if autograd should record operations on parameters in this\n",
      " |      module.\n",
      " |      \n",
      " |      This method sets the parameters' :attr:`requires_grad` attributes\n",
      " |      in-place.\n",
      " |      \n",
      " |      This method is helpful for freezing part of the module for finetuning\n",
      " |      or training parts of a model individually (e.g., GAN training).\n",
      " |      \n",
      " |      Args:\n",
      " |          requires_grad (bool): whether autograd should record operations on\n",
      " |                                parameters in this module. Default: ``True``.\n",
      " |      \n",
      " |      Returns:\n",
      " |          Module: self\n",
      " |  \n",
      " |  share_memory(self: ~T) -> ~T\n",
      " |  \n",
      " |  state_dict(self, destination=None, prefix='', keep_vars=False)\n",
      " |      Returns a dictionary containing a whole state of the module.\n",
      " |      \n",
      " |      Both parameters and persistent buffers (e.g. running averages) are\n",
      " |      included. Keys are corresponding parameter and buffer names.\n",
      " |      \n",
      " |      Returns:\n",
      " |          dict:\n",
      " |              a dictionary containing a whole state of the module\n",
      " |      \n",
      " |      Example::\n",
      " |      \n",
      " |          >>> module.state_dict().keys()\n",
      " |          ['bias', 'weight']\n",
      " |  \n",
      " |  to(self, *args, **kwargs)\n",
      " |      Moves and/or casts the parameters and buffers.\n",
      " |      \n",
      " |      This can be called as\n",
      " |      \n",
      " |      .. function:: to(device=None, dtype=None, non_blocking=False)\n",
      " |      \n",
      " |      .. function:: to(dtype, non_blocking=False)\n",
      " |      \n",
      " |      .. function:: to(tensor, non_blocking=False)\n",
      " |      \n",
      " |      .. function:: to(memory_format=torch.channels_last)\n",
      " |      \n",
      " |      Its signature is similar to :meth:`torch.Tensor.to`, but only accepts\n",
      " |      floating point desired :attr:`dtype` s. In addition, this method will\n",
      " |      only cast the floating point parameters and buffers to :attr:`dtype`\n",
      " |      (if given). The integral parameters and buffers will be moved\n",
      " |      :attr:`device`, if that is given, but with dtypes unchanged. When\n",
      " |      :attr:`non_blocking` is set, it tries to convert/move asynchronously\n",
      " |      with respect to the host if possible, e.g., moving CPU Tensors with\n",
      " |      pinned memory to CUDA devices.\n",
      " |      \n",
      " |      See below for examples.\n",
      " |      \n",
      " |      .. note::\n",
      " |          This method modifies the module in-place.\n",
      " |      \n",
      " |      Args:\n",
      " |          device (:class:`torch.device`): the desired device of the parameters\n",
      " |              and buffers in this module\n",
      " |          dtype (:class:`torch.dtype`): the desired floating point type of\n",
      " |              the floating point parameters and buffers in this module\n",
      " |          tensor (torch.Tensor): Tensor whose dtype and device are the desired\n",
      " |              dtype and device for all parameters and buffers in this module\n",
      " |          memory_format (:class:`torch.memory_format`): the desired memory\n",
      " |              format for 4D parameters and buffers in this module (keyword\n",
      " |              only argument)\n",
      " |      \n",
      " |      Returns:\n",
      " |          Module: self\n",
      " |      \n",
      " |      Example::\n",
      " |      \n",
      " |          >>> linear = nn.Linear(2, 2)\n",
      " |          >>> linear.weight\n",
      " |          Parameter containing:\n",
      " |          tensor([[ 0.1913, -0.3420],\n",
      " |                  [-0.5113, -0.2325]])\n",
      " |          >>> linear.to(torch.double)\n",
      " |          Linear(in_features=2, out_features=2, bias=True)\n",
      " |          >>> linear.weight\n",
      " |          Parameter containing:\n",
      " |          tensor([[ 0.1913, -0.3420],\n",
      " |                  [-0.5113, -0.2325]], dtype=torch.float64)\n",
      " |          >>> gpu1 = torch.device(\"cuda:1\")\n",
      " |          >>> linear.to(gpu1, dtype=torch.half, non_blocking=True)\n",
      " |          Linear(in_features=2, out_features=2, bias=True)\n",
      " |          >>> linear.weight\n",
      " |          Parameter containing:\n",
      " |          tensor([[ 0.1914, -0.3420],\n",
      " |                  [-0.5112, -0.2324]], dtype=torch.float16, device='cuda:1')\n",
      " |          >>> cpu = torch.device(\"cpu\")\n",
      " |          >>> linear.to(cpu)\n",
      " |          Linear(in_features=2, out_features=2, bias=True)\n",
      " |          >>> linear.weight\n",
      " |          Parameter containing:\n",
      " |          tensor([[ 0.1914, -0.3420],\n",
      " |                  [-0.5112, -0.2324]], dtype=torch.float16)\n",
      " |  \n",
      " |  train(self: ~T, mode: bool = True) -> ~T\n",
      " |      Sets the module in training mode.\n",
      " |      \n",
      " |      This has any effect only on certain modules. See documentations of\n",
      " |      particular modules for details of their behaviors in training/evaluation\n",
      " |      mode, if they are affected, e.g. :class:`Dropout`, :class:`BatchNorm`,\n",
      " |      etc.\n",
      " |      \n",
      " |      Args:\n",
      " |          mode (bool): whether to set training mode (``True``) or evaluation\n",
      " |                       mode (``False``). Default: ``True``.\n",
      " |      \n",
      " |      Returns:\n",
      " |          Module: self\n",
      " |  \n",
      " |  type(self: ~T, dst_type: Union[torch.dtype, str]) -> ~T\n",
      " |      Casts all parameters and buffers to :attr:`dst_type`.\n",
      " |      \n",
      " |      Arguments:\n",
      " |          dst_type (type or string): the desired type\n",
      " |      \n",
      " |      Returns:\n",
      " |          Module: self\n",
      " |  \n",
      " |  zero_grad(self, set_to_none: bool = False) -> None\n",
      " |      Sets gradients of all model parameters to zero. See similar function\n",
      " |      under :class:`torch.optim.Optimizer` for more context.\n",
      " |      \n",
      " |      Arguments:\n",
      " |          set_to_none (bool): instead of setting to zero, set the grads to None.\n",
      " |              See :meth:`torch.optim.Optimizer.zero_grad` for details.\n",
      " |  \n",
      " |  ----------------------------------------------------------------------\n",
      " |  Data descriptors inherited from torch.nn.modules.module.Module:\n",
      " |  \n",
      " |  __dict__\n",
      " |      dictionary for instance variables (if defined)\n",
      " |  \n",
      " |  __weakref__\n",
      " |      list of weak references to the object (if defined)\n",
      " |  \n",
      " |  ----------------------------------------------------------------------\n",
      " |  Data and other attributes inherited from torch.nn.modules.module.Module:\n",
      " |  \n",
      " |  T_destination = ~T_destination\n",
      " |  \n",
      " |  __annotations__ = {'__call__': typing.Callable[..., typing.Any], '_ver...\n",
      " |  \n",
      " |  dump_patches = False\n",
      "\n"
     ]
    }
   ],
   "source": [
    "help(InceptionResnetV1)"
   ]
  },
  {
   "cell_type": "code",
   "execution_count": 7,
   "metadata": {},
   "outputs": [],
   "source": [
    "resnet = InceptionResnetV1(pretrained='vggface2').eval()"
   ]
  },
  {
   "cell_type": "code",
   "execution_count": 8,
   "metadata": {},
   "outputs": [],
   "source": [
    "from facenet_pytorch.models.mtcnn import fixed_image_standardization"
   ]
  },
  {
   "cell_type": "code",
   "execution_count": 9,
   "metadata": {},
   "outputs": [],
   "source": [
    "from torchvision import transforms"
   ]
  },
  {
   "cell_type": "code",
   "execution_count": 12,
   "metadata": {},
   "outputs": [],
   "source": [
    "# tr = transforms.Compose([\n",
    "#     transforms.Resize(256),\n",
    "#     transforms.ToTensor(),\n",
    "#     transforms.Normalize((0.5,0.5,0.5),(1,1,1))\n",
    "# ]\n",
    "# )"
   ]
  },
  {
   "cell_type": "code",
   "execution_count": 13,
   "metadata": {},
   "outputs": [],
   "source": [
    "tr_raw =  transforms.Compose([\n",
    "    transforms.Resize(256),\n",
    "]\n",
    ")"
   ]
  },
  {
   "cell_type": "code",
   "execution_count": 14,
   "metadata": {},
   "outputs": [
    {
     "name": "stdout",
     "output_type": "stream",
     "text": [
      "Biden  Eltsin  Ibatulin  Knigthley  navalny  Portman\r\n"
     ]
    }
   ],
   "source": [
    "!ls Faces/Faces"
   ]
  },
  {
   "cell_type": "code",
   "execution_count": 15,
   "metadata": {},
   "outputs": [],
   "source": [
    "face_folder = datasets.ImageFolder(root='Faces/Faces', transform=tr_raw)"
   ]
  },
  {
   "cell_type": "code",
   "execution_count": 16,
   "metadata": {},
   "outputs": [
    {
     "data": {
      "text/plain": [
       "18"
      ]
     },
     "execution_count": 16,
     "metadata": {},
     "output_type": "execute_result"
    }
   ],
   "source": [
    "len(face_folder)"
   ]
  },
  {
   "cell_type": "code",
   "execution_count": 21,
   "metadata": {},
   "outputs": [
    {
     "data": {
      "image/png": "[encoded data removed]",
      "text/plain": [
       "<PIL.Image.Image image mode=RGB size=256x349 at 0x7FFA23150910>"
      ]
     },
     "execution_count": 21,
     "metadata": {},
     "output_type": "execute_result"
    }
   ],
   "source": [
    "face_folder[3][0]"
   ]
  },
  {
   "cell_type": "code",
   "execution_count": null,
   "metadata": {},
   "outputs": [],
   "source": []
  },
  {
   "cell_type": "code",
   "execution_count": 22,
   "metadata": {},
   "outputs": [],
   "source": [
    "import PIL.Image"
   ]
  },
  {
   "cell_type": "code",
   "execution_count": 23,
   "metadata": {},
   "outputs": [],
   "source": [
    "from torchvision.utils import make_grid"
   ]
  },
  {
   "cell_type": "code",
   "execution_count": 24,
   "metadata": {},
   "outputs": [
    {
     "data": {
      "text/plain": [
       "(<PIL.Image.Image image mode=RGB size=256x315 at 0x7FFA23109FD0>, 0)"
      ]
     },
     "execution_count": 24,
     "metadata": {},
     "output_type": "execute_result"
    }
   ],
   "source": [
    "face_folder[0]"
   ]
  },
  {
   "cell_type": "code",
   "execution_count": 25,
   "metadata": {},
   "outputs": [],
   "source": [
    "# faces = [mtcnn(im) for im in images]\n",
    "classes = []\n",
    "faces = []\n",
    "for i in range(len(face_folder)):\n",
    "    X,y = face_folder[i]\n",
    "    classes.append(y)\n",
    "    faces.append(mtcnn(X))"
   ]
  },
  {
   "cell_type": "code",
   "execution_count": 30,
   "metadata": {},
   "outputs": [
    {
     "data": {
      "text/plain": [
       "tensor([[[ 0.5195,  0.3320,  0.0977,  ..., -0.9961, -0.9961, -0.9961],\n",
       "         [ 0.5195,  0.3477,  0.1211,  ..., -0.9961, -0.9961, -0.9961],\n",
       "         [ 0.5273,  0.3711,  0.1602,  ..., -0.9961, -0.9883, -0.9883],\n",
       "         ...,\n",
       "         [ 0.8789,  0.8789,  0.8867,  ..., -0.6602, -0.7617, -0.8242],\n",
       "         [ 0.8711,  0.8789,  0.8867,  ..., -0.7617, -0.8398, -0.8867],\n",
       "         [ 0.8711,  0.8711,  0.8789,  ..., -0.8398, -0.8945, -0.9336]],\n",
       "\n",
       "        [[ 0.5117,  0.3164,  0.0742,  ..., -0.9883, -0.9883, -0.9883],\n",
       "         [ 0.5117,  0.3320,  0.0977,  ..., -0.9961, -0.9961, -0.9961],\n",
       "         [ 0.5195,  0.3555,  0.1367,  ..., -0.9961, -0.9883, -0.9883],\n",
       "         ...,\n",
       "         [ 0.8164,  0.8164,  0.8242,  ..., -0.6992, -0.8008, -0.8711],\n",
       "         [ 0.8086,  0.8164,  0.8242,  ..., -0.8086, -0.8711, -0.9258],\n",
       "         [ 0.8086,  0.8086,  0.8164,  ..., -0.8789, -0.9258, -0.9570]],\n",
       "\n",
       "        [[ 0.4805,  0.2930,  0.0508,  ..., -0.9961, -0.9961, -0.9961],\n",
       "         [ 0.4805,  0.3086,  0.0742,  ..., -0.9961, -0.9961, -0.9961],\n",
       "         [ 0.4883,  0.3242,  0.1133,  ..., -0.9961, -0.9883, -0.9883],\n",
       "         ...,\n",
       "         [ 0.7930,  0.7930,  0.8008,  ..., -0.7148, -0.8086, -0.8711],\n",
       "         [ 0.7852,  0.7930,  0.8008,  ..., -0.8164, -0.8789, -0.9258],\n",
       "         [ 0.7852,  0.7852,  0.7930,  ..., -0.8789, -0.9336, -0.9648]]])"
      ]
     },
     "execution_count": 30,
     "metadata": {},
     "output_type": "execute_result"
    }
   ],
   "source": [
    "faces[5]"
   ]
  },
  {
   "cell_type": "code",
   "execution_count": 31,
   "metadata": {
    "scrolled": true
   },
   "outputs": [],
   "source": [
    "with torch.no_grad():\n",
    "    dt_embeddings = resnet(torch.stack(faces))"
   ]
  },
  {
   "cell_type": "code",
   "execution_count": 32,
   "metadata": {},
   "outputs": [
    {
     "data": {
      "text/plain": [
       "torch.Size([18, 512])"
      ]
     },
     "execution_count": 32,
     "metadata": {},
     "output_type": "execute_result"
    }
   ],
   "source": [
    "dt_embeddings.size()"
   ]
  },
  {
   "cell_type": "code",
   "execution_count": 33,
   "metadata": {},
   "outputs": [],
   "source": [
    "from sklearn import metrics"
   ]
  },
  {
   "cell_type": "code",
   "execution_count": 34,
   "metadata": {},
   "outputs": [],
   "source": [
    "euc = metrics.pairwise.euclidean_distances(dt_embeddings.numpy())"
   ]
  },
  {
   "cell_type": "code",
   "execution_count": 35,
   "metadata": {},
   "outputs": [],
   "source": [
    "import pandas as pd"
   ]
  },
  {
   "cell_type": "code",
   "execution_count": 36,
   "metadata": {},
   "outputs": [
    {
     "data": {
      "text/plain": [
       "[0, 0, 0, 1, 1, 1, 2, 3, 3, 3, 3, 4, 4, 4, 4, 5, 5, 5]"
      ]
     },
     "execution_count": 36,
     "metadata": {},
     "output_type": "execute_result"
    }
   ],
   "source": [
    "classes"
   ]
  },
  {
   "cell_type": "code",
   "execution_count": 37,
   "metadata": {},
   "outputs": [
    {
     "data": {
      "text/plain": [
       "['Biden', 'Eltsin', 'Ibatulin', 'Knigthley', 'Portman', 'navalny']"
      ]
     },
     "execution_count": 37,
     "metadata": {},
     "output_type": "execute_result"
    }
   ],
   "source": [
    "face_folder.classes"
   ]
  },
  {
   "cell_type": "code",
   "execution_count": 39,
   "metadata": {},
   "outputs": [
    {
     "data": {
      "text/plain": [
       "<matplotlib.image.AxesImage at 0x7ff986d08910>"
      ]
     },
     "execution_count": 39,
     "metadata": {},
     "output_type": "execute_result"
    },
    {
     "data": {
      "image/png": "[encoded data removed]",
      "text/plain": [
       "<Figure size 432x288 with 1 Axes>"
      ]
     },
     "metadata": {
      "needs_background": "light"
     },
     "output_type": "display_data"
    }
   ],
   "source": [
    "grid = make_grid(faces,nrow=5)\n",
    "plt.imshow(grid.permute(1,2,0).numpy() / 2 + 0.5)"
   ]
  },
  {
   "cell_type": "code",
   "execution_count": 46,
   "metadata": {},
   "outputs": [],
   "source": [
    "euc_df = pd.DataFrame(euc, \n",
    "             columns=[face_folder.classes[c] + f'{i}' for i, c in enumerate(classes)],\n",
    "             index=[face_folder.classes[c] + f'{i}' for i, c in enumerate(classes)])"
   ]
  },
  {
   "cell_type": "code",
   "execution_count": 47,
   "metadata": {},
   "outputs": [
    {
     "data": {
      "text/html": [
       "<div>\n",
       "<style scoped>\n",
       "    .dataframe tbody tr th:only-of-type {\n",
       "        vertical-align: middle;\n",
       "    }\n",
       "\n",
       "    .dataframe tbody tr th {\n",
       "        vertical-align: top;\n",
       "    }\n",
       "\n",
       "    .dataframe thead th {\n",
       "        text-align: right;\n",
       "    }\n",
       "</style>\n",
       "<table border=\"1\" class=\"dataframe\">\n",
       "  <thead>\n",
       "    <tr style=\"text-align: right;\">\n",
       "      <th></th>\n",
       "      <th>Biden0</th>\n",
       "      <th>Biden1</th>\n",
       "      <th>Biden2</th>\n",
       "      <th>Eltsin3</th>\n",
       "      <th>Eltsin4</th>\n",
       "      <th>Eltsin5</th>\n",
       "      <th>Ibatulin6</th>\n",
       "      <th>Knigthley7</th>\n",
       "      <th>Knigthley8</th>\n",
       "      <th>Knigthley9</th>\n",
       "      <th>Knigthley10</th>\n",
       "      <th>Portman11</th>\n",
       "      <th>Portman12</th>\n",
       "      <th>Portman13</th>\n",
       "      <th>Portman14</th>\n",
       "      <th>navalny15</th>\n",
       "      <th>navalny16</th>\n",
       "      <th>navalny17</th>\n",
       "    </tr>\n",
       "  </thead>\n",
       "  <tbody>\n",
       "    <tr>\n",
       "      <th>Biden0</th>\n",
       "      <td>0.000000</td>\n",
       "      <td>0.818135</td>\n",
       "      <td>0.854728</td>\n",
       "      <td>1.395409</td>\n",
       "      <td>1.421083</td>\n",
       "      <td>1.416709</td>\n",
       "      <td>1.475619</td>\n",
       "      <td>1.578445</td>\n",
       "      <td>1.554737</td>\n",
       "      <td>1.594932</td>\n",
       "      <td>1.508523</td>\n",
       "      <td>1.269886</td>\n",
       "      <td>1.579674</td>\n",
       "      <td>1.482602</td>\n",
       "      <td>1.423907</td>\n",
       "      <td>1.486160</td>\n",
       "      <td>1.505851</td>\n",
       "      <td>1.504811</td>\n",
       "    </tr>\n",
       "    <tr>\n",
       "      <th>Biden1</th>\n",
       "      <td>0.818135</td>\n",
       "      <td>0.000000</td>\n",
       "      <td>0.924453</td>\n",
       "      <td>1.499226</td>\n",
       "      <td>1.455529</td>\n",
       "      <td>1.482761</td>\n",
       "      <td>1.489797</td>\n",
       "      <td>1.640247</td>\n",
       "      <td>1.529646</td>\n",
       "      <td>1.599528</td>\n",
       "      <td>1.518754</td>\n",
       "      <td>1.291879</td>\n",
       "      <td>1.463307</td>\n",
       "      <td>1.414238</td>\n",
       "      <td>1.437055</td>\n",
       "      <td>1.351246</td>\n",
       "      <td>1.359124</td>\n",
       "      <td>1.338910</td>\n",
       "    </tr>\n",
       "    <tr>\n",
       "      <th>Biden2</th>\n",
       "      <td>0.854728</td>\n",
       "      <td>0.924453</td>\n",
       "      <td>0.000000</td>\n",
       "      <td>1.451503</td>\n",
       "      <td>1.363726</td>\n",
       "      <td>1.411385</td>\n",
       "      <td>1.500516</td>\n",
       "      <td>1.663920</td>\n",
       "      <td>1.555391</td>\n",
       "      <td>1.622543</td>\n",
       "      <td>1.514700</td>\n",
       "      <td>1.400311</td>\n",
       "      <td>1.568217</td>\n",
       "      <td>1.530829</td>\n",
       "      <td>1.514457</td>\n",
       "      <td>1.475381</td>\n",
       "      <td>1.414337</td>\n",
       "      <td>1.481313</td>\n",
       "    </tr>\n",
       "    <tr>\n",
       "      <th>Eltsin3</th>\n",
       "      <td>1.395409</td>\n",
       "      <td>1.499226</td>\n",
       "      <td>1.451503</td>\n",
       "      <td>0.000000</td>\n",
       "      <td>0.942345</td>\n",
       "      <td>1.137126</td>\n",
       "      <td>1.120403</td>\n",
       "      <td>1.412977</td>\n",
       "      <td>1.462233</td>\n",
       "      <td>1.492834</td>\n",
       "      <td>1.434147</td>\n",
       "      <td>1.374565</td>\n",
       "      <td>1.334035</td>\n",
       "      <td>1.315104</td>\n",
       "      <td>1.237774</td>\n",
       "      <td>1.301605</td>\n",
       "      <td>1.289008</td>\n",
       "      <td>1.270672</td>\n",
       "    </tr>\n",
       "    <tr>\n",
       "      <th>Eltsin4</th>\n",
       "      <td>1.421083</td>\n",
       "      <td>1.455529</td>\n",
       "      <td>1.363726</td>\n",
       "      <td>0.942345</td>\n",
       "      <td>0.000000</td>\n",
       "      <td>1.072529</td>\n",
       "      <td>1.134941</td>\n",
       "      <td>1.482954</td>\n",
       "      <td>1.501128</td>\n",
       "      <td>1.577106</td>\n",
       "      <td>1.521969</td>\n",
       "      <td>1.438100</td>\n",
       "      <td>1.414573</td>\n",
       "      <td>1.438501</td>\n",
       "      <td>1.379168</td>\n",
       "      <td>1.358210</td>\n",
       "      <td>1.283885</td>\n",
       "      <td>1.286618</td>\n",
       "    </tr>\n",
       "    <tr>\n",
       "      <th>Eltsin5</th>\n",
       "      <td>1.416709</td>\n",
       "      <td>1.482761</td>\n",
       "      <td>1.411385</td>\n",
       "      <td>1.137126</td>\n",
       "      <td>1.072529</td>\n",
       "      <td>0.000000</td>\n",
       "      <td>1.348891</td>\n",
       "      <td>1.387046</td>\n",
       "      <td>1.493618</td>\n",
       "      <td>1.451741</td>\n",
       "      <td>1.435837</td>\n",
       "      <td>1.396807</td>\n",
       "      <td>1.499988</td>\n",
       "      <td>1.454677</td>\n",
       "      <td>1.376016</td>\n",
       "      <td>1.280681</td>\n",
       "      <td>1.304728</td>\n",
       "      <td>1.220664</td>\n",
       "    </tr>\n",
       "    <tr>\n",
       "      <th>Ibatulin6</th>\n",
       "      <td>1.475619</td>\n",
       "      <td>1.489797</td>\n",
       "      <td>1.500516</td>\n",
       "      <td>1.120403</td>\n",
       "      <td>1.134941</td>\n",
       "      <td>1.348891</td>\n",
       "      <td>0.000000</td>\n",
       "      <td>1.353284</td>\n",
       "      <td>1.406169</td>\n",
       "      <td>1.381508</td>\n",
       "      <td>1.463294</td>\n",
       "      <td>1.458054</td>\n",
       "      <td>1.312430</td>\n",
       "      <td>1.330316</td>\n",
       "      <td>1.397208</td>\n",
       "      <td>1.249285</td>\n",
       "      <td>1.143461</td>\n",
       "      <td>1.283512</td>\n",
       "    </tr>\n",
       "    <tr>\n",
       "      <th>Knigthley7</th>\n",
       "      <td>1.578445</td>\n",
       "      <td>1.640247</td>\n",
       "      <td>1.663920</td>\n",
       "      <td>1.412977</td>\n",
       "      <td>1.482954</td>\n",
       "      <td>1.387046</td>\n",
       "      <td>1.353284</td>\n",
       "      <td>0.000000</td>\n",
       "      <td>0.949115</td>\n",
       "      <td>0.619691</td>\n",
       "      <td>0.909695</td>\n",
       "      <td>1.231758</td>\n",
       "      <td>1.171510</td>\n",
       "      <td>1.153572</td>\n",
       "      <td>1.092852</td>\n",
       "      <td>1.301596</td>\n",
       "      <td>1.290845</td>\n",
       "      <td>1.321423</td>\n",
       "    </tr>\n",
       "    <tr>\n",
       "      <th>Knigthley8</th>\n",
       "      <td>1.554737</td>\n",
       "      <td>1.529646</td>\n",
       "      <td>1.555391</td>\n",
       "      <td>1.462233</td>\n",
       "      <td>1.501128</td>\n",
       "      <td>1.493618</td>\n",
       "      <td>1.406169</td>\n",
       "      <td>0.949115</td>\n",
       "      <td>0.000000</td>\n",
       "      <td>0.837943</td>\n",
       "      <td>0.696021</td>\n",
       "      <td>1.107124</td>\n",
       "      <td>1.123657</td>\n",
       "      <td>1.077348</td>\n",
       "      <td>1.038899</td>\n",
       "      <td>1.434429</td>\n",
       "      <td>1.344812</td>\n",
       "      <td>1.396055</td>\n",
       "    </tr>\n",
       "    <tr>\n",
       "      <th>Knigthley9</th>\n",
       "      <td>1.594932</td>\n",
       "      <td>1.599528</td>\n",
       "      <td>1.622543</td>\n",
       "      <td>1.492834</td>\n",
       "      <td>1.577106</td>\n",
       "      <td>1.451741</td>\n",
       "      <td>1.381508</td>\n",
       "      <td>0.619691</td>\n",
       "      <td>0.837943</td>\n",
       "      <td>0.000000</td>\n",
       "      <td>0.851821</td>\n",
       "      <td>1.061676</td>\n",
       "      <td>1.110012</td>\n",
       "      <td>1.039082</td>\n",
       "      <td>0.964351</td>\n",
       "      <td>1.333469</td>\n",
       "      <td>1.319176</td>\n",
       "      <td>1.336598</td>\n",
       "    </tr>\n",
       "    <tr>\n",
       "      <th>Knigthley10</th>\n",
       "      <td>1.508523</td>\n",
       "      <td>1.518754</td>\n",
       "      <td>1.514700</td>\n",
       "      <td>1.434147</td>\n",
       "      <td>1.521969</td>\n",
       "      <td>1.435837</td>\n",
       "      <td>1.463294</td>\n",
       "      <td>0.909695</td>\n",
       "      <td>0.696021</td>\n",
       "      <td>0.851821</td>\n",
       "      <td>0.000000</td>\n",
       "      <td>1.155835</td>\n",
       "      <td>1.139212</td>\n",
       "      <td>1.071848</td>\n",
       "      <td>1.024345</td>\n",
       "      <td>1.383726</td>\n",
       "      <td>1.239349</td>\n",
       "      <td>1.242157</td>\n",
       "    </tr>\n",
       "    <tr>\n",
       "      <th>Portman11</th>\n",
       "      <td>1.269886</td>\n",
       "      <td>1.291879</td>\n",
       "      <td>1.400311</td>\n",
       "      <td>1.374565</td>\n",
       "      <td>1.438100</td>\n",
       "      <td>1.396807</td>\n",
       "      <td>1.458054</td>\n",
       "      <td>1.231758</td>\n",
       "      <td>1.107124</td>\n",
       "      <td>1.061676</td>\n",
       "      <td>1.155835</td>\n",
       "      <td>0.000000</td>\n",
       "      <td>0.973120</td>\n",
       "      <td>0.760534</td>\n",
       "      <td>0.626154</td>\n",
       "      <td>1.470804</td>\n",
       "      <td>1.456029</td>\n",
       "      <td>1.468408</td>\n",
       "    </tr>\n",
       "    <tr>\n",
       "      <th>Portman12</th>\n",
       "      <td>1.579674</td>\n",
       "      <td>1.463307</td>\n",
       "      <td>1.568217</td>\n",
       "      <td>1.334035</td>\n",
       "      <td>1.414573</td>\n",
       "      <td>1.499988</td>\n",
       "      <td>1.312430</td>\n",
       "      <td>1.171510</td>\n",
       "      <td>1.123657</td>\n",
       "      <td>1.110012</td>\n",
       "      <td>1.139212</td>\n",
       "      <td>0.973120</td>\n",
       "      <td>0.000000</td>\n",
       "      <td>0.723769</td>\n",
       "      <td>0.871868</td>\n",
       "      <td>1.468829</td>\n",
       "      <td>1.354269</td>\n",
       "      <td>1.392388</td>\n",
       "    </tr>\n",
       "    <tr>\n",
       "      <th>Portman13</th>\n",
       "      <td>1.482602</td>\n",
       "      <td>1.414238</td>\n",
       "      <td>1.530829</td>\n",
       "      <td>1.315104</td>\n",
       "      <td>1.438501</td>\n",
       "      <td>1.454677</td>\n",
       "      <td>1.330316</td>\n",
       "      <td>1.153572</td>\n",
       "      <td>1.077348</td>\n",
       "      <td>1.039082</td>\n",
       "      <td>1.071848</td>\n",
       "      <td>0.760534</td>\n",
       "      <td>0.723769</td>\n",
       "      <td>0.000000</td>\n",
       "      <td>0.585655</td>\n",
       "      <td>1.382722</td>\n",
       "      <td>1.308132</td>\n",
       "      <td>1.325496</td>\n",
       "    </tr>\n",
       "    <tr>\n",
       "      <th>Portman14</th>\n",
       "      <td>1.423907</td>\n",
       "      <td>1.437055</td>\n",
       "      <td>1.514457</td>\n",
       "      <td>1.237774</td>\n",
       "      <td>1.379168</td>\n",
       "      <td>1.376016</td>\n",
       "      <td>1.397208</td>\n",
       "      <td>1.092852</td>\n",
       "      <td>1.038899</td>\n",
       "      <td>0.964351</td>\n",
       "      <td>1.024345</td>\n",
       "      <td>0.626154</td>\n",
       "      <td>0.871868</td>\n",
       "      <td>0.585655</td>\n",
       "      <td>0.000000</td>\n",
       "      <td>1.440292</td>\n",
       "      <td>1.375731</td>\n",
       "      <td>1.367483</td>\n",
       "    </tr>\n",
       "    <tr>\n",
       "      <th>navalny15</th>\n",
       "      <td>1.486160</td>\n",
       "      <td>1.351246</td>\n",
       "      <td>1.475381</td>\n",
       "      <td>1.301605</td>\n",
       "      <td>1.358210</td>\n",
       "      <td>1.280681</td>\n",
       "      <td>1.249285</td>\n",
       "      <td>1.301596</td>\n",
       "      <td>1.434429</td>\n",
       "      <td>1.333469</td>\n",
       "      <td>1.383726</td>\n",
       "      <td>1.470804</td>\n",
       "      <td>1.468829</td>\n",
       "      <td>1.382722</td>\n",
       "      <td>1.440292</td>\n",
       "      <td>0.000000</td>\n",
       "      <td>0.667689</td>\n",
       "      <td>0.616660</td>\n",
       "    </tr>\n",
       "    <tr>\n",
       "      <th>navalny16</th>\n",
       "      <td>1.505851</td>\n",
       "      <td>1.359124</td>\n",
       "      <td>1.414337</td>\n",
       "      <td>1.289008</td>\n",
       "      <td>1.283885</td>\n",
       "      <td>1.304728</td>\n",
       "      <td>1.143461</td>\n",
       "      <td>1.290845</td>\n",
       "      <td>1.344812</td>\n",
       "      <td>1.319176</td>\n",
       "      <td>1.239349</td>\n",
       "      <td>1.456029</td>\n",
       "      <td>1.354269</td>\n",
       "      <td>1.308132</td>\n",
       "      <td>1.375731</td>\n",
       "      <td>0.667689</td>\n",
       "      <td>0.000000</td>\n",
       "      <td>0.668275</td>\n",
       "    </tr>\n",
       "    <tr>\n",
       "      <th>navalny17</th>\n",
       "      <td>1.504811</td>\n",
       "      <td>1.338910</td>\n",
       "      <td>1.481313</td>\n",
       "      <td>1.270672</td>\n",
       "      <td>1.286618</td>\n",
       "      <td>1.220664</td>\n",
       "      <td>1.283512</td>\n",
       "      <td>1.321423</td>\n",
       "      <td>1.396055</td>\n",
       "      <td>1.336598</td>\n",
       "      <td>1.242157</td>\n",
       "      <td>1.468408</td>\n",
       "      <td>1.392388</td>\n",
       "      <td>1.325496</td>\n",
       "      <td>1.367483</td>\n",
       "      <td>0.616660</td>\n",
       "      <td>0.668275</td>\n",
       "      <td>0.000000</td>\n",
       "    </tr>\n",
       "  </tbody>\n",
       "</table>\n",
       "</div>"
      ],
      "text/plain": [
       "               Biden0    Biden1    Biden2   Eltsin3   Eltsin4   Eltsin5  \\\n",
       "Biden0       0.000000  0.818135  0.854728  1.395409  1.421083  1.416709   \n",
       "Biden1       0.818135  0.000000  0.924453  1.499226  1.455529  1.482761   \n",
       "Biden2       0.854728  0.924453  0.000000  1.451503  1.363726  1.411385   \n",
       "Eltsin3      1.395409  1.499226  1.451503  0.000000  0.942345  1.137126   \n",
       "Eltsin4      1.421083  1.455529  1.363726  0.942345  0.000000  1.072529   \n",
       "Eltsin5      1.416709  1.482761  1.411385  1.137126  1.072529  0.000000   \n",
       "Ibatulin6    1.475619  1.489797  1.500516  1.120403  1.134941  1.348891   \n",
       "Knigthley7   1.578445  1.640247  1.663920  1.412977  1.482954  1.387046   \n",
       "Knigthley8   1.554737  1.529646  1.555391  1.462233  1.501128  1.493618   \n",
       "Knigthley9   1.594932  1.599528  1.622543  1.492834  1.577106  1.451741   \n",
       "Knigthley10  1.508523  1.518754  1.514700  1.434147  1.521969  1.435837   \n",
       "Portman11    1.269886  1.291879  1.400311  1.374565  1.438100  1.396807   \n",
       "Portman12    1.579674  1.463307  1.568217  1.334035  1.414573  1.499988   \n",
       "Portman13    1.482602  1.414238  1.530829  1.315104  1.438501  1.454677   \n",
       "Portman14    1.423907  1.437055  1.514457  1.237774  1.379168  1.376016   \n",
       "navalny15    1.486160  1.351246  1.475381  1.301605  1.358210  1.280681   \n",
       "navalny16    1.505851  1.359124  1.414337  1.289008  1.283885  1.304728   \n",
       "navalny17    1.504811  1.338910  1.481313  1.270672  1.286618  1.220664   \n",
       "\n",
       "             Ibatulin6  Knigthley7  Knigthley8  Knigthley9  Knigthley10  \\\n",
       "Biden0        1.475619    1.578445    1.554737    1.594932     1.508523   \n",
       "Biden1        1.489797    1.640247    1.529646    1.599528     1.518754   \n",
       "Biden2        1.500516    1.663920    1.555391    1.622543     1.514700   \n",
       "Eltsin3       1.120403    1.412977    1.462233    1.492834     1.434147   \n",
       "Eltsin4       1.134941    1.482954    1.501128    1.577106     1.521969   \n",
       "Eltsin5       1.348891    1.387046    1.493618    1.451741     1.435837   \n",
       "Ibatulin6     0.000000    1.353284    1.406169    1.381508     1.463294   \n",
       "Knigthley7    1.353284    0.000000    0.949115    0.619691     0.909695   \n",
       "Knigthley8    1.406169    0.949115    0.000000    0.837943     0.696021   \n",
       "Knigthley9    1.381508    0.619691    0.837943    0.000000     0.851821   \n",
       "Knigthley10   1.463294    0.909695    0.696021    0.851821     0.000000   \n",
       "Portman11     1.458054    1.231758    1.107124    1.061676     1.155835   \n",
       "Portman12     1.312430    1.171510    1.123657    1.110012     1.139212   \n",
       "Portman13     1.330316    1.153572    1.077348    1.039082     1.071848   \n",
       "Portman14     1.397208    1.092852    1.038899    0.964351     1.024345   \n",
       "navalny15     1.249285    1.301596    1.434429    1.333469     1.383726   \n",
       "navalny16     1.143461    1.290845    1.344812    1.319176     1.239349   \n",
       "navalny17     1.283512    1.321423    1.396055    1.336598     1.242157   \n",
       "\n",
       "             Portman11  Portman12  Portman13  Portman14  navalny15  navalny16  \\\n",
       "Biden0        1.269886   1.579674   1.482602   1.423907   1.486160   1.505851   \n",
       "Biden1        1.291879   1.463307   1.414238   1.437055   1.351246   1.359124   \n",
       "Biden2        1.400311   1.568217   1.530829   1.514457   1.475381   1.414337   \n",
       "Eltsin3       1.374565   1.334035   1.315104   1.237774   1.301605   1.289008   \n",
       "Eltsin4       1.438100   1.414573   1.438501   1.379168   1.358210   1.283885   \n",
       "Eltsin5       1.396807   1.499988   1.454677   1.376016   1.280681   1.304728   \n",
       "Ibatulin6     1.458054   1.312430   1.330316   1.397208   1.249285   1.143461   \n",
       "Knigthley7    1.231758   1.171510   1.153572   1.092852   1.301596   1.290845   \n",
       "Knigthley8    1.107124   1.123657   1.077348   1.038899   1.434429   1.344812   \n",
       "Knigthley9    1.061676   1.110012   1.039082   0.964351   1.333469   1.319176   \n",
       "Knigthley10   1.155835   1.139212   1.071848   1.024345   1.383726   1.239349   \n",
       "Portman11     0.000000   0.973120   0.760534   0.626154   1.470804   1.456029   \n",
       "Portman12     0.973120   0.000000   0.723769   0.871868   1.468829   1.354269   \n",
       "Portman13     0.760534   0.723769   0.000000   0.585655   1.382722   1.308132   \n",
       "Portman14     0.626154   0.871868   0.585655   0.000000   1.440292   1.375731   \n",
       "navalny15     1.470804   1.468829   1.382722   1.440292   0.000000   0.667689   \n",
       "navalny16     1.456029   1.354269   1.308132   1.375731   0.667689   0.000000   \n",
       "navalny17     1.468408   1.392388   1.325496   1.367483   0.616660   0.668275   \n",
       "\n",
       "             navalny17  \n",
       "Biden0        1.504811  \n",
       "Biden1        1.338910  \n",
       "Biden2        1.481313  \n",
       "Eltsin3       1.270672  \n",
       "Eltsin4       1.286618  \n",
       "Eltsin5       1.220664  \n",
       "Ibatulin6     1.283512  \n",
       "Knigthley7    1.321423  \n",
       "Knigthley8    1.396055  \n",
       "Knigthley9    1.336598  \n",
       "Knigthley10   1.242157  \n",
       "Portman11     1.468408  \n",
       "Portman12     1.392388  \n",
       "Portman13     1.325496  \n",
       "Portman14     1.367483  \n",
       "navalny15     0.616660  \n",
       "navalny16     0.668275  \n",
       "navalny17     0.000000  "
      ]
     },
     "execution_count": 47,
     "metadata": {},
     "output_type": "execute_result"
    }
   ],
   "source": [
    "euc_df"
   ]
  },
  {
   "cell_type": "code",
   "execution_count": 43,
   "metadata": {},
   "outputs": [],
   "source": [
    "import plotly.express as px"
   ]
  },
  {
   "cell_type": "code",
   "execution_count": 48,
   "metadata": {},
   "outputs": [
    {
     "data": {
      "application/vnd.plotly.v1+json": {
       "config": {
        "plotlyServerURL": "https://plot.ly"
       },
       "data": [
        {
         "coloraxis": "coloraxis",
         "hovertemplate": "x: %{x}<br>y: %{y}<br>color: %{z}<extra></extra>",
         "name": "0",
         "type": "heatmap",
         "x": [
          "Biden0",
          "Biden1",
          "Biden2",
          "Eltsin3",
          "Eltsin4",
          "Eltsin5",
          "Ibatulin6",
          "Knigthley7",
          "Knigthley8",
          "Knigthley9",
          "Knigthley10",
          "Portman11",
          "Portman12",
          "Portman13",
          "Portman14",
          "navalny15",
          "navalny16",
          "navalny17"
         ],
         "xaxis": "x",
         "y": [
          "Biden0",
          "Biden1",
          "Biden2",
          "Eltsin3",
          "Eltsin4",
          "Eltsin5",
          "Ibatulin6",
          "Knigthley7",
          "Knigthley8",
          "Knigthley9",
          "Knigthley10",
          "Portman11",
          "Portman12",
          "Portman13",
          "Portman14",
          "navalny15",
          "navalny16",
          "navalny17"
         ],
         "yaxis": "y",
         "z": [
          [
           0,
           0.8181347846984863,
           0.8547279834747314,
           1.3954089879989624,
           1.4210827350616455,
           1.4167085886001587,
           1.4756194353103638,
           1.5784449577331543,
           1.5547369718551636,
           1.5949320793151855,
           1.5085225105285645,
           1.2698863744735718,
           1.579674482345581,
           1.482601523399353,
           1.423906683921814,
           1.4861602783203125,
           1.5058513879776,
           1.5048106908798218
          ],
          [
           0.8181347846984863,
           0,
           0.924452543258667,
           1.4992260932922363,
           1.4555290937423706,
           1.4827606678009033,
           1.4897971153259277,
           1.6402474641799927,
           1.529646396636963,
           1.5995277166366577,
           1.5187541246414185,
           1.2918792963027954,
           1.4633070230484009,
           1.4142379760742188,
           1.4370547533035278,
           1.3512458801269531,
           1.359123945236206,
           1.3389097452163696
          ],
          [
           0.8547279834747314,
           0.924452543258667,
           0,
           1.4515026807785034,
           1.3637261390686035,
           1.411385178565979,
           1.5005160570144653,
           1.6639201641082764,
           1.5553914308547974,
           1.6225429773330688,
           1.5147004127502441,
           1.4003111124038696,
           1.5682172775268555,
           1.5308291912078857,
           1.51445734500885,
           1.4753814935684204,
           1.4143368005752563,
           1.4813129901885986
          ],
          [
           1.3954089879989624,
           1.4992260932922363,
           1.4515026807785034,
           0,
           0.9423454999923706,
           1.1371263265609741,
           1.1204029321670532,
           1.412976861000061,
           1.4622328281402588,
           1.4928343296051025,
           1.434146523475647,
           1.3745654821395874,
           1.3340352773666382,
           1.3151036500930786,
           1.237774133682251,
           1.301604986190796,
           1.289008378982544,
           1.2706719636917114
          ],
          [
           1.4210827350616455,
           1.4555290937423706,
           1.3637261390686035,
           0.9423454999923706,
           0,
           1.0725289583206177,
           1.1349413394927979,
           1.4829540252685547,
           1.5011281967163086,
           1.577106237411499,
           1.5219690799713135,
           1.4381002187728882,
           1.414573311805725,
           1.4385011196136475,
           1.3791677951812744,
           1.3582096099853516,
           1.2838854789733887,
           1.2866183519363403
          ],
          [
           1.4167085886001587,
           1.4827606678009033,
           1.411385178565979,
           1.1371263265609741,
           1.0725289583206177,
           0,
           1.3488909006118774,
           1.3870460987091064,
           1.493618130683899,
           1.4517414569854736,
           1.4358365535736084,
           1.3968067169189453,
           1.4999877214431763,
           1.454676866531372,
           1.3760159015655518,
           1.2806811332702637,
           1.3047279119491577,
           1.2206636667251587
          ],
          [
           1.4756194353103638,
           1.4897971153259277,
           1.5005160570144653,
           1.1204029321670532,
           1.1349413394927979,
           1.3488909006118774,
           0,
           1.3532838821411133,
           1.4061691761016846,
           1.3815078735351562,
           1.4632939100265503,
           1.4580539464950562,
           1.3124300241470337,
           1.3303160667419434,
           1.3972078561782837,
           1.249285101890564,
           1.1434611082077026,
           1.2835121154785156
          ],
          [
           1.5784449577331543,
           1.6402474641799927,
           1.6639201641082764,
           1.412976861000061,
           1.4829540252685547,
           1.3870460987091064,
           1.3532838821411133,
           0,
           0.9491152167320251,
           0.6196911334991455,
           0.9096952676773071,
           1.23175847530365,
           1.1715099811553955,
           1.1535724401474,
           1.092851996421814,
           1.3015958070755005,
           1.2908445596694946,
           1.321422815322876
          ],
          [
           1.5547369718551636,
           1.529646396636963,
           1.5553914308547974,
           1.4622328281402588,
           1.5011281967163086,
           1.493618130683899,
           1.4061691761016846,
           0.9491152167320251,
           0,
           0.8379434943199158,
           0.6960205435752869,
           1.1071242094039917,
           1.1236566305160522,
           1.0773481130599976,
           1.0388989448547363,
           1.4344289302825928,
           1.3448119163513184,
           1.3960546255111694
          ],
          [
           1.5949320793151855,
           1.5995277166366577,
           1.6225429773330688,
           1.4928343296051025,
           1.577106237411499,
           1.4517414569854736,
           1.3815078735351562,
           0.6196911334991455,
           0.8379434943199158,
           0,
           0.8518205285072327,
           1.0616759061813354,
           1.1100118160247803,
           1.0390820503234863,
           0.9643511176109314,
           1.3334687948226929,
           1.3191758394241333,
           1.3365983963012695
          ],
          [
           1.5085225105285645,
           1.5187541246414185,
           1.5147004127502441,
           1.434146523475647,
           1.5219690799713135,
           1.4358365535736084,
           1.4632939100265503,
           0.9096952676773071,
           0.6960205435752869,
           0.8518205285072327,
           0,
           1.1558353900909424,
           1.1392115354537964,
           1.0718480348587036,
           1.024344801902771,
           1.3837255239486694,
           1.239349126815796,
           1.2421566247940063
          ],
          [
           1.2698863744735718,
           1.2918792963027954,
           1.4003111124038696,
           1.3745654821395874,
           1.4381002187728882,
           1.3968067169189453,
           1.4580539464950562,
           1.23175847530365,
           1.1071242094039917,
           1.0616759061813354,
           1.1558353900909424,
           0,
           0.973120391368866,
           0.7605335712432861,
           0.6261537671089172,
           1.4708036184310913,
           1.4560290575027466,
           1.4684077501296997
          ],
          [
           1.579674482345581,
           1.4633070230484009,
           1.5682172775268555,
           1.3340352773666382,
           1.414573311805725,
           1.4999877214431763,
           1.3124300241470337,
           1.1715099811553955,
           1.1236566305160522,
           1.1100118160247803,
           1.1392115354537964,
           0.973120391368866,
           0,
           0.7237685322761536,
           0.8718681931495667,
           1.4688290357589722,
           1.3542686700820923,
           1.3923884630203247
          ],
          [
           1.482601523399353,
           1.4142379760742188,
           1.5308291912078857,
           1.3151036500930786,
           1.4385011196136475,
           1.454676866531372,
           1.3303160667419434,
           1.1535724401474,
           1.0773481130599976,
           1.0390820503234863,
           1.0718480348587036,
           0.7605335712432861,
           0.7237685322761536,
           0,
           0.5856552720069885,
           1.3827217817306519,
           1.3081320524215698,
           1.3254960775375366
          ],
          [
           1.423906683921814,
           1.4370547533035278,
           1.51445734500885,
           1.237774133682251,
           1.3791677951812744,
           1.3760159015655518,
           1.3972078561782837,
           1.092851996421814,
           1.0388989448547363,
           0.9643511176109314,
           1.024344801902771,
           0.6261537671089172,
           0.8718681931495667,
           0.5856552720069885,
           0,
           1.4402917623519897,
           1.3757309913635254,
           1.3674826622009277
          ],
          [
           1.4861602783203125,
           1.3512458801269531,
           1.4753814935684204,
           1.301604986190796,
           1.3582096099853516,
           1.2806811332702637,
           1.249285101890564,
           1.3015958070755005,
           1.4344289302825928,
           1.3334687948226929,
           1.3837255239486694,
           1.4708036184310913,
           1.4688290357589722,
           1.3827217817306519,
           1.4402917623519897,
           0,
           0.6676889657974243,
           0.6166600584983826
          ],
          [
           1.5058513879776,
           1.359123945236206,
           1.4143368005752563,
           1.289008378982544,
           1.2838854789733887,
           1.3047279119491577,
           1.1434611082077026,
           1.2908445596694946,
           1.3448119163513184,
           1.3191758394241333,
           1.239349126815796,
           1.4560290575027466,
           1.3542686700820923,
           1.3081320524215698,
           1.3757309913635254,
           0.6676889657974243,
           0,
           0.6682747006416321
          ],
          [
           1.5048106908798218,
           1.3389097452163696,
           1.4813129901885986,
           1.2706719636917114,
           1.2866183519363403,
           1.2206636667251587,
           1.2835121154785156,
           1.321422815322876,
           1.3960546255111694,
           1.3365983963012695,
           1.2421566247940063,
           1.4684077501296997,
           1.3923884630203247,
           1.3254960775375366,
           1.3674826622009277,
           0.6166600584983826,
           0.6682747006416321,
           0
          ]
         ]
        }
       ],
       "layout": {
        "coloraxis": {
         "colorscale": [
          [
           0,
           "#0d0887"
          ],
          [
           0.1111111111111111,
           "#46039f"
          ],
          [
           0.2222222222222222,
           "#7201a8"
          ],
          [
           0.3333333333333333,
           "#9c179e"
          ],
          [
           0.4444444444444444,
           "#bd3786"
          ],
          [
           0.5555555555555556,
           "#d8576b"
          ],
          [
           0.6666666666666666,
           "#ed7953"
          ],
          [
           0.7777777777777778,
           "#fb9f3a"
          ],
          [
           0.8888888888888888,
           "#fdca26"
          ],
          [
           1,
           "#f0f921"
          ]
         ]
        },
        "margin": {
         "t": 60
        },
        "template": {
         "data": {
          "bar": [
           {
            "error_x": {
             "color": "#2a3f5f"
            },
            "error_y": {
             "color": "#2a3f5f"
            },
            "marker": {
             "line": {
              "color": "#E5ECF6",
              "width": 0.5
             }
            },
            "type": "bar"
           }
          ],
          "barpolar": [
           {
            "marker": {
             "line": {
              "color": "#E5ECF6",
              "width": 0.5
             }
            },
            "type": "barpolar"
           }
          ],
          "carpet": [
           {
            "aaxis": {
             "endlinecolor": "#2a3f5f",
             "gridcolor": "white",
             "linecolor": "white",
             "minorgridcolor": "white",
             "startlinecolor": "#2a3f5f"
            },
            "baxis": {
             "endlinecolor": "#2a3f5f",
             "gridcolor": "white",
             "linecolor": "white",
             "minorgridcolor": "white",
             "startlinecolor": "#2a3f5f"
            },
            "type": "carpet"
           }
          ],
          "choropleth": [
           {
            "colorbar": {
             "outlinewidth": 0,
             "ticks": ""
            },
            "type": "choropleth"
           }
          ],
          "contour": [
           {
            "colorbar": {
             "outlinewidth": 0,
             "ticks": ""
            },
            "colorscale": [
             [
              0,
              "#0d0887"
             ],
             [
              0.1111111111111111,
              "#46039f"
             ],
             [
              0.2222222222222222,
              "#7201a8"
             ],
             [
              0.3333333333333333,
              "#9c179e"
             ],
             [
              0.4444444444444444,
              "#bd3786"
             ],
             [
              0.5555555555555556,
              "#d8576b"
             ],
             [
              0.6666666666666666,
              "#ed7953"
             ],
             [
              0.7777777777777778,
              "#fb9f3a"
             ],
             [
              0.8888888888888888,
              "#fdca26"
             ],
             [
              1,
              "#f0f921"
             ]
            ],
            "type": "contour"
           }
          ],
          "contourcarpet": [
           {
            "colorbar": {
             "outlinewidth": 0,
             "ticks": ""
            },
            "type": "contourcarpet"
           }
          ],
          "heatmap": [
           {
            "colorbar": {
             "outlinewidth": 0,
             "ticks": ""
            },
            "colorscale": [
             [
              0,
              "#0d0887"
             ],
             [
              0.1111111111111111,
              "#46039f"
             ],
             [
              0.2222222222222222,
              "#7201a8"
             ],
             [
              0.3333333333333333,
              "#9c179e"
             ],
             [
              0.4444444444444444,
              "#bd3786"
             ],
             [
              0.5555555555555556,
              "#d8576b"
             ],
             [
              0.6666666666666666,
              "#ed7953"
             ],
             [
              0.7777777777777778,
              "#fb9f3a"
             ],
             [
              0.8888888888888888,
              "#fdca26"
             ],
             [
              1,
              "#f0f921"
             ]
            ],
            "type": "heatmap"
           }
          ],
          "heatmapgl": [
           {
            "colorbar": {
             "outlinewidth": 0,
             "ticks": ""
            },
            "colorscale": [
             [
              0,
              "#0d0887"
             ],
             [
              0.1111111111111111,
              "#46039f"
             ],
             [
              0.2222222222222222,
              "#7201a8"
             ],
             [
              0.3333333333333333,
              "#9c179e"
             ],
             [
              0.4444444444444444,
              "#bd3786"
             ],
             [
              0.5555555555555556,
              "#d8576b"
             ],
             [
              0.6666666666666666,
              "#ed7953"
             ],
             [
              0.7777777777777778,
              "#fb9f3a"
             ],
             [
              0.8888888888888888,
              "#fdca26"
             ],
             [
              1,
              "#f0f921"
             ]
            ],
            "type": "heatmapgl"
           }
          ],
          "histogram": [
           {
            "marker": {
             "colorbar": {
              "outlinewidth": 0,
              "ticks": ""
             }
            },
            "type": "histogram"
           }
          ],
          "histogram2d": [
           {
            "colorbar": {
             "outlinewidth": 0,
             "ticks": ""
            },
            "colorscale": [
             [
              0,
              "#0d0887"
             ],
             [
              0.1111111111111111,
              "#46039f"
             ],
             [
              0.2222222222222222,
              "#7201a8"
             ],
             [
              0.3333333333333333,
              "#9c179e"
             ],
             [
              0.4444444444444444,
              "#bd3786"
             ],
             [
              0.5555555555555556,
              "#d8576b"
             ],
             [
              0.6666666666666666,
              "#ed7953"
             ],
             [
              0.7777777777777778,
              "#fb9f3a"
             ],
             [
              0.8888888888888888,
              "#fdca26"
             ],
             [
              1,
              "#f0f921"
             ]
            ],
            "type": "histogram2d"
           }
          ],
          "histogram2dcontour": [
           {
            "colorbar": {
             "outlinewidth": 0,
             "ticks": ""
            },
            "colorscale": [
             [
              0,
              "#0d0887"
             ],
             [
              0.1111111111111111,
              "#46039f"
             ],
             [
              0.2222222222222222,
              "#7201a8"
             ],
             [
              0.3333333333333333,
              "#9c179e"
             ],
             [
              0.4444444444444444,
              "#bd3786"
             ],
             [
              0.5555555555555556,
              "#d8576b"
             ],
             [
              0.6666666666666666,
              "#ed7953"
             ],
             [
              0.7777777777777778,
              "#fb9f3a"
             ],
             [
              0.8888888888888888,
              "#fdca26"
             ],
             [
              1,
              "#f0f921"
             ]
            ],
            "type": "histogram2dcontour"
           }
          ],
          "mesh3d": [
           {
            "colorbar": {
             "outlinewidth": 0,
             "ticks": ""
            },
            "type": "mesh3d"
           }
          ],
          "parcoords": [
           {
            "line": {
             "colorbar": {
              "outlinewidth": 0,
              "ticks": ""
             }
            },
            "type": "parcoords"
           }
          ],
          "pie": [
           {
            "automargin": true,
            "type": "pie"
           }
          ],
          "scatter": [
           {
            "marker": {
             "colorbar": {
              "outlinewidth": 0,
              "ticks": ""
             }
            },
            "type": "scatter"
           }
          ],
          "scatter3d": [
           {
            "line": {
             "colorbar": {
              "outlinewidth": 0,
              "ticks": ""
             }
            },
            "marker": {
             "colorbar": {
              "outlinewidth": 0,
              "ticks": ""
             }
            },
            "type": "scatter3d"
           }
          ],
          "scattercarpet": [
           {
            "marker": {
             "colorbar": {
              "outlinewidth": 0,
              "ticks": ""
             }
            },
            "type": "scattercarpet"
           }
          ],
          "scattergeo": [
           {
            "marker": {
             "colorbar": {
              "outlinewidth": 0,
              "ticks": ""
             }
            },
            "type": "scattergeo"
           }
          ],
          "scattergl": [
           {
            "marker": {
             "colorbar": {
              "outlinewidth": 0,
              "ticks": ""
             }
            },
            "type": "scattergl"
           }
          ],
          "scattermapbox": [
           {
            "marker": {
             "colorbar": {
              "outlinewidth": 0,
              "ticks": ""
             }
            },
            "type": "scattermapbox"
           }
          ],
          "scatterpolar": [
           {
            "marker": {
             "colorbar": {
              "outlinewidth": 0,
              "ticks": ""
             }
            },
            "type": "scatterpolar"
           }
          ],
          "scatterpolargl": [
           {
            "marker": {
             "colorbar": {
              "outlinewidth": 0,
              "ticks": ""
             }
            },
            "type": "scatterpolargl"
           }
          ],
          "scatterternary": [
           {
            "marker": {
             "colorbar": {
              "outlinewidth": 0,
              "ticks": ""
             }
            },
            "type": "scatterternary"
           }
          ],
          "surface": [
           {
            "colorbar": {
             "outlinewidth": 0,
             "ticks": ""
            },
            "colorscale": [
             [
              0,
              "#0d0887"
             ],
             [
              0.1111111111111111,
              "#46039f"
             ],
             [
              0.2222222222222222,
              "#7201a8"
             ],
             [
              0.3333333333333333,
              "#9c179e"
             ],
             [
              0.4444444444444444,
              "#bd3786"
             ],
             [
              0.5555555555555556,
              "#d8576b"
             ],
             [
              0.6666666666666666,
              "#ed7953"
             ],
             [
              0.7777777777777778,
              "#fb9f3a"
             ],
             [
              0.8888888888888888,
              "#fdca26"
             ],
             [
              1,
              "#f0f921"
             ]
            ],
            "type": "surface"
           }
          ],
          "table": [
           {
            "cells": {
             "fill": {
              "color": "#EBF0F8"
             },
             "line": {
              "color": "white"
             }
            },
            "header": {
             "fill": {
              "color": "#C8D4E3"
             },
             "line": {
              "color": "white"
             }
            },
            "type": "table"
           }
          ]
         },
         "layout": {
          "annotationdefaults": {
           "arrowcolor": "#2a3f5f",
           "arrowhead": 0,
           "arrowwidth": 1
          },
          "autotypenumbers": "strict",
          "coloraxis": {
           "colorbar": {
            "outlinewidth": 0,
            "ticks": ""
           }
          },
          "colorscale": {
           "diverging": [
            [
             0,
             "#8e0152"
            ],
            [
             0.1,
             "#c51b7d"
            ],
            [
             0.2,
             "#de77ae"
            ],
            [
             0.3,
             "#f1b6da"
            ],
            [
             0.4,
             "#fde0ef"
            ],
            [
             0.5,
             "#f7f7f7"
            ],
            [
             0.6,
             "#e6f5d0"
            ],
            [
             0.7,
             "#b8e186"
            ],
            [
             0.8,
             "#7fbc41"
            ],
            [
             0.9,
             "#4d9221"
            ],
            [
             1,
             "#276419"
            ]
           ],
           "sequential": [
            [
             0,
             "#0d0887"
            ],
            [
             0.1111111111111111,
             "#46039f"
            ],
            [
             0.2222222222222222,
             "#7201a8"
            ],
            [
             0.3333333333333333,
             "#9c179e"
            ],
            [
             0.4444444444444444,
             "#bd3786"
            ],
            [
             0.5555555555555556,
             "#d8576b"
            ],
            [
             0.6666666666666666,
             "#ed7953"
            ],
            [
             0.7777777777777778,
             "#fb9f3a"
            ],
            [
             0.8888888888888888,
             "#fdca26"
            ],
            [
             1,
             "#f0f921"
            ]
           ],
           "sequentialminus": [
            [
             0,
             "#0d0887"
            ],
            [
             0.1111111111111111,
             "#46039f"
            ],
            [
             0.2222222222222222,
             "#7201a8"
            ],
            [
             0.3333333333333333,
             "#9c179e"
            ],
            [
             0.4444444444444444,
             "#bd3786"
            ],
            [
             0.5555555555555556,
             "#d8576b"
            ],
            [
             0.6666666666666666,
             "#ed7953"
            ],
            [
             0.7777777777777778,
             "#fb9f3a"
            ],
            [
             0.8888888888888888,
             "#fdca26"
            ],
            [
             1,
             "#f0f921"
            ]
           ]
          },
          "colorway": [
           "#636efa",
           "#EF553B",
           "#00cc96",
           "#ab63fa",
           "#FFA15A",
           "#19d3f3",
           "#FF6692",
           "#B6E880",
           "#FF97FF",
           "#FECB52"
          ],
          "font": {
           "color": "#2a3f5f"
          },
          "geo": {
           "bgcolor": "white",
           "lakecolor": "white",
           "landcolor": "#E5ECF6",
           "showlakes": true,
           "showland": true,
           "subunitcolor": "white"
          },
          "hoverlabel": {
           "align": "left"
          },
          "hovermode": "closest",
          "mapbox": {
           "style": "light"
          },
          "paper_bgcolor": "white",
          "plot_bgcolor": "#E5ECF6",
          "polar": {
           "angularaxis": {
            "gridcolor": "white",
            "linecolor": "white",
            "ticks": ""
           },
           "bgcolor": "#E5ECF6",
           "radialaxis": {
            "gridcolor": "white",
            "linecolor": "white",
            "ticks": ""
           }
          },
          "scene": {
           "xaxis": {
            "backgroundcolor": "#E5ECF6",
            "gridcolor": "white",
            "gridwidth": 2,
            "linecolor": "white",
            "showbackground": true,
            "ticks": "",
            "zerolinecolor": "white"
           },
           "yaxis": {
            "backgroundcolor": "#E5ECF6",
            "gridcolor": "white",
            "gridwidth": 2,
            "linecolor": "white",
            "showbackground": true,
            "ticks": "",
            "zerolinecolor": "white"
           },
           "zaxis": {
            "backgroundcolor": "#E5ECF6",
            "gridcolor": "white",
            "gridwidth": 2,
            "linecolor": "white",
            "showbackground": true,
            "ticks": "",
            "zerolinecolor": "white"
           }
          },
          "shapedefaults": {
           "line": {
            "color": "#2a3f5f"
           }
          },
          "ternary": {
           "aaxis": {
            "gridcolor": "white",
            "linecolor": "white",
            "ticks": ""
           },
           "baxis": {
            "gridcolor": "white",
            "linecolor": "white",
            "ticks": ""
           },
           "bgcolor": "#E5ECF6",
           "caxis": {
            "gridcolor": "white",
            "linecolor": "white",
            "ticks": ""
           }
          },
          "title": {
           "x": 0.05
          },
          "xaxis": {
           "automargin": true,
           "gridcolor": "white",
           "linecolor": "white",
           "ticks": "",
           "title": {
            "standoff": 15
           },
           "zerolinecolor": "white",
           "zerolinewidth": 2
          },
          "yaxis": {
           "automargin": true,
           "gridcolor": "white",
           "linecolor": "white",
           "ticks": "",
           "title": {
            "standoff": 15
           },
           "zerolinecolor": "white",
           "zerolinewidth": 2
          }
         }
        },
        "xaxis": {
         "anchor": "y",
         "constrain": "domain",
         "domain": [
          0,
          1
         ],
         "scaleanchor": "y"
        },
        "yaxis": {
         "anchor": "x",
         "autorange": "reversed",
         "constrain": "domain",
         "domain": [
          0,
          1
         ]
        }
       }
      },
      "text/html": [
       "<div>                            <div id=\"07690731-8386-4d71-b1a0-ffac354e1628\" class=\"plotly-graph-div\" style=\"height:525px; width:100%;\"></div>            <script type=\"text/javascript\">                require([\"plotly\"], function(Plotly) {                    window.PLOTLYENV=window.PLOTLYENV || {};                                    if (document.getElementById(\"07690731-8386-4d71-b1a0-ffac354e1628\")) {                    Plotly.newPlot(                        \"07690731-8386-4d71-b1a0-ffac354e1628\",                        [{\"coloraxis\": \"coloraxis\", \"hovertemplate\": \"x: %{x}<br>y: %{y}<br>color: %{z}<extra></extra>\", \"name\": \"0\", \"type\": \"heatmap\", \"x\": [\"Biden0\", \"Biden1\", \"Biden2\", \"Eltsin3\", \"Eltsin4\", \"Eltsin5\", \"Ibatulin6\", \"Knigthley7\", \"Knigthley8\", \"Knigthley9\", \"Knigthley10\", \"Portman11\", \"Portman12\", \"Portman13\", \"Portman14\", \"navalny15\", \"navalny16\", \"navalny17\"], \"xaxis\": \"x\", \"y\": [\"Biden0\", \"Biden1\", \"Biden2\", \"Eltsin3\", \"Eltsin4\", \"Eltsin5\", \"Ibatulin6\", \"Knigthley7\", \"Knigthley8\", \"Knigthley9\", \"Knigthley10\", \"Portman11\", \"Portman12\", \"Portman13\", \"Portman14\", \"navalny15\", \"navalny16\", \"navalny17\"], \"yaxis\": \"y\", \"z\": [[0.0, 0.8181347846984863, 0.8547279834747314, 1.3954089879989624, 1.4210827350616455, 1.4167085886001587, 1.4756194353103638, 1.5784449577331543, 1.5547369718551636, 1.5949320793151855, 1.5085225105285645, 1.2698863744735718, 1.579674482345581, 1.482601523399353, 1.423906683921814, 1.4861602783203125, 1.5058513879776, 1.5048106908798218], [0.8181347846984863, 0.0, 0.924452543258667, 1.4992260932922363, 1.4555290937423706, 1.4827606678009033, 1.4897971153259277, 1.6402474641799927, 1.529646396636963, 1.5995277166366577, 1.5187541246414185, 1.2918792963027954, 1.4633070230484009, 1.4142379760742188, 1.4370547533035278, 1.3512458801269531, 1.359123945236206, 1.3389097452163696], [0.8547279834747314, 0.924452543258667, 0.0, 1.4515026807785034, 1.3637261390686035, 1.411385178565979, 1.5005160570144653, 1.6639201641082764, 1.5553914308547974, 1.6225429773330688, 1.5147004127502441, 1.4003111124038696, 1.5682172775268555, 1.5308291912078857, 1.51445734500885, 1.4753814935684204, 1.4143368005752563, 1.4813129901885986], [1.3954089879989624, 1.4992260932922363, 1.4515026807785034, 0.0, 0.9423454999923706, 1.1371263265609741, 1.1204029321670532, 1.412976861000061, 1.4622328281402588, 1.4928343296051025, 1.434146523475647, 1.3745654821395874, 1.3340352773666382, 1.3151036500930786, 1.237774133682251, 1.301604986190796, 1.289008378982544, 1.2706719636917114], [1.4210827350616455, 1.4555290937423706, 1.3637261390686035, 0.9423454999923706, 0.0, 1.0725289583206177, 1.1349413394927979, 1.4829540252685547, 1.5011281967163086, 1.577106237411499, 1.5219690799713135, 1.4381002187728882, 1.414573311805725, 1.4385011196136475, 1.3791677951812744, 1.3582096099853516, 1.2838854789733887, 1.2866183519363403], [1.4167085886001587, 1.4827606678009033, 1.411385178565979, 1.1371263265609741, 1.0725289583206177, 0.0, 1.3488909006118774, 1.3870460987091064, 1.493618130683899, 1.4517414569854736, 1.4358365535736084, 1.3968067169189453, 1.4999877214431763, 1.454676866531372, 1.3760159015655518, 1.2806811332702637, 1.3047279119491577, 1.2206636667251587], [1.4756194353103638, 1.4897971153259277, 1.5005160570144653, 1.1204029321670532, 1.1349413394927979, 1.3488909006118774, 0.0, 1.3532838821411133, 1.4061691761016846, 1.3815078735351562, 1.4632939100265503, 1.4580539464950562, 1.3124300241470337, 1.3303160667419434, 1.3972078561782837, 1.249285101890564, 1.1434611082077026, 1.2835121154785156], [1.5784449577331543, 1.6402474641799927, 1.6639201641082764, 1.412976861000061, 1.4829540252685547, 1.3870460987091064, 1.3532838821411133, 0.0, 0.9491152167320251, 0.6196911334991455, 0.9096952676773071, 1.23175847530365, 1.1715099811553955, 1.1535724401474, 1.092851996421814, 1.3015958070755005, 1.2908445596694946, 1.321422815322876], [1.5547369718551636, 1.529646396636963, 1.5553914308547974, 1.4622328281402588, 1.5011281967163086, 1.493618130683899, 1.4061691761016846, 0.9491152167320251, 0.0, 0.8379434943199158, 0.6960205435752869, 1.1071242094039917, 1.1236566305160522, 1.0773481130599976, 1.0388989448547363, 1.4344289302825928, 1.3448119163513184, 1.3960546255111694], [1.5949320793151855, 1.5995277166366577, 1.6225429773330688, 1.4928343296051025, 1.577106237411499, 1.4517414569854736, 1.3815078735351562, 0.6196911334991455, 0.8379434943199158, 0.0, 0.8518205285072327, 1.0616759061813354, 1.1100118160247803, 1.0390820503234863, 0.9643511176109314, 1.3334687948226929, 1.3191758394241333, 1.3365983963012695], [1.5085225105285645, 1.5187541246414185, 1.5147004127502441, 1.434146523475647, 1.5219690799713135, 1.4358365535736084, 1.4632939100265503, 0.9096952676773071, 0.6960205435752869, 0.8518205285072327, 0.0, 1.1558353900909424, 1.1392115354537964, 1.0718480348587036, 1.024344801902771, 1.3837255239486694, 1.239349126815796, 1.2421566247940063], [1.2698863744735718, 1.2918792963027954, 1.4003111124038696, 1.3745654821395874, 1.4381002187728882, 1.3968067169189453, 1.4580539464950562, 1.23175847530365, 1.1071242094039917, 1.0616759061813354, 1.1558353900909424, 0.0, 0.973120391368866, 0.7605335712432861, 0.6261537671089172, 1.4708036184310913, 1.4560290575027466, 1.4684077501296997], [1.579674482345581, 1.4633070230484009, 1.5682172775268555, 1.3340352773666382, 1.414573311805725, 1.4999877214431763, 1.3124300241470337, 1.1715099811553955, 1.1236566305160522, 1.1100118160247803, 1.1392115354537964, 0.973120391368866, 0.0, 0.7237685322761536, 0.8718681931495667, 1.4688290357589722, 1.3542686700820923, 1.3923884630203247], [1.482601523399353, 1.4142379760742188, 1.5308291912078857, 1.3151036500930786, 1.4385011196136475, 1.454676866531372, 1.3303160667419434, 1.1535724401474, 1.0773481130599976, 1.0390820503234863, 1.0718480348587036, 0.7605335712432861, 0.7237685322761536, 0.0, 0.5856552720069885, 1.3827217817306519, 1.3081320524215698, 1.3254960775375366], [1.423906683921814, 1.4370547533035278, 1.51445734500885, 1.237774133682251, 1.3791677951812744, 1.3760159015655518, 1.3972078561782837, 1.092851996421814, 1.0388989448547363, 0.9643511176109314, 1.024344801902771, 0.6261537671089172, 0.8718681931495667, 0.5856552720069885, 0.0, 1.4402917623519897, 1.3757309913635254, 1.3674826622009277], [1.4861602783203125, 1.3512458801269531, 1.4753814935684204, 1.301604986190796, 1.3582096099853516, 1.2806811332702637, 1.249285101890564, 1.3015958070755005, 1.4344289302825928, 1.3334687948226929, 1.3837255239486694, 1.4708036184310913, 1.4688290357589722, 1.3827217817306519, 1.4402917623519897, 0.0, 0.6676889657974243, 0.6166600584983826], [1.5058513879776, 1.359123945236206, 1.4143368005752563, 1.289008378982544, 1.2838854789733887, 1.3047279119491577, 1.1434611082077026, 1.2908445596694946, 1.3448119163513184, 1.3191758394241333, 1.239349126815796, 1.4560290575027466, 1.3542686700820923, 1.3081320524215698, 1.3757309913635254, 0.6676889657974243, 0.0, 0.6682747006416321], [1.5048106908798218, 1.3389097452163696, 1.4813129901885986, 1.2706719636917114, 1.2866183519363403, 1.2206636667251587, 1.2835121154785156, 1.321422815322876, 1.3960546255111694, 1.3365983963012695, 1.2421566247940063, 1.4684077501296997, 1.3923884630203247, 1.3254960775375366, 1.3674826622009277, 0.6166600584983826, 0.6682747006416321, 0.0]]}],                        {\"coloraxis\": {\"colorscale\": [[0.0, \"#0d0887\"], [0.1111111111111111, \"#46039f\"], [0.2222222222222222, \"#7201a8\"], [0.3333333333333333, \"#9c179e\"], [0.4444444444444444, \"#bd3786\"], [0.5555555555555556, \"#d8576b\"], [0.6666666666666666, \"#ed7953\"], [0.7777777777777778, \"#fb9f3a\"], [0.8888888888888888, \"#fdca26\"], [1.0, \"#f0f921\"]]}, \"margin\": {\"t\": 60}, \"template\": {\"data\": {\"bar\": [{\"error_x\": {\"color\": \"#2a3f5f\"}, \"error_y\": {\"color\": \"#2a3f5f\"}, \"marker\": {\"line\": {\"color\": \"#E5ECF6\", \"width\": 0.5}}, \"type\": \"bar\"}], \"barpolar\": [{\"marker\": {\"line\": {\"color\": \"#E5ECF6\", \"width\": 0.5}}, \"type\": \"barpolar\"}], \"carpet\": [{\"aaxis\": {\"endlinecolor\": \"#2a3f5f\", \"gridcolor\": \"white\", \"linecolor\": \"white\", \"minorgridcolor\": \"white\", \"startlinecolor\": \"#2a3f5f\"}, \"baxis\": {\"endlinecolor\": \"#2a3f5f\", \"gridcolor\": \"white\", \"linecolor\": \"white\", \"minorgridcolor\": \"white\", \"startlinecolor\": \"#2a3f5f\"}, \"type\": \"carpet\"}], \"choropleth\": [{\"colorbar\": {\"outlinewidth\": 0, \"ticks\": \"\"}, \"type\": \"choropleth\"}], \"contour\": [{\"colorbar\": {\"outlinewidth\": 0, \"ticks\": \"\"}, \"colorscale\": [[0.0, \"#0d0887\"], [0.1111111111111111, \"#46039f\"], [0.2222222222222222, \"#7201a8\"], [0.3333333333333333, \"#9c179e\"], [0.4444444444444444, \"#bd3786\"], [0.5555555555555556, \"#d8576b\"], [0.6666666666666666, \"#ed7953\"], [0.7777777777777778, \"#fb9f3a\"], [0.8888888888888888, \"#fdca26\"], [1.0, \"#f0f921\"]], \"type\": \"contour\"}], \"contourcarpet\": [{\"colorbar\": {\"outlinewidth\": 0, \"ticks\": \"\"}, \"type\": \"contourcarpet\"}], \"heatmap\": [{\"colorbar\": {\"outlinewidth\": 0, \"ticks\": \"\"}, \"colorscale\": [[0.0, \"#0d0887\"], [0.1111111111111111, \"#46039f\"], [0.2222222222222222, \"#7201a8\"], [0.3333333333333333, \"#9c179e\"], [0.4444444444444444, \"#bd3786\"], [0.5555555555555556, \"#d8576b\"], [0.6666666666666666, \"#ed7953\"], [0.7777777777777778, \"#fb9f3a\"], [0.8888888888888888, \"#fdca26\"], [1.0, \"#f0f921\"]], \"type\": \"heatmap\"}], \"heatmapgl\": [{\"colorbar\": {\"outlinewidth\": 0, \"ticks\": \"\"}, \"colorscale\": [[0.0, \"#0d0887\"], [0.1111111111111111, \"#46039f\"], [0.2222222222222222, \"#7201a8\"], [0.3333333333333333, \"#9c179e\"], [0.4444444444444444, \"#bd3786\"], [0.5555555555555556, \"#d8576b\"], [0.6666666666666666, \"#ed7953\"], [0.7777777777777778, \"#fb9f3a\"], [0.8888888888888888, \"#fdca26\"], [1.0, \"#f0f921\"]], \"type\": \"heatmapgl\"}], \"histogram\": [{\"marker\": {\"colorbar\": {\"outlinewidth\": 0, \"ticks\": \"\"}}, \"type\": \"histogram\"}], \"histogram2d\": [{\"colorbar\": {\"outlinewidth\": 0, \"ticks\": \"\"}, \"colorscale\": [[0.0, \"#0d0887\"], [0.1111111111111111, \"#46039f\"], [0.2222222222222222, \"#7201a8\"], [0.3333333333333333, \"#9c179e\"], [0.4444444444444444, \"#bd3786\"], [0.5555555555555556, \"#d8576b\"], [0.6666666666666666, \"#ed7953\"], [0.7777777777777778, \"#fb9f3a\"], [0.8888888888888888, \"#fdca26\"], [1.0, \"#f0f921\"]], \"type\": \"histogram2d\"}], \"histogram2dcontour\": [{\"colorbar\": {\"outlinewidth\": 0, \"ticks\": \"\"}, \"colorscale\": [[0.0, \"#0d0887\"], [0.1111111111111111, \"#46039f\"], [0.2222222222222222, \"#7201a8\"], [0.3333333333333333, \"#9c179e\"], [0.4444444444444444, \"#bd3786\"], [0.5555555555555556, \"#d8576b\"], [0.6666666666666666, \"#ed7953\"], [0.7777777777777778, \"#fb9f3a\"], [0.8888888888888888, \"#fdca26\"], [1.0, \"#f0f921\"]], \"type\": \"histogram2dcontour\"}], \"mesh3d\": [{\"colorbar\": {\"outlinewidth\": 0, \"ticks\": \"\"}, \"type\": \"mesh3d\"}], \"parcoords\": [{\"line\": {\"colorbar\": {\"outlinewidth\": 0, \"ticks\": \"\"}}, \"type\": \"parcoords\"}], \"pie\": [{\"automargin\": true, \"type\": \"pie\"}], \"scatter\": [{\"marker\": {\"colorbar\": {\"outlinewidth\": 0, \"ticks\": \"\"}}, \"type\": \"scatter\"}], \"scatter3d\": [{\"line\": {\"colorbar\": {\"outlinewidth\": 0, \"ticks\": \"\"}}, \"marker\": {\"colorbar\": {\"outlinewidth\": 0, \"ticks\": \"\"}}, \"type\": \"scatter3d\"}], \"scattercarpet\": [{\"marker\": {\"colorbar\": {\"outlinewidth\": 0, \"ticks\": \"\"}}, \"type\": \"scattercarpet\"}], \"scattergeo\": [{\"marker\": {\"colorbar\": {\"outlinewidth\": 0, \"ticks\": \"\"}}, \"type\": \"scattergeo\"}], \"scattergl\": [{\"marker\": {\"colorbar\": {\"outlinewidth\": 0, \"ticks\": \"\"}}, \"type\": \"scattergl\"}], \"scattermapbox\": [{\"marker\": {\"colorbar\": {\"outlinewidth\": 0, \"ticks\": \"\"}}, \"type\": \"scattermapbox\"}], \"scatterpolar\": [{\"marker\": {\"colorbar\": {\"outlinewidth\": 0, \"ticks\": \"\"}}, \"type\": \"scatterpolar\"}], \"scatterpolargl\": [{\"marker\": {\"colorbar\": {\"outlinewidth\": 0, \"ticks\": \"\"}}, \"type\": \"scatterpolargl\"}], \"scatterternary\": [{\"marker\": {\"colorbar\": {\"outlinewidth\": 0, \"ticks\": \"\"}}, \"type\": \"scatterternary\"}], \"surface\": [{\"colorbar\": {\"outlinewidth\": 0, \"ticks\": \"\"}, \"colorscale\": [[0.0, \"#0d0887\"], [0.1111111111111111, \"#46039f\"], [0.2222222222222222, \"#7201a8\"], [0.3333333333333333, \"#9c179e\"], [0.4444444444444444, \"#bd3786\"], [0.5555555555555556, \"#d8576b\"], [0.6666666666666666, \"#ed7953\"], [0.7777777777777778, \"#fb9f3a\"], [0.8888888888888888, \"#fdca26\"], [1.0, \"#f0f921\"]], \"type\": \"surface\"}], \"table\": [{\"cells\": {\"fill\": {\"color\": \"#EBF0F8\"}, \"line\": {\"color\": \"white\"}}, \"header\": {\"fill\": {\"color\": \"#C8D4E3\"}, \"line\": {\"color\": \"white\"}}, \"type\": \"table\"}]}, \"layout\": {\"annotationdefaults\": {\"arrowcolor\": \"#2a3f5f\", \"arrowhead\": 0, \"arrowwidth\": 1}, \"autotypenumbers\": \"strict\", \"coloraxis\": {\"colorbar\": {\"outlinewidth\": 0, \"ticks\": \"\"}}, \"colorscale\": {\"diverging\": [[0, \"#8e0152\"], [0.1, \"#c51b7d\"], [0.2, \"#de77ae\"], [0.3, \"#f1b6da\"], [0.4, \"#fde0ef\"], [0.5, \"#f7f7f7\"], [0.6, \"#e6f5d0\"], [0.7, \"#b8e186\"], [0.8, \"#7fbc41\"], [0.9, \"#4d9221\"], [1, \"#276419\"]], \"sequential\": [[0.0, \"#0d0887\"], [0.1111111111111111, \"#46039f\"], [0.2222222222222222, \"#7201a8\"], [0.3333333333333333, \"#9c179e\"], [0.4444444444444444, \"#bd3786\"], [0.5555555555555556, \"#d8576b\"], [0.6666666666666666, \"#ed7953\"], [0.7777777777777778, \"#fb9f3a\"], [0.8888888888888888, \"#fdca26\"], [1.0, \"#f0f921\"]], \"sequentialminus\": [[0.0, \"#0d0887\"], [0.1111111111111111, \"#46039f\"], [0.2222222222222222, \"#7201a8\"], [0.3333333333333333, \"#9c179e\"], [0.4444444444444444, \"#bd3786\"], [0.5555555555555556, \"#d8576b\"], [0.6666666666666666, \"#ed7953\"], [0.7777777777777778, \"#fb9f3a\"], [0.8888888888888888, \"#fdca26\"], [1.0, \"#f0f921\"]]}, \"colorway\": [\"#636efa\", \"#EF553B\", \"#00cc96\", \"#ab63fa\", \"#FFA15A\", \"#19d3f3\", \"#FF6692\", \"#B6E880\", \"#FF97FF\", \"#FECB52\"], \"font\": {\"color\": \"#2a3f5f\"}, \"geo\": {\"bgcolor\": \"white\", \"lakecolor\": \"white\", \"landcolor\": \"#E5ECF6\", \"showlakes\": true, \"showland\": true, \"subunitcolor\": \"white\"}, \"hoverlabel\": {\"align\": \"left\"}, \"hovermode\": \"closest\", \"mapbox\": {\"style\": \"light\"}, \"paper_bgcolor\": \"white\", \"plot_bgcolor\": \"#E5ECF6\", \"polar\": {\"angularaxis\": {\"gridcolor\": \"white\", \"linecolor\": \"white\", \"ticks\": \"\"}, \"bgcolor\": \"#E5ECF6\", \"radialaxis\": {\"gridcolor\": \"white\", \"linecolor\": \"white\", \"ticks\": \"\"}}, \"scene\": {\"xaxis\": {\"backgroundcolor\": \"#E5ECF6\", \"gridcolor\": \"white\", \"gridwidth\": 2, \"linecolor\": \"white\", \"showbackground\": true, \"ticks\": \"\", \"zerolinecolor\": \"white\"}, \"yaxis\": {\"backgroundcolor\": \"#E5ECF6\", \"gridcolor\": \"white\", \"gridwidth\": 2, \"linecolor\": \"white\", \"showbackground\": true, \"ticks\": \"\", \"zerolinecolor\": \"white\"}, \"zaxis\": {\"backgroundcolor\": \"#E5ECF6\", \"gridcolor\": \"white\", \"gridwidth\": 2, \"linecolor\": \"white\", \"showbackground\": true, \"ticks\": \"\", \"zerolinecolor\": \"white\"}}, \"shapedefaults\": {\"line\": {\"color\": \"#2a3f5f\"}}, \"ternary\": {\"aaxis\": {\"gridcolor\": \"white\", \"linecolor\": \"white\", \"ticks\": \"\"}, \"baxis\": {\"gridcolor\": \"white\", \"linecolor\": \"white\", \"ticks\": \"\"}, \"bgcolor\": \"#E5ECF6\", \"caxis\": {\"gridcolor\": \"white\", \"linecolor\": \"white\", \"ticks\": \"\"}}, \"title\": {\"x\": 0.05}, \"xaxis\": {\"automargin\": true, \"gridcolor\": \"white\", \"linecolor\": \"white\", \"ticks\": \"\", \"title\": {\"standoff\": 15}, \"zerolinecolor\": \"white\", \"zerolinewidth\": 2}, \"yaxis\": {\"automargin\": true, \"gridcolor\": \"white\", \"linecolor\": \"white\", \"ticks\": \"\", \"title\": {\"standoff\": 15}, \"zerolinecolor\": \"white\", \"zerolinewidth\": 2}}}, \"xaxis\": {\"anchor\": \"y\", \"constrain\": \"domain\", \"domain\": [0.0, 1.0], \"scaleanchor\": \"y\"}, \"yaxis\": {\"anchor\": \"x\", \"autorange\": \"reversed\", \"constrain\": \"domain\", \"domain\": [0.0, 1.0]}},                        {\"responsive\": true}                    ).then(function(){\n",
       "                            \n",
       "var gd = document.getElementById('07690731-8386-4d71-b1a0-ffac354e1628');\n",
       "var x = new MutationObserver(function (mutations, observer) {{\n",
       "        var display = window.getComputedStyle(gd).display;\n",
       "        if (!display || display === 'none') {{\n",
       "            console.log([gd, 'removed!']);\n",
       "            Plotly.purge(gd);\n",
       "            observer.disconnect();\n",
       "        }}\n",
       "}});\n",
       "\n",
       "// Listen for the removal of the full notebook cells\n",
       "var notebookContainer = gd.closest('#notebook-container');\n",
       "if (notebookContainer) {{\n",
       "    x.observe(notebookContainer, {childList: true});\n",
       "}}\n",
       "\n",
       "// Listen for the clearing of the current output cell\n",
       "var outputEl = gd.closest('.output');\n",
       "if (outputEl) {{\n",
       "    x.observe(outputEl, {childList: true});\n",
       "}}\n",
       "\n",
       "                        })                };                });            </script>        </div>"
      ]
     },
     "metadata": {},
     "output_type": "display_data"
    }
   ],
   "source": [
    "px.imshow(euc_df)"
   ]
  },
  {
   "cell_type": "code",
   "execution_count": 49,
   "metadata": {},
   "outputs": [
    {
     "data": {
      "application/vnd.plotly.v1+json": {
       "config": {
        "plotlyServerURL": "https://plot.ly"
       },
       "data": [
        {
         "coloraxis": "coloraxis",
         "hovertemplate": "x: %{x}<br>y: %{y}<br>color: %{z}<extra></extra>",
         "name": "0",
         "type": "heatmap",
         "x": [
          "Biden0",
          "Biden1",
          "Biden2",
          "Eltsin3",
          "Eltsin4",
          "Eltsin5",
          "Ibatulin6",
          "Knigthley7",
          "Knigthley8",
          "Knigthley9",
          "Knigthley10",
          "Portman11",
          "Portman12",
          "Portman13",
          "Portman14",
          "navalny15",
          "navalny16",
          "navalny17"
         ],
         "xaxis": "x",
         "y": [
          "Biden0",
          "Biden1",
          "Biden2",
          "Eltsin3",
          "Eltsin4",
          "Eltsin5",
          "Ibatulin6",
          "Knigthley7",
          "Knigthley8",
          "Knigthley9",
          "Knigthley10",
          "Portman11",
          "Portman12",
          "Portman13",
          "Portman14",
          "navalny15",
          "navalny16",
          "navalny17"
         ],
         "yaxis": "y",
         "z": [
          [
           0,
           0,
           0,
           255,
           255,
           255,
           255,
           255,
           255,
           255,
           255,
           255,
           255,
           255,
           255,
           255,
           255,
           255
          ],
          [
           0,
           0,
           0,
           255,
           255,
           255,
           255,
           255,
           255,
           255,
           255,
           255,
           255,
           255,
           255,
           255,
           255,
           255
          ],
          [
           0,
           0,
           0,
           255,
           255,
           255,
           255,
           255,
           255,
           255,
           255,
           255,
           255,
           255,
           255,
           255,
           255,
           255
          ],
          [
           255,
           255,
           255,
           0,
           0,
           255,
           255,
           255,
           255,
           255,
           255,
           255,
           255,
           255,
           255,
           255,
           255,
           255
          ],
          [
           255,
           255,
           255,
           0,
           0,
           255,
           255,
           255,
           255,
           255,
           255,
           255,
           255,
           255,
           255,
           255,
           255,
           255
          ],
          [
           255,
           255,
           255,
           255,
           255,
           0,
           255,
           255,
           255,
           255,
           255,
           255,
           255,
           255,
           255,
           255,
           255,
           255
          ],
          [
           255,
           255,
           255,
           255,
           255,
           255,
           0,
           255,
           255,
           255,
           255,
           255,
           255,
           255,
           255,
           255,
           255,
           255
          ],
          [
           255,
           255,
           255,
           255,
           255,
           255,
           255,
           0,
           0,
           0,
           0,
           255,
           255,
           255,
           255,
           255,
           255,
           255
          ],
          [
           255,
           255,
           255,
           255,
           255,
           255,
           255,
           0,
           0,
           0,
           0,
           255,
           255,
           255,
           255,
           255,
           255,
           255
          ],
          [
           255,
           255,
           255,
           255,
           255,
           255,
           255,
           0,
           0,
           0,
           0,
           255,
           255,
           255,
           0,
           255,
           255,
           255
          ],
          [
           255,
           255,
           255,
           255,
           255,
           255,
           255,
           0,
           0,
           0,
           0,
           255,
           255,
           255,
           255,
           255,
           255,
           255
          ],
          [
           255,
           255,
           255,
           255,
           255,
           255,
           255,
           255,
           255,
           255,
           255,
           0,
           0,
           0,
           0,
           255,
           255,
           255
          ],
          [
           255,
           255,
           255,
           255,
           255,
           255,
           255,
           255,
           255,
           255,
           255,
           0,
           0,
           0,
           0,
           255,
           255,
           255
          ],
          [
           255,
           255,
           255,
           255,
           255,
           255,
           255,
           255,
           255,
           255,
           255,
           0,
           0,
           0,
           0,
           255,
           255,
           255
          ],
          [
           255,
           255,
           255,
           255,
           255,
           255,
           255,
           255,
           255,
           0,
           255,
           0,
           0,
           0,
           0,
           255,
           255,
           255
          ],
          [
           255,
           255,
           255,
           255,
           255,
           255,
           255,
           255,
           255,
           255,
           255,
           255,
           255,
           255,
           255,
           0,
           0,
           0
          ],
          [
           255,
           255,
           255,
           255,
           255,
           255,
           255,
           255,
           255,
           255,
           255,
           255,
           255,
           255,
           255,
           0,
           0,
           0
          ],
          [
           255,
           255,
           255,
           255,
           255,
           255,
           255,
           255,
           255,
           255,
           255,
           255,
           255,
           255,
           255,
           0,
           0,
           0
          ]
         ]
        }
       ],
       "layout": {
        "coloraxis": {
         "colorscale": [
          [
           0,
           "#0d0887"
          ],
          [
           0.1111111111111111,
           "#46039f"
          ],
          [
           0.2222222222222222,
           "#7201a8"
          ],
          [
           0.3333333333333333,
           "#9c179e"
          ],
          [
           0.4444444444444444,
           "#bd3786"
          ],
          [
           0.5555555555555556,
           "#d8576b"
          ],
          [
           0.6666666666666666,
           "#ed7953"
          ],
          [
           0.7777777777777778,
           "#fb9f3a"
          ],
          [
           0.8888888888888888,
           "#fdca26"
          ],
          [
           1,
           "#f0f921"
          ]
         ]
        },
        "margin": {
         "t": 60
        },
        "template": {
         "data": {
          "bar": [
           {
            "error_x": {
             "color": "#2a3f5f"
            },
            "error_y": {
             "color": "#2a3f5f"
            },
            "marker": {
             "line": {
              "color": "#E5ECF6",
              "width": 0.5
             }
            },
            "type": "bar"
           }
          ],
          "barpolar": [
           {
            "marker": {
             "line": {
              "color": "#E5ECF6",
              "width": 0.5
             }
            },
            "type": "barpolar"
           }
          ],
          "carpet": [
           {
            "aaxis": {
             "endlinecolor": "#2a3f5f",
             "gridcolor": "white",
             "linecolor": "white",
             "minorgridcolor": "white",
             "startlinecolor": "#2a3f5f"
            },
            "baxis": {
             "endlinecolor": "#2a3f5f",
             "gridcolor": "white",
             "linecolor": "white",
             "minorgridcolor": "white",
             "startlinecolor": "#2a3f5f"
            },
            "type": "carpet"
           }
          ],
          "choropleth": [
           {
            "colorbar": {
             "outlinewidth": 0,
             "ticks": ""
            },
            "type": "choropleth"
           }
          ],
          "contour": [
           {
            "colorbar": {
             "outlinewidth": 0,
             "ticks": ""
            },
            "colorscale": [
             [
              0,
              "#0d0887"
             ],
             [
              0.1111111111111111,
              "#46039f"
             ],
             [
              0.2222222222222222,
              "#7201a8"
             ],
             [
              0.3333333333333333,
              "#9c179e"
             ],
             [
              0.4444444444444444,
              "#bd3786"
             ],
             [
              0.5555555555555556,
              "#d8576b"
             ],
             [
              0.6666666666666666,
              "#ed7953"
             ],
             [
              0.7777777777777778,
              "#fb9f3a"
             ],
             [
              0.8888888888888888,
              "#fdca26"
             ],
             [
              1,
              "#f0f921"
             ]
            ],
            "type": "contour"
           }
          ],
          "contourcarpet": [
           {
            "colorbar": {
             "outlinewidth": 0,
             "ticks": ""
            },
            "type": "contourcarpet"
           }
          ],
          "heatmap": [
           {
            "colorbar": {
             "outlinewidth": 0,
             "ticks": ""
            },
            "colorscale": [
             [
              0,
              "#0d0887"
             ],
             [
              0.1111111111111111,
              "#46039f"
             ],
             [
              0.2222222222222222,
              "#7201a8"
             ],
             [
              0.3333333333333333,
              "#9c179e"
             ],
             [
              0.4444444444444444,
              "#bd3786"
             ],
             [
              0.5555555555555556,
              "#d8576b"
             ],
             [
              0.6666666666666666,
              "#ed7953"
             ],
             [
              0.7777777777777778,
              "#fb9f3a"
             ],
             [
              0.8888888888888888,
              "#fdca26"
             ],
             [
              1,
              "#f0f921"
             ]
            ],
            "type": "heatmap"
           }
          ],
          "heatmapgl": [
           {
            "colorbar": {
             "outlinewidth": 0,
             "ticks": ""
            },
            "colorscale": [
             [
              0,
              "#0d0887"
             ],
             [
              0.1111111111111111,
              "#46039f"
             ],
             [
              0.2222222222222222,
              "#7201a8"
             ],
             [
              0.3333333333333333,
              "#9c179e"
             ],
             [
              0.4444444444444444,
              "#bd3786"
             ],
             [
              0.5555555555555556,
              "#d8576b"
             ],
             [
              0.6666666666666666,
              "#ed7953"
             ],
             [
              0.7777777777777778,
              "#fb9f3a"
             ],
             [
              0.8888888888888888,
              "#fdca26"
             ],
             [
              1,
              "#f0f921"
             ]
            ],
            "type": "heatmapgl"
           }
          ],
          "histogram": [
           {
            "marker": {
             "colorbar": {
              "outlinewidth": 0,
              "ticks": ""
             }
            },
            "type": "histogram"
           }
          ],
          "histogram2d": [
           {
            "colorbar": {
             "outlinewidth": 0,
             "ticks": ""
            },
            "colorscale": [
             [
              0,
              "#0d0887"
             ],
             [
              0.1111111111111111,
              "#46039f"
             ],
             [
              0.2222222222222222,
              "#7201a8"
             ],
             [
              0.3333333333333333,
              "#9c179e"
             ],
             [
              0.4444444444444444,
              "#bd3786"
             ],
             [
              0.5555555555555556,
              "#d8576b"
             ],
             [
              0.6666666666666666,
              "#ed7953"
             ],
             [
              0.7777777777777778,
              "#fb9f3a"
             ],
             [
              0.8888888888888888,
              "#fdca26"
             ],
             [
              1,
              "#f0f921"
             ]
            ],
            "type": "histogram2d"
           }
          ],
          "histogram2dcontour": [
           {
            "colorbar": {
             "outlinewidth": 0,
             "ticks": ""
            },
            "colorscale": [
             [
              0,
              "#0d0887"
             ],
             [
              0.1111111111111111,
              "#46039f"
             ],
             [
              0.2222222222222222,
              "#7201a8"
             ],
             [
              0.3333333333333333,
              "#9c179e"
             ],
             [
              0.4444444444444444,
              "#bd3786"
             ],
             [
              0.5555555555555556,
              "#d8576b"
             ],
             [
              0.6666666666666666,
              "#ed7953"
             ],
             [
              0.7777777777777778,
              "#fb9f3a"
             ],
             [
              0.8888888888888888,
              "#fdca26"
             ],
             [
              1,
              "#f0f921"
             ]
            ],
            "type": "histogram2dcontour"
           }
          ],
          "mesh3d": [
           {
            "colorbar": {
             "outlinewidth": 0,
             "ticks": ""
            },
            "type": "mesh3d"
           }
          ],
          "parcoords": [
           {
            "line": {
             "colorbar": {
              "outlinewidth": 0,
              "ticks": ""
             }
            },
            "type": "parcoords"
           }
          ],
          "pie": [
           {
            "automargin": true,
            "type": "pie"
           }
          ],
          "scatter": [
           {
            "marker": {
             "colorbar": {
              "outlinewidth": 0,
              "ticks": ""
             }
            },
            "type": "scatter"
           }
          ],
          "scatter3d": [
           {
            "line": {
             "colorbar": {
              "outlinewidth": 0,
              "ticks": ""
             }
            },
            "marker": {
             "colorbar": {
              "outlinewidth": 0,
              "ticks": ""
             }
            },
            "type": "scatter3d"
           }
          ],
          "scattercarpet": [
           {
            "marker": {
             "colorbar": {
              "outlinewidth": 0,
              "ticks": ""
             }
            },
            "type": "scattercarpet"
           }
          ],
          "scattergeo": [
           {
            "marker": {
             "colorbar": {
              "outlinewidth": 0,
              "ticks": ""
             }
            },
            "type": "scattergeo"
           }
          ],
          "scattergl": [
           {
            "marker": {
             "colorbar": {
              "outlinewidth": 0,
              "ticks": ""
             }
            },
            "type": "scattergl"
           }
          ],
          "scattermapbox": [
           {
            "marker": {
             "colorbar": {
              "outlinewidth": 0,
              "ticks": ""
             }
            },
            "type": "scattermapbox"
           }
          ],
          "scatterpolar": [
           {
            "marker": {
             "colorbar": {
              "outlinewidth": 0,
              "ticks": ""
             }
            },
            "type": "scatterpolar"
           }
          ],
          "scatterpolargl": [
           {
            "marker": {
             "colorbar": {
              "outlinewidth": 0,
              "ticks": ""
             }
            },
            "type": "scatterpolargl"
           }
          ],
          "scatterternary": [
           {
            "marker": {
             "colorbar": {
              "outlinewidth": 0,
              "ticks": ""
             }
            },
            "type": "scatterternary"
           }
          ],
          "surface": [
           {
            "colorbar": {
             "outlinewidth": 0,
             "ticks": ""
            },
            "colorscale": [
             [
              0,
              "#0d0887"
             ],
             [
              0.1111111111111111,
              "#46039f"
             ],
             [
              0.2222222222222222,
              "#7201a8"
             ],
             [
              0.3333333333333333,
              "#9c179e"
             ],
             [
              0.4444444444444444,
              "#bd3786"
             ],
             [
              0.5555555555555556,
              "#d8576b"
             ],
             [
              0.6666666666666666,
              "#ed7953"
             ],
             [
              0.7777777777777778,
              "#fb9f3a"
             ],
             [
              0.8888888888888888,
              "#fdca26"
             ],
             [
              1,
              "#f0f921"
             ]
            ],
            "type": "surface"
           }
          ],
          "table": [
           {
            "cells": {
             "fill": {
              "color": "#EBF0F8"
             },
             "line": {
              "color": "white"
             }
            },
            "header": {
             "fill": {
              "color": "#C8D4E3"
             },
             "line": {
              "color": "white"
             }
            },
            "type": "table"
           }
          ]
         },
         "layout": {
          "annotationdefaults": {
           "arrowcolor": "#2a3f5f",
           "arrowhead": 0,
           "arrowwidth": 1
          },
          "autotypenumbers": "strict",
          "coloraxis": {
           "colorbar": {
            "outlinewidth": 0,
            "ticks": ""
           }
          },
          "colorscale": {
           "diverging": [
            [
             0,
             "#8e0152"
            ],
            [
             0.1,
             "#c51b7d"
            ],
            [
             0.2,
             "#de77ae"
            ],
            [
             0.3,
             "#f1b6da"
            ],
            [
             0.4,
             "#fde0ef"
            ],
            [
             0.5,
             "#f7f7f7"
            ],
            [
             0.6,
             "#e6f5d0"
            ],
            [
             0.7,
             "#b8e186"
            ],
            [
             0.8,
             "#7fbc41"
            ],
            [
             0.9,
             "#4d9221"
            ],
            [
             1,
             "#276419"
            ]
           ],
           "sequential": [
            [
             0,
             "#0d0887"
            ],
            [
             0.1111111111111111,
             "#46039f"
            ],
            [
             0.2222222222222222,
             "#7201a8"
            ],
            [
             0.3333333333333333,
             "#9c179e"
            ],
            [
             0.4444444444444444,
             "#bd3786"
            ],
            [
             0.5555555555555556,
             "#d8576b"
            ],
            [
             0.6666666666666666,
             "#ed7953"
            ],
            [
             0.7777777777777778,
             "#fb9f3a"
            ],
            [
             0.8888888888888888,
             "#fdca26"
            ],
            [
             1,
             "#f0f921"
            ]
           ],
           "sequentialminus": [
            [
             0,
             "#0d0887"
            ],
            [
             0.1111111111111111,
             "#46039f"
            ],
            [
             0.2222222222222222,
             "#7201a8"
            ],
            [
             0.3333333333333333,
             "#9c179e"
            ],
            [
             0.4444444444444444,
             "#bd3786"
            ],
            [
             0.5555555555555556,
             "#d8576b"
            ],
            [
             0.6666666666666666,
             "#ed7953"
            ],
            [
             0.7777777777777778,
             "#fb9f3a"
            ],
            [
             0.8888888888888888,
             "#fdca26"
            ],
            [
             1,
             "#f0f921"
            ]
           ]
          },
          "colorway": [
           "#636efa",
           "#EF553B",
           "#00cc96",
           "#ab63fa",
           "#FFA15A",
           "#19d3f3",
           "#FF6692",
           "#B6E880",
           "#FF97FF",
           "#FECB52"
          ],
          "font": {
           "color": "#2a3f5f"
          },
          "geo": {
           "bgcolor": "white",
           "lakecolor": "white",
           "landcolor": "#E5ECF6",
           "showlakes": true,
           "showland": true,
           "subunitcolor": "white"
          },
          "hoverlabel": {
           "align": "left"
          },
          "hovermode": "closest",
          "mapbox": {
           "style": "light"
          },
          "paper_bgcolor": "white",
          "plot_bgcolor": "#E5ECF6",
          "polar": {
           "angularaxis": {
            "gridcolor": "white",
            "linecolor": "white",
            "ticks": ""
           },
           "bgcolor": "#E5ECF6",
           "radialaxis": {
            "gridcolor": "white",
            "linecolor": "white",
            "ticks": ""
           }
          },
          "scene": {
           "xaxis": {
            "backgroundcolor": "#E5ECF6",
            "gridcolor": "white",
            "gridwidth": 2,
            "linecolor": "white",
            "showbackground": true,
            "ticks": "",
            "zerolinecolor": "white"
           },
           "yaxis": {
            "backgroundcolor": "#E5ECF6",
            "gridcolor": "white",
            "gridwidth": 2,
            "linecolor": "white",
            "showbackground": true,
            "ticks": "",
            "zerolinecolor": "white"
           },
           "zaxis": {
            "backgroundcolor": "#E5ECF6",
            "gridcolor": "white",
            "gridwidth": 2,
            "linecolor": "white",
            "showbackground": true,
            "ticks": "",
            "zerolinecolor": "white"
           }
          },
          "shapedefaults": {
           "line": {
            "color": "#2a3f5f"
           }
          },
          "ternary": {
           "aaxis": {
            "gridcolor": "white",
            "linecolor": "white",
            "ticks": ""
           },
           "baxis": {
            "gridcolor": "white",
            "linecolor": "white",
            "ticks": ""
           },
           "bgcolor": "#E5ECF6",
           "caxis": {
            "gridcolor": "white",
            "linecolor": "white",
            "ticks": ""
           }
          },
          "title": {
           "x": 0.05
          },
          "xaxis": {
           "automargin": true,
           "gridcolor": "white",
           "linecolor": "white",
           "ticks": "",
           "title": {
            "standoff": 15
           },
           "zerolinecolor": "white",
           "zerolinewidth": 2
          },
          "yaxis": {
           "automargin": true,
           "gridcolor": "white",
           "linecolor": "white",
           "ticks": "",
           "title": {
            "standoff": 15
           },
           "zerolinecolor": "white",
           "zerolinewidth": 2
          }
         }
        },
        "xaxis": {
         "anchor": "y",
         "constrain": "domain",
         "domain": [
          0,
          1
         ],
         "scaleanchor": "y"
        },
        "yaxis": {
         "anchor": "x",
         "autorange": "reversed",
         "constrain": "domain",
         "domain": [
          0,
          1
         ]
        }
       }
      },
      "text/html": [
       "<div>                            <div id=\"d77afabd-554e-4319-9556-6e2b49a1f663\" class=\"plotly-graph-div\" style=\"height:525px; width:100%;\"></div>            <script type=\"text/javascript\">                require([\"plotly\"], function(Plotly) {                    window.PLOTLYENV=window.PLOTLYENV || {};                                    if (document.getElementById(\"d77afabd-554e-4319-9556-6e2b49a1f663\")) {                    Plotly.newPlot(                        \"d77afabd-554e-4319-9556-6e2b49a1f663\",                        [{\"coloraxis\": \"coloraxis\", \"hovertemplate\": \"x: %{x}<br>y: %{y}<br>color: %{z}<extra></extra>\", \"name\": \"0\", \"type\": \"heatmap\", \"x\": [\"Biden0\", \"Biden1\", \"Biden2\", \"Eltsin3\", \"Eltsin4\", \"Eltsin5\", \"Ibatulin6\", \"Knigthley7\", \"Knigthley8\", \"Knigthley9\", \"Knigthley10\", \"Portman11\", \"Portman12\", \"Portman13\", \"Portman14\", \"navalny15\", \"navalny16\", \"navalny17\"], \"xaxis\": \"x\", \"y\": [\"Biden0\", \"Biden1\", \"Biden2\", \"Eltsin3\", \"Eltsin4\", \"Eltsin5\", \"Ibatulin6\", \"Knigthley7\", \"Knigthley8\", \"Knigthley9\", \"Knigthley10\", \"Portman11\", \"Portman12\", \"Portman13\", \"Portman14\", \"navalny15\", \"navalny16\", \"navalny17\"], \"yaxis\": \"y\", \"z\": [[0, 0, 0, 255, 255, 255, 255, 255, 255, 255, 255, 255, 255, 255, 255, 255, 255, 255], [0, 0, 0, 255, 255, 255, 255, 255, 255, 255, 255, 255, 255, 255, 255, 255, 255, 255], [0, 0, 0, 255, 255, 255, 255, 255, 255, 255, 255, 255, 255, 255, 255, 255, 255, 255], [255, 255, 255, 0, 0, 255, 255, 255, 255, 255, 255, 255, 255, 255, 255, 255, 255, 255], [255, 255, 255, 0, 0, 255, 255, 255, 255, 255, 255, 255, 255, 255, 255, 255, 255, 255], [255, 255, 255, 255, 255, 0, 255, 255, 255, 255, 255, 255, 255, 255, 255, 255, 255, 255], [255, 255, 255, 255, 255, 255, 0, 255, 255, 255, 255, 255, 255, 255, 255, 255, 255, 255], [255, 255, 255, 255, 255, 255, 255, 0, 0, 0, 0, 255, 255, 255, 255, 255, 255, 255], [255, 255, 255, 255, 255, 255, 255, 0, 0, 0, 0, 255, 255, 255, 255, 255, 255, 255], [255, 255, 255, 255, 255, 255, 255, 0, 0, 0, 0, 255, 255, 255, 0, 255, 255, 255], [255, 255, 255, 255, 255, 255, 255, 0, 0, 0, 0, 255, 255, 255, 255, 255, 255, 255], [255, 255, 255, 255, 255, 255, 255, 255, 255, 255, 255, 0, 0, 0, 0, 255, 255, 255], [255, 255, 255, 255, 255, 255, 255, 255, 255, 255, 255, 0, 0, 0, 0, 255, 255, 255], [255, 255, 255, 255, 255, 255, 255, 255, 255, 255, 255, 0, 0, 0, 0, 255, 255, 255], [255, 255, 255, 255, 255, 255, 255, 255, 255, 0, 255, 0, 0, 0, 0, 255, 255, 255], [255, 255, 255, 255, 255, 255, 255, 255, 255, 255, 255, 255, 255, 255, 255, 0, 0, 0], [255, 255, 255, 255, 255, 255, 255, 255, 255, 255, 255, 255, 255, 255, 255, 0, 0, 0], [255, 255, 255, 255, 255, 255, 255, 255, 255, 255, 255, 255, 255, 255, 255, 0, 0, 0]]}],                        {\"coloraxis\": {\"colorscale\": [[0.0, \"#0d0887\"], [0.1111111111111111, \"#46039f\"], [0.2222222222222222, \"#7201a8\"], [0.3333333333333333, \"#9c179e\"], [0.4444444444444444, \"#bd3786\"], [0.5555555555555556, \"#d8576b\"], [0.6666666666666666, \"#ed7953\"], [0.7777777777777778, \"#fb9f3a\"], [0.8888888888888888, \"#fdca26\"], [1.0, \"#f0f921\"]]}, \"margin\": {\"t\": 60}, \"template\": {\"data\": {\"bar\": [{\"error_x\": {\"color\": \"#2a3f5f\"}, \"error_y\": {\"color\": \"#2a3f5f\"}, \"marker\": {\"line\": {\"color\": \"#E5ECF6\", \"width\": 0.5}}, \"type\": \"bar\"}], \"barpolar\": [{\"marker\": {\"line\": {\"color\": \"#E5ECF6\", \"width\": 0.5}}, \"type\": \"barpolar\"}], \"carpet\": [{\"aaxis\": {\"endlinecolor\": \"#2a3f5f\", \"gridcolor\": \"white\", \"linecolor\": \"white\", \"minorgridcolor\": \"white\", \"startlinecolor\": \"#2a3f5f\"}, \"baxis\": {\"endlinecolor\": \"#2a3f5f\", \"gridcolor\": \"white\", \"linecolor\": \"white\", \"minorgridcolor\": \"white\", \"startlinecolor\": \"#2a3f5f\"}, \"type\": \"carpet\"}], \"choropleth\": [{\"colorbar\": {\"outlinewidth\": 0, \"ticks\": \"\"}, \"type\": \"choropleth\"}], \"contour\": [{\"colorbar\": {\"outlinewidth\": 0, \"ticks\": \"\"}, \"colorscale\": [[0.0, \"#0d0887\"], [0.1111111111111111, \"#46039f\"], [0.2222222222222222, \"#7201a8\"], [0.3333333333333333, \"#9c179e\"], [0.4444444444444444, \"#bd3786\"], [0.5555555555555556, \"#d8576b\"], [0.6666666666666666, \"#ed7953\"], [0.7777777777777778, \"#fb9f3a\"], [0.8888888888888888, \"#fdca26\"], [1.0, \"#f0f921\"]], \"type\": \"contour\"}], \"contourcarpet\": [{\"colorbar\": {\"outlinewidth\": 0, \"ticks\": \"\"}, \"type\": \"contourcarpet\"}], \"heatmap\": [{\"colorbar\": {\"outlinewidth\": 0, \"ticks\": \"\"}, \"colorscale\": [[0.0, \"#0d0887\"], [0.1111111111111111, \"#46039f\"], [0.2222222222222222, \"#7201a8\"], [0.3333333333333333, \"#9c179e\"], [0.4444444444444444, \"#bd3786\"], [0.5555555555555556, \"#d8576b\"], [0.6666666666666666, \"#ed7953\"], [0.7777777777777778, \"#fb9f3a\"], [0.8888888888888888, \"#fdca26\"], [1.0, \"#f0f921\"]], \"type\": \"heatmap\"}], \"heatmapgl\": [{\"colorbar\": {\"outlinewidth\": 0, \"ticks\": \"\"}, \"colorscale\": [[0.0, \"#0d0887\"], [0.1111111111111111, \"#46039f\"], [0.2222222222222222, \"#7201a8\"], [0.3333333333333333, \"#9c179e\"], [0.4444444444444444, \"#bd3786\"], [0.5555555555555556, \"#d8576b\"], [0.6666666666666666, \"#ed7953\"], [0.7777777777777778, \"#fb9f3a\"], [0.8888888888888888, \"#fdca26\"], [1.0, \"#f0f921\"]], \"type\": \"heatmapgl\"}], \"histogram\": [{\"marker\": {\"colorbar\": {\"outlinewidth\": 0, \"ticks\": \"\"}}, \"type\": \"histogram\"}], \"histogram2d\": [{\"colorbar\": {\"outlinewidth\": 0, \"ticks\": \"\"}, \"colorscale\": [[0.0, \"#0d0887\"], [0.1111111111111111, \"#46039f\"], [0.2222222222222222, \"#7201a8\"], [0.3333333333333333, \"#9c179e\"], [0.4444444444444444, \"#bd3786\"], [0.5555555555555556, \"#d8576b\"], [0.6666666666666666, \"#ed7953\"], [0.7777777777777778, \"#fb9f3a\"], [0.8888888888888888, \"#fdca26\"], [1.0, \"#f0f921\"]], \"type\": \"histogram2d\"}], \"histogram2dcontour\": [{\"colorbar\": {\"outlinewidth\": 0, \"ticks\": \"\"}, \"colorscale\": [[0.0, \"#0d0887\"], [0.1111111111111111, \"#46039f\"], [0.2222222222222222, \"#7201a8\"], [0.3333333333333333, \"#9c179e\"], [0.4444444444444444, \"#bd3786\"], [0.5555555555555556, \"#d8576b\"], [0.6666666666666666, \"#ed7953\"], [0.7777777777777778, \"#fb9f3a\"], [0.8888888888888888, \"#fdca26\"], [1.0, \"#f0f921\"]], \"type\": \"histogram2dcontour\"}], \"mesh3d\": [{\"colorbar\": {\"outlinewidth\": 0, \"ticks\": \"\"}, \"type\": \"mesh3d\"}], \"parcoords\": [{\"line\": {\"colorbar\": {\"outlinewidth\": 0, \"ticks\": \"\"}}, \"type\": \"parcoords\"}], \"pie\": [{\"automargin\": true, \"type\": \"pie\"}], \"scatter\": [{\"marker\": {\"colorbar\": {\"outlinewidth\": 0, \"ticks\": \"\"}}, \"type\": \"scatter\"}], \"scatter3d\": [{\"line\": {\"colorbar\": {\"outlinewidth\": 0, \"ticks\": \"\"}}, \"marker\": {\"colorbar\": {\"outlinewidth\": 0, \"ticks\": \"\"}}, \"type\": \"scatter3d\"}], \"scattercarpet\": [{\"marker\": {\"colorbar\": {\"outlinewidth\": 0, \"ticks\": \"\"}}, \"type\": \"scattercarpet\"}], \"scattergeo\": [{\"marker\": {\"colorbar\": {\"outlinewidth\": 0, \"ticks\": \"\"}}, \"type\": \"scattergeo\"}], \"scattergl\": [{\"marker\": {\"colorbar\": {\"outlinewidth\": 0, \"ticks\": \"\"}}, \"type\": \"scattergl\"}], \"scattermapbox\": [{\"marker\": {\"colorbar\": {\"outlinewidth\": 0, \"ticks\": \"\"}}, \"type\": \"scattermapbox\"}], \"scatterpolar\": [{\"marker\": {\"colorbar\": {\"outlinewidth\": 0, \"ticks\": \"\"}}, \"type\": \"scatterpolar\"}], \"scatterpolargl\": [{\"marker\": {\"colorbar\": {\"outlinewidth\": 0, \"ticks\": \"\"}}, \"type\": \"scatterpolargl\"}], \"scatterternary\": [{\"marker\": {\"colorbar\": {\"outlinewidth\": 0, \"ticks\": \"\"}}, \"type\": \"scatterternary\"}], \"surface\": [{\"colorbar\": {\"outlinewidth\": 0, \"ticks\": \"\"}, \"colorscale\": [[0.0, \"#0d0887\"], [0.1111111111111111, \"#46039f\"], [0.2222222222222222, \"#7201a8\"], [0.3333333333333333, \"#9c179e\"], [0.4444444444444444, \"#bd3786\"], [0.5555555555555556, \"#d8576b\"], [0.6666666666666666, \"#ed7953\"], [0.7777777777777778, \"#fb9f3a\"], [0.8888888888888888, \"#fdca26\"], [1.0, \"#f0f921\"]], \"type\": \"surface\"}], \"table\": [{\"cells\": {\"fill\": {\"color\": \"#EBF0F8\"}, \"line\": {\"color\": \"white\"}}, \"header\": {\"fill\": {\"color\": \"#C8D4E3\"}, \"line\": {\"color\": \"white\"}}, \"type\": \"table\"}]}, \"layout\": {\"annotationdefaults\": {\"arrowcolor\": \"#2a3f5f\", \"arrowhead\": 0, \"arrowwidth\": 1}, \"autotypenumbers\": \"strict\", \"coloraxis\": {\"colorbar\": {\"outlinewidth\": 0, \"ticks\": \"\"}}, \"colorscale\": {\"diverging\": [[0, \"#8e0152\"], [0.1, \"#c51b7d\"], [0.2, \"#de77ae\"], [0.3, \"#f1b6da\"], [0.4, \"#fde0ef\"], [0.5, \"#f7f7f7\"], [0.6, \"#e6f5d0\"], [0.7, \"#b8e186\"], [0.8, \"#7fbc41\"], [0.9, \"#4d9221\"], [1, \"#276419\"]], \"sequential\": [[0.0, \"#0d0887\"], [0.1111111111111111, \"#46039f\"], [0.2222222222222222, \"#7201a8\"], [0.3333333333333333, \"#9c179e\"], [0.4444444444444444, \"#bd3786\"], [0.5555555555555556, \"#d8576b\"], [0.6666666666666666, \"#ed7953\"], [0.7777777777777778, \"#fb9f3a\"], [0.8888888888888888, \"#fdca26\"], [1.0, \"#f0f921\"]], \"sequentialminus\": [[0.0, \"#0d0887\"], [0.1111111111111111, \"#46039f\"], [0.2222222222222222, \"#7201a8\"], [0.3333333333333333, \"#9c179e\"], [0.4444444444444444, \"#bd3786\"], [0.5555555555555556, \"#d8576b\"], [0.6666666666666666, \"#ed7953\"], [0.7777777777777778, \"#fb9f3a\"], [0.8888888888888888, \"#fdca26\"], [1.0, \"#f0f921\"]]}, \"colorway\": [\"#636efa\", \"#EF553B\", \"#00cc96\", \"#ab63fa\", \"#FFA15A\", \"#19d3f3\", \"#FF6692\", \"#B6E880\", \"#FF97FF\", \"#FECB52\"], \"font\": {\"color\": \"#2a3f5f\"}, \"geo\": {\"bgcolor\": \"white\", \"lakecolor\": \"white\", \"landcolor\": \"#E5ECF6\", \"showlakes\": true, \"showland\": true, \"subunitcolor\": \"white\"}, \"hoverlabel\": {\"align\": \"left\"}, \"hovermode\": \"closest\", \"mapbox\": {\"style\": \"light\"}, \"paper_bgcolor\": \"white\", \"plot_bgcolor\": \"#E5ECF6\", \"polar\": {\"angularaxis\": {\"gridcolor\": \"white\", \"linecolor\": \"white\", \"ticks\": \"\"}, \"bgcolor\": \"#E5ECF6\", \"radialaxis\": {\"gridcolor\": \"white\", \"linecolor\": \"white\", \"ticks\": \"\"}}, \"scene\": {\"xaxis\": {\"backgroundcolor\": \"#E5ECF6\", \"gridcolor\": \"white\", \"gridwidth\": 2, \"linecolor\": \"white\", \"showbackground\": true, \"ticks\": \"\", \"zerolinecolor\": \"white\"}, \"yaxis\": {\"backgroundcolor\": \"#E5ECF6\", \"gridcolor\": \"white\", \"gridwidth\": 2, \"linecolor\": \"white\", \"showbackground\": true, \"ticks\": \"\", \"zerolinecolor\": \"white\"}, \"zaxis\": {\"backgroundcolor\": \"#E5ECF6\", \"gridcolor\": \"white\", \"gridwidth\": 2, \"linecolor\": \"white\", \"showbackground\": true, \"ticks\": \"\", \"zerolinecolor\": \"white\"}}, \"shapedefaults\": {\"line\": {\"color\": \"#2a3f5f\"}}, \"ternary\": {\"aaxis\": {\"gridcolor\": \"white\", \"linecolor\": \"white\", \"ticks\": \"\"}, \"baxis\": {\"gridcolor\": \"white\", \"linecolor\": \"white\", \"ticks\": \"\"}, \"bgcolor\": \"#E5ECF6\", \"caxis\": {\"gridcolor\": \"white\", \"linecolor\": \"white\", \"ticks\": \"\"}}, \"title\": {\"x\": 0.05}, \"xaxis\": {\"automargin\": true, \"gridcolor\": \"white\", \"linecolor\": \"white\", \"ticks\": \"\", \"title\": {\"standoff\": 15}, \"zerolinecolor\": \"white\", \"zerolinewidth\": 2}, \"yaxis\": {\"automargin\": true, \"gridcolor\": \"white\", \"linecolor\": \"white\", \"ticks\": \"\", \"title\": {\"standoff\": 15}, \"zerolinecolor\": \"white\", \"zerolinewidth\": 2}}}, \"xaxis\": {\"anchor\": \"y\", \"constrain\": \"domain\", \"domain\": [0.0, 1.0], \"scaleanchor\": \"y\"}, \"yaxis\": {\"anchor\": \"x\", \"autorange\": \"reversed\", \"constrain\": \"domain\", \"domain\": [0.0, 1.0]}},                        {\"responsive\": true}                    ).then(function(){\n",
       "                            \n",
       "var gd = document.getElementById('d77afabd-554e-4319-9556-6e2b49a1f663');\n",
       "var x = new MutationObserver(function (mutations, observer) {{\n",
       "        var display = window.getComputedStyle(gd).display;\n",
       "        if (!display || display === 'none') {{\n",
       "            console.log([gd, 'removed!']);\n",
       "            Plotly.purge(gd);\n",
       "            observer.disconnect();\n",
       "        }}\n",
       "}});\n",
       "\n",
       "// Listen for the removal of the full notebook cells\n",
       "var notebookContainer = gd.closest('#notebook-container');\n",
       "if (notebookContainer) {{\n",
       "    x.observe(notebookContainer, {childList: true});\n",
       "}}\n",
       "\n",
       "// Listen for the clearing of the current output cell\n",
       "var outputEl = gd.closest('.output');\n",
       "if (outputEl) {{\n",
       "    x.observe(outputEl, {childList: true});\n",
       "}}\n",
       "\n",
       "                        })                };                });            </script>        </div>"
      ]
     },
     "metadata": {},
     "output_type": "display_data"
    }
   ],
   "source": [
    "px.imshow(euc_df > 1)"
   ]
  },
  {
   "cell_type": "code",
   "execution_count": null,
   "metadata": {},
   "outputs": [],
   "source": []
  }
 ],
 "metadata": {
  "kernelspec": {
   "display_name": "Python 3",
   "language": "python",
   "name": "python3"
  },
  "language_info": {
   "codemirror_mode": {
    "name": "ipython",
    "version": 3
   },
   "file_extension": ".py",
   "mimetype": "text/x-python",
   "name": "python",
   "nbconvert_exporter": "python",
   "pygments_lexer": "ipython3",
   "version": "3.7.9"
  }
 },
 "nbformat": 4,
 "nbformat_minor": 4
}
